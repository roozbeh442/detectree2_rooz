{
 "cells": [
  {
   "cell_type": "code",
   "execution_count": 1,
   "metadata": {},
   "outputs": [],
   "source": [
    "from detectree2.preprocessing.tiling import tile_data, to_traintest_folders\n",
    "from detectree2.models.train import register_train_data, MyTrainer, setup_cfg\n",
    "import rasterio\n",
    "import geopandas as gpd"
   ]
  },
  {
   "cell_type": "code",
   "execution_count": 2,
   "metadata": {},
   "outputs": [],
   "source": [
    "out_dir='/mnt/d_drive/detectree2/griffith_site/tiles_40_30_0.0'\n",
    "data_folder = out_dir # data_folder is the folder where the .png, .tif, .geojson tiles have been stored\n",
    "to_traintest_folders(data_folder, out_dir, test_frac=0.15, strict=False, folds=5)"
   ]
  },
  {
   "cell_type": "code",
   "execution_count": 3,
   "metadata": {},
   "outputs": [],
   "source": [
    "train_location = \"/mnt/d_drive/detectree2/griffith_site/tiles_40_30_0.0/train\"\n",
    "register_train_data(train_location, 'griffith', val_fold=5)\n",
    "\n",
    "# train_location = \"/content/drive/Shareddrives/detectree2/data/Paracou/tiles_\" + appends + \"/train/\"\n",
    "# register_train_data(train_location, \"Paracou\", val_fold=5)"
   ]
  },
  {
   "cell_type": "code",
   "execution_count": 4,
   "metadata": {},
   "outputs": [],
   "source": [
    "# Set the base (pre-trained) model from the detectron2 model_zoo\n",
    "base_model = \"COCO-InstanceSegmentation/mask_rcnn_R_101_FPN_3x.yaml\"\n",
    "\n",
    "# Set the updated model weights from the detectree2 pre-trained model\n",
    "trained_model = \"/mnt/d_drive/detectree2/griffith_site/models/230103_randresize_full.pth\"\n",
    "\n",
    "trains = (\"griffith_train\", ) # Registered train data\n",
    "tests = (\"griffith_val\", ) # Registered validation data\n",
    "\n",
    "out_dir = \"/mnt/d_drive/detectree2/griffith_site/train_outputs_3sites\"\n",
    "\n",
    "cfg = setup_cfg(base_model, trains, tests, trained_model, workers = 4, eval_period=100, max_iter=3000, out_dir=out_dir) # update_model arg used to load in trained model"
   ]
  },
  {
   "cell_type": "code",
   "execution_count": 5,
   "metadata": {},
   "outputs": [
    {
     "name": "stderr",
     "output_type": "stream",
     "text": [
      "INFO:detectron2.engine.defaults:Model:\n",
      "GeneralizedRCNN(\n",
      "  (backbone): FPN(\n",
      "    (fpn_lateral2): Conv2d(256, 256, kernel_size=(1, 1), stride=(1, 1))\n",
      "    (fpn_output2): Conv2d(256, 256, kernel_size=(3, 3), stride=(1, 1), padding=(1, 1))\n",
      "    (fpn_lateral3): Conv2d(512, 256, kernel_size=(1, 1), stride=(1, 1))\n",
      "    (fpn_output3): Conv2d(256, 256, kernel_size=(3, 3), stride=(1, 1), padding=(1, 1))\n",
      "    (fpn_lateral4): Conv2d(1024, 256, kernel_size=(1, 1), stride=(1, 1))\n",
      "    (fpn_output4): Conv2d(256, 256, kernel_size=(3, 3), stride=(1, 1), padding=(1, 1))\n",
      "    (fpn_lateral5): Conv2d(2048, 256, kernel_size=(1, 1), stride=(1, 1))\n",
      "    (fpn_output5): Conv2d(256, 256, kernel_size=(3, 3), stride=(1, 1), padding=(1, 1))\n",
      "    (top_block): LastLevelMaxPool()\n",
      "    (bottom_up): ResNet(\n",
      "      (stem): BasicStem(\n",
      "        (conv1): Conv2d(\n",
      "          3, 64, kernel_size=(7, 7), stride=(2, 2), padding=(3, 3), bias=False\n",
      "          (norm): FrozenBatchNorm2d(num_features=64, eps=1e-05)\n",
      "        )\n",
      "      )\n",
      "      (res2): Sequential(\n",
      "        (0): BottleneckBlock(\n",
      "          (shortcut): Conv2d(\n",
      "            64, 256, kernel_size=(1, 1), stride=(1, 1), bias=False\n",
      "            (norm): FrozenBatchNorm2d(num_features=256, eps=1e-05)\n",
      "          )\n",
      "          (conv1): Conv2d(\n",
      "            64, 64, kernel_size=(1, 1), stride=(1, 1), bias=False\n",
      "            (norm): FrozenBatchNorm2d(num_features=64, eps=1e-05)\n",
      "          )\n",
      "          (conv2): Conv2d(\n",
      "            64, 64, kernel_size=(3, 3), stride=(1, 1), padding=(1, 1), bias=False\n",
      "            (norm): FrozenBatchNorm2d(num_features=64, eps=1e-05)\n",
      "          )\n",
      "          (conv3): Conv2d(\n",
      "            64, 256, kernel_size=(1, 1), stride=(1, 1), bias=False\n",
      "            (norm): FrozenBatchNorm2d(num_features=256, eps=1e-05)\n",
      "          )\n",
      "        )\n",
      "        (1): BottleneckBlock(\n",
      "          (conv1): Conv2d(\n",
      "            256, 64, kernel_size=(1, 1), stride=(1, 1), bias=False\n",
      "            (norm): FrozenBatchNorm2d(num_features=64, eps=1e-05)\n",
      "          )\n",
      "          (conv2): Conv2d(\n",
      "            64, 64, kernel_size=(3, 3), stride=(1, 1), padding=(1, 1), bias=False\n",
      "            (norm): FrozenBatchNorm2d(num_features=64, eps=1e-05)\n",
      "          )\n",
      "          (conv3): Conv2d(\n",
      "            64, 256, kernel_size=(1, 1), stride=(1, 1), bias=False\n",
      "            (norm): FrozenBatchNorm2d(num_features=256, eps=1e-05)\n",
      "          )\n",
      "        )\n",
      "        (2): BottleneckBlock(\n",
      "          (conv1): Conv2d(\n",
      "            256, 64, kernel_size=(1, 1), stride=(1, 1), bias=False\n",
      "            (norm): FrozenBatchNorm2d(num_features=64, eps=1e-05)\n",
      "          )\n",
      "          (conv2): Conv2d(\n",
      "            64, 64, kernel_size=(3, 3), stride=(1, 1), padding=(1, 1), bias=False\n",
      "            (norm): FrozenBatchNorm2d(num_features=64, eps=1e-05)\n",
      "          )\n",
      "          (conv3): Conv2d(\n",
      "            64, 256, kernel_size=(1, 1), stride=(1, 1), bias=False\n",
      "            (norm): FrozenBatchNorm2d(num_features=256, eps=1e-05)\n",
      "          )\n",
      "        )\n",
      "      )\n",
      "      (res3): Sequential(\n",
      "        (0): BottleneckBlock(\n",
      "          (shortcut): Conv2d(\n",
      "            256, 512, kernel_size=(1, 1), stride=(2, 2), bias=False\n",
      "            (norm): FrozenBatchNorm2d(num_features=512, eps=1e-05)\n",
      "          )\n",
      "          (conv1): Conv2d(\n",
      "            256, 128, kernel_size=(1, 1), stride=(2, 2), bias=False\n",
      "            (norm): FrozenBatchNorm2d(num_features=128, eps=1e-05)\n",
      "          )\n",
      "          (conv2): Conv2d(\n",
      "            128, 128, kernel_size=(3, 3), stride=(1, 1), padding=(1, 1), bias=False\n",
      "            (norm): FrozenBatchNorm2d(num_features=128, eps=1e-05)\n",
      "          )\n",
      "          (conv3): Conv2d(\n",
      "            128, 512, kernel_size=(1, 1), stride=(1, 1), bias=False\n",
      "            (norm): FrozenBatchNorm2d(num_features=512, eps=1e-05)\n",
      "          )\n",
      "        )\n",
      "        (1): BottleneckBlock(\n",
      "          (conv1): Conv2d(\n",
      "            512, 128, kernel_size=(1, 1), stride=(1, 1), bias=False\n",
      "            (norm): FrozenBatchNorm2d(num_features=128, eps=1e-05)\n",
      "          )\n",
      "          (conv2): Conv2d(\n",
      "            128, 128, kernel_size=(3, 3), stride=(1, 1), padding=(1, 1), bias=False\n",
      "            (norm): FrozenBatchNorm2d(num_features=128, eps=1e-05)\n",
      "          )\n",
      "          (conv3): Conv2d(\n",
      "            128, 512, kernel_size=(1, 1), stride=(1, 1), bias=False\n",
      "            (norm): FrozenBatchNorm2d(num_features=512, eps=1e-05)\n",
      "          )\n",
      "        )\n",
      "        (2): BottleneckBlock(\n",
      "          (conv1): Conv2d(\n",
      "            512, 128, kernel_size=(1, 1), stride=(1, 1), bias=False\n",
      "            (norm): FrozenBatchNorm2d(num_features=128, eps=1e-05)\n",
      "          )\n",
      "          (conv2): Conv2d(\n",
      "            128, 128, kernel_size=(3, 3), stride=(1, 1), padding=(1, 1), bias=False\n",
      "            (norm): FrozenBatchNorm2d(num_features=128, eps=1e-05)\n",
      "          )\n",
      "          (conv3): Conv2d(\n",
      "            128, 512, kernel_size=(1, 1), stride=(1, 1), bias=False\n",
      "            (norm): FrozenBatchNorm2d(num_features=512, eps=1e-05)\n",
      "          )\n",
      "        )\n",
      "        (3): BottleneckBlock(\n",
      "          (conv1): Conv2d(\n",
      "            512, 128, kernel_size=(1, 1), stride=(1, 1), bias=False\n",
      "            (norm): FrozenBatchNorm2d(num_features=128, eps=1e-05)\n",
      "          )\n",
      "          (conv2): Conv2d(\n",
      "            128, 128, kernel_size=(3, 3), stride=(1, 1), padding=(1, 1), bias=False\n",
      "            (norm): FrozenBatchNorm2d(num_features=128, eps=1e-05)\n",
      "          )\n",
      "          (conv3): Conv2d(\n",
      "            128, 512, kernel_size=(1, 1), stride=(1, 1), bias=False\n",
      "            (norm): FrozenBatchNorm2d(num_features=512, eps=1e-05)\n",
      "          )\n",
      "        )\n",
      "      )\n",
      "      (res4): Sequential(\n",
      "        (0): BottleneckBlock(\n",
      "          (shortcut): Conv2d(\n",
      "            512, 1024, kernel_size=(1, 1), stride=(2, 2), bias=False\n",
      "            (norm): FrozenBatchNorm2d(num_features=1024, eps=1e-05)\n",
      "          )\n",
      "          (conv1): Conv2d(\n",
      "            512, 256, kernel_size=(1, 1), stride=(2, 2), bias=False\n",
      "            (norm): FrozenBatchNorm2d(num_features=256, eps=1e-05)\n",
      "          )\n",
      "          (conv2): Conv2d(\n",
      "            256, 256, kernel_size=(3, 3), stride=(1, 1), padding=(1, 1), bias=False\n",
      "            (norm): FrozenBatchNorm2d(num_features=256, eps=1e-05)\n",
      "          )\n",
      "          (conv3): Conv2d(\n",
      "            256, 1024, kernel_size=(1, 1), stride=(1, 1), bias=False\n",
      "            (norm): FrozenBatchNorm2d(num_features=1024, eps=1e-05)\n",
      "          )\n",
      "        )\n",
      "        (1): BottleneckBlock(\n",
      "          (conv1): Conv2d(\n",
      "            1024, 256, kernel_size=(1, 1), stride=(1, 1), bias=False\n",
      "            (norm): FrozenBatchNorm2d(num_features=256, eps=1e-05)\n",
      "          )\n",
      "          (conv2): Conv2d(\n",
      "            256, 256, kernel_size=(3, 3), stride=(1, 1), padding=(1, 1), bias=False\n",
      "            (norm): FrozenBatchNorm2d(num_features=256, eps=1e-05)\n",
      "          )\n",
      "          (conv3): Conv2d(\n",
      "            256, 1024, kernel_size=(1, 1), stride=(1, 1), bias=False\n",
      "            (norm): FrozenBatchNorm2d(num_features=1024, eps=1e-05)\n",
      "          )\n",
      "        )\n",
      "        (2): BottleneckBlock(\n",
      "          (conv1): Conv2d(\n",
      "            1024, 256, kernel_size=(1, 1), stride=(1, 1), bias=False\n",
      "            (norm): FrozenBatchNorm2d(num_features=256, eps=1e-05)\n",
      "          )\n",
      "          (conv2): Conv2d(\n",
      "            256, 256, kernel_size=(3, 3), stride=(1, 1), padding=(1, 1), bias=False\n",
      "            (norm): FrozenBatchNorm2d(num_features=256, eps=1e-05)\n",
      "          )\n",
      "          (conv3): Conv2d(\n",
      "            256, 1024, kernel_size=(1, 1), stride=(1, 1), bias=False\n",
      "            (norm): FrozenBatchNorm2d(num_features=1024, eps=1e-05)\n",
      "          )\n",
      "        )\n",
      "        (3): BottleneckBlock(\n",
      "          (conv1): Conv2d(\n",
      "            1024, 256, kernel_size=(1, 1), stride=(1, 1), bias=False\n",
      "            (norm): FrozenBatchNorm2d(num_features=256, eps=1e-05)\n",
      "          )\n",
      "          (conv2): Conv2d(\n",
      "            256, 256, kernel_size=(3, 3), stride=(1, 1), padding=(1, 1), bias=False\n",
      "            (norm): FrozenBatchNorm2d(num_features=256, eps=1e-05)\n",
      "          )\n",
      "          (conv3): Conv2d(\n",
      "            256, 1024, kernel_size=(1, 1), stride=(1, 1), bias=False\n",
      "            (norm): FrozenBatchNorm2d(num_features=1024, eps=1e-05)\n",
      "          )\n",
      "        )\n",
      "        (4): BottleneckBlock(\n",
      "          (conv1): Conv2d(\n",
      "            1024, 256, kernel_size=(1, 1), stride=(1, 1), bias=False\n",
      "            (norm): FrozenBatchNorm2d(num_features=256, eps=1e-05)\n",
      "          )\n",
      "          (conv2): Conv2d(\n",
      "            256, 256, kernel_size=(3, 3), stride=(1, 1), padding=(1, 1), bias=False\n",
      "            (norm): FrozenBatchNorm2d(num_features=256, eps=1e-05)\n",
      "          )\n",
      "          (conv3): Conv2d(\n",
      "            256, 1024, kernel_size=(1, 1), stride=(1, 1), bias=False\n",
      "            (norm): FrozenBatchNorm2d(num_features=1024, eps=1e-05)\n",
      "          )\n",
      "        )\n",
      "        (5): BottleneckBlock(\n",
      "          (conv1): Conv2d(\n",
      "            1024, 256, kernel_size=(1, 1), stride=(1, 1), bias=False\n",
      "            (norm): FrozenBatchNorm2d(num_features=256, eps=1e-05)\n",
      "          )\n",
      "          (conv2): Conv2d(\n",
      "            256, 256, kernel_size=(3, 3), stride=(1, 1), padding=(1, 1), bias=False\n",
      "            (norm): FrozenBatchNorm2d(num_features=256, eps=1e-05)\n",
      "          )\n",
      "          (conv3): Conv2d(\n",
      "            256, 1024, kernel_size=(1, 1), stride=(1, 1), bias=False\n",
      "            (norm): FrozenBatchNorm2d(num_features=1024, eps=1e-05)\n",
      "          )\n",
      "        )\n",
      "        (6): BottleneckBlock(\n",
      "          (conv1): Conv2d(\n",
      "            1024, 256, kernel_size=(1, 1), stride=(1, 1), bias=False\n",
      "            (norm): FrozenBatchNorm2d(num_features=256, eps=1e-05)\n",
      "          )\n",
      "          (conv2): Conv2d(\n",
      "            256, 256, kernel_size=(3, 3), stride=(1, 1), padding=(1, 1), bias=False\n",
      "            (norm): FrozenBatchNorm2d(num_features=256, eps=1e-05)\n",
      "          )\n",
      "          (conv3): Conv2d(\n",
      "            256, 1024, kernel_size=(1, 1), stride=(1, 1), bias=False\n",
      "            (norm): FrozenBatchNorm2d(num_features=1024, eps=1e-05)\n",
      "          )\n",
      "        )\n",
      "        (7): BottleneckBlock(\n",
      "          (conv1): Conv2d(\n",
      "            1024, 256, kernel_size=(1, 1), stride=(1, 1), bias=False\n",
      "            (norm): FrozenBatchNorm2d(num_features=256, eps=1e-05)\n",
      "          )\n",
      "          (conv2): Conv2d(\n",
      "            256, 256, kernel_size=(3, 3), stride=(1, 1), padding=(1, 1), bias=False\n",
      "            (norm): FrozenBatchNorm2d(num_features=256, eps=1e-05)\n",
      "          )\n",
      "          (conv3): Conv2d(\n",
      "            256, 1024, kernel_size=(1, 1), stride=(1, 1), bias=False\n",
      "            (norm): FrozenBatchNorm2d(num_features=1024, eps=1e-05)\n",
      "          )\n",
      "        )\n",
      "        (8): BottleneckBlock(\n",
      "          (conv1): Conv2d(\n",
      "            1024, 256, kernel_size=(1, 1), stride=(1, 1), bias=False\n",
      "            (norm): FrozenBatchNorm2d(num_features=256, eps=1e-05)\n",
      "          )\n",
      "          (conv2): Conv2d(\n",
      "            256, 256, kernel_size=(3, 3), stride=(1, 1), padding=(1, 1), bias=False\n",
      "            (norm): FrozenBatchNorm2d(num_features=256, eps=1e-05)\n",
      "          )\n",
      "          (conv3): Conv2d(\n",
      "            256, 1024, kernel_size=(1, 1), stride=(1, 1), bias=False\n",
      "            (norm): FrozenBatchNorm2d(num_features=1024, eps=1e-05)\n",
      "          )\n",
      "        )\n",
      "        (9): BottleneckBlock(\n",
      "          (conv1): Conv2d(\n",
      "            1024, 256, kernel_size=(1, 1), stride=(1, 1), bias=False\n",
      "            (norm): FrozenBatchNorm2d(num_features=256, eps=1e-05)\n",
      "          )\n",
      "          (conv2): Conv2d(\n",
      "            256, 256, kernel_size=(3, 3), stride=(1, 1), padding=(1, 1), bias=False\n",
      "            (norm): FrozenBatchNorm2d(num_features=256, eps=1e-05)\n",
      "          )\n",
      "          (conv3): Conv2d(\n",
      "            256, 1024, kernel_size=(1, 1), stride=(1, 1), bias=False\n",
      "            (norm): FrozenBatchNorm2d(num_features=1024, eps=1e-05)\n",
      "          )\n",
      "        )\n",
      "        (10): BottleneckBlock(\n",
      "          (conv1): Conv2d(\n",
      "            1024, 256, kernel_size=(1, 1), stride=(1, 1), bias=False\n",
      "            (norm): FrozenBatchNorm2d(num_features=256, eps=1e-05)\n",
      "          )\n",
      "          (conv2): Conv2d(\n",
      "            256, 256, kernel_size=(3, 3), stride=(1, 1), padding=(1, 1), bias=False\n",
      "            (norm): FrozenBatchNorm2d(num_features=256, eps=1e-05)\n",
      "          )\n",
      "          (conv3): Conv2d(\n",
      "            256, 1024, kernel_size=(1, 1), stride=(1, 1), bias=False\n",
      "            (norm): FrozenBatchNorm2d(num_features=1024, eps=1e-05)\n",
      "          )\n",
      "        )\n",
      "        (11): BottleneckBlock(\n",
      "          (conv1): Conv2d(\n",
      "            1024, 256, kernel_size=(1, 1), stride=(1, 1), bias=False\n",
      "            (norm): FrozenBatchNorm2d(num_features=256, eps=1e-05)\n",
      "          )\n",
      "          (conv2): Conv2d(\n",
      "            256, 256, kernel_size=(3, 3), stride=(1, 1), padding=(1, 1), bias=False\n",
      "            (norm): FrozenBatchNorm2d(num_features=256, eps=1e-05)\n",
      "          )\n",
      "          (conv3): Conv2d(\n",
      "            256, 1024, kernel_size=(1, 1), stride=(1, 1), bias=False\n",
      "            (norm): FrozenBatchNorm2d(num_features=1024, eps=1e-05)\n",
      "          )\n",
      "        )\n",
      "        (12): BottleneckBlock(\n",
      "          (conv1): Conv2d(\n",
      "            1024, 256, kernel_size=(1, 1), stride=(1, 1), bias=False\n",
      "            (norm): FrozenBatchNorm2d(num_features=256, eps=1e-05)\n",
      "          )\n",
      "          (conv2): Conv2d(\n",
      "            256, 256, kernel_size=(3, 3), stride=(1, 1), padding=(1, 1), bias=False\n",
      "            (norm): FrozenBatchNorm2d(num_features=256, eps=1e-05)\n",
      "          )\n",
      "          (conv3): Conv2d(\n",
      "            256, 1024, kernel_size=(1, 1), stride=(1, 1), bias=False\n",
      "            (norm): FrozenBatchNorm2d(num_features=1024, eps=1e-05)\n",
      "          )\n",
      "        )\n",
      "        (13): BottleneckBlock(\n",
      "          (conv1): Conv2d(\n",
      "            1024, 256, kernel_size=(1, 1), stride=(1, 1), bias=False\n",
      "            (norm): FrozenBatchNorm2d(num_features=256, eps=1e-05)\n",
      "          )\n",
      "          (conv2): Conv2d(\n",
      "            256, 256, kernel_size=(3, 3), stride=(1, 1), padding=(1, 1), bias=False\n",
      "            (norm): FrozenBatchNorm2d(num_features=256, eps=1e-05)\n",
      "          )\n",
      "          (conv3): Conv2d(\n",
      "            256, 1024, kernel_size=(1, 1), stride=(1, 1), bias=False\n",
      "            (norm): FrozenBatchNorm2d(num_features=1024, eps=1e-05)\n",
      "          )\n",
      "        )\n",
      "        (14): BottleneckBlock(\n",
      "          (conv1): Conv2d(\n",
      "            1024, 256, kernel_size=(1, 1), stride=(1, 1), bias=False\n",
      "            (norm): FrozenBatchNorm2d(num_features=256, eps=1e-05)\n",
      "          )\n",
      "          (conv2): Conv2d(\n",
      "            256, 256, kernel_size=(3, 3), stride=(1, 1), padding=(1, 1), bias=False\n",
      "            (norm): FrozenBatchNorm2d(num_features=256, eps=1e-05)\n",
      "          )\n",
      "          (conv3): Conv2d(\n",
      "            256, 1024, kernel_size=(1, 1), stride=(1, 1), bias=False\n",
      "            (norm): FrozenBatchNorm2d(num_features=1024, eps=1e-05)\n",
      "          )\n",
      "        )\n",
      "        (15): BottleneckBlock(\n",
      "          (conv1): Conv2d(\n",
      "            1024, 256, kernel_size=(1, 1), stride=(1, 1), bias=False\n",
      "            (norm): FrozenBatchNorm2d(num_features=256, eps=1e-05)\n",
      "          )\n",
      "          (conv2): Conv2d(\n",
      "            256, 256, kernel_size=(3, 3), stride=(1, 1), padding=(1, 1), bias=False\n",
      "            (norm): FrozenBatchNorm2d(num_features=256, eps=1e-05)\n",
      "          )\n",
      "          (conv3): Conv2d(\n",
      "            256, 1024, kernel_size=(1, 1), stride=(1, 1), bias=False\n",
      "            (norm): FrozenBatchNorm2d(num_features=1024, eps=1e-05)\n",
      "          )\n",
      "        )\n",
      "        (16): BottleneckBlock(\n",
      "          (conv1): Conv2d(\n",
      "            1024, 256, kernel_size=(1, 1), stride=(1, 1), bias=False\n",
      "            (norm): FrozenBatchNorm2d(num_features=256, eps=1e-05)\n",
      "          )\n",
      "          (conv2): Conv2d(\n",
      "            256, 256, kernel_size=(3, 3), stride=(1, 1), padding=(1, 1), bias=False\n",
      "            (norm): FrozenBatchNorm2d(num_features=256, eps=1e-05)\n",
      "          )\n",
      "          (conv3): Conv2d(\n",
      "            256, 1024, kernel_size=(1, 1), stride=(1, 1), bias=False\n",
      "            (norm): FrozenBatchNorm2d(num_features=1024, eps=1e-05)\n",
      "          )\n",
      "        )\n",
      "        (17): BottleneckBlock(\n",
      "          (conv1): Conv2d(\n",
      "            1024, 256, kernel_size=(1, 1), stride=(1, 1), bias=False\n",
      "            (norm): FrozenBatchNorm2d(num_features=256, eps=1e-05)\n",
      "          )\n",
      "          (conv2): Conv2d(\n",
      "            256, 256, kernel_size=(3, 3), stride=(1, 1), padding=(1, 1), bias=False\n",
      "            (norm): FrozenBatchNorm2d(num_features=256, eps=1e-05)\n",
      "          )\n",
      "          (conv3): Conv2d(\n",
      "            256, 1024, kernel_size=(1, 1), stride=(1, 1), bias=False\n",
      "            (norm): FrozenBatchNorm2d(num_features=1024, eps=1e-05)\n",
      "          )\n",
      "        )\n",
      "        (18): BottleneckBlock(\n",
      "          (conv1): Conv2d(\n",
      "            1024, 256, kernel_size=(1, 1), stride=(1, 1), bias=False\n",
      "            (norm): FrozenBatchNorm2d(num_features=256, eps=1e-05)\n",
      "          )\n",
      "          (conv2): Conv2d(\n",
      "            256, 256, kernel_size=(3, 3), stride=(1, 1), padding=(1, 1), bias=False\n",
      "            (norm): FrozenBatchNorm2d(num_features=256, eps=1e-05)\n",
      "          )\n",
      "          (conv3): Conv2d(\n",
      "            256, 1024, kernel_size=(1, 1), stride=(1, 1), bias=False\n",
      "            (norm): FrozenBatchNorm2d(num_features=1024, eps=1e-05)\n",
      "          )\n",
      "        )\n",
      "        (19): BottleneckBlock(\n",
      "          (conv1): Conv2d(\n",
      "            1024, 256, kernel_size=(1, 1), stride=(1, 1), bias=False\n",
      "            (norm): FrozenBatchNorm2d(num_features=256, eps=1e-05)\n",
      "          )\n",
      "          (conv2): Conv2d(\n",
      "            256, 256, kernel_size=(3, 3), stride=(1, 1), padding=(1, 1), bias=False\n",
      "            (norm): FrozenBatchNorm2d(num_features=256, eps=1e-05)\n",
      "          )\n",
      "          (conv3): Conv2d(\n",
      "            256, 1024, kernel_size=(1, 1), stride=(1, 1), bias=False\n",
      "            (norm): FrozenBatchNorm2d(num_features=1024, eps=1e-05)\n",
      "          )\n",
      "        )\n",
      "        (20): BottleneckBlock(\n",
      "          (conv1): Conv2d(\n",
      "            1024, 256, kernel_size=(1, 1), stride=(1, 1), bias=False\n",
      "            (norm): FrozenBatchNorm2d(num_features=256, eps=1e-05)\n",
      "          )\n",
      "          (conv2): Conv2d(\n",
      "            256, 256, kernel_size=(3, 3), stride=(1, 1), padding=(1, 1), bias=False\n",
      "            (norm): FrozenBatchNorm2d(num_features=256, eps=1e-05)\n",
      "          )\n",
      "          (conv3): Conv2d(\n",
      "            256, 1024, kernel_size=(1, 1), stride=(1, 1), bias=False\n",
      "            (norm): FrozenBatchNorm2d(num_features=1024, eps=1e-05)\n",
      "          )\n",
      "        )\n",
      "        (21): BottleneckBlock(\n",
      "          (conv1): Conv2d(\n",
      "            1024, 256, kernel_size=(1, 1), stride=(1, 1), bias=False\n",
      "            (norm): FrozenBatchNorm2d(num_features=256, eps=1e-05)\n",
      "          )\n",
      "          (conv2): Conv2d(\n",
      "            256, 256, kernel_size=(3, 3), stride=(1, 1), padding=(1, 1), bias=False\n",
      "            (norm): FrozenBatchNorm2d(num_features=256, eps=1e-05)\n",
      "          )\n",
      "          (conv3): Conv2d(\n",
      "            256, 1024, kernel_size=(1, 1), stride=(1, 1), bias=False\n",
      "            (norm): FrozenBatchNorm2d(num_features=1024, eps=1e-05)\n",
      "          )\n",
      "        )\n",
      "        (22): BottleneckBlock(\n",
      "          (conv1): Conv2d(\n",
      "            1024, 256, kernel_size=(1, 1), stride=(1, 1), bias=False\n",
      "            (norm): FrozenBatchNorm2d(num_features=256, eps=1e-05)\n",
      "          )\n",
      "          (conv2): Conv2d(\n",
      "            256, 256, kernel_size=(3, 3), stride=(1, 1), padding=(1, 1), bias=False\n",
      "            (norm): FrozenBatchNorm2d(num_features=256, eps=1e-05)\n",
      "          )\n",
      "          (conv3): Conv2d(\n",
      "            256, 1024, kernel_size=(1, 1), stride=(1, 1), bias=False\n",
      "            (norm): FrozenBatchNorm2d(num_features=1024, eps=1e-05)\n",
      "          )\n",
      "        )\n",
      "      )\n",
      "      (res5): Sequential(\n",
      "        (0): BottleneckBlock(\n",
      "          (shortcut): Conv2d(\n",
      "            1024, 2048, kernel_size=(1, 1), stride=(2, 2), bias=False\n",
      "            (norm): FrozenBatchNorm2d(num_features=2048, eps=1e-05)\n",
      "          )\n",
      "          (conv1): Conv2d(\n",
      "            1024, 512, kernel_size=(1, 1), stride=(2, 2), bias=False\n",
      "            (norm): FrozenBatchNorm2d(num_features=512, eps=1e-05)\n",
      "          )\n",
      "          (conv2): Conv2d(\n",
      "            512, 512, kernel_size=(3, 3), stride=(1, 1), padding=(1, 1), bias=False\n",
      "            (norm): FrozenBatchNorm2d(num_features=512, eps=1e-05)\n",
      "          )\n",
      "          (conv3): Conv2d(\n",
      "            512, 2048, kernel_size=(1, 1), stride=(1, 1), bias=False\n",
      "            (norm): FrozenBatchNorm2d(num_features=2048, eps=1e-05)\n",
      "          )\n",
      "        )\n",
      "        (1): BottleneckBlock(\n",
      "          (conv1): Conv2d(\n",
      "            2048, 512, kernel_size=(1, 1), stride=(1, 1), bias=False\n",
      "            (norm): FrozenBatchNorm2d(num_features=512, eps=1e-05)\n",
      "          )\n",
      "          (conv2): Conv2d(\n",
      "            512, 512, kernel_size=(3, 3), stride=(1, 1), padding=(1, 1), bias=False\n",
      "            (norm): FrozenBatchNorm2d(num_features=512, eps=1e-05)\n",
      "          )\n",
      "          (conv3): Conv2d(\n",
      "            512, 2048, kernel_size=(1, 1), stride=(1, 1), bias=False\n",
      "            (norm): FrozenBatchNorm2d(num_features=2048, eps=1e-05)\n",
      "          )\n",
      "        )\n",
      "        (2): BottleneckBlock(\n",
      "          (conv1): Conv2d(\n",
      "            2048, 512, kernel_size=(1, 1), stride=(1, 1), bias=False\n",
      "            (norm): FrozenBatchNorm2d(num_features=512, eps=1e-05)\n",
      "          )\n",
      "          (conv2): Conv2d(\n",
      "            512, 512, kernel_size=(3, 3), stride=(1, 1), padding=(1, 1), bias=False\n",
      "            (norm): FrozenBatchNorm2d(num_features=512, eps=1e-05)\n",
      "          )\n",
      "          (conv3): Conv2d(\n",
      "            512, 2048, kernel_size=(1, 1), stride=(1, 1), bias=False\n",
      "            (norm): FrozenBatchNorm2d(num_features=2048, eps=1e-05)\n",
      "          )\n",
      "        )\n",
      "      )\n",
      "    )\n",
      "  )\n",
      "  (proposal_generator): RPN(\n",
      "    (rpn_head): StandardRPNHead(\n",
      "      (conv): Conv2d(\n",
      "        256, 256, kernel_size=(3, 3), stride=(1, 1), padding=(1, 1)\n",
      "        (activation): ReLU()\n",
      "      )\n",
      "      (objectness_logits): Conv2d(256, 3, kernel_size=(1, 1), stride=(1, 1))\n",
      "      (anchor_deltas): Conv2d(256, 12, kernel_size=(1, 1), stride=(1, 1))\n",
      "    )\n",
      "    (anchor_generator): DefaultAnchorGenerator(\n",
      "      (cell_anchors): BufferList()\n",
      "    )\n",
      "  )\n",
      "  (roi_heads): StandardROIHeads(\n",
      "    (box_pooler): ROIPooler(\n",
      "      (level_poolers): ModuleList(\n",
      "        (0): ROIAlign(output_size=(7, 7), spatial_scale=0.25, sampling_ratio=0, aligned=True)\n",
      "        (1): ROIAlign(output_size=(7, 7), spatial_scale=0.125, sampling_ratio=0, aligned=True)\n",
      "        (2): ROIAlign(output_size=(7, 7), spatial_scale=0.0625, sampling_ratio=0, aligned=True)\n",
      "        (3): ROIAlign(output_size=(7, 7), spatial_scale=0.03125, sampling_ratio=0, aligned=True)\n",
      "      )\n",
      "    )\n",
      "    (box_head): FastRCNNConvFCHead(\n",
      "      (flatten): Flatten(start_dim=1, end_dim=-1)\n",
      "      (fc1): Linear(in_features=12544, out_features=1024, bias=True)\n",
      "      (fc_relu1): ReLU()\n",
      "      (fc2): Linear(in_features=1024, out_features=1024, bias=True)\n",
      "      (fc_relu2): ReLU()\n",
      "    )\n",
      "    (box_predictor): FastRCNNOutputLayers(\n",
      "      (cls_score): Linear(in_features=1024, out_features=2, bias=True)\n",
      "      (bbox_pred): Linear(in_features=1024, out_features=4, bias=True)\n",
      "    )\n",
      "    (mask_pooler): ROIPooler(\n",
      "      (level_poolers): ModuleList(\n",
      "        (0): ROIAlign(output_size=(14, 14), spatial_scale=0.25, sampling_ratio=0, aligned=True)\n",
      "        (1): ROIAlign(output_size=(14, 14), spatial_scale=0.125, sampling_ratio=0, aligned=True)\n",
      "        (2): ROIAlign(output_size=(14, 14), spatial_scale=0.0625, sampling_ratio=0, aligned=True)\n",
      "        (3): ROIAlign(output_size=(14, 14), spatial_scale=0.03125, sampling_ratio=0, aligned=True)\n",
      "      )\n",
      "    )\n",
      "    (mask_head): MaskRCNNConvUpsampleHead(\n",
      "      (mask_fcn1): Conv2d(\n",
      "        256, 256, kernel_size=(3, 3), stride=(1, 1), padding=(1, 1)\n",
      "        (activation): ReLU()\n",
      "      )\n",
      "      (mask_fcn2): Conv2d(\n",
      "        256, 256, kernel_size=(3, 3), stride=(1, 1), padding=(1, 1)\n",
      "        (activation): ReLU()\n",
      "      )\n",
      "      (mask_fcn3): Conv2d(\n",
      "        256, 256, kernel_size=(3, 3), stride=(1, 1), padding=(1, 1)\n",
      "        (activation): ReLU()\n",
      "      )\n",
      "      (mask_fcn4): Conv2d(\n",
      "        256, 256, kernel_size=(3, 3), stride=(1, 1), padding=(1, 1)\n",
      "        (activation): ReLU()\n",
      "      )\n",
      "      (deconv): ConvTranspose2d(256, 256, kernel_size=(2, 2), stride=(2, 2))\n",
      "      (deconv_relu): ReLU()\n",
      "      (predictor): Conv2d(256, 1, kernel_size=(1, 1), stride=(1, 1))\n",
      "    )\n",
      "  )\n",
      ")\n",
      "INFO:detectron2.data.dataset_mapper:[DatasetMapper] Augmentations used in training: [RandomRotation(angle=[0, 360], expand=False), RandomFlip(prob=0.5), RandomBrightness(intensity_min=0.7, intensity_max=1.5), RandomLighting(scale=0.7), RandomContrast(intensity_min=0.6, intensity_max=1.3), RandomSaturation(intensity_min=0.8, intensity_max=1.4), ResizeShortestEdge(short_edge_length=[1000, 1000], max_size=1333)]\n",
      "INFO:detectree2.models.train:[FlexibleDatasetMapper] Augmentations used in training: [RandomRotation(angle=[0, 360], expand=False), RandomFlip(prob=0.5), RandomBrightness(intensity_min=0.7, intensity_max=1.5), RandomLighting(scale=0.7), RandomContrast(intensity_min=0.6, intensity_max=1.3), RandomSaturation(intensity_min=0.8, intensity_max=1.4), ResizeShortestEdge(short_edge_length=[1000, 1000], max_size=1333)]\n",
      "INFO:detectron2.data.build:Removed 0 images with no usable annotations. 679 images left.\n",
      "INFO:detectron2.data.build:Distribution of instances among all 1 categories:\n",
      "\u001b[36m|  category  | #instances   |\n",
      "|:----------:|:-------------|\n",
      "|    tree    | 17561        |\n",
      "|            |              |\u001b[0m\n",
      "INFO:detectron2.data.build:Using training sampler TrainingSampler\n",
      "INFO:detectron2.data.common:Serializing the dataset using: <class 'detectron2.data.common._TorchSerializedList'>\n",
      "INFO:detectron2.data.common:Serializing 679 elements to byte tensors and concatenating them all ...\n",
      "INFO:detectron2.data.common:Serialized dataset takes 31.01 MiB\n",
      "INFO:detectron2.data.build:Making batched data loader with batch_size=2\n",
      "WARNING:detectron2.solver.build:SOLVER.STEPS contains values larger than SOLVER.MAX_ITER. These values will be ignored.\n",
      "INFO:detectron2.data.dataset_mapper:[DatasetMapper] Augmentations used in training: [ResizeShortestEdge(short_edge_length=[1000, 1000], max_size=1333)]\n",
      "INFO:detectree2.models.train:[FlexibleDatasetMapper] Augmentations used in training: [ResizeShortestEdge(short_edge_length=[1000, 1000], max_size=1333)]\n",
      "INFO:detectron2.data.build:Distribution of instances among all 1 categories:\n",
      "\u001b[36m|  category  | #instances   |\n",
      "|:----------:|:-------------|\n",
      "|    tree    | 4824         |\n",
      "|            |              |\u001b[0m\n",
      "INFO:detectron2.data.common:Serializing the dataset using: <class 'detectron2.data.common._TorchSerializedList'>\n",
      "INFO:detectron2.data.common:Serializing 170 elements to byte tensors and concatenating them all ...\n",
      "INFO:detectron2.data.common:Serialized dataset takes 8.90 MiB\n",
      "INFO:detectron2.checkpoint.detection_checkpoint:[DetectionCheckpointer] Loading from /mnt/d_drive/detectree2/griffith_site/models/230103_randresize_full.pth ...\n",
      "INFO:fvcore.common.checkpoint:[Checkpointer] Loading from /mnt/d_drive/detectree2/griffith_site/models/230103_randresize_full.pth ...\n",
      "/home/ubuntu/miniconda3/envs/pytorch_env/lib/python3.12/site-packages/fvcore/common/checkpoint.py:252: FutureWarning: You are using `torch.load` with `weights_only=False` (the current default value), which uses the default pickle module implicitly. It is possible to construct malicious pickle data which will execute arbitrary code during unpickling (See https://github.com/pytorch/pytorch/blob/main/SECURITY.md#untrusted-models for more details). In a future release, the default value for `weights_only` will be flipped to `True`. This limits the functions that could be executed during unpickling. Arbitrary objects will no longer be allowed to be loaded via this mode unless they are explicitly allowlisted by the user via `torch.serialization.add_safe_globals`. We recommend you start setting `weights_only=True` for any use case where you don't have full control of the loaded file. Please open an issue on GitHub for any issues related to this experimental feature.\n",
      "  return torch.load(f, map_location=torch.device(\"cpu\"))\n",
      "INFO:detectree2.models.train:Starting training from iteration 0\n",
      "/home/ubuntu/miniconda3/envs/pytorch_env/lib/python3.12/site-packages/torch/functional.py:534: UserWarning: torch.meshgrid: in an upcoming release, it will be required to pass the indexing argument. (Triggered internally at /opt/conda/conda-bld/pytorch_1729647406761/work/aten/src/ATen/native/TensorShape.cpp:3595.)\n",
      "  return _VF.meshgrid(tensors, **kwargs)  # type: ignore[attr-defined]\n",
      "INFO:detectron2.utils.events: eta: 0:34:24  iter: 19  total_loss: 2.402  loss_cls: 0.2364  loss_box_reg: 0.1248  loss_mask: 0.5923  loss_rpn_cls: 0.927  loss_rpn_loc: 0.4267    time: 0.6990  last_time: 0.6921  data_time: 0.0174  last_data_time: 0.0009   lr: 5.3944e-05  max_mem: 3668M\n",
      "INFO:detectron2.utils.events: eta: 0:33:47  iter: 39  total_loss: 1.572  loss_cls: 0.1762  loss_box_reg: 0.08325  loss_mask: 0.542  loss_rpn_cls: 0.3875  loss_rpn_loc: 0.3426    time: 0.6984  last_time: 0.6793  data_time: 0.0075  last_data_time: 0.0064   lr: 0.00011037  max_mem: 3668M\n",
      "INFO:detectron2.utils.events: eta: 0:33:35  iter: 59  total_loss: 1.519  loss_cls: 0.1851  loss_box_reg: 0.06114  loss_mask: 0.4972  loss_rpn_cls: 0.3241  loss_rpn_loc: 0.37    time: 0.6989  last_time: 0.6859  data_time: 0.0062  last_data_time: 0.0055   lr: 0.0001668  max_mem: 3668M\n",
      "INFO:detectron2.utils.events: eta: 0:33:09  iter: 79  total_loss: 1.352  loss_cls: 0.1333  loss_box_reg: 0.04416  loss_mask: 0.5341  loss_rpn_cls: 0.3069  loss_rpn_loc: 0.2925    time: 0.6951  last_time: 0.6623  data_time: 0.0050  last_data_time: 0.0056   lr: 0.00022322  max_mem: 3668M\n",
      "INFO:detectron2.data.dataset_mapper:[DatasetMapper] Augmentations used in inference: []\n",
      "INFO:detectree2.models.train:[FlexibleDatasetMapper] Augmentations used in inference: []\n",
      "INFO:detectron2.data.common:Serializing the dataset using: <class 'detectron2.data.common._TorchSerializedList'>\n",
      "INFO:detectron2.data.common:Serializing 170 elements to byte tensors and concatenating them all ...\n",
      "INFO:detectron2.data.common:Serialized dataset takes 8.90 MiB\n",
      "WARNING:detectron2.evaluation.coco_evaluation:COCO Evaluator instantiated using config, this is deprecated behavior. Please pass in explicit arguments instead.\n",
      "INFO:detectron2.evaluation.coco_evaluation:Trying to convert 'griffith_val' to COCO format ...\n",
      "INFO:detectron2.data.datasets.coco:Converting annotations of dataset 'griffith_val' to COCO format ...)\n",
      "INFO:detectron2.data.datasets.coco:Converting dataset dicts into COCO format\n",
      "INFO:detectron2.data.datasets.coco:Conversion finished, #images: 170, #annotations: 4824\n",
      "INFO:detectron2.data.datasets.coco:Caching COCO format annotations at 'eval/griffith_val_coco_format.json' ...\n",
      "INFO:detectron2.evaluation.evaluator:Start inference on 170 batches\n",
      "INFO:detectron2.evaluation.evaluator:Inference done 11/170. Dataloading: 0.0007 s/iter. Inference: 0.0575 s/iter. Eval: 0.0176 s/iter. Total: 0.0759 s/iter. ETA=0:00:12\n",
      "INFO:detectron2.evaluation.evaluator:Inference done 74/170. Dataloading: 0.0010 s/iter. Inference: 0.0561 s/iter. Eval: 0.0222 s/iter. Total: 0.0794 s/iter. ETA=0:00:07\n",
      "INFO:detectron2.evaluation.evaluator:Inference done 142/170. Dataloading: 0.0010 s/iter. Inference: 0.0559 s/iter. Eval: 0.0199 s/iter. Total: 0.0768 s/iter. ETA=0:00:02\n",
      "INFO:detectron2.evaluation.evaluator:Total inference time: 0:00:12.659546 (0.076725 s / iter per device, on 1 devices)\n",
      "INFO:detectron2.evaluation.evaluator:Total inference pure compute time: 0:00:09 (0.055781 s / iter per device, on 1 devices)\n",
      "INFO:detectron2.evaluation.coco_evaluation:Preparing results for COCO format ...\n",
      "INFO:detectron2.evaluation.coco_evaluation:Saving results to eval/coco_instances_results.json\n",
      "INFO:detectron2.evaluation.coco_evaluation:Evaluating predictions with unofficial COCO API...\n",
      "INFO:detectron2.evaluation.fast_eval_api:Evaluate annotation type *bbox*\n",
      "INFO:detectron2.evaluation.fast_eval_api:COCOeval_opt.evaluate() finished in 0.17 seconds.\n",
      "INFO:detectron2.evaluation.fast_eval_api:Accumulating evaluation results...\n"
     ]
    },
    {
     "name": "stdout",
     "output_type": "stream",
     "text": [
      "Loading and preparing results...\n",
      "DONE (t=0.01s)\n",
      "creating index...\n",
      "index created!\n"
     ]
    },
    {
     "name": "stderr",
     "output_type": "stream",
     "text": [
      "INFO:detectron2.evaluation.fast_eval_api:COCOeval_opt.accumulate() finished in 0.03 seconds.\n",
      "INFO:detectron2.evaluation.coco_evaluation:Evaluation results for bbox: \n",
      "|  AP   |  AP50  |  AP75  |  APs  |  APm  |  APl   |\n",
      "|:-----:|:------:|:------:|:-----:|:-----:|:------:|\n",
      "| 1.088 | 1.488  | 0.995  | 0.406 | 1.686 | 18.986 |\n"
     ]
    },
    {
     "name": "stdout",
     "output_type": "stream",
     "text": [
      " Average Precision  (AP) @[ IoU=0.50:0.95 | area=   all | maxDets=100 ] = 0.011\n",
      " Average Precision  (AP) @[ IoU=0.50      | area=   all | maxDets=100 ] = 0.015\n",
      " Average Precision  (AP) @[ IoU=0.75      | area=   all | maxDets=100 ] = 0.010\n",
      " Average Precision  (AP) @[ IoU=0.50:0.95 | area= small | maxDets=100 ] = 0.004\n",
      " Average Precision  (AP) @[ IoU=0.50:0.95 | area=medium | maxDets=100 ] = 0.017\n",
      " Average Precision  (AP) @[ IoU=0.50:0.95 | area= large | maxDets=100 ] = 0.190\n",
      " Average Recall     (AR) @[ IoU=0.50:0.95 | area=   all | maxDets=  1 ] = 0.003\n",
      " Average Recall     (AR) @[ IoU=0.50:0.95 | area=   all | maxDets= 10 ] = 0.009\n",
      " Average Recall     (AR) @[ IoU=0.50:0.95 | area=   all | maxDets=100 ] = 0.025\n",
      " Average Recall     (AR) @[ IoU=0.50:0.95 | area= small | maxDets=100 ] = 0.006\n",
      " Average Recall     (AR) @[ IoU=0.50:0.95 | area=medium | maxDets=100 ] = 0.153\n",
      " Average Recall     (AR) @[ IoU=0.50:0.95 | area= large | maxDets=100 ] = 0.621\n"
     ]
    },
    {
     "name": "stderr",
     "output_type": "stream",
     "text": [
      "INFO:detectron2.evaluation.fast_eval_api:Evaluate annotation type *segm*\n"
     ]
    },
    {
     "name": "stdout",
     "output_type": "stream",
     "text": [
      "Loading and preparing results...\n",
      "DONE (t=0.13s)\n",
      "creating index...\n",
      "index created!\n"
     ]
    },
    {
     "name": "stderr",
     "output_type": "stream",
     "text": [
      "INFO:detectron2.evaluation.fast_eval_api:COCOeval_opt.evaluate() finished in 0.37 seconds.\n",
      "INFO:detectron2.evaluation.fast_eval_api:Accumulating evaluation results...\n",
      "INFO:detectron2.evaluation.fast_eval_api:COCOeval_opt.accumulate() finished in 0.03 seconds.\n",
      "INFO:detectron2.evaluation.coco_evaluation:Evaluation results for segm: \n",
      "|  AP   |  AP50  |  AP75  |  APs  |  APm  |  APl  |\n",
      "|:-----:|:------:|:------:|:-----:|:-----:|:-----:|\n",
      "| 0.310 | 1.119  | 0.228  | 0.008 | 0.747 | 5.843 |\n",
      "INFO:detectron2.engine.defaults:Evaluation results for griffith_val in csv format:\n",
      "INFO:detectron2.evaluation.testing:copypaste: Task: bbox\n",
      "INFO:detectron2.evaluation.testing:copypaste: AP,AP50,AP75,APs,APm,APl\n",
      "INFO:detectron2.evaluation.testing:copypaste: 1.0883,1.4879,0.9951,0.4060,1.6855,18.9863\n",
      "INFO:detectron2.evaluation.testing:copypaste: Task: segm\n",
      "INFO:detectron2.evaluation.testing:copypaste: AP,AP50,AP75,APs,APm,APl\n",
      "INFO:detectron2.evaluation.testing:copypaste: 0.3098,1.1191,0.2285,0.0079,0.7468,5.8432\n"
     ]
    },
    {
     "name": "stdout",
     "output_type": "stream",
     "text": [
      " Average Precision  (AP) @[ IoU=0.50:0.95 | area=   all | maxDets=100 ] = 0.003\n",
      " Average Precision  (AP) @[ IoU=0.50      | area=   all | maxDets=100 ] = 0.011\n",
      " Average Precision  (AP) @[ IoU=0.75      | area=   all | maxDets=100 ] = 0.002\n",
      " Average Precision  (AP) @[ IoU=0.50:0.95 | area= small | maxDets=100 ] = 0.000\n",
      " Average Precision  (AP) @[ IoU=0.50:0.95 | area=medium | maxDets=100 ] = 0.007\n",
      " Average Precision  (AP) @[ IoU=0.50:0.95 | area= large | maxDets=100 ] = 0.058\n",
      " Average Recall     (AR) @[ IoU=0.50:0.95 | area=   all | maxDets=  1 ] = 0.002\n",
      " Average Recall     (AR) @[ IoU=0.50:0.95 | area=   all | maxDets= 10 ] = 0.005\n",
      " Average Recall     (AR) @[ IoU=0.50:0.95 | area=   all | maxDets=100 ] = 0.009\n",
      " Average Recall     (AR) @[ IoU=0.50:0.95 | area= small | maxDets=100 ] = 0.001\n",
      " Average Recall     (AR) @[ IoU=0.50:0.95 | area=medium | maxDets=100 ] = 0.066\n",
      " Average Recall     (AR) @[ IoU=0.50:0.95 | area= large | maxDets=100 ] = 0.175\n"
     ]
    },
    {
     "name": "stderr",
     "output_type": "stream",
     "text": [
      "INFO:detectree2.models.train:Loss on Validation  done 11/170. 0.0001 s / img. ETA=0:00:20\n",
      "INFO:detectree2.models.train:Loss on Validation  done 41/170. 0.0001 s / img. ETA=0:00:21\n",
      "INFO:detectree2.models.train:Loss on Validation  done 70/170. 0.0001 s / img. ETA=0:00:16\n",
      "INFO:detectree2.models.train:Loss on Validation  done 101/170. 0.0001 s / img. ETA=0:00:11\n",
      "INFO:detectree2.models.train:Loss on Validation  done 132/170. 0.0001 s / img. ETA=0:00:06\n",
      "INFO:detectree2.models.train:Loss on Validation  done 162/170. 0.0001 s / img. ETA=0:00:01\n",
      "INFO:detectron2.data.dataset_mapper:[DatasetMapper] Augmentations used in inference: []\n",
      "INFO:detectree2.models.train:[FlexibleDatasetMapper] Augmentations used in inference: []\n",
      "INFO:detectron2.data.common:Serializing the dataset using: <class 'detectron2.data.common._TorchSerializedList'>\n",
      "INFO:detectron2.data.common:Serializing 170 elements to byte tensors and concatenating them all ...\n",
      "INFO:detectron2.data.common:Serialized dataset takes 8.90 MiB\n",
      "WARNING:detectron2.evaluation.coco_evaluation:COCO Evaluator instantiated using config, this is deprecated behavior. Please pass in explicit arguments instead.\n",
      "INFO:detectron2.evaluation.evaluator:Start inference on 170 batches\n",
      "INFO:detectron2.evaluation.evaluator:Inference done 11/170. Dataloading: 0.0007 s/iter. Inference: 0.0563 s/iter. Eval: 0.0200 s/iter. Total: 0.0771 s/iter. ETA=0:00:12\n",
      "INFO:detectron2.evaluation.evaluator:Inference done 74/170. Dataloading: 0.0010 s/iter. Inference: 0.0561 s/iter. Eval: 0.0221 s/iter. Total: 0.0792 s/iter. ETA=0:00:07\n",
      "INFO:detectron2.evaluation.evaluator:Inference done 141/170. Dataloading: 0.0010 s/iter. Inference: 0.0561 s/iter. Eval: 0.0202 s/iter. Total: 0.0774 s/iter. ETA=0:00:02\n",
      "INFO:detectron2.evaluation.evaluator:Total inference time: 0:00:12.834789 (0.077787 s / iter per device, on 1 devices)\n",
      "INFO:detectron2.evaluation.evaluator:Total inference pure compute time: 0:00:09 (0.056300 s / iter per device, on 1 devices)\n",
      "INFO:detectron2.evaluation.coco_evaluation:Preparing results for COCO format ...\n",
      "INFO:detectron2.evaluation.coco_evaluation:Saving results to eval/coco_instances_results.json\n",
      "INFO:detectron2.evaluation.coco_evaluation:Evaluating predictions with unofficial COCO API...\n",
      "INFO:detectron2.evaluation.fast_eval_api:Evaluate annotation type *bbox*\n",
      "INFO:detectron2.evaluation.fast_eval_api:COCOeval_opt.evaluate() finished in 0.17 seconds.\n",
      "INFO:detectron2.evaluation.fast_eval_api:Accumulating evaluation results...\n",
      "INFO:detectron2.evaluation.fast_eval_api:COCOeval_opt.accumulate() finished in 0.03 seconds.\n"
     ]
    },
    {
     "name": "stdout",
     "output_type": "stream",
     "text": [
      "Loading and preparing results...\n",
      "DONE (t=0.01s)\n",
      "creating index...\n",
      "index created!\n"
     ]
    },
    {
     "name": "stderr",
     "output_type": "stream",
     "text": [
      "INFO:detectron2.evaluation.coco_evaluation:Evaluation results for bbox: \n",
      "|  AP   |  AP50  |  AP75  |  APs  |  APm  |  APl   |\n",
      "|:-----:|:------:|:------:|:-----:|:-----:|:------:|\n",
      "| 1.088 | 1.488  | 0.995  | 0.406 | 1.686 | 18.986 |\n"
     ]
    },
    {
     "name": "stdout",
     "output_type": "stream",
     "text": [
      " Average Precision  (AP) @[ IoU=0.50:0.95 | area=   all | maxDets=100 ] = 0.011\n",
      " Average Precision  (AP) @[ IoU=0.50      | area=   all | maxDets=100 ] = 0.015\n",
      " Average Precision  (AP) @[ IoU=0.75      | area=   all | maxDets=100 ] = 0.010\n",
      " Average Precision  (AP) @[ IoU=0.50:0.95 | area= small | maxDets=100 ] = 0.004\n",
      " Average Precision  (AP) @[ IoU=0.50:0.95 | area=medium | maxDets=100 ] = 0.017\n",
      " Average Precision  (AP) @[ IoU=0.50:0.95 | area= large | maxDets=100 ] = 0.190\n",
      " Average Recall     (AR) @[ IoU=0.50:0.95 | area=   all | maxDets=  1 ] = 0.003\n",
      " Average Recall     (AR) @[ IoU=0.50:0.95 | area=   all | maxDets= 10 ] = 0.009\n",
      " Average Recall     (AR) @[ IoU=0.50:0.95 | area=   all | maxDets=100 ] = 0.025\n",
      " Average Recall     (AR) @[ IoU=0.50:0.95 | area= small | maxDets=100 ] = 0.006\n",
      " Average Recall     (AR) @[ IoU=0.50:0.95 | area=medium | maxDets=100 ] = 0.153\n",
      " Average Recall     (AR) @[ IoU=0.50:0.95 | area= large | maxDets=100 ] = 0.621\n"
     ]
    },
    {
     "name": "stderr",
     "output_type": "stream",
     "text": [
      "INFO:detectron2.evaluation.fast_eval_api:Evaluate annotation type *segm*\n"
     ]
    },
    {
     "name": "stdout",
     "output_type": "stream",
     "text": [
      "Loading and preparing results...\n",
      "DONE (t=0.13s)\n",
      "creating index...\n",
      "index created!\n"
     ]
    },
    {
     "name": "stderr",
     "output_type": "stream",
     "text": [
      "INFO:detectron2.evaluation.fast_eval_api:COCOeval_opt.evaluate() finished in 0.36 seconds.\n",
      "INFO:detectron2.evaluation.fast_eval_api:Accumulating evaluation results...\n",
      "INFO:detectron2.evaluation.fast_eval_api:COCOeval_opt.accumulate() finished in 0.03 seconds.\n",
      "INFO:detectron2.evaluation.coco_evaluation:Evaluation results for segm: \n",
      "|  AP   |  AP50  |  AP75  |  APs  |  APm  |  APl  |\n",
      "|:-----:|:------:|:------:|:-----:|:-----:|:-----:|\n",
      "| 0.310 | 1.119  | 0.228  | 0.008 | 0.747 | 5.843 |\n",
      "INFO:detectron2.engine.defaults:Evaluation results for griffith_val in csv format:\n",
      "INFO:detectron2.evaluation.testing:copypaste: Task: bbox\n",
      "INFO:detectron2.evaluation.testing:copypaste: AP,AP50,AP75,APs,APm,APl\n",
      "INFO:detectron2.evaluation.testing:copypaste: 1.0883,1.4879,0.9951,0.4060,1.6855,18.9863\n",
      "INFO:detectron2.evaluation.testing:copypaste: Task: segm\n",
      "INFO:detectron2.evaluation.testing:copypaste: AP,AP50,AP75,APs,APm,APl\n",
      "INFO:detectron2.evaluation.testing:copypaste: 0.3098,1.1191,0.2285,0.0079,0.7468,5.8432\n",
      "INFO:fvcore.common.checkpoint:Saving checkpoint to /mnt/d_drive/detectree2/griffith_site/train_outputs_round2/model_1.pth\n"
     ]
    },
    {
     "name": "stdout",
     "output_type": "stream",
     "text": [
      " Average Precision  (AP) @[ IoU=0.50:0.95 | area=   all | maxDets=100 ] = 0.003\n",
      " Average Precision  (AP) @[ IoU=0.50      | area=   all | maxDets=100 ] = 0.011\n",
      " Average Precision  (AP) @[ IoU=0.75      | area=   all | maxDets=100 ] = 0.002\n",
      " Average Precision  (AP) @[ IoU=0.50:0.95 | area= small | maxDets=100 ] = 0.000\n",
      " Average Precision  (AP) @[ IoU=0.50:0.95 | area=medium | maxDets=100 ] = 0.007\n",
      " Average Precision  (AP) @[ IoU=0.50:0.95 | area= large | maxDets=100 ] = 0.058\n",
      " Average Recall     (AR) @[ IoU=0.50:0.95 | area=   all | maxDets=  1 ] = 0.002\n",
      " Average Recall     (AR) @[ IoU=0.50:0.95 | area=   all | maxDets= 10 ] = 0.005\n",
      " Average Recall     (AR) @[ IoU=0.50:0.95 | area=   all | maxDets=100 ] = 0.009\n",
      " Average Recall     (AR) @[ IoU=0.50:0.95 | area= small | maxDets=100 ] = 0.001\n",
      " Average Recall     (AR) @[ IoU=0.50:0.95 | area=medium | maxDets=100 ] = 0.066\n",
      " Average Recall     (AR) @[ IoU=0.50:0.95 | area= large | maxDets=100 ] = 0.175\n",
      "Av. segm AP50 = 1.119105219064765\n"
     ]
    },
    {
     "name": "stderr",
     "output_type": "stream",
     "text": [
      "INFO:detectron2.utils.events: eta: 0:32:49  iter: 99  total_loss: 1.366  loss_cls: 0.1179  loss_box_reg: 0.06005  loss_mask: 0.4956  loss_rpn_cls: 0.292  loss_rpn_loc: 0.3249  validation_loss: 1.927    time: 0.6934  last_time: 0.6845  data_time: 0.0055  last_data_time: 0.0052   lr: 0.00027965  max_mem: 3668M\n",
      "INFO:detectron2.utils.events: eta: 0:32:47  iter: 119  total_loss: 1.242  loss_cls: 0.1476  loss_box_reg: 0.07339  loss_mask: 0.4806  loss_rpn_cls: 0.3122  loss_rpn_loc: 0.2126  validation_loss: 1.927    time: 0.6936  last_time: 0.6841  data_time: 0.0055  last_data_time: 0.0014   lr: 0.00033608  max_mem: 3668M\n",
      "INFO:detectron2.utils.events: eta: 0:32:33  iter: 139  total_loss: 1.36  loss_cls: 0.1346  loss_box_reg: 0.07919  loss_mask: 0.4903  loss_rpn_cls: 0.3189  loss_rpn_loc: 0.3784  validation_loss: 1.927    time: 0.6941  last_time: 0.7657  data_time: 0.0056  last_data_time: 0.0066   lr: 0.0003389  max_mem: 3668M\n",
      "INFO:detectron2.utils.events: eta: 0:32:20  iter: 159  total_loss: 1.307  loss_cls: 0.1675  loss_box_reg: 0.1006  loss_mask: 0.4773  loss_rpn_cls: 0.2706  loss_rpn_loc: 0.2836  validation_loss: 1.927    time: 0.6962  last_time: 0.6617  data_time: 0.0049  last_data_time: 0.0043   lr: 0.0003389  max_mem: 3671M\n",
      "INFO:detectron2.utils.events: eta: 0:32:07  iter: 179  total_loss: 1.026  loss_cls: 0.1161  loss_box_reg: 0.07577  loss_mask: 0.4736  loss_rpn_cls: 0.2188  loss_rpn_loc: 0.1779  validation_loss: 1.927    time: 0.6961  last_time: 0.6663  data_time: 0.0054  last_data_time: 0.0062   lr: 0.0003389  max_mem: 3671M\n",
      "INFO:detectron2.data.dataset_mapper:[DatasetMapper] Augmentations used in inference: []\n",
      "INFO:detectree2.models.train:[FlexibleDatasetMapper] Augmentations used in inference: []\n",
      "INFO:detectron2.data.common:Serializing the dataset using: <class 'detectron2.data.common._TorchSerializedList'>\n",
      "INFO:detectron2.data.common:Serializing 170 elements to byte tensors and concatenating them all ...\n",
      "INFO:detectron2.data.common:Serialized dataset takes 8.90 MiB\n",
      "WARNING:detectron2.evaluation.coco_evaluation:COCO Evaluator instantiated using config, this is deprecated behavior. Please pass in explicit arguments instead.\n",
      "INFO:detectron2.evaluation.evaluator:Start inference on 170 batches\n",
      "INFO:detectron2.evaluation.evaluator:Inference done 11/170. Dataloading: 0.0007 s/iter. Inference: 0.0570 s/iter. Eval: 0.0176 s/iter. Total: 0.0754 s/iter. ETA=0:00:11\n",
      "INFO:detectron2.evaluation.evaluator:Inference done 73/170. Dataloading: 0.0010 s/iter. Inference: 0.0569 s/iter. Eval: 0.0227 s/iter. Total: 0.0806 s/iter. ETA=0:00:07\n",
      "INFO:detectron2.evaluation.evaluator:Inference done 140/170. Dataloading: 0.0010 s/iter. Inference: 0.0565 s/iter. Eval: 0.0202 s/iter. Total: 0.0778 s/iter. ETA=0:00:02\n",
      "INFO:detectron2.evaluation.evaluator:Total inference time: 0:00:12.787521 (0.077500 s / iter per device, on 1 devices)\n",
      "INFO:detectron2.evaluation.evaluator:Total inference pure compute time: 0:00:09 (0.056291 s / iter per device, on 1 devices)\n",
      "INFO:detectron2.evaluation.coco_evaluation:Preparing results for COCO format ...\n",
      "INFO:detectron2.evaluation.coco_evaluation:Saving results to eval/coco_instances_results.json\n",
      "INFO:detectron2.evaluation.coco_evaluation:Evaluating predictions with unofficial COCO API...\n",
      "INFO:detectron2.evaluation.fast_eval_api:Evaluate annotation type *bbox*\n",
      "INFO:detectron2.evaluation.fast_eval_api:COCOeval_opt.evaluate() finished in 0.17 seconds.\n",
      "INFO:detectron2.evaluation.fast_eval_api:Accumulating evaluation results...\n",
      "INFO:detectron2.evaluation.fast_eval_api:COCOeval_opt.accumulate() finished in 0.03 seconds.\n"
     ]
    },
    {
     "name": "stdout",
     "output_type": "stream",
     "text": [
      "Loading and preparing results...\n",
      "DONE (t=0.01s)\n",
      "creating index...\n",
      "index created!\n"
     ]
    },
    {
     "name": "stderr",
     "output_type": "stream",
     "text": [
      "INFO:detectron2.evaluation.coco_evaluation:Evaluation results for bbox: \n",
      "|  AP   |  AP50  |  AP75  |  APs  |  APm  |  APl   |\n",
      "|:-----:|:------:|:------:|:-----:|:-----:|:------:|\n",
      "| 1.051 | 1.296  | 0.994  | 0.027 | 0.752 | 30.264 |\n"
     ]
    },
    {
     "name": "stdout",
     "output_type": "stream",
     "text": [
      " Average Precision  (AP) @[ IoU=0.50:0.95 | area=   all | maxDets=100 ] = 0.011\n",
      " Average Precision  (AP) @[ IoU=0.50      | area=   all | maxDets=100 ] = 0.013\n",
      " Average Precision  (AP) @[ IoU=0.75      | area=   all | maxDets=100 ] = 0.010\n",
      " Average Precision  (AP) @[ IoU=0.50:0.95 | area= small | maxDets=100 ] = 0.000\n",
      " Average Precision  (AP) @[ IoU=0.50:0.95 | area=medium | maxDets=100 ] = 0.008\n",
      " Average Precision  (AP) @[ IoU=0.50:0.95 | area= large | maxDets=100 ] = 0.303\n",
      " Average Recall     (AR) @[ IoU=0.50:0.95 | area=   all | maxDets=  1 ] = 0.003\n",
      " Average Recall     (AR) @[ IoU=0.50:0.95 | area=   all | maxDets= 10 ] = 0.007\n",
      " Average Recall     (AR) @[ IoU=0.50:0.95 | area=   all | maxDets=100 ] = 0.025\n",
      " Average Recall     (AR) @[ IoU=0.50:0.95 | area= small | maxDets=100 ] = 0.006\n",
      " Average Recall     (AR) @[ IoU=0.50:0.95 | area=medium | maxDets=100 ] = 0.146\n",
      " Average Recall     (AR) @[ IoU=0.50:0.95 | area= large | maxDets=100 ] = 0.643\n"
     ]
    },
    {
     "name": "stderr",
     "output_type": "stream",
     "text": [
      "INFO:detectron2.evaluation.fast_eval_api:Evaluate annotation type *segm*\n"
     ]
    },
    {
     "name": "stdout",
     "output_type": "stream",
     "text": [
      "Loading and preparing results...\n",
      "DONE (t=0.14s)\n",
      "creating index...\n",
      "index created!\n"
     ]
    },
    {
     "name": "stderr",
     "output_type": "stream",
     "text": [
      "INFO:detectron2.evaluation.fast_eval_api:COCOeval_opt.evaluate() finished in 0.36 seconds.\n",
      "INFO:detectron2.evaluation.fast_eval_api:Accumulating evaluation results...\n",
      "INFO:detectron2.evaluation.fast_eval_api:COCOeval_opt.accumulate() finished in 0.03 seconds.\n",
      "INFO:detectron2.evaluation.coco_evaluation:Evaluation results for segm: \n",
      "|  AP   |  AP50  |  AP75  |  APs  |  APm  |  APl  |\n",
      "|:-----:|:------:|:------:|:-----:|:-----:|:-----:|\n",
      "| 0.372 | 1.044  | 0.165  | 0.001 | 0.193 | 9.744 |\n",
      "INFO:detectron2.engine.defaults:Evaluation results for griffith_val in csv format:\n",
      "INFO:detectron2.evaluation.testing:copypaste: Task: bbox\n",
      "INFO:detectron2.evaluation.testing:copypaste: AP,AP50,AP75,APs,APm,APl\n",
      "INFO:detectron2.evaluation.testing:copypaste: 1.0514,1.2959,0.9937,0.0266,0.7517,30.2645\n",
      "INFO:detectron2.evaluation.testing:copypaste: Task: segm\n",
      "INFO:detectron2.evaluation.testing:copypaste: AP,AP50,AP75,APs,APm,APl\n",
      "INFO:detectron2.evaluation.testing:copypaste: 0.3723,1.0437,0.1650,0.0013,0.1927,9.7443\n"
     ]
    },
    {
     "name": "stdout",
     "output_type": "stream",
     "text": [
      " Average Precision  (AP) @[ IoU=0.50:0.95 | area=   all | maxDets=100 ] = 0.004\n",
      " Average Precision  (AP) @[ IoU=0.50      | area=   all | maxDets=100 ] = 0.010\n",
      " Average Precision  (AP) @[ IoU=0.75      | area=   all | maxDets=100 ] = 0.002\n",
      " Average Precision  (AP) @[ IoU=0.50:0.95 | area= small | maxDets=100 ] = 0.000\n",
      " Average Precision  (AP) @[ IoU=0.50:0.95 | area=medium | maxDets=100 ] = 0.002\n",
      " Average Precision  (AP) @[ IoU=0.50:0.95 | area= large | maxDets=100 ] = 0.097\n",
      " Average Recall     (AR) @[ IoU=0.50:0.95 | area=   all | maxDets=  1 ] = 0.002\n",
      " Average Recall     (AR) @[ IoU=0.50:0.95 | area=   all | maxDets= 10 ] = 0.004\n",
      " Average Recall     (AR) @[ IoU=0.50:0.95 | area=   all | maxDets=100 ] = 0.010\n",
      " Average Recall     (AR) @[ IoU=0.50:0.95 | area= small | maxDets=100 ] = 0.002\n",
      " Average Recall     (AR) @[ IoU=0.50:0.95 | area=medium | maxDets=100 ] = 0.066\n",
      " Average Recall     (AR) @[ IoU=0.50:0.95 | area= large | maxDets=100 ] = 0.239\n"
     ]
    },
    {
     "name": "stderr",
     "output_type": "stream",
     "text": [
      "INFO:detectree2.models.train:Loss on Validation  done 11/170. 0.0001 s / img. ETA=0:00:21\n",
      "INFO:detectree2.models.train:Loss on Validation  done 41/170. 0.0001 s / img. ETA=0:00:21\n",
      "INFO:detectree2.models.train:Loss on Validation  done 70/170. 0.0001 s / img. ETA=0:00:16\n",
      "INFO:detectree2.models.train:Loss on Validation  done 101/170. 0.0001 s / img. ETA=0:00:11\n",
      "INFO:detectree2.models.train:Loss on Validation  done 131/170. 0.0001 s / img. ETA=0:00:06\n",
      "INFO:detectree2.models.train:Loss on Validation  done 161/170. 0.0001 s / img. ETA=0:00:01\n",
      "INFO:detectron2.data.dataset_mapper:[DatasetMapper] Augmentations used in inference: []\n",
      "INFO:detectree2.models.train:[FlexibleDatasetMapper] Augmentations used in inference: []\n",
      "INFO:detectron2.data.common:Serializing the dataset using: <class 'detectron2.data.common._TorchSerializedList'>\n",
      "INFO:detectron2.data.common:Serializing 170 elements to byte tensors and concatenating them all ...\n",
      "INFO:detectron2.data.common:Serialized dataset takes 8.90 MiB\n",
      "WARNING:detectron2.evaluation.coco_evaluation:COCO Evaluator instantiated using config, this is deprecated behavior. Please pass in explicit arguments instead.\n",
      "INFO:detectron2.evaluation.evaluator:Start inference on 170 batches\n",
      "INFO:detectron2.evaluation.evaluator:Inference done 11/170. Dataloading: 0.0007 s/iter. Inference: 0.0588 s/iter. Eval: 0.0177 s/iter. Total: 0.0772 s/iter. ETA=0:00:12\n",
      "INFO:detectron2.evaluation.evaluator:Inference done 78/170. Dataloading: 0.0010 s/iter. Inference: 0.0564 s/iter. Eval: 0.0181 s/iter. Total: 0.0756 s/iter. ETA=0:00:06\n",
      "INFO:detectron2.evaluation.evaluator:Inference done 141/170. Dataloading: 0.0010 s/iter. Inference: 0.0563 s/iter. Eval: 0.0202 s/iter. Total: 0.0775 s/iter. ETA=0:00:02\n",
      "INFO:detectron2.evaluation.evaluator:Total inference time: 0:00:12.753822 (0.077296 s / iter per device, on 1 devices)\n",
      "INFO:detectron2.evaluation.evaluator:Total inference pure compute time: 0:00:09 (0.056087 s / iter per device, on 1 devices)\n",
      "INFO:detectron2.evaluation.coco_evaluation:Preparing results for COCO format ...\n",
      "INFO:detectron2.evaluation.coco_evaluation:Saving results to eval/coco_instances_results.json\n",
      "INFO:detectron2.evaluation.coco_evaluation:Evaluating predictions with unofficial COCO API...\n",
      "INFO:detectron2.evaluation.fast_eval_api:Evaluate annotation type *bbox*\n",
      "INFO:detectron2.evaluation.fast_eval_api:COCOeval_opt.evaluate() finished in 0.17 seconds.\n",
      "INFO:detectron2.evaluation.fast_eval_api:Accumulating evaluation results...\n"
     ]
    },
    {
     "name": "stdout",
     "output_type": "stream",
     "text": [
      "Loading and preparing results...\n",
      "DONE (t=0.01s)\n",
      "creating index...\n",
      "index created!\n"
     ]
    },
    {
     "name": "stderr",
     "output_type": "stream",
     "text": [
      "INFO:detectron2.evaluation.fast_eval_api:COCOeval_opt.accumulate() finished in 0.03 seconds.\n",
      "INFO:detectron2.evaluation.coco_evaluation:Evaluation results for bbox: \n",
      "|  AP   |  AP50  |  AP75  |  APs  |  APm  |  APl   |\n",
      "|:-----:|:------:|:------:|:-----:|:-----:|:------:|\n",
      "| 1.051 | 1.296  | 0.994  | 0.027 | 0.752 | 30.264 |\n"
     ]
    },
    {
     "name": "stdout",
     "output_type": "stream",
     "text": [
      " Average Precision  (AP) @[ IoU=0.50:0.95 | area=   all | maxDets=100 ] = 0.011\n",
      " Average Precision  (AP) @[ IoU=0.50      | area=   all | maxDets=100 ] = 0.013\n",
      " Average Precision  (AP) @[ IoU=0.75      | area=   all | maxDets=100 ] = 0.010\n",
      " Average Precision  (AP) @[ IoU=0.50:0.95 | area= small | maxDets=100 ] = 0.000\n",
      " Average Precision  (AP) @[ IoU=0.50:0.95 | area=medium | maxDets=100 ] = 0.008\n",
      " Average Precision  (AP) @[ IoU=0.50:0.95 | area= large | maxDets=100 ] = 0.303\n",
      " Average Recall     (AR) @[ IoU=0.50:0.95 | area=   all | maxDets=  1 ] = 0.003\n",
      " Average Recall     (AR) @[ IoU=0.50:0.95 | area=   all | maxDets= 10 ] = 0.007\n",
      " Average Recall     (AR) @[ IoU=0.50:0.95 | area=   all | maxDets=100 ] = 0.025\n",
      " Average Recall     (AR) @[ IoU=0.50:0.95 | area= small | maxDets=100 ] = 0.006\n",
      " Average Recall     (AR) @[ IoU=0.50:0.95 | area=medium | maxDets=100 ] = 0.146\n",
      " Average Recall     (AR) @[ IoU=0.50:0.95 | area= large | maxDets=100 ] = 0.643\n"
     ]
    },
    {
     "name": "stderr",
     "output_type": "stream",
     "text": [
      "INFO:detectron2.evaluation.fast_eval_api:Evaluate annotation type *segm*\n"
     ]
    },
    {
     "name": "stdout",
     "output_type": "stream",
     "text": [
      "Loading and preparing results...\n",
      "DONE (t=0.14s)\n",
      "creating index...\n",
      "index created!\n"
     ]
    },
    {
     "name": "stderr",
     "output_type": "stream",
     "text": [
      "INFO:detectron2.evaluation.fast_eval_api:COCOeval_opt.evaluate() finished in 0.36 seconds.\n",
      "INFO:detectron2.evaluation.fast_eval_api:Accumulating evaluation results...\n",
      "INFO:detectron2.evaluation.fast_eval_api:COCOeval_opt.accumulate() finished in 0.03 seconds.\n",
      "INFO:detectron2.evaluation.coco_evaluation:Evaluation results for segm: \n",
      "|  AP   |  AP50  |  AP75  |  APs  |  APm  |  APl  |\n",
      "|:-----:|:------:|:------:|:-----:|:-----:|:-----:|\n",
      "| 0.372 | 1.044  | 0.165  | 0.001 | 0.193 | 9.744 |\n",
      "INFO:detectron2.engine.defaults:Evaluation results for griffith_val in csv format:\n",
      "INFO:detectron2.evaluation.testing:copypaste: Task: bbox\n",
      "INFO:detectron2.evaluation.testing:copypaste: AP,AP50,AP75,APs,APm,APl\n",
      "INFO:detectron2.evaluation.testing:copypaste: 1.0514,1.2959,0.9937,0.0266,0.7517,30.2645\n",
      "INFO:detectron2.evaluation.testing:copypaste: Task: segm\n",
      "INFO:detectron2.evaluation.testing:copypaste: AP,AP50,AP75,APs,APm,APl\n",
      "INFO:detectron2.evaluation.testing:copypaste: 0.3723,1.0437,0.1650,0.0013,0.1927,9.7443\n",
      "INFO:detectron2.utils.events: eta: 0:31:53  iter: 199  total_loss: 1.686  loss_cls: 0.144  loss_box_reg: 0.09192  loss_mask: 0.4974  loss_rpn_cls: 0.3293  loss_rpn_loc: 0.445  validation_loss: 1.924    time: 0.6967  last_time: 0.7276  data_time: 0.0057  last_data_time: 0.0035   lr: 0.0003389  max_mem: 3999M\n"
     ]
    },
    {
     "name": "stdout",
     "output_type": "stream",
     "text": [
      " Average Precision  (AP) @[ IoU=0.50:0.95 | area=   all | maxDets=100 ] = 0.004\n",
      " Average Precision  (AP) @[ IoU=0.50      | area=   all | maxDets=100 ] = 0.010\n",
      " Average Precision  (AP) @[ IoU=0.75      | area=   all | maxDets=100 ] = 0.002\n",
      " Average Precision  (AP) @[ IoU=0.50:0.95 | area= small | maxDets=100 ] = 0.000\n",
      " Average Precision  (AP) @[ IoU=0.50:0.95 | area=medium | maxDets=100 ] = 0.002\n",
      " Average Precision  (AP) @[ IoU=0.50:0.95 | area= large | maxDets=100 ] = 0.097\n",
      " Average Recall     (AR) @[ IoU=0.50:0.95 | area=   all | maxDets=  1 ] = 0.002\n",
      " Average Recall     (AR) @[ IoU=0.50:0.95 | area=   all | maxDets= 10 ] = 0.004\n",
      " Average Recall     (AR) @[ IoU=0.50:0.95 | area=   all | maxDets=100 ] = 0.010\n",
      " Average Recall     (AR) @[ IoU=0.50:0.95 | area= small | maxDets=100 ] = 0.002\n",
      " Average Recall     (AR) @[ IoU=0.50:0.95 | area=medium | maxDets=100 ] = 0.066\n",
      " Average Recall     (AR) @[ IoU=0.50:0.95 | area= large | maxDets=100 ] = 0.239\n",
      "Av. segm AP50 = 1.0437073978804965\n"
     ]
    },
    {
     "name": "stderr",
     "output_type": "stream",
     "text": [
      "INFO:detectron2.utils.events: eta: 0:31:39  iter: 219  total_loss: 1.649  loss_cls: 0.1139  loss_box_reg: 0.05457  loss_mask: 0.4955  loss_rpn_cls: 0.3219  loss_rpn_loc: 0.4504  validation_loss: 1.924    time: 0.6969  last_time: 0.6749  data_time: 0.0051  last_data_time: 0.0037   lr: 0.0003389  max_mem: 3999M\n",
      "INFO:detectron2.utils.events: eta: 0:31:29  iter: 239  total_loss: 1.659  loss_cls: 0.2335  loss_box_reg: 0.1914  loss_mask: 0.4446  loss_rpn_cls: 0.312  loss_rpn_loc: 0.462  validation_loss: 1.924    time: 0.6996  last_time: 0.8033  data_time: 0.0058  last_data_time: 0.0047   lr: 0.0003389  max_mem: 3999M\n",
      "INFO:detectron2.utils.events: eta: 0:31:15  iter: 259  total_loss: 1.543  loss_cls: 0.1502  loss_box_reg: 0.1016  loss_mask: 0.4703  loss_rpn_cls: 0.2469  loss_rpn_loc: 0.4128  validation_loss: 1.924    time: 0.6994  last_time: 0.7474  data_time: 0.0051  last_data_time: 0.0072   lr: 0.0003389  max_mem: 3999M\n",
      "INFO:detectron2.utils.events: eta: 0:31:05  iter: 279  total_loss: 1.686  loss_cls: 0.1504  loss_box_reg: 0.1031  loss_mask: 0.4806  loss_rpn_cls: 0.3241  loss_rpn_loc: 0.4478  validation_loss: 1.924    time: 0.7002  last_time: 0.8444  data_time: 0.0053  last_data_time: 0.0082   lr: 0.0003389  max_mem: 3999M\n",
      "INFO:detectron2.data.dataset_mapper:[DatasetMapper] Augmentations used in inference: []\n",
      "INFO:detectree2.models.train:[FlexibleDatasetMapper] Augmentations used in inference: []\n",
      "INFO:detectron2.data.common:Serializing the dataset using: <class 'detectron2.data.common._TorchSerializedList'>\n",
      "INFO:detectron2.data.common:Serializing 170 elements to byte tensors and concatenating them all ...\n",
      "INFO:detectron2.data.common:Serialized dataset takes 8.90 MiB\n",
      "WARNING:detectron2.evaluation.coco_evaluation:COCO Evaluator instantiated using config, this is deprecated behavior. Please pass in explicit arguments instead.\n",
      "INFO:detectron2.evaluation.evaluator:Start inference on 170 batches\n",
      "INFO:detectron2.evaluation.evaluator:Inference done 11/170. Dataloading: 0.0006 s/iter. Inference: 0.0558 s/iter. Eval: 0.0176 s/iter. Total: 0.0741 s/iter. ETA=0:00:11\n",
      "INFO:detectron2.evaluation.evaluator:Inference done 80/170. Dataloading: 0.0010 s/iter. Inference: 0.0546 s/iter. Eval: 0.0174 s/iter. Total: 0.0731 s/iter. ETA=0:00:06\n",
      "INFO:detectron2.evaluation.evaluator:Inference done 144/170. Dataloading: 0.0010 s/iter. Inference: 0.0549 s/iter. Eval: 0.0195 s/iter. Total: 0.0755 s/iter. ETA=0:00:01\n",
      "INFO:detectron2.evaluation.evaluator:Total inference time: 0:00:12.428007 (0.075321 s / iter per device, on 1 devices)\n",
      "INFO:detectron2.evaluation.evaluator:Total inference pure compute time: 0:00:09 (0.054709 s / iter per device, on 1 devices)\n",
      "INFO:detectron2.evaluation.coco_evaluation:Preparing results for COCO format ...\n",
      "INFO:detectron2.evaluation.coco_evaluation:Saving results to eval/coco_instances_results.json\n",
      "INFO:detectron2.evaluation.coco_evaluation:Evaluating predictions with unofficial COCO API...\n",
      "INFO:detectron2.evaluation.fast_eval_api:Evaluate annotation type *bbox*\n",
      "INFO:detectron2.evaluation.fast_eval_api:COCOeval_opt.evaluate() finished in 0.17 seconds.\n",
      "INFO:detectron2.evaluation.fast_eval_api:Accumulating evaluation results...\n"
     ]
    },
    {
     "name": "stdout",
     "output_type": "stream",
     "text": [
      "Loading and preparing results...\n",
      "DONE (t=0.01s)\n",
      "creating index...\n",
      "index created!\n"
     ]
    },
    {
     "name": "stderr",
     "output_type": "stream",
     "text": [
      "INFO:detectron2.evaluation.fast_eval_api:COCOeval_opt.accumulate() finished in 0.03 seconds.\n",
      "INFO:detectron2.evaluation.coco_evaluation:Evaluation results for bbox: \n",
      "|  AP   |  AP50  |  AP75  |  APs  |  APm  |  APl   |\n",
      "|:-----:|:------:|:------:|:-----:|:-----:|:------:|\n",
      "| 1.060 | 1.290  | 0.998  | 0.026 | 2.400 | 32.253 |\n"
     ]
    },
    {
     "name": "stdout",
     "output_type": "stream",
     "text": [
      " Average Precision  (AP) @[ IoU=0.50:0.95 | area=   all | maxDets=100 ] = 0.011\n",
      " Average Precision  (AP) @[ IoU=0.50      | area=   all | maxDets=100 ] = 0.013\n",
      " Average Precision  (AP) @[ IoU=0.75      | area=   all | maxDets=100 ] = 0.010\n",
      " Average Precision  (AP) @[ IoU=0.50:0.95 | area= small | maxDets=100 ] = 0.000\n",
      " Average Precision  (AP) @[ IoU=0.50:0.95 | area=medium | maxDets=100 ] = 0.024\n",
      " Average Precision  (AP) @[ IoU=0.50:0.95 | area= large | maxDets=100 ] = 0.323\n",
      " Average Recall     (AR) @[ IoU=0.50:0.95 | area=   all | maxDets=  1 ] = 0.003\n",
      " Average Recall     (AR) @[ IoU=0.50:0.95 | area=   all | maxDets= 10 ] = 0.009\n",
      " Average Recall     (AR) @[ IoU=0.50:0.95 | area=   all | maxDets=100 ] = 0.027\n",
      " Average Recall     (AR) @[ IoU=0.50:0.95 | area= small | maxDets=100 ] = 0.006\n",
      " Average Recall     (AR) @[ IoU=0.50:0.95 | area=medium | maxDets=100 ] = 0.161\n",
      " Average Recall     (AR) @[ IoU=0.50:0.95 | area= large | maxDets=100 ] = 0.632\n"
     ]
    },
    {
     "name": "stderr",
     "output_type": "stream",
     "text": [
      "INFO:detectron2.evaluation.fast_eval_api:Evaluate annotation type *segm*\n"
     ]
    },
    {
     "name": "stdout",
     "output_type": "stream",
     "text": [
      "Loading and preparing results...\n",
      "DONE (t=0.13s)\n",
      "creating index...\n",
      "index created!\n"
     ]
    },
    {
     "name": "stderr",
     "output_type": "stream",
     "text": [
      "INFO:detectron2.evaluation.fast_eval_api:COCOeval_opt.evaluate() finished in 0.37 seconds.\n",
      "INFO:detectron2.evaluation.fast_eval_api:Accumulating evaluation results...\n",
      "INFO:detectron2.evaluation.fast_eval_api:COCOeval_opt.accumulate() finished in 0.03 seconds.\n",
      "INFO:detectron2.evaluation.coco_evaluation:Evaluation results for segm: \n",
      "|  AP   |  AP50  |  AP75  |  APs  |  APm  |  APl   |\n",
      "|:-----:|:------:|:------:|:-----:|:-----:|:------:|\n",
      "| 0.409 | 1.081  | 0.283  | 0.002 | 0.371 | 11.902 |\n",
      "INFO:detectron2.engine.defaults:Evaluation results for griffith_val in csv format:\n",
      "INFO:detectron2.evaluation.testing:copypaste: Task: bbox\n",
      "INFO:detectron2.evaluation.testing:copypaste: AP,AP50,AP75,APs,APm,APl\n",
      "INFO:detectron2.evaluation.testing:copypaste: 1.0596,1.2901,0.9976,0.0258,2.4003,32.2531\n",
      "INFO:detectron2.evaluation.testing:copypaste: Task: segm\n",
      "INFO:detectron2.evaluation.testing:copypaste: AP,AP50,AP75,APs,APm,APl\n",
      "INFO:detectron2.evaluation.testing:copypaste: 0.4094,1.0815,0.2829,0.0024,0.3705,11.9016\n"
     ]
    },
    {
     "name": "stdout",
     "output_type": "stream",
     "text": [
      " Average Precision  (AP) @[ IoU=0.50:0.95 | area=   all | maxDets=100 ] = 0.004\n",
      " Average Precision  (AP) @[ IoU=0.50      | area=   all | maxDets=100 ] = 0.011\n",
      " Average Precision  (AP) @[ IoU=0.75      | area=   all | maxDets=100 ] = 0.003\n",
      " Average Precision  (AP) @[ IoU=0.50:0.95 | area= small | maxDets=100 ] = 0.000\n",
      " Average Precision  (AP) @[ IoU=0.50:0.95 | area=medium | maxDets=100 ] = 0.004\n",
      " Average Precision  (AP) @[ IoU=0.50:0.95 | area= large | maxDets=100 ] = 0.119\n",
      " Average Recall     (AR) @[ IoU=0.50:0.95 | area=   all | maxDets=  1 ] = 0.002\n",
      " Average Recall     (AR) @[ IoU=0.50:0.95 | area=   all | maxDets= 10 ] = 0.004\n",
      " Average Recall     (AR) @[ IoU=0.50:0.95 | area=   all | maxDets=100 ] = 0.011\n",
      " Average Recall     (AR) @[ IoU=0.50:0.95 | area= small | maxDets=100 ] = 0.002\n",
      " Average Recall     (AR) @[ IoU=0.50:0.95 | area=medium | maxDets=100 ] = 0.072\n",
      " Average Recall     (AR) @[ IoU=0.50:0.95 | area= large | maxDets=100 ] = 0.268\n"
     ]
    },
    {
     "name": "stderr",
     "output_type": "stream",
     "text": [
      "INFO:detectree2.models.train:Loss on Validation  done 11/170. 0.0001 s / img. ETA=0:00:21\n",
      "INFO:detectree2.models.train:Loss on Validation  done 40/170. 0.0001 s / img. ETA=0:00:21\n",
      "INFO:detectree2.models.train:Loss on Validation  done 69/170. 0.0001 s / img. ETA=0:00:17\n",
      "INFO:detectree2.models.train:Loss on Validation  done 99/170. 0.0001 s / img. ETA=0:00:12\n",
      "INFO:detectree2.models.train:Loss on Validation  done 130/170. 0.0001 s / img. ETA=0:00:06\n",
      "INFO:detectree2.models.train:Loss on Validation  done 160/170. 0.0001 s / img. ETA=0:00:01\n",
      "INFO:detectron2.data.dataset_mapper:[DatasetMapper] Augmentations used in inference: []\n",
      "INFO:detectree2.models.train:[FlexibleDatasetMapper] Augmentations used in inference: []\n",
      "INFO:detectron2.data.common:Serializing the dataset using: <class 'detectron2.data.common._TorchSerializedList'>\n",
      "INFO:detectron2.data.common:Serializing 170 elements to byte tensors and concatenating them all ...\n",
      "INFO:detectron2.data.common:Serialized dataset takes 8.90 MiB\n",
      "WARNING:detectron2.evaluation.coco_evaluation:COCO Evaluator instantiated using config, this is deprecated behavior. Please pass in explicit arguments instead.\n",
      "INFO:detectron2.evaluation.evaluator:Start inference on 170 batches\n",
      "INFO:detectron2.evaluation.evaluator:Inference done 11/170. Dataloading: 0.0007 s/iter. Inference: 0.0554 s/iter. Eval: 0.0201 s/iter. Total: 0.0762 s/iter. ETA=0:00:12\n",
      "INFO:detectron2.evaluation.evaluator:Inference done 80/170. Dataloading: 0.0010 s/iter. Inference: 0.0547 s/iter. Eval: 0.0177 s/iter. Total: 0.0735 s/iter. ETA=0:00:06\n",
      "INFO:detectron2.evaluation.evaluator:Inference done 144/170. Dataloading: 0.0010 s/iter. Inference: 0.0552 s/iter. Eval: 0.0197 s/iter. Total: 0.0760 s/iter. ETA=0:00:01\n",
      "INFO:detectron2.evaluation.evaluator:Total inference time: 0:00:12.513695 (0.075841 s / iter per device, on 1 devices)\n",
      "INFO:detectron2.evaluation.evaluator:Total inference pure compute time: 0:00:09 (0.055132 s / iter per device, on 1 devices)\n",
      "INFO:detectron2.evaluation.coco_evaluation:Preparing results for COCO format ...\n",
      "INFO:detectron2.evaluation.coco_evaluation:Saving results to eval/coco_instances_results.json\n",
      "INFO:detectron2.evaluation.coco_evaluation:Evaluating predictions with unofficial COCO API...\n",
      "INFO:detectron2.evaluation.fast_eval_api:Evaluate annotation type *bbox*\n",
      "INFO:detectron2.evaluation.fast_eval_api:COCOeval_opt.evaluate() finished in 0.17 seconds.\n",
      "INFO:detectron2.evaluation.fast_eval_api:Accumulating evaluation results...\n"
     ]
    },
    {
     "name": "stdout",
     "output_type": "stream",
     "text": [
      "Loading and preparing results...\n",
      "DONE (t=0.01s)\n",
      "creating index...\n",
      "index created!\n"
     ]
    },
    {
     "name": "stderr",
     "output_type": "stream",
     "text": [
      "INFO:detectron2.evaluation.fast_eval_api:COCOeval_opt.accumulate() finished in 0.03 seconds.\n",
      "INFO:detectron2.evaluation.coco_evaluation:Evaluation results for bbox: \n",
      "|  AP   |  AP50  |  AP75  |  APs  |  APm  |  APl   |\n",
      "|:-----:|:------:|:------:|:-----:|:-----:|:------:|\n",
      "| 1.060 | 1.290  | 0.998  | 0.026 | 2.400 | 32.253 |\n"
     ]
    },
    {
     "name": "stdout",
     "output_type": "stream",
     "text": [
      " Average Precision  (AP) @[ IoU=0.50:0.95 | area=   all | maxDets=100 ] = 0.011\n",
      " Average Precision  (AP) @[ IoU=0.50      | area=   all | maxDets=100 ] = 0.013\n",
      " Average Precision  (AP) @[ IoU=0.75      | area=   all | maxDets=100 ] = 0.010\n",
      " Average Precision  (AP) @[ IoU=0.50:0.95 | area= small | maxDets=100 ] = 0.000\n",
      " Average Precision  (AP) @[ IoU=0.50:0.95 | area=medium | maxDets=100 ] = 0.024\n",
      " Average Precision  (AP) @[ IoU=0.50:0.95 | area= large | maxDets=100 ] = 0.323\n",
      " Average Recall     (AR) @[ IoU=0.50:0.95 | area=   all | maxDets=  1 ] = 0.003\n",
      " Average Recall     (AR) @[ IoU=0.50:0.95 | area=   all | maxDets= 10 ] = 0.009\n",
      " Average Recall     (AR) @[ IoU=0.50:0.95 | area=   all | maxDets=100 ] = 0.027\n",
      " Average Recall     (AR) @[ IoU=0.50:0.95 | area= small | maxDets=100 ] = 0.006\n",
      " Average Recall     (AR) @[ IoU=0.50:0.95 | area=medium | maxDets=100 ] = 0.161\n",
      " Average Recall     (AR) @[ IoU=0.50:0.95 | area= large | maxDets=100 ] = 0.632\n"
     ]
    },
    {
     "name": "stderr",
     "output_type": "stream",
     "text": [
      "INFO:detectron2.evaluation.fast_eval_api:Evaluate annotation type *segm*\n"
     ]
    },
    {
     "name": "stdout",
     "output_type": "stream",
     "text": [
      "Loading and preparing results...\n",
      "DONE (t=0.13s)\n",
      "creating index...\n",
      "index created!\n"
     ]
    },
    {
     "name": "stderr",
     "output_type": "stream",
     "text": [
      "INFO:detectron2.evaluation.fast_eval_api:COCOeval_opt.evaluate() finished in 0.37 seconds.\n",
      "INFO:detectron2.evaluation.fast_eval_api:Accumulating evaluation results...\n",
      "INFO:detectron2.evaluation.fast_eval_api:COCOeval_opt.accumulate() finished in 0.03 seconds.\n",
      "INFO:detectron2.evaluation.coco_evaluation:Evaluation results for segm: \n",
      "|  AP   |  AP50  |  AP75  |  APs  |  APm  |  APl   |\n",
      "|:-----:|:------:|:------:|:-----:|:-----:|:------:|\n",
      "| 0.409 | 1.081  | 0.283  | 0.002 | 0.371 | 11.902 |\n",
      "INFO:detectron2.engine.defaults:Evaluation results for griffith_val in csv format:\n",
      "INFO:detectron2.evaluation.testing:copypaste: Task: bbox\n",
      "INFO:detectron2.evaluation.testing:copypaste: AP,AP50,AP75,APs,APm,APl\n",
      "INFO:detectron2.evaluation.testing:copypaste: 1.0596,1.2901,0.9976,0.0258,2.4003,32.2531\n",
      "INFO:detectron2.evaluation.testing:copypaste: Task: segm\n",
      "INFO:detectron2.evaluation.testing:copypaste: AP,AP50,AP75,APs,APm,APl\n",
      "INFO:detectron2.evaluation.testing:copypaste: 0.4094,1.0815,0.2829,0.0024,0.3705,11.9016\n",
      "INFO:detectron2.utils.events: eta: 0:30:48  iter: 299  total_loss: 1.124  loss_cls: 0.1012  loss_box_reg: 0.05971  loss_mask: 0.4454  loss_rpn_cls: 0.2103  loss_rpn_loc: 0.2482  validation_loss: 1.925    time: 0.6995  last_time: 0.6669  data_time: 0.0049  last_data_time: 0.0043   lr: 0.0003389  max_mem: 3999M\n"
     ]
    },
    {
     "name": "stdout",
     "output_type": "stream",
     "text": [
      " Average Precision  (AP) @[ IoU=0.50:0.95 | area=   all | maxDets=100 ] = 0.004\n",
      " Average Precision  (AP) @[ IoU=0.50      | area=   all | maxDets=100 ] = 0.011\n",
      " Average Precision  (AP) @[ IoU=0.75      | area=   all | maxDets=100 ] = 0.003\n",
      " Average Precision  (AP) @[ IoU=0.50:0.95 | area= small | maxDets=100 ] = 0.000\n",
      " Average Precision  (AP) @[ IoU=0.50:0.95 | area=medium | maxDets=100 ] = 0.004\n",
      " Average Precision  (AP) @[ IoU=0.50:0.95 | area= large | maxDets=100 ] = 0.119\n",
      " Average Recall     (AR) @[ IoU=0.50:0.95 | area=   all | maxDets=  1 ] = 0.002\n",
      " Average Recall     (AR) @[ IoU=0.50:0.95 | area=   all | maxDets= 10 ] = 0.004\n",
      " Average Recall     (AR) @[ IoU=0.50:0.95 | area=   all | maxDets=100 ] = 0.011\n",
      " Average Recall     (AR) @[ IoU=0.50:0.95 | area= small | maxDets=100 ] = 0.002\n",
      " Average Recall     (AR) @[ IoU=0.50:0.95 | area=medium | maxDets=100 ] = 0.072\n",
      " Average Recall     (AR) @[ IoU=0.50:0.95 | area= large | maxDets=100 ] = 0.268\n",
      "Av. segm AP50 = 1.0814533426811472\n"
     ]
    },
    {
     "name": "stderr",
     "output_type": "stream",
     "text": [
      "INFO:detectron2.utils.events: eta: 0:30:34  iter: 319  total_loss: 1.481  loss_cls: 0.1345  loss_box_reg: 0.1382  loss_mask: 0.4676  loss_rpn_cls: 0.2955  loss_rpn_loc: 0.3706  validation_loss: 1.925    time: 0.6991  last_time: 0.6675  data_time: 0.0050  last_data_time: 0.0016   lr: 0.0003389  max_mem: 3999M\n",
      "INFO:detectron2.utils.events: eta: 0:30:20  iter: 339  total_loss: 1.296  loss_cls: 0.1238  loss_box_reg: 0.07088  loss_mask: 0.4699  loss_rpn_cls: 0.2839  loss_rpn_loc: 0.3671  validation_loss: 1.925    time: 0.6986  last_time: 0.6921  data_time: 0.0051  last_data_time: 0.0051   lr: 0.0003389  max_mem: 3999M\n",
      "INFO:detectron2.utils.events: eta: 0:30:07  iter: 359  total_loss: 1.413  loss_cls: 0.1684  loss_box_reg: 0.08671  loss_mask: 0.4444  loss_rpn_cls: 0.2591  loss_rpn_loc: 0.3905  validation_loss: 1.925    time: 0.6991  last_time: 0.7372  data_time: 0.0055  last_data_time: 0.0071   lr: 0.0003389  max_mem: 3999M\n",
      "INFO:detectron2.utils.events: eta: 0:29:53  iter: 379  total_loss: 1.17  loss_cls: 0.1446  loss_box_reg: 0.076  loss_mask: 0.4425  loss_rpn_cls: 0.1997  loss_rpn_loc: 0.2017  validation_loss: 1.925    time: 0.6986  last_time: 0.6675  data_time: 0.0051  last_data_time: 0.0056   lr: 0.0003389  max_mem: 3999M\n",
      "INFO:detectron2.data.dataset_mapper:[DatasetMapper] Augmentations used in inference: []\n",
      "INFO:detectree2.models.train:[FlexibleDatasetMapper] Augmentations used in inference: []\n",
      "INFO:detectron2.data.common:Serializing the dataset using: <class 'detectron2.data.common._TorchSerializedList'>\n",
      "INFO:detectron2.data.common:Serializing 170 elements to byte tensors and concatenating them all ...\n",
      "INFO:detectron2.data.common:Serialized dataset takes 8.90 MiB\n",
      "WARNING:detectron2.evaluation.coco_evaluation:COCO Evaluator instantiated using config, this is deprecated behavior. Please pass in explicit arguments instead.\n",
      "INFO:detectron2.evaluation.evaluator:Start inference on 170 batches\n",
      "INFO:detectron2.evaluation.evaluator:Inference done 11/170. Dataloading: 0.0007 s/iter. Inference: 0.0584 s/iter. Eval: 0.0174 s/iter. Total: 0.0765 s/iter. ETA=0:00:12\n",
      "INFO:detectron2.evaluation.evaluator:Inference done 81/170. Dataloading: 0.0010 s/iter. Inference: 0.0547 s/iter. Eval: 0.0168 s/iter. Total: 0.0726 s/iter. ETA=0:00:06\n",
      "INFO:detectron2.evaluation.evaluator:Inference done 147/170. Dataloading: 0.0010 s/iter. Inference: 0.0544 s/iter. Eval: 0.0190 s/iter. Total: 0.0745 s/iter. ETA=0:00:01\n",
      "INFO:detectron2.evaluation.evaluator:Total inference time: 0:00:12.262719 (0.074320 s / iter per device, on 1 devices)\n",
      "INFO:detectron2.evaluation.evaluator:Total inference pure compute time: 0:00:08 (0.054203 s / iter per device, on 1 devices)\n",
      "INFO:detectron2.evaluation.coco_evaluation:Preparing results for COCO format ...\n",
      "INFO:detectron2.evaluation.coco_evaluation:Saving results to eval/coco_instances_results.json\n",
      "INFO:detectron2.evaluation.coco_evaluation:Evaluating predictions with unofficial COCO API...\n",
      "INFO:detectron2.evaluation.fast_eval_api:Evaluate annotation type *bbox*\n",
      "INFO:detectron2.evaluation.fast_eval_api:COCOeval_opt.evaluate() finished in 0.17 seconds.\n",
      "INFO:detectron2.evaluation.fast_eval_api:Accumulating evaluation results...\n",
      "INFO:detectron2.evaluation.fast_eval_api:COCOeval_opt.accumulate() finished in 0.03 seconds.\n"
     ]
    },
    {
     "name": "stdout",
     "output_type": "stream",
     "text": [
      "Loading and preparing results...\n",
      "DONE (t=0.01s)\n",
      "creating index...\n",
      "index created!\n"
     ]
    },
    {
     "name": "stderr",
     "output_type": "stream",
     "text": [
      "INFO:detectron2.evaluation.coco_evaluation:Evaluation results for bbox: \n",
      "|  AP   |  AP50  |  AP75  |  APs  |  APm  |  APl   |\n",
      "|:-----:|:------:|:------:|:-----:|:-----:|:------:|\n",
      "| 1.032 | 1.200  | 0.993  | 0.005 | 2.253 | 31.285 |\n"
     ]
    },
    {
     "name": "stdout",
     "output_type": "stream",
     "text": [
      " Average Precision  (AP) @[ IoU=0.50:0.95 | area=   all | maxDets=100 ] = 0.010\n",
      " Average Precision  (AP) @[ IoU=0.50      | area=   all | maxDets=100 ] = 0.012\n",
      " Average Precision  (AP) @[ IoU=0.75      | area=   all | maxDets=100 ] = 0.010\n",
      " Average Precision  (AP) @[ IoU=0.50:0.95 | area= small | maxDets=100 ] = 0.000\n",
      " Average Precision  (AP) @[ IoU=0.50:0.95 | area=medium | maxDets=100 ] = 0.023\n",
      " Average Precision  (AP) @[ IoU=0.50:0.95 | area= large | maxDets=100 ] = 0.313\n",
      " Average Recall     (AR) @[ IoU=0.50:0.95 | area=   all | maxDets=  1 ] = 0.003\n",
      " Average Recall     (AR) @[ IoU=0.50:0.95 | area=   all | maxDets= 10 ] = 0.008\n",
      " Average Recall     (AR) @[ IoU=0.50:0.95 | area=   all | maxDets=100 ] = 0.022\n",
      " Average Recall     (AR) @[ IoU=0.50:0.95 | area= small | maxDets=100 ] = 0.005\n",
      " Average Recall     (AR) @[ IoU=0.50:0.95 | area=medium | maxDets=100 ] = 0.129\n",
      " Average Recall     (AR) @[ IoU=0.50:0.95 | area= large | maxDets=100 ] = 0.575\n"
     ]
    },
    {
     "name": "stderr",
     "output_type": "stream",
     "text": [
      "INFO:detectron2.evaluation.fast_eval_api:Evaluate annotation type *segm*\n"
     ]
    },
    {
     "name": "stdout",
     "output_type": "stream",
     "text": [
      "Loading and preparing results...\n",
      "DONE (t=0.12s)\n",
      "creating index...\n",
      "index created!\n"
     ]
    },
    {
     "name": "stderr",
     "output_type": "stream",
     "text": [
      "INFO:detectron2.evaluation.fast_eval_api:COCOeval_opt.evaluate() finished in 0.35 seconds.\n",
      "INFO:detectron2.evaluation.fast_eval_api:Accumulating evaluation results...\n",
      "INFO:detectron2.evaluation.fast_eval_api:COCOeval_opt.accumulate() finished in 0.03 seconds.\n",
      "INFO:detectron2.evaluation.coco_evaluation:Evaluation results for segm: \n",
      "|  AP   |  AP50  |  AP75  |  APs  |  APm  |  APl   |\n",
      "|:-----:|:------:|:------:|:-----:|:-----:|:------:|\n",
      "| 0.398 | 1.054  | 0.330  | 0.001 | 0.400 | 12.364 |\n",
      "INFO:detectron2.engine.defaults:Evaluation results for griffith_val in csv format:\n",
      "INFO:detectron2.evaluation.testing:copypaste: Task: bbox\n",
      "INFO:detectron2.evaluation.testing:copypaste: AP,AP50,AP75,APs,APm,APl\n",
      "INFO:detectron2.evaluation.testing:copypaste: 1.0321,1.1998,0.9934,0.0049,2.2527,31.2847\n",
      "INFO:detectron2.evaluation.testing:copypaste: Task: segm\n",
      "INFO:detectron2.evaluation.testing:copypaste: AP,AP50,AP75,APs,APm,APl\n",
      "INFO:detectron2.evaluation.testing:copypaste: 0.3984,1.0537,0.3300,0.0007,0.3998,12.3639\n"
     ]
    },
    {
     "name": "stdout",
     "output_type": "stream",
     "text": [
      " Average Precision  (AP) @[ IoU=0.50:0.95 | area=   all | maxDets=100 ] = 0.004\n",
      " Average Precision  (AP) @[ IoU=0.50      | area=   all | maxDets=100 ] = 0.011\n",
      " Average Precision  (AP) @[ IoU=0.75      | area=   all | maxDets=100 ] = 0.003\n",
      " Average Precision  (AP) @[ IoU=0.50:0.95 | area= small | maxDets=100 ] = 0.000\n",
      " Average Precision  (AP) @[ IoU=0.50:0.95 | area=medium | maxDets=100 ] = 0.004\n",
      " Average Precision  (AP) @[ IoU=0.50:0.95 | area= large | maxDets=100 ] = 0.124\n",
      " Average Recall     (AR) @[ IoU=0.50:0.95 | area=   all | maxDets=  1 ] = 0.002\n",
      " Average Recall     (AR) @[ IoU=0.50:0.95 | area=   all | maxDets= 10 ] = 0.004\n",
      " Average Recall     (AR) @[ IoU=0.50:0.95 | area=   all | maxDets=100 ] = 0.009\n",
      " Average Recall     (AR) @[ IoU=0.50:0.95 | area= small | maxDets=100 ] = 0.002\n",
      " Average Recall     (AR) @[ IoU=0.50:0.95 | area=medium | maxDets=100 ] = 0.053\n",
      " Average Recall     (AR) @[ IoU=0.50:0.95 | area= large | maxDets=100 ] = 0.239\n"
     ]
    },
    {
     "name": "stderr",
     "output_type": "stream",
     "text": [
      "INFO:detectree2.models.train:Loss on Validation  done 11/170. 0.0001 s / img. ETA=0:00:21\n",
      "INFO:detectree2.models.train:Loss on Validation  done 41/170. 0.0001 s / img. ETA=0:00:21\n",
      "INFO:detectree2.models.train:Loss on Validation  done 70/170. 0.0001 s / img. ETA=0:00:16\n",
      "INFO:detectree2.models.train:Loss on Validation  done 101/170. 0.0001 s / img. ETA=0:00:11\n",
      "INFO:detectree2.models.train:Loss on Validation  done 132/170. 0.0001 s / img. ETA=0:00:06\n",
      "INFO:detectree2.models.train:Loss on Validation  done 162/170. 0.0001 s / img. ETA=0:00:01\n",
      "INFO:detectron2.data.dataset_mapper:[DatasetMapper] Augmentations used in inference: []\n",
      "INFO:detectree2.models.train:[FlexibleDatasetMapper] Augmentations used in inference: []\n",
      "INFO:detectron2.data.common:Serializing the dataset using: <class 'detectron2.data.common._TorchSerializedList'>\n",
      "INFO:detectron2.data.common:Serializing 170 elements to byte tensors and concatenating them all ...\n",
      "INFO:detectron2.data.common:Serialized dataset takes 8.90 MiB\n",
      "WARNING:detectron2.evaluation.coco_evaluation:COCO Evaluator instantiated using config, this is deprecated behavior. Please pass in explicit arguments instead.\n",
      "INFO:detectron2.evaluation.evaluator:Start inference on 170 batches\n",
      "INFO:detectron2.evaluation.evaluator:Inference done 11/170. Dataloading: 0.0007 s/iter. Inference: 0.0569 s/iter. Eval: 0.0176 s/iter. Total: 0.0753 s/iter. ETA=0:00:11\n",
      "INFO:detectron2.evaluation.evaluator:Inference done 81/170. Dataloading: 0.0010 s/iter. Inference: 0.0550 s/iter. Eval: 0.0167 s/iter. Total: 0.0727 s/iter. ETA=0:00:06\n",
      "INFO:detectron2.evaluation.evaluator:Inference done 146/170. Dataloading: 0.0010 s/iter. Inference: 0.0547 s/iter. Eval: 0.0190 s/iter. Total: 0.0748 s/iter. ETA=0:00:01\n",
      "INFO:detectron2.evaluation.evaluator:Total inference time: 0:00:12.328814 (0.074720 s / iter per device, on 1 devices)\n",
      "INFO:detectron2.evaluation.evaluator:Total inference pure compute time: 0:00:09 (0.054616 s / iter per device, on 1 devices)\n",
      "INFO:detectron2.evaluation.coco_evaluation:Preparing results for COCO format ...\n",
      "INFO:detectron2.evaluation.coco_evaluation:Saving results to eval/coco_instances_results.json\n",
      "INFO:detectron2.evaluation.coco_evaluation:Evaluating predictions with unofficial COCO API...\n",
      "INFO:detectron2.evaluation.fast_eval_api:Evaluate annotation type *bbox*\n",
      "INFO:detectron2.evaluation.fast_eval_api:COCOeval_opt.evaluate() finished in 0.17 seconds.\n",
      "INFO:detectron2.evaluation.fast_eval_api:Accumulating evaluation results...\n",
      "INFO:detectron2.evaluation.fast_eval_api:COCOeval_opt.accumulate() finished in 0.03 seconds.\n"
     ]
    },
    {
     "name": "stdout",
     "output_type": "stream",
     "text": [
      "Loading and preparing results...\n",
      "DONE (t=0.01s)\n",
      "creating index...\n",
      "index created!\n"
     ]
    },
    {
     "name": "stderr",
     "output_type": "stream",
     "text": [
      "INFO:detectron2.evaluation.coco_evaluation:Evaluation results for bbox: \n",
      "|  AP   |  AP50  |  AP75  |  APs  |  APm  |  APl   |\n",
      "|:-----:|:------:|:------:|:-----:|:-----:|:------:|\n",
      "| 1.032 | 1.200  | 0.993  | 0.005 | 2.253 | 31.285 |\n"
     ]
    },
    {
     "name": "stdout",
     "output_type": "stream",
     "text": [
      " Average Precision  (AP) @[ IoU=0.50:0.95 | area=   all | maxDets=100 ] = 0.010\n",
      " Average Precision  (AP) @[ IoU=0.50      | area=   all | maxDets=100 ] = 0.012\n",
      " Average Precision  (AP) @[ IoU=0.75      | area=   all | maxDets=100 ] = 0.010\n",
      " Average Precision  (AP) @[ IoU=0.50:0.95 | area= small | maxDets=100 ] = 0.000\n",
      " Average Precision  (AP) @[ IoU=0.50:0.95 | area=medium | maxDets=100 ] = 0.023\n",
      " Average Precision  (AP) @[ IoU=0.50:0.95 | area= large | maxDets=100 ] = 0.313\n",
      " Average Recall     (AR) @[ IoU=0.50:0.95 | area=   all | maxDets=  1 ] = 0.003\n",
      " Average Recall     (AR) @[ IoU=0.50:0.95 | area=   all | maxDets= 10 ] = 0.008\n",
      " Average Recall     (AR) @[ IoU=0.50:0.95 | area=   all | maxDets=100 ] = 0.022\n",
      " Average Recall     (AR) @[ IoU=0.50:0.95 | area= small | maxDets=100 ] = 0.005\n",
      " Average Recall     (AR) @[ IoU=0.50:0.95 | area=medium | maxDets=100 ] = 0.129\n",
      " Average Recall     (AR) @[ IoU=0.50:0.95 | area= large | maxDets=100 ] = 0.575\n"
     ]
    },
    {
     "name": "stderr",
     "output_type": "stream",
     "text": [
      "INFO:detectron2.evaluation.fast_eval_api:Evaluate annotation type *segm*\n"
     ]
    },
    {
     "name": "stdout",
     "output_type": "stream",
     "text": [
      "Loading and preparing results...\n",
      "DONE (t=0.12s)\n",
      "creating index...\n",
      "index created!\n"
     ]
    },
    {
     "name": "stderr",
     "output_type": "stream",
     "text": [
      "INFO:detectron2.evaluation.fast_eval_api:COCOeval_opt.evaluate() finished in 0.34 seconds.\n",
      "INFO:detectron2.evaluation.fast_eval_api:Accumulating evaluation results...\n",
      "INFO:detectron2.evaluation.fast_eval_api:COCOeval_opt.accumulate() finished in 0.03 seconds.\n",
      "INFO:detectron2.evaluation.coco_evaluation:Evaluation results for segm: \n",
      "|  AP   |  AP50  |  AP75  |  APs  |  APm  |  APl   |\n",
      "|:-----:|:------:|:------:|:-----:|:-----:|:------:|\n",
      "| 0.398 | 1.054  | 0.330  | 0.001 | 0.400 | 12.364 |\n",
      "INFO:detectron2.engine.defaults:Evaluation results for griffith_val in csv format:\n",
      "INFO:detectron2.evaluation.testing:copypaste: Task: bbox\n",
      "INFO:detectron2.evaluation.testing:copypaste: AP,AP50,AP75,APs,APm,APl\n",
      "INFO:detectron2.evaluation.testing:copypaste: 1.0321,1.1998,0.9934,0.0049,2.2527,31.2847\n",
      "INFO:detectron2.evaluation.testing:copypaste: Task: segm\n",
      "INFO:detectron2.evaluation.testing:copypaste: AP,AP50,AP75,APs,APm,APl\n",
      "INFO:detectron2.evaluation.testing:copypaste: 0.3984,1.0537,0.3300,0.0007,0.3998,12.3639\n",
      "INFO:detectron2.utils.events: eta: 0:29:40  iter: 399  total_loss: 1.611  loss_cls: 0.1609  loss_box_reg: 0.07629  loss_mask: 0.4261  loss_rpn_cls: 0.3526  loss_rpn_loc: 0.5016  validation_loss: 1.964    time: 0.6989  last_time: 0.6982  data_time: 0.0059  last_data_time: 0.0017   lr: 0.0003389  max_mem: 3999M\n"
     ]
    },
    {
     "name": "stdout",
     "output_type": "stream",
     "text": [
      " Average Precision  (AP) @[ IoU=0.50:0.95 | area=   all | maxDets=100 ] = 0.004\n",
      " Average Precision  (AP) @[ IoU=0.50      | area=   all | maxDets=100 ] = 0.011\n",
      " Average Precision  (AP) @[ IoU=0.75      | area=   all | maxDets=100 ] = 0.003\n",
      " Average Precision  (AP) @[ IoU=0.50:0.95 | area= small | maxDets=100 ] = 0.000\n",
      " Average Precision  (AP) @[ IoU=0.50:0.95 | area=medium | maxDets=100 ] = 0.004\n",
      " Average Precision  (AP) @[ IoU=0.50:0.95 | area= large | maxDets=100 ] = 0.124\n",
      " Average Recall     (AR) @[ IoU=0.50:0.95 | area=   all | maxDets=  1 ] = 0.002\n",
      " Average Recall     (AR) @[ IoU=0.50:0.95 | area=   all | maxDets= 10 ] = 0.004\n",
      " Average Recall     (AR) @[ IoU=0.50:0.95 | area=   all | maxDets=100 ] = 0.009\n",
      " Average Recall     (AR) @[ IoU=0.50:0.95 | area= small | maxDets=100 ] = 0.002\n",
      " Average Recall     (AR) @[ IoU=0.50:0.95 | area=medium | maxDets=100 ] = 0.053\n",
      " Average Recall     (AR) @[ IoU=0.50:0.95 | area= large | maxDets=100 ] = 0.239\n",
      "Av. segm AP50 = 1.0536808682996124\n"
     ]
    },
    {
     "name": "stderr",
     "output_type": "stream",
     "text": [
      "INFO:detectron2.utils.events: eta: 0:29:26  iter: 419  total_loss: 1.16  loss_cls: 0.07764  loss_box_reg: 0.0636  loss_mask: 0.4542  loss_rpn_cls: 0.2954  loss_rpn_loc: 0.3779  validation_loss: 1.964    time: 0.6985  last_time: 0.6569  data_time: 0.0051  last_data_time: 0.0028   lr: 0.0003389  max_mem: 3999M\n",
      "INFO:detectron2.utils.events: eta: 0:29:11  iter: 439  total_loss: 1.277  loss_cls: 0.09355  loss_box_reg: 0.07378  loss_mask: 0.4646  loss_rpn_cls: 0.2666  loss_rpn_loc: 0.2546  validation_loss: 1.964    time: 0.6986  last_time: 0.6793  data_time: 0.0054  last_data_time: 0.0046   lr: 0.0003389  max_mem: 3999M\n",
      "INFO:detectron2.utils.events: eta: 0:28:58  iter: 459  total_loss: 1.59  loss_cls: 0.1236  loss_box_reg: 0.07001  loss_mask: 0.4619  loss_rpn_cls: 0.2595  loss_rpn_loc: 0.4118  validation_loss: 1.964    time: 0.6986  last_time: 0.7066  data_time: 0.0051  last_data_time: 0.0017   lr: 0.0003389  max_mem: 3999M\n",
      "INFO:detectron2.utils.events: eta: 0:28:45  iter: 479  total_loss: 1.4  loss_cls: 0.1371  loss_box_reg: 0.1186  loss_mask: 0.4555  loss_rpn_cls: 0.2423  loss_rpn_loc: 0.3365  validation_loss: 1.964    time: 0.6989  last_time: 0.6653  data_time: 0.0053  last_data_time: 0.0092   lr: 0.0003389  max_mem: 3999M\n",
      "INFO:detectron2.data.dataset_mapper:[DatasetMapper] Augmentations used in inference: []\n",
      "INFO:detectree2.models.train:[FlexibleDatasetMapper] Augmentations used in inference: []\n",
      "INFO:detectron2.data.common:Serializing the dataset using: <class 'detectron2.data.common._TorchSerializedList'>\n",
      "INFO:detectron2.data.common:Serializing 170 elements to byte tensors and concatenating them all ...\n",
      "INFO:detectron2.data.common:Serialized dataset takes 8.90 MiB\n",
      "WARNING:detectron2.evaluation.coco_evaluation:COCO Evaluator instantiated using config, this is deprecated behavior. Please pass in explicit arguments instead.\n",
      "INFO:detectron2.evaluation.evaluator:Start inference on 170 batches\n",
      "INFO:detectron2.evaluation.evaluator:Inference done 11/170. Dataloading: 0.0006 s/iter. Inference: 0.0546 s/iter. Eval: 0.0178 s/iter. Total: 0.0730 s/iter. ETA=0:00:11\n",
      "INFO:detectron2.evaluation.evaluator:Inference done 80/170. Dataloading: 0.0010 s/iter. Inference: 0.0543 s/iter. Eval: 0.0173 s/iter. Total: 0.0727 s/iter. ETA=0:00:06\n",
      "INFO:detectron2.evaluation.evaluator:Inference done 150/170. Dataloading: 0.0010 s/iter. Inference: 0.0544 s/iter. Eval: 0.0171 s/iter. Total: 0.0726 s/iter. ETA=0:00:01\n",
      "INFO:detectron2.evaluation.evaluator:Total inference time: 0:00:12.339276 (0.074783 s / iter per device, on 1 devices)\n",
      "INFO:detectron2.evaluation.evaluator:Total inference pure compute time: 0:00:08 (0.054305 s / iter per device, on 1 devices)\n",
      "INFO:detectron2.evaluation.coco_evaluation:Preparing results for COCO format ...\n",
      "INFO:detectron2.evaluation.coco_evaluation:Saving results to eval/coco_instances_results.json\n",
      "INFO:detectron2.evaluation.coco_evaluation:Evaluating predictions with unofficial COCO API...\n",
      "INFO:detectron2.evaluation.fast_eval_api:Evaluate annotation type *bbox*\n",
      "INFO:detectron2.evaluation.fast_eval_api:COCOeval_opt.evaluate() finished in 0.17 seconds.\n",
      "INFO:detectron2.evaluation.fast_eval_api:Accumulating evaluation results...\n",
      "INFO:detectron2.evaluation.fast_eval_api:COCOeval_opt.accumulate() finished in 0.03 seconds.\n"
     ]
    },
    {
     "name": "stdout",
     "output_type": "stream",
     "text": [
      "Loading and preparing results...\n",
      "DONE (t=0.01s)\n",
      "creating index...\n",
      "index created!\n"
     ]
    },
    {
     "name": "stderr",
     "output_type": "stream",
     "text": [
      "INFO:detectron2.evaluation.coco_evaluation:Evaluation results for bbox: \n",
      "|  AP   |  AP50  |  AP75  |  APs  |  APm  |  APl   |\n",
      "|:-----:|:------:|:------:|:-----:|:-----:|:------:|\n",
      "| 1.006 | 1.224  | 0.996  | 0.007 | 1.056 | 32.010 |\n"
     ]
    },
    {
     "name": "stdout",
     "output_type": "stream",
     "text": [
      " Average Precision  (AP) @[ IoU=0.50:0.95 | area=   all | maxDets=100 ] = 0.010\n",
      " Average Precision  (AP) @[ IoU=0.50      | area=   all | maxDets=100 ] = 0.012\n",
      " Average Precision  (AP) @[ IoU=0.75      | area=   all | maxDets=100 ] = 0.010\n",
      " Average Precision  (AP) @[ IoU=0.50:0.95 | area= small | maxDets=100 ] = 0.000\n",
      " Average Precision  (AP) @[ IoU=0.50:0.95 | area=medium | maxDets=100 ] = 0.011\n",
      " Average Precision  (AP) @[ IoU=0.50:0.95 | area= large | maxDets=100 ] = 0.320\n",
      " Average Recall     (AR) @[ IoU=0.50:0.95 | area=   all | maxDets=  1 ] = 0.003\n",
      " Average Recall     (AR) @[ IoU=0.50:0.95 | area=   all | maxDets= 10 ] = 0.007\n",
      " Average Recall     (AR) @[ IoU=0.50:0.95 | area=   all | maxDets=100 ] = 0.026\n",
      " Average Recall     (AR) @[ IoU=0.50:0.95 | area= small | maxDets=100 ] = 0.004\n",
      " Average Recall     (AR) @[ IoU=0.50:0.95 | area=medium | maxDets=100 ] = 0.173\n",
      " Average Recall     (AR) @[ IoU=0.50:0.95 | area= large | maxDets=100 ] = 0.636\n"
     ]
    },
    {
     "name": "stderr",
     "output_type": "stream",
     "text": [
      "INFO:detectron2.evaluation.fast_eval_api:Evaluate annotation type *segm*\n"
     ]
    },
    {
     "name": "stdout",
     "output_type": "stream",
     "text": [
      "Loading and preparing results...\n",
      "DONE (t=0.13s)\n",
      "creating index...\n",
      "index created!\n"
     ]
    },
    {
     "name": "stderr",
     "output_type": "stream",
     "text": [
      "INFO:detectron2.evaluation.fast_eval_api:COCOeval_opt.evaluate() finished in 0.36 seconds.\n",
      "INFO:detectron2.evaluation.fast_eval_api:Accumulating evaluation results...\n",
      "INFO:detectron2.evaluation.fast_eval_api:COCOeval_opt.accumulate() finished in 0.03 seconds.\n",
      "INFO:detectron2.evaluation.coco_evaluation:Evaluation results for segm: \n",
      "|  AP   |  AP50  |  AP75  |  APs  |  APm  |  APl   |\n",
      "|:-----:|:------:|:------:|:-----:|:-----:|:------:|\n",
      "| 0.703 | 1.050  | 0.990  | 0.001 | 0.211 | 14.322 |\n",
      "INFO:detectron2.engine.defaults:Evaluation results for griffith_val in csv format:\n",
      "INFO:detectron2.evaluation.testing:copypaste: Task: bbox\n",
      "INFO:detectron2.evaluation.testing:copypaste: AP,AP50,AP75,APs,APm,APl\n",
      "INFO:detectron2.evaluation.testing:copypaste: 1.0058,1.2243,0.9957,0.0074,1.0560,32.0097\n",
      "INFO:detectron2.evaluation.testing:copypaste: Task: segm\n",
      "INFO:detectron2.evaluation.testing:copypaste: AP,AP50,AP75,APs,APm,APl\n",
      "INFO:detectron2.evaluation.testing:copypaste: 0.7032,1.0504,0.9901,0.0011,0.2110,14.3222\n"
     ]
    },
    {
     "name": "stdout",
     "output_type": "stream",
     "text": [
      " Average Precision  (AP) @[ IoU=0.50:0.95 | area=   all | maxDets=100 ] = 0.007\n",
      " Average Precision  (AP) @[ IoU=0.50      | area=   all | maxDets=100 ] = 0.011\n",
      " Average Precision  (AP) @[ IoU=0.75      | area=   all | maxDets=100 ] = 0.010\n",
      " Average Precision  (AP) @[ IoU=0.50:0.95 | area= small | maxDets=100 ] = 0.000\n",
      " Average Precision  (AP) @[ IoU=0.50:0.95 | area=medium | maxDets=100 ] = 0.002\n",
      " Average Precision  (AP) @[ IoU=0.50:0.95 | area= large | maxDets=100 ] = 0.143\n",
      " Average Recall     (AR) @[ IoU=0.50:0.95 | area=   all | maxDets=  1 ] = 0.002\n",
      " Average Recall     (AR) @[ IoU=0.50:0.95 | area=   all | maxDets= 10 ] = 0.004\n",
      " Average Recall     (AR) @[ IoU=0.50:0.95 | area=   all | maxDets=100 ] = 0.009\n",
      " Average Recall     (AR) @[ IoU=0.50:0.95 | area= small | maxDets=100 ] = 0.001\n",
      " Average Recall     (AR) @[ IoU=0.50:0.95 | area=medium | maxDets=100 ] = 0.062\n",
      " Average Recall     (AR) @[ IoU=0.50:0.95 | area= large | maxDets=100 ] = 0.257\n"
     ]
    },
    {
     "name": "stderr",
     "output_type": "stream",
     "text": [
      "INFO:detectree2.models.train:Loss on Validation  done 11/170. 0.0001 s / img. ETA=0:00:21\n",
      "INFO:detectree2.models.train:Loss on Validation  done 40/170. 0.0001 s / img. ETA=0:00:21\n",
      "INFO:detectree2.models.train:Loss on Validation  done 69/170. 0.0001 s / img. ETA=0:00:17\n",
      "INFO:detectree2.models.train:Loss on Validation  done 100/170. 0.0001 s / img. ETA=0:00:11\n",
      "INFO:detectree2.models.train:Loss on Validation  done 131/170. 0.0001 s / img. ETA=0:00:06\n",
      "INFO:detectree2.models.train:Loss on Validation  done 161/170. 0.0001 s / img. ETA=0:00:01\n",
      "INFO:detectron2.data.dataset_mapper:[DatasetMapper] Augmentations used in inference: []\n",
      "INFO:detectree2.models.train:[FlexibleDatasetMapper] Augmentations used in inference: []\n",
      "INFO:detectron2.data.common:Serializing the dataset using: <class 'detectron2.data.common._TorchSerializedList'>\n",
      "INFO:detectron2.data.common:Serializing 170 elements to byte tensors and concatenating them all ...\n",
      "INFO:detectron2.data.common:Serialized dataset takes 8.90 MiB\n",
      "WARNING:detectron2.evaluation.coco_evaluation:COCO Evaluator instantiated using config, this is deprecated behavior. Please pass in explicit arguments instead.\n",
      "INFO:detectron2.evaluation.evaluator:Start inference on 170 batches\n",
      "INFO:detectron2.evaluation.evaluator:Inference done 11/170. Dataloading: 0.0006 s/iter. Inference: 0.0590 s/iter. Eval: 0.0176 s/iter. Total: 0.0773 s/iter. ETA=0:00:12\n",
      "INFO:detectron2.evaluation.evaluator:Inference done 80/170. Dataloading: 0.0010 s/iter. Inference: 0.0548 s/iter. Eval: 0.0171 s/iter. Total: 0.0729 s/iter. ETA=0:00:06\n",
      "INFO:detectron2.evaluation.evaluator:Inference done 150/170. Dataloading: 0.0010 s/iter. Inference: 0.0544 s/iter. Eval: 0.0169 s/iter. Total: 0.0723 s/iter. ETA=0:00:01\n",
      "INFO:detectron2.evaluation.evaluator:Total inference time: 0:00:11.989914 (0.072666 s / iter per device, on 1 devices)\n",
      "INFO:detectron2.evaluation.evaluator:Total inference pure compute time: 0:00:08 (0.054357 s / iter per device, on 1 devices)\n",
      "INFO:detectron2.evaluation.coco_evaluation:Preparing results for COCO format ...\n",
      "INFO:detectron2.evaluation.coco_evaluation:Saving results to eval/coco_instances_results.json\n",
      "INFO:detectron2.evaluation.coco_evaluation:Evaluating predictions with unofficial COCO API...\n",
      "INFO:detectron2.evaluation.fast_eval_api:Evaluate annotation type *bbox*\n",
      "INFO:detectron2.evaluation.fast_eval_api:COCOeval_opt.evaluate() finished in 0.17 seconds.\n",
      "INFO:detectron2.evaluation.fast_eval_api:Accumulating evaluation results...\n",
      "INFO:detectron2.evaluation.fast_eval_api:COCOeval_opt.accumulate() finished in 0.03 seconds.\n"
     ]
    },
    {
     "name": "stdout",
     "output_type": "stream",
     "text": [
      "Loading and preparing results...\n",
      "DONE (t=0.01s)\n",
      "creating index...\n",
      "index created!\n"
     ]
    },
    {
     "name": "stderr",
     "output_type": "stream",
     "text": [
      "INFO:detectron2.evaluation.coco_evaluation:Evaluation results for bbox: \n",
      "|  AP   |  AP50  |  AP75  |  APs  |  APm  |  APl   |\n",
      "|:-----:|:------:|:------:|:-----:|:-----:|:------:|\n",
      "| 1.006 | 1.224  | 0.996  | 0.007 | 1.056 | 32.010 |\n"
     ]
    },
    {
     "name": "stdout",
     "output_type": "stream",
     "text": [
      " Average Precision  (AP) @[ IoU=0.50:0.95 | area=   all | maxDets=100 ] = 0.010\n",
      " Average Precision  (AP) @[ IoU=0.50      | area=   all | maxDets=100 ] = 0.012\n",
      " Average Precision  (AP) @[ IoU=0.75      | area=   all | maxDets=100 ] = 0.010\n",
      " Average Precision  (AP) @[ IoU=0.50:0.95 | area= small | maxDets=100 ] = 0.000\n",
      " Average Precision  (AP) @[ IoU=0.50:0.95 | area=medium | maxDets=100 ] = 0.011\n",
      " Average Precision  (AP) @[ IoU=0.50:0.95 | area= large | maxDets=100 ] = 0.320\n",
      " Average Recall     (AR) @[ IoU=0.50:0.95 | area=   all | maxDets=  1 ] = 0.003\n",
      " Average Recall     (AR) @[ IoU=0.50:0.95 | area=   all | maxDets= 10 ] = 0.007\n",
      " Average Recall     (AR) @[ IoU=0.50:0.95 | area=   all | maxDets=100 ] = 0.026\n",
      " Average Recall     (AR) @[ IoU=0.50:0.95 | area= small | maxDets=100 ] = 0.004\n",
      " Average Recall     (AR) @[ IoU=0.50:0.95 | area=medium | maxDets=100 ] = 0.173\n",
      " Average Recall     (AR) @[ IoU=0.50:0.95 | area= large | maxDets=100 ] = 0.636\n"
     ]
    },
    {
     "name": "stderr",
     "output_type": "stream",
     "text": [
      "INFO:detectron2.evaluation.fast_eval_api:Evaluate annotation type *segm*\n"
     ]
    },
    {
     "name": "stdout",
     "output_type": "stream",
     "text": [
      "Loading and preparing results...\n",
      "DONE (t=0.13s)\n",
      "creating index...\n",
      "index created!\n"
     ]
    },
    {
     "name": "stderr",
     "output_type": "stream",
     "text": [
      "INFO:detectron2.evaluation.fast_eval_api:COCOeval_opt.evaluate() finished in 0.35 seconds.\n",
      "INFO:detectron2.evaluation.fast_eval_api:Accumulating evaluation results...\n",
      "INFO:detectron2.evaluation.fast_eval_api:COCOeval_opt.accumulate() finished in 0.03 seconds.\n",
      "INFO:detectron2.evaluation.coco_evaluation:Evaluation results for segm: \n",
      "|  AP   |  AP50  |  AP75  |  APs  |  APm  |  APl   |\n",
      "|:-----:|:------:|:------:|:-----:|:-----:|:------:|\n",
      "| 0.703 | 1.050  | 0.990  | 0.001 | 0.211 | 14.322 |\n",
      "INFO:detectron2.engine.defaults:Evaluation results for griffith_val in csv format:\n",
      "INFO:detectron2.evaluation.testing:copypaste: Task: bbox\n",
      "INFO:detectron2.evaluation.testing:copypaste: AP,AP50,AP75,APs,APm,APl\n",
      "INFO:detectron2.evaluation.testing:copypaste: 1.0058,1.2243,0.9957,0.0074,1.0560,32.0097\n",
      "INFO:detectron2.evaluation.testing:copypaste: Task: segm\n",
      "INFO:detectron2.evaluation.testing:copypaste: AP,AP50,AP75,APs,APm,APl\n",
      "INFO:detectron2.evaluation.testing:copypaste: 0.7032,1.0504,0.9901,0.0011,0.2110,14.3222\n",
      "INFO:detectron2.utils.events: eta: 0:28:31  iter: 499  total_loss: 1.391  loss_cls: 0.2055  loss_box_reg: 0.2087  loss_mask: 0.444  loss_rpn_cls: 0.2494  loss_rpn_loc: 0.3371  validation_loss: 1.893    time: 0.6998  last_time: 0.6664  data_time: 0.0057  last_data_time: 0.0078   lr: 0.0003389  max_mem: 3999M\n"
     ]
    },
    {
     "name": "stdout",
     "output_type": "stream",
     "text": [
      " Average Precision  (AP) @[ IoU=0.50:0.95 | area=   all | maxDets=100 ] = 0.007\n",
      " Average Precision  (AP) @[ IoU=0.50      | area=   all | maxDets=100 ] = 0.011\n",
      " Average Precision  (AP) @[ IoU=0.75      | area=   all | maxDets=100 ] = 0.010\n",
      " Average Precision  (AP) @[ IoU=0.50:0.95 | area= small | maxDets=100 ] = 0.000\n",
      " Average Precision  (AP) @[ IoU=0.50:0.95 | area=medium | maxDets=100 ] = 0.002\n",
      " Average Precision  (AP) @[ IoU=0.50:0.95 | area= large | maxDets=100 ] = 0.143\n",
      " Average Recall     (AR) @[ IoU=0.50:0.95 | area=   all | maxDets=  1 ] = 0.002\n",
      " Average Recall     (AR) @[ IoU=0.50:0.95 | area=   all | maxDets= 10 ] = 0.004\n",
      " Average Recall     (AR) @[ IoU=0.50:0.95 | area=   all | maxDets=100 ] = 0.009\n",
      " Average Recall     (AR) @[ IoU=0.50:0.95 | area= small | maxDets=100 ] = 0.001\n",
      " Average Recall     (AR) @[ IoU=0.50:0.95 | area=medium | maxDets=100 ] = 0.062\n",
      " Average Recall     (AR) @[ IoU=0.50:0.95 | area= large | maxDets=100 ] = 0.257\n",
      "Av. segm AP50 = 1.0504278489495402\n"
     ]
    },
    {
     "name": "stderr",
     "output_type": "stream",
     "text": [
      "INFO:detectron2.utils.events: eta: 0:28:18  iter: 519  total_loss: 1.577  loss_cls: 0.1697  loss_box_reg: 0.1353  loss_mask: 0.4475  loss_rpn_cls: 0.2662  loss_rpn_loc: 0.4095  validation_loss: 1.893    time: 0.7001  last_time: 0.6548  data_time: 0.0052  last_data_time: 0.0052   lr: 0.0003389  max_mem: 3999M\n",
      "INFO:detectron2.utils.events: eta: 0:28:04  iter: 539  total_loss: 1.492  loss_cls: 0.1282  loss_box_reg: 0.09277  loss_mask: 0.4409  loss_rpn_cls: 0.2995  loss_rpn_loc: 0.3294  validation_loss: 1.893    time: 0.7001  last_time: 0.7493  data_time: 0.0051  last_data_time: 0.0054   lr: 0.0003389  max_mem: 3999M\n",
      "INFO:detectron2.utils.events: eta: 0:27:51  iter: 559  total_loss: 1.567  loss_cls: 0.1448  loss_box_reg: 0.1052  loss_mask: 0.4842  loss_rpn_cls: 0.2913  loss_rpn_loc: 0.3952  validation_loss: 1.893    time: 0.7004  last_time: 0.6786  data_time: 0.0058  last_data_time: 0.0030   lr: 0.0003389  max_mem: 3999M\n",
      "INFO:detectron2.utils.events: eta: 0:27:37  iter: 579  total_loss: 1.651  loss_cls: 0.1418  loss_box_reg: 0.09719  loss_mask: 0.4591  loss_rpn_cls: 0.2996  loss_rpn_loc: 0.5558  validation_loss: 1.893    time: 0.7009  last_time: 0.7401  data_time: 0.0061  last_data_time: 0.0070   lr: 0.0003389  max_mem: 3999M\n",
      "INFO:detectron2.data.dataset_mapper:[DatasetMapper] Augmentations used in inference: []\n",
      "INFO:detectree2.models.train:[FlexibleDatasetMapper] Augmentations used in inference: []\n",
      "INFO:detectron2.data.common:Serializing the dataset using: <class 'detectron2.data.common._TorchSerializedList'>\n",
      "INFO:detectron2.data.common:Serializing 170 elements to byte tensors and concatenating them all ...\n",
      "INFO:detectron2.data.common:Serialized dataset takes 8.90 MiB\n",
      "WARNING:detectron2.evaluation.coco_evaluation:COCO Evaluator instantiated using config, this is deprecated behavior. Please pass in explicit arguments instead.\n",
      "INFO:detectron2.evaluation.evaluator:Start inference on 170 batches\n",
      "INFO:detectron2.evaluation.evaluator:Inference done 11/170. Dataloading: 0.0006 s/iter. Inference: 0.0581 s/iter. Eval: 0.0180 s/iter. Total: 0.0767 s/iter. ETA=0:00:12\n",
      "INFO:detectron2.evaluation.evaluator:Inference done 78/170. Dataloading: 0.0010 s/iter. Inference: 0.0560 s/iter. Eval: 0.0178 s/iter. Total: 0.0749 s/iter. ETA=0:00:06\n",
      "INFO:detectron2.evaluation.evaluator:Inference done 145/170. Dataloading: 0.0010 s/iter. Inference: 0.0561 s/iter. Eval: 0.0179 s/iter. Total: 0.0751 s/iter. ETA=0:00:01\n",
      "INFO:detectron2.evaluation.evaluator:Total inference time: 0:00:12.431062 (0.075340 s / iter per device, on 1 devices)\n",
      "INFO:detectron2.evaluation.evaluator:Total inference pure compute time: 0:00:09 (0.055994 s / iter per device, on 1 devices)\n",
      "INFO:detectron2.evaluation.coco_evaluation:Preparing results for COCO format ...\n",
      "INFO:detectron2.evaluation.coco_evaluation:Saving results to eval/coco_instances_results.json\n",
      "INFO:detectron2.evaluation.coco_evaluation:Evaluating predictions with unofficial COCO API...\n",
      "INFO:detectron2.evaluation.fast_eval_api:Evaluate annotation type *bbox*\n",
      "INFO:detectron2.evaluation.fast_eval_api:COCOeval_opt.evaluate() finished in 0.18 seconds.\n",
      "INFO:detectron2.evaluation.fast_eval_api:Accumulating evaluation results...\n",
      "INFO:detectron2.evaluation.fast_eval_api:COCOeval_opt.accumulate() finished in 0.03 seconds.\n"
     ]
    },
    {
     "name": "stdout",
     "output_type": "stream",
     "text": [
      "Loading and preparing results...\n",
      "DONE (t=0.01s)\n",
      "creating index...\n",
      "index created!\n"
     ]
    },
    {
     "name": "stderr",
     "output_type": "stream",
     "text": [
      "INFO:detectron2.evaluation.coco_evaluation:Evaluation results for bbox: \n",
      "|  AP   |  AP50  |  AP75  |  APs  |  APm  |  APl   |\n",
      "|:-----:|:------:|:------:|:-----:|:-----:|:------:|\n",
      "| 0.992 | 1.149  | 0.994  | 0.004 | 1.046 | 34.188 |\n"
     ]
    },
    {
     "name": "stdout",
     "output_type": "stream",
     "text": [
      " Average Precision  (AP) @[ IoU=0.50:0.95 | area=   all | maxDets=100 ] = 0.010\n",
      " Average Precision  (AP) @[ IoU=0.50      | area=   all | maxDets=100 ] = 0.011\n",
      " Average Precision  (AP) @[ IoU=0.75      | area=   all | maxDets=100 ] = 0.010\n",
      " Average Precision  (AP) @[ IoU=0.50:0.95 | area= small | maxDets=100 ] = 0.000\n",
      " Average Precision  (AP) @[ IoU=0.50:0.95 | area=medium | maxDets=100 ] = 0.010\n",
      " Average Precision  (AP) @[ IoU=0.50:0.95 | area= large | maxDets=100 ] = 0.342\n",
      " Average Recall     (AR) @[ IoU=0.50:0.95 | area=   all | maxDets=  1 ] = 0.003\n",
      " Average Recall     (AR) @[ IoU=0.50:0.95 | area=   all | maxDets= 10 ] = 0.006\n",
      " Average Recall     (AR) @[ IoU=0.50:0.95 | area=   all | maxDets=100 ] = 0.023\n",
      " Average Recall     (AR) @[ IoU=0.50:0.95 | area= small | maxDets=100 ] = 0.003\n",
      " Average Recall     (AR) @[ IoU=0.50:0.95 | area=medium | maxDets=100 ] = 0.151\n",
      " Average Recall     (AR) @[ IoU=0.50:0.95 | area= large | maxDets=100 ] = 0.607\n"
     ]
    },
    {
     "name": "stderr",
     "output_type": "stream",
     "text": [
      "INFO:detectron2.evaluation.fast_eval_api:Evaluate annotation type *segm*\n"
     ]
    },
    {
     "name": "stdout",
     "output_type": "stream",
     "text": [
      "Loading and preparing results...\n",
      "DONE (t=0.13s)\n",
      "creating index...\n",
      "index created!\n"
     ]
    },
    {
     "name": "stderr",
     "output_type": "stream",
     "text": [
      "INFO:detectron2.evaluation.fast_eval_api:COCOeval_opt.evaluate() finished in 0.36 seconds.\n",
      "INFO:detectron2.evaluation.fast_eval_api:Accumulating evaluation results...\n",
      "INFO:detectron2.evaluation.fast_eval_api:COCOeval_opt.accumulate() finished in 0.03 seconds.\n",
      "INFO:detectron2.evaluation.coco_evaluation:Evaluation results for segm: \n",
      "|  AP   |  AP50  |  AP75  |  APs  |  APm  |  APl   |\n",
      "|:-----:|:------:|:------:|:-----:|:-----:|:------:|\n",
      "| 0.605 | 1.041  | 0.990  | 0.001 | 0.272 | 15.663 |\n",
      "INFO:detectron2.engine.defaults:Evaluation results for griffith_val in csv format:\n",
      "INFO:detectron2.evaluation.testing:copypaste: Task: bbox\n",
      "INFO:detectron2.evaluation.testing:copypaste: AP,AP50,AP75,APs,APm,APl\n",
      "INFO:detectron2.evaluation.testing:copypaste: 0.9922,1.1488,0.9942,0.0038,1.0458,34.1883\n",
      "INFO:detectron2.evaluation.testing:copypaste: Task: segm\n",
      "INFO:detectron2.evaluation.testing:copypaste: AP,AP50,AP75,APs,APm,APl\n",
      "INFO:detectron2.evaluation.testing:copypaste: 0.6047,1.0408,0.9901,0.0010,0.2716,15.6630\n"
     ]
    },
    {
     "name": "stdout",
     "output_type": "stream",
     "text": [
      " Average Precision  (AP) @[ IoU=0.50:0.95 | area=   all | maxDets=100 ] = 0.006\n",
      " Average Precision  (AP) @[ IoU=0.50      | area=   all | maxDets=100 ] = 0.010\n",
      " Average Precision  (AP) @[ IoU=0.75      | area=   all | maxDets=100 ] = 0.010\n",
      " Average Precision  (AP) @[ IoU=0.50:0.95 | area= small | maxDets=100 ] = 0.000\n",
      " Average Precision  (AP) @[ IoU=0.50:0.95 | area=medium | maxDets=100 ] = 0.003\n",
      " Average Precision  (AP) @[ IoU=0.50:0.95 | area= large | maxDets=100 ] = 0.157\n",
      " Average Recall     (AR) @[ IoU=0.50:0.95 | area=   all | maxDets=  1 ] = 0.002\n",
      " Average Recall     (AR) @[ IoU=0.50:0.95 | area=   all | maxDets= 10 ] = 0.003\n",
      " Average Recall     (AR) @[ IoU=0.50:0.95 | area=   all | maxDets=100 ] = 0.008\n",
      " Average Recall     (AR) @[ IoU=0.50:0.95 | area= small | maxDets=100 ] = 0.002\n",
      " Average Recall     (AR) @[ IoU=0.50:0.95 | area=medium | maxDets=100 ] = 0.051\n",
      " Average Recall     (AR) @[ IoU=0.50:0.95 | area= large | maxDets=100 ] = 0.257\n"
     ]
    },
    {
     "name": "stderr",
     "output_type": "stream",
     "text": [
      "INFO:detectree2.models.train:Loss on Validation  done 11/170. 0.0001 s / img. ETA=0:00:21\n",
      "INFO:detectree2.models.train:Loss on Validation  done 40/170. 0.0001 s / img. ETA=0:00:21\n",
      "INFO:detectree2.models.train:Loss on Validation  done 69/170. 0.0001 s / img. ETA=0:00:17\n",
      "INFO:detectree2.models.train:Loss on Validation  done 99/170. 0.0001 s / img. ETA=0:00:12\n",
      "INFO:detectree2.models.train:Loss on Validation  done 130/170. 0.0001 s / img. ETA=0:00:06\n",
      "INFO:detectree2.models.train:Loss on Validation  done 160/170. 0.0001 s / img. ETA=0:00:01\n",
      "INFO:detectron2.data.dataset_mapper:[DatasetMapper] Augmentations used in inference: []\n",
      "INFO:detectree2.models.train:[FlexibleDatasetMapper] Augmentations used in inference: []\n",
      "INFO:detectron2.data.common:Serializing the dataset using: <class 'detectron2.data.common._TorchSerializedList'>\n",
      "INFO:detectron2.data.common:Serializing 170 elements to byte tensors and concatenating them all ...\n",
      "INFO:detectron2.data.common:Serialized dataset takes 8.90 MiB\n",
      "WARNING:detectron2.evaluation.coco_evaluation:COCO Evaluator instantiated using config, this is deprecated behavior. Please pass in explicit arguments instead.\n",
      "INFO:detectron2.evaluation.evaluator:Start inference on 170 batches\n",
      "INFO:detectron2.evaluation.evaluator:Inference done 11/170. Dataloading: 0.0007 s/iter. Inference: 0.0574 s/iter. Eval: 0.0180 s/iter. Total: 0.0762 s/iter. ETA=0:00:12\n",
      "INFO:detectron2.evaluation.evaluator:Inference done 73/170. Dataloading: 0.0010 s/iter. Inference: 0.0568 s/iter. Eval: 0.0226 s/iter. Total: 0.0805 s/iter. ETA=0:00:07\n",
      "INFO:detectron2.evaluation.evaluator:Inference done 140/170. Dataloading: 0.0010 s/iter. Inference: 0.0564 s/iter. Eval: 0.0202 s/iter. Total: 0.0777 s/iter. ETA=0:00:02\n",
      "INFO:detectron2.evaluation.evaluator:Total inference time: 0:00:12.783758 (0.077477 s / iter per device, on 1 devices)\n",
      "INFO:detectron2.evaluation.evaluator:Total inference pure compute time: 0:00:09 (0.056262 s / iter per device, on 1 devices)\n",
      "INFO:detectron2.evaluation.coco_evaluation:Preparing results for COCO format ...\n",
      "INFO:detectron2.evaluation.coco_evaluation:Saving results to eval/coco_instances_results.json\n",
      "INFO:detectron2.evaluation.coco_evaluation:Evaluating predictions with unofficial COCO API...\n",
      "INFO:detectron2.evaluation.fast_eval_api:Evaluate annotation type *bbox*\n",
      "INFO:detectron2.evaluation.fast_eval_api:COCOeval_opt.evaluate() finished in 0.17 seconds.\n",
      "INFO:detectron2.evaluation.fast_eval_api:Accumulating evaluation results...\n"
     ]
    },
    {
     "name": "stdout",
     "output_type": "stream",
     "text": [
      "Loading and preparing results...\n",
      "DONE (t=0.01s)\n",
      "creating index...\n",
      "index created!\n"
     ]
    },
    {
     "name": "stderr",
     "output_type": "stream",
     "text": [
      "INFO:detectron2.evaluation.fast_eval_api:COCOeval_opt.accumulate() finished in 0.03 seconds.\n",
      "INFO:detectron2.evaluation.coco_evaluation:Evaluation results for bbox: \n",
      "|  AP   |  AP50  |  AP75  |  APs  |  APm  |  APl   |\n",
      "|:-----:|:------:|:------:|:-----:|:-----:|:------:|\n",
      "| 0.992 | 1.149  | 0.994  | 0.004 | 1.046 | 34.188 |\n"
     ]
    },
    {
     "name": "stdout",
     "output_type": "stream",
     "text": [
      " Average Precision  (AP) @[ IoU=0.50:0.95 | area=   all | maxDets=100 ] = 0.010\n",
      " Average Precision  (AP) @[ IoU=0.50      | area=   all | maxDets=100 ] = 0.011\n",
      " Average Precision  (AP) @[ IoU=0.75      | area=   all | maxDets=100 ] = 0.010\n",
      " Average Precision  (AP) @[ IoU=0.50:0.95 | area= small | maxDets=100 ] = 0.000\n",
      " Average Precision  (AP) @[ IoU=0.50:0.95 | area=medium | maxDets=100 ] = 0.010\n",
      " Average Precision  (AP) @[ IoU=0.50:0.95 | area= large | maxDets=100 ] = 0.342\n",
      " Average Recall     (AR) @[ IoU=0.50:0.95 | area=   all | maxDets=  1 ] = 0.003\n",
      " Average Recall     (AR) @[ IoU=0.50:0.95 | area=   all | maxDets= 10 ] = 0.006\n",
      " Average Recall     (AR) @[ IoU=0.50:0.95 | area=   all | maxDets=100 ] = 0.023\n",
      " Average Recall     (AR) @[ IoU=0.50:0.95 | area= small | maxDets=100 ] = 0.003\n",
      " Average Recall     (AR) @[ IoU=0.50:0.95 | area=medium | maxDets=100 ] = 0.151\n",
      " Average Recall     (AR) @[ IoU=0.50:0.95 | area= large | maxDets=100 ] = 0.607\n"
     ]
    },
    {
     "name": "stderr",
     "output_type": "stream",
     "text": [
      "INFO:detectron2.evaluation.fast_eval_api:Evaluate annotation type *segm*\n"
     ]
    },
    {
     "name": "stdout",
     "output_type": "stream",
     "text": [
      "Loading and preparing results...\n",
      "DONE (t=0.13s)\n",
      "creating index...\n",
      "index created!\n"
     ]
    },
    {
     "name": "stderr",
     "output_type": "stream",
     "text": [
      "INFO:detectron2.evaluation.fast_eval_api:COCOeval_opt.evaluate() finished in 0.36 seconds.\n",
      "INFO:detectron2.evaluation.fast_eval_api:Accumulating evaluation results...\n",
      "INFO:detectron2.evaluation.fast_eval_api:COCOeval_opt.accumulate() finished in 0.03 seconds.\n",
      "INFO:detectron2.evaluation.coco_evaluation:Evaluation results for segm: \n",
      "|  AP   |  AP50  |  AP75  |  APs  |  APm  |  APl   |\n",
      "|:-----:|:------:|:------:|:-----:|:-----:|:------:|\n",
      "| 0.605 | 1.041  | 0.990  | 0.001 | 0.272 | 15.663 |\n",
      "INFO:detectron2.engine.defaults:Evaluation results for griffith_val in csv format:\n",
      "INFO:detectron2.evaluation.testing:copypaste: Task: bbox\n",
      "INFO:detectron2.evaluation.testing:copypaste: AP,AP50,AP75,APs,APm,APl\n",
      "INFO:detectron2.evaluation.testing:copypaste: 0.9922,1.1488,0.9942,0.0038,1.0458,34.1883\n",
      "INFO:detectron2.evaluation.testing:copypaste: Task: segm\n",
      "INFO:detectron2.evaluation.testing:copypaste: AP,AP50,AP75,APs,APm,APl\n",
      "INFO:detectron2.evaluation.testing:copypaste: 0.6047,1.0408,0.9901,0.0010,0.2716,15.6630\n",
      "INFO:detectron2.utils.events: eta: 0:27:23  iter: 599  total_loss: 1.202  loss_cls: 0.09604  loss_box_reg: 0.08846  loss_mask: 0.4465  loss_rpn_cls: 0.2287  loss_rpn_loc: 0.3036  validation_loss: 1.969    time: 0.7009  last_time: 0.7405  data_time: 0.0068  last_data_time: 0.0103   lr: 0.0003389  max_mem: 3999M\n"
     ]
    },
    {
     "name": "stdout",
     "output_type": "stream",
     "text": [
      " Average Precision  (AP) @[ IoU=0.50:0.95 | area=   all | maxDets=100 ] = 0.006\n",
      " Average Precision  (AP) @[ IoU=0.50      | area=   all | maxDets=100 ] = 0.010\n",
      " Average Precision  (AP) @[ IoU=0.75      | area=   all | maxDets=100 ] = 0.010\n",
      " Average Precision  (AP) @[ IoU=0.50:0.95 | area= small | maxDets=100 ] = 0.000\n",
      " Average Precision  (AP) @[ IoU=0.50:0.95 | area=medium | maxDets=100 ] = 0.003\n",
      " Average Precision  (AP) @[ IoU=0.50:0.95 | area= large | maxDets=100 ] = 0.157\n",
      " Average Recall     (AR) @[ IoU=0.50:0.95 | area=   all | maxDets=  1 ] = 0.002\n",
      " Average Recall     (AR) @[ IoU=0.50:0.95 | area=   all | maxDets= 10 ] = 0.003\n",
      " Average Recall     (AR) @[ IoU=0.50:0.95 | area=   all | maxDets=100 ] = 0.008\n",
      " Average Recall     (AR) @[ IoU=0.50:0.95 | area= small | maxDets=100 ] = 0.002\n",
      " Average Recall     (AR) @[ IoU=0.50:0.95 | area=medium | maxDets=100 ] = 0.051\n",
      " Average Recall     (AR) @[ IoU=0.50:0.95 | area= large | maxDets=100 ] = 0.257\n",
      "Av. segm AP50 = 1.040770742944774\n"
     ]
    },
    {
     "name": "stderr",
     "output_type": "stream",
     "text": [
      "INFO:detectron2.utils.events: eta: 0:27:09  iter: 619  total_loss: 1.14  loss_cls: 0.1211  loss_box_reg: 0.05249  loss_mask: 0.4288  loss_rpn_cls: 0.2197  loss_rpn_loc: 0.2814  validation_loss: 1.969    time: 0.7005  last_time: 0.7635  data_time: 0.0052  last_data_time: 0.0106   lr: 0.0003389  max_mem: 3999M\n",
      "INFO:detectron2.utils.events: eta: 0:26:55  iter: 639  total_loss: 1.087  loss_cls: 0.1017  loss_box_reg: 0.0572  loss_mask: 0.4535  loss_rpn_cls: 0.1785  loss_rpn_loc: 0.1644  validation_loss: 1.969    time: 0.7000  last_time: 0.6772  data_time: 0.0049  last_data_time: 0.0061   lr: 0.0003389  max_mem: 3999M\n",
      "INFO:detectron2.utils.events: eta: 0:26:41  iter: 659  total_loss: 1.443  loss_cls: 0.1201  loss_box_reg: 0.07719  loss_mask: 0.4519  loss_rpn_cls: 0.2251  loss_rpn_loc: 0.3169  validation_loss: 1.969    time: 0.7000  last_time: 0.7555  data_time: 0.0055  last_data_time: 0.0057   lr: 0.0003389  max_mem: 3999M\n",
      "INFO:detectron2.utils.events: eta: 0:26:27  iter: 679  total_loss: 1.394  loss_cls: 0.1054  loss_box_reg: 0.06447  loss_mask: 0.4402  loss_rpn_cls: 0.217  loss_rpn_loc: 0.2201  validation_loss: 1.969    time: 0.7001  last_time: 0.7285  data_time: 0.0052  last_data_time: 0.0070   lr: 0.0003389  max_mem: 3999M\n",
      "INFO:detectron2.data.dataset_mapper:[DatasetMapper] Augmentations used in inference: []\n",
      "INFO:detectree2.models.train:[FlexibleDatasetMapper] Augmentations used in inference: []\n",
      "INFO:detectron2.data.common:Serializing the dataset using: <class 'detectron2.data.common._TorchSerializedList'>\n",
      "INFO:detectron2.data.common:Serializing 170 elements to byte tensors and concatenating them all ...\n",
      "INFO:detectron2.data.common:Serialized dataset takes 8.90 MiB\n",
      "WARNING:detectron2.evaluation.coco_evaluation:COCO Evaluator instantiated using config, this is deprecated behavior. Please pass in explicit arguments instead.\n",
      "INFO:detectron2.evaluation.evaluator:Start inference on 170 batches\n",
      "INFO:detectron2.evaluation.evaluator:Inference done 11/170. Dataloading: 0.0007 s/iter. Inference: 0.0571 s/iter. Eval: 0.0179 s/iter. Total: 0.0757 s/iter. ETA=0:00:12\n",
      "INFO:detectron2.evaluation.evaluator:Inference done 75/170. Dataloading: 0.0010 s/iter. Inference: 0.0557 s/iter. Eval: 0.0222 s/iter. Total: 0.0790 s/iter. ETA=0:00:07\n",
      "INFO:detectron2.evaluation.evaluator:Inference done 144/170. Dataloading: 0.0010 s/iter. Inference: 0.0552 s/iter. Eval: 0.0199 s/iter. Total: 0.0763 s/iter. ETA=0:00:01\n",
      "INFO:detectron2.evaluation.evaluator:Total inference time: 0:00:12.627920 (0.076533 s / iter per device, on 1 devices)\n",
      "INFO:detectron2.evaluation.evaluator:Total inference pure compute time: 0:00:09 (0.055139 s / iter per device, on 1 devices)\n",
      "INFO:detectron2.evaluation.coco_evaluation:Preparing results for COCO format ...\n",
      "INFO:detectron2.evaluation.coco_evaluation:Saving results to eval/coco_instances_results.json\n",
      "INFO:detectron2.evaluation.coco_evaluation:Evaluating predictions with unofficial COCO API...\n",
      "INFO:detectron2.evaluation.fast_eval_api:Evaluate annotation type *bbox*\n",
      "INFO:detectron2.evaluation.fast_eval_api:COCOeval_opt.evaluate() finished in 0.18 seconds.\n",
      "INFO:detectron2.evaluation.fast_eval_api:Accumulating evaluation results...\n",
      "INFO:detectron2.evaluation.fast_eval_api:COCOeval_opt.accumulate() finished in 0.03 seconds.\n"
     ]
    },
    {
     "name": "stdout",
     "output_type": "stream",
     "text": [
      "Loading and preparing results...\n",
      "DONE (t=0.01s)\n",
      "creating index...\n",
      "index created!\n"
     ]
    },
    {
     "name": "stderr",
     "output_type": "stream",
     "text": [
      "INFO:detectron2.evaluation.coco_evaluation:Evaluation results for bbox: \n",
      "|  AP   |  AP50  |  AP75  |  APs  |  APm  |  APl   |\n",
      "|:-----:|:------:|:------:|:-----:|:-----:|:------:|\n",
      "| 1.006 | 1.210  | 0.995  | 0.021 | 0.819 | 32.110 |\n"
     ]
    },
    {
     "name": "stdout",
     "output_type": "stream",
     "text": [
      " Average Precision  (AP) @[ IoU=0.50:0.95 | area=   all | maxDets=100 ] = 0.010\n",
      " Average Precision  (AP) @[ IoU=0.50      | area=   all | maxDets=100 ] = 0.012\n",
      " Average Precision  (AP) @[ IoU=0.75      | area=   all | maxDets=100 ] = 0.010\n",
      " Average Precision  (AP) @[ IoU=0.50:0.95 | area= small | maxDets=100 ] = 0.000\n",
      " Average Precision  (AP) @[ IoU=0.50:0.95 | area=medium | maxDets=100 ] = 0.008\n",
      " Average Precision  (AP) @[ IoU=0.50:0.95 | area= large | maxDets=100 ] = 0.321\n",
      " Average Recall     (AR) @[ IoU=0.50:0.95 | area=   all | maxDets=  1 ] = 0.003\n",
      " Average Recall     (AR) @[ IoU=0.50:0.95 | area=   all | maxDets= 10 ] = 0.006\n",
      " Average Recall     (AR) @[ IoU=0.50:0.95 | area=   all | maxDets=100 ] = 0.024\n",
      " Average Recall     (AR) @[ IoU=0.50:0.95 | area= small | maxDets=100 ] = 0.004\n",
      " Average Recall     (AR) @[ IoU=0.50:0.95 | area=medium | maxDets=100 ] = 0.155\n",
      " Average Recall     (AR) @[ IoU=0.50:0.95 | area= large | maxDets=100 ] = 0.596\n"
     ]
    },
    {
     "name": "stderr",
     "output_type": "stream",
     "text": [
      "INFO:detectron2.evaluation.fast_eval_api:Evaluate annotation type *segm*\n"
     ]
    },
    {
     "name": "stdout",
     "output_type": "stream",
     "text": [
      "Loading and preparing results...\n",
      "DONE (t=0.13s)\n",
      "creating index...\n",
      "index created!\n"
     ]
    },
    {
     "name": "stderr",
     "output_type": "stream",
     "text": [
      "INFO:detectron2.evaluation.fast_eval_api:COCOeval_opt.evaluate() finished in 0.36 seconds.\n",
      "INFO:detectron2.evaluation.fast_eval_api:Accumulating evaluation results...\n",
      "INFO:detectron2.evaluation.fast_eval_api:COCOeval_opt.accumulate() finished in 0.03 seconds.\n",
      "INFO:detectron2.evaluation.coco_evaluation:Evaluation results for segm: \n",
      "|  AP   |  AP50  |  AP75  |  APs  |  APm  |  APl   |\n",
      "|:-----:|:------:|:------:|:-----:|:-----:|:------:|\n",
      "| 0.714 | 1.046  | 0.990  | 0.001 | 0.293 | 17.255 |\n",
      "INFO:detectron2.engine.defaults:Evaluation results for griffith_val in csv format:\n",
      "INFO:detectron2.evaluation.testing:copypaste: Task: bbox\n",
      "INFO:detectron2.evaluation.testing:copypaste: AP,AP50,AP75,APs,APm,APl\n",
      "INFO:detectron2.evaluation.testing:copypaste: 1.0062,1.2095,0.9950,0.0211,0.8187,32.1102\n",
      "INFO:detectron2.evaluation.testing:copypaste: Task: segm\n",
      "INFO:detectron2.evaluation.testing:copypaste: AP,AP50,AP75,APs,APm,APl\n",
      "INFO:detectron2.evaluation.testing:copypaste: 0.7136,1.0459,0.9901,0.0011,0.2928,17.2548\n"
     ]
    },
    {
     "name": "stdout",
     "output_type": "stream",
     "text": [
      " Average Precision  (AP) @[ IoU=0.50:0.95 | area=   all | maxDets=100 ] = 0.007\n",
      " Average Precision  (AP) @[ IoU=0.50      | area=   all | maxDets=100 ] = 0.010\n",
      " Average Precision  (AP) @[ IoU=0.75      | area=   all | maxDets=100 ] = 0.010\n",
      " Average Precision  (AP) @[ IoU=0.50:0.95 | area= small | maxDets=100 ] = 0.000\n",
      " Average Precision  (AP) @[ IoU=0.50:0.95 | area=medium | maxDets=100 ] = 0.003\n",
      " Average Precision  (AP) @[ IoU=0.50:0.95 | area= large | maxDets=100 ] = 0.173\n",
      " Average Recall     (AR) @[ IoU=0.50:0.95 | area=   all | maxDets=  1 ] = 0.002\n",
      " Average Recall     (AR) @[ IoU=0.50:0.95 | area=   all | maxDets= 10 ] = 0.004\n",
      " Average Recall     (AR) @[ IoU=0.50:0.95 | area=   all | maxDets=100 ] = 0.009\n",
      " Average Recall     (AR) @[ IoU=0.50:0.95 | area= small | maxDets=100 ] = 0.002\n",
      " Average Recall     (AR) @[ IoU=0.50:0.95 | area=medium | maxDets=100 ] = 0.051\n",
      " Average Recall     (AR) @[ IoU=0.50:0.95 | area= large | maxDets=100 ] = 0.275\n"
     ]
    },
    {
     "name": "stderr",
     "output_type": "stream",
     "text": [
      "INFO:detectree2.models.train:Loss on Validation  done 11/170. 0.0001 s / img. ETA=0:00:21\n",
      "INFO:detectree2.models.train:Loss on Validation  done 40/170. 0.0001 s / img. ETA=0:00:21\n",
      "INFO:detectree2.models.train:Loss on Validation  done 69/170. 0.0001 s / img. ETA=0:00:17\n",
      "INFO:detectree2.models.train:Loss on Validation  done 100/170. 0.0001 s / img. ETA=0:00:11\n",
      "INFO:detectree2.models.train:Loss on Validation  done 131/170. 0.0001 s / img. ETA=0:00:06\n",
      "INFO:detectree2.models.train:Loss on Validation  done 161/170. 0.0001 s / img. ETA=0:00:01\n",
      "INFO:detectron2.data.dataset_mapper:[DatasetMapper] Augmentations used in inference: []\n",
      "INFO:detectree2.models.train:[FlexibleDatasetMapper] Augmentations used in inference: []\n",
      "INFO:detectron2.data.common:Serializing the dataset using: <class 'detectron2.data.common._TorchSerializedList'>\n",
      "INFO:detectron2.data.common:Serializing 170 elements to byte tensors and concatenating them all ...\n",
      "INFO:detectron2.data.common:Serialized dataset takes 8.90 MiB\n",
      "WARNING:detectron2.evaluation.coco_evaluation:COCO Evaluator instantiated using config, this is deprecated behavior. Please pass in explicit arguments instead.\n",
      "INFO:detectron2.evaluation.evaluator:Start inference on 170 batches\n",
      "INFO:detectron2.evaluation.evaluator:Inference done 11/170. Dataloading: 0.0007 s/iter. Inference: 0.0575 s/iter. Eval: 0.0177 s/iter. Total: 0.0759 s/iter. ETA=0:00:12\n",
      "INFO:detectron2.evaluation.evaluator:Inference done 79/170. Dataloading: 0.0010 s/iter. Inference: 0.0555 s/iter. Eval: 0.0179 s/iter. Total: 0.0745 s/iter. ETA=0:00:06\n",
      "INFO:detectron2.evaluation.evaluator:Inference done 143/170. Dataloading: 0.0010 s/iter. Inference: 0.0555 s/iter. Eval: 0.0200 s/iter. Total: 0.0766 s/iter. ETA=0:00:02\n",
      "INFO:detectron2.evaluation.evaluator:Total inference time: 0:00:12.607421 (0.076409 s / iter per device, on 1 devices)\n",
      "INFO:detectron2.evaluation.evaluator:Total inference pure compute time: 0:00:09 (0.055371 s / iter per device, on 1 devices)\n",
      "INFO:detectron2.evaluation.coco_evaluation:Preparing results for COCO format ...\n",
      "INFO:detectron2.evaluation.coco_evaluation:Saving results to eval/coco_instances_results.json\n",
      "INFO:detectron2.evaluation.coco_evaluation:Evaluating predictions with unofficial COCO API...\n",
      "INFO:detectron2.evaluation.fast_eval_api:Evaluate annotation type *bbox*\n",
      "INFO:detectron2.evaluation.fast_eval_api:COCOeval_opt.evaluate() finished in 0.17 seconds.\n",
      "INFO:detectron2.evaluation.fast_eval_api:Accumulating evaluation results...\n",
      "INFO:detectron2.evaluation.fast_eval_api:COCOeval_opt.accumulate() finished in 0.03 seconds.\n"
     ]
    },
    {
     "name": "stdout",
     "output_type": "stream",
     "text": [
      "Loading and preparing results...\n",
      "DONE (t=0.01s)\n",
      "creating index...\n",
      "index created!\n"
     ]
    },
    {
     "name": "stderr",
     "output_type": "stream",
     "text": [
      "INFO:detectron2.evaluation.coco_evaluation:Evaluation results for bbox: \n",
      "|  AP   |  AP50  |  AP75  |  APs  |  APm  |  APl   |\n",
      "|:-----:|:------:|:------:|:-----:|:-----:|:------:|\n",
      "| 1.006 | 1.210  | 0.995  | 0.021 | 0.819 | 32.110 |\n"
     ]
    },
    {
     "name": "stdout",
     "output_type": "stream",
     "text": [
      " Average Precision  (AP) @[ IoU=0.50:0.95 | area=   all | maxDets=100 ] = 0.010\n",
      " Average Precision  (AP) @[ IoU=0.50      | area=   all | maxDets=100 ] = 0.012\n",
      " Average Precision  (AP) @[ IoU=0.75      | area=   all | maxDets=100 ] = 0.010\n",
      " Average Precision  (AP) @[ IoU=0.50:0.95 | area= small | maxDets=100 ] = 0.000\n",
      " Average Precision  (AP) @[ IoU=0.50:0.95 | area=medium | maxDets=100 ] = 0.008\n",
      " Average Precision  (AP) @[ IoU=0.50:0.95 | area= large | maxDets=100 ] = 0.321\n",
      " Average Recall     (AR) @[ IoU=0.50:0.95 | area=   all | maxDets=  1 ] = 0.003\n",
      " Average Recall     (AR) @[ IoU=0.50:0.95 | area=   all | maxDets= 10 ] = 0.006\n",
      " Average Recall     (AR) @[ IoU=0.50:0.95 | area=   all | maxDets=100 ] = 0.024\n",
      " Average Recall     (AR) @[ IoU=0.50:0.95 | area= small | maxDets=100 ] = 0.004\n",
      " Average Recall     (AR) @[ IoU=0.50:0.95 | area=medium | maxDets=100 ] = 0.155\n",
      " Average Recall     (AR) @[ IoU=0.50:0.95 | area= large | maxDets=100 ] = 0.596\n"
     ]
    },
    {
     "name": "stderr",
     "output_type": "stream",
     "text": [
      "INFO:detectron2.evaluation.fast_eval_api:Evaluate annotation type *segm*\n"
     ]
    },
    {
     "name": "stdout",
     "output_type": "stream",
     "text": [
      "Loading and preparing results...\n",
      "DONE (t=0.13s)\n",
      "creating index...\n",
      "index created!\n"
     ]
    },
    {
     "name": "stderr",
     "output_type": "stream",
     "text": [
      "INFO:detectron2.evaluation.fast_eval_api:COCOeval_opt.evaluate() finished in 0.36 seconds.\n",
      "INFO:detectron2.evaluation.fast_eval_api:Accumulating evaluation results...\n",
      "INFO:detectron2.evaluation.fast_eval_api:COCOeval_opt.accumulate() finished in 0.03 seconds.\n",
      "INFO:detectron2.evaluation.coco_evaluation:Evaluation results for segm: \n",
      "|  AP   |  AP50  |  AP75  |  APs  |  APm  |  APl   |\n",
      "|:-----:|:------:|:------:|:-----:|:-----:|:------:|\n",
      "| 0.714 | 1.046  | 0.990  | 0.001 | 0.293 | 17.255 |\n",
      "INFO:detectron2.engine.defaults:Evaluation results for griffith_val in csv format:\n",
      "INFO:detectron2.evaluation.testing:copypaste: Task: bbox\n",
      "INFO:detectron2.evaluation.testing:copypaste: AP,AP50,AP75,APs,APm,APl\n",
      "INFO:detectron2.evaluation.testing:copypaste: 1.0062,1.2095,0.9950,0.0211,0.8187,32.1102\n",
      "INFO:detectron2.evaluation.testing:copypaste: Task: segm\n",
      "INFO:detectron2.evaluation.testing:copypaste: AP,AP50,AP75,APs,APm,APl\n",
      "INFO:detectron2.evaluation.testing:copypaste: 0.7136,1.0459,0.9901,0.0011,0.2928,17.2548\n",
      "INFO:detectron2.utils.events: eta: 0:26:14  iter: 699  total_loss: 1.304  loss_cls: 0.1209  loss_box_reg: 0.1108  loss_mask: 0.4208  loss_rpn_cls: 0.2718  loss_rpn_loc: 0.285  validation_loss: 1.96    time: 0.7004  last_time: 0.6807  data_time: 0.0057  last_data_time: 0.0066   lr: 0.0003389  max_mem: 3999M\n"
     ]
    },
    {
     "name": "stdout",
     "output_type": "stream",
     "text": [
      " Average Precision  (AP) @[ IoU=0.50:0.95 | area=   all | maxDets=100 ] = 0.007\n",
      " Average Precision  (AP) @[ IoU=0.50      | area=   all | maxDets=100 ] = 0.010\n",
      " Average Precision  (AP) @[ IoU=0.75      | area=   all | maxDets=100 ] = 0.010\n",
      " Average Precision  (AP) @[ IoU=0.50:0.95 | area= small | maxDets=100 ] = 0.000\n",
      " Average Precision  (AP) @[ IoU=0.50:0.95 | area=medium | maxDets=100 ] = 0.003\n",
      " Average Precision  (AP) @[ IoU=0.50:0.95 | area= large | maxDets=100 ] = 0.173\n",
      " Average Recall     (AR) @[ IoU=0.50:0.95 | area=   all | maxDets=  1 ] = 0.002\n",
      " Average Recall     (AR) @[ IoU=0.50:0.95 | area=   all | maxDets= 10 ] = 0.004\n",
      " Average Recall     (AR) @[ IoU=0.50:0.95 | area=   all | maxDets=100 ] = 0.009\n",
      " Average Recall     (AR) @[ IoU=0.50:0.95 | area= small | maxDets=100 ] = 0.002\n",
      " Average Recall     (AR) @[ IoU=0.50:0.95 | area=medium | maxDets=100 ] = 0.051\n",
      " Average Recall     (AR) @[ IoU=0.50:0.95 | area= large | maxDets=100 ] = 0.275\n",
      "Av. segm AP50 = 1.045920733999841\n"
     ]
    },
    {
     "name": "stderr",
     "output_type": "stream",
     "text": [
      "INFO:detectron2.utils.events: eta: 0:26:00  iter: 719  total_loss: 1.349  loss_cls: 0.1129  loss_box_reg: 0.07432  loss_mask: 0.4565  loss_rpn_cls: 0.2699  loss_rpn_loc: 0.3913  validation_loss: 1.96    time: 0.7004  last_time: 0.6731  data_time: 0.0054  last_data_time: 0.0018   lr: 0.0003389  max_mem: 3999M\n",
      "INFO:detectron2.utils.events: eta: 0:25:46  iter: 739  total_loss: 1.256  loss_cls: 0.0968  loss_box_reg: 0.09812  loss_mask: 0.4592  loss_rpn_cls: 0.2544  loss_rpn_loc: 0.3399  validation_loss: 1.96    time: 0.7002  last_time: 0.7670  data_time: 0.0051  last_data_time: 0.0101   lr: 0.0003389  max_mem: 3999M\n",
      "INFO:detectron2.utils.events: eta: 0:25:33  iter: 759  total_loss: 1.588  loss_cls: 0.1351  loss_box_reg: 0.07764  loss_mask: 0.4323  loss_rpn_cls: 0.2871  loss_rpn_loc: 0.347  validation_loss: 1.96    time: 0.7009  last_time: 0.7537  data_time: 0.0058  last_data_time: 0.0061   lr: 0.0003389  max_mem: 3999M\n",
      "INFO:detectron2.utils.events: eta: 0:25:19  iter: 779  total_loss: 1.309  loss_cls: 0.1053  loss_box_reg: 0.1268  loss_mask: 0.438  loss_rpn_cls: 0.2265  loss_rpn_loc: 0.411  validation_loss: 1.96    time: 0.7009  last_time: 0.7495  data_time: 0.0065  last_data_time: 0.0058   lr: 0.0003389  max_mem: 3999M\n",
      "INFO:detectron2.data.dataset_mapper:[DatasetMapper] Augmentations used in inference: []\n",
      "INFO:detectree2.models.train:[FlexibleDatasetMapper] Augmentations used in inference: []\n",
      "INFO:detectron2.data.common:Serializing the dataset using: <class 'detectron2.data.common._TorchSerializedList'>\n",
      "INFO:detectron2.data.common:Serializing 170 elements to byte tensors and concatenating them all ...\n",
      "INFO:detectron2.data.common:Serialized dataset takes 8.90 MiB\n",
      "WARNING:detectron2.evaluation.coco_evaluation:COCO Evaluator instantiated using config, this is deprecated behavior. Please pass in explicit arguments instead.\n",
      "INFO:detectron2.evaluation.evaluator:Start inference on 170 batches\n",
      "INFO:detectron2.evaluation.evaluator:Inference done 11/170. Dataloading: 0.0006 s/iter. Inference: 0.0558 s/iter. Eval: 0.0179 s/iter. Total: 0.0743 s/iter. ETA=0:00:11\n",
      "INFO:detectron2.evaluation.evaluator:Inference done 81/170. Dataloading: 0.0010 s/iter. Inference: 0.0542 s/iter. Eval: 0.0171 s/iter. Total: 0.0723 s/iter. ETA=0:00:06\n",
      "INFO:detectron2.evaluation.evaluator:Inference done 147/170. Dataloading: 0.0010 s/iter. Inference: 0.0542 s/iter. Eval: 0.0191 s/iter. Total: 0.0744 s/iter. ETA=0:00:01\n",
      "INFO:detectron2.evaluation.evaluator:Total inference time: 0:00:12.252165 (0.074256 s / iter per device, on 1 devices)\n",
      "INFO:detectron2.evaluation.evaluator:Total inference pure compute time: 0:00:08 (0.054037 s / iter per device, on 1 devices)\n",
      "INFO:detectron2.evaluation.coco_evaluation:Preparing results for COCO format ...\n",
      "INFO:detectron2.evaluation.coco_evaluation:Saving results to eval/coco_instances_results.json\n",
      "INFO:detectron2.evaluation.coco_evaluation:Evaluating predictions with unofficial COCO API...\n",
      "INFO:detectron2.evaluation.fast_eval_api:Evaluate annotation type *bbox*\n",
      "INFO:detectron2.evaluation.fast_eval_api:COCOeval_opt.evaluate() finished in 0.17 seconds.\n",
      "INFO:detectron2.evaluation.fast_eval_api:Accumulating evaluation results...\n",
      "INFO:detectron2.evaluation.fast_eval_api:COCOeval_opt.accumulate() finished in 0.03 seconds.\n"
     ]
    },
    {
     "name": "stdout",
     "output_type": "stream",
     "text": [
      "Loading and preparing results...\n",
      "DONE (t=0.01s)\n",
      "creating index...\n",
      "index created!\n"
     ]
    },
    {
     "name": "stderr",
     "output_type": "stream",
     "text": [
      "INFO:detectron2.evaluation.coco_evaluation:Evaluation results for bbox: \n",
      "|  AP   |  AP50  |  AP75  |  APs  |  APm  |  APl   |\n",
      "|:-----:|:------:|:------:|:-----:|:-----:|:------:|\n",
      "| 1.024 | 1.158  | 0.995  | 0.004 | 0.652 | 34.863 |\n"
     ]
    },
    {
     "name": "stdout",
     "output_type": "stream",
     "text": [
      " Average Precision  (AP) @[ IoU=0.50:0.95 | area=   all | maxDets=100 ] = 0.010\n",
      " Average Precision  (AP) @[ IoU=0.50      | area=   all | maxDets=100 ] = 0.012\n",
      " Average Precision  (AP) @[ IoU=0.75      | area=   all | maxDets=100 ] = 0.010\n",
      " Average Precision  (AP) @[ IoU=0.50:0.95 | area= small | maxDets=100 ] = 0.000\n",
      " Average Precision  (AP) @[ IoU=0.50:0.95 | area=medium | maxDets=100 ] = 0.007\n",
      " Average Precision  (AP) @[ IoU=0.50:0.95 | area= large | maxDets=100 ] = 0.349\n",
      " Average Recall     (AR) @[ IoU=0.50:0.95 | area=   all | maxDets=  1 ] = 0.003\n",
      " Average Recall     (AR) @[ IoU=0.50:0.95 | area=   all | maxDets= 10 ] = 0.007\n",
      " Average Recall     (AR) @[ IoU=0.50:0.95 | area=   all | maxDets=100 ] = 0.022\n",
      " Average Recall     (AR) @[ IoU=0.50:0.95 | area= small | maxDets=100 ] = 0.005\n",
      " Average Recall     (AR) @[ IoU=0.50:0.95 | area=medium | maxDets=100 ] = 0.133\n",
      " Average Recall     (AR) @[ IoU=0.50:0.95 | area= large | maxDets=100 ] = 0.607\n"
     ]
    },
    {
     "name": "stderr",
     "output_type": "stream",
     "text": [
      "INFO:detectron2.evaluation.fast_eval_api:Evaluate annotation type *segm*\n"
     ]
    },
    {
     "name": "stdout",
     "output_type": "stream",
     "text": [
      "Loading and preparing results...\n",
      "DONE (t=0.12s)\n",
      "creating index...\n",
      "index created!\n"
     ]
    },
    {
     "name": "stderr",
     "output_type": "stream",
     "text": [
      "INFO:detectron2.evaluation.fast_eval_api:COCOeval_opt.evaluate() finished in 0.34 seconds.\n",
      "INFO:detectron2.evaluation.fast_eval_api:Accumulating evaluation results...\n",
      "INFO:detectron2.evaluation.fast_eval_api:COCOeval_opt.accumulate() finished in 0.03 seconds.\n",
      "INFO:detectron2.evaluation.coco_evaluation:Evaluation results for segm: \n",
      "|  AP   |  AP50  |  AP75  |  APs  |  APm  |  APl   |\n",
      "|:-----:|:------:|:------:|:-----:|:-----:|:------:|\n",
      "| 0.605 | 1.057  | 0.495  | 0.001 | 0.440 | 17.031 |\n",
      "INFO:detectron2.engine.defaults:Evaluation results for griffith_val in csv format:\n",
      "INFO:detectron2.evaluation.testing:copypaste: Task: bbox\n",
      "INFO:detectron2.evaluation.testing:copypaste: AP,AP50,AP75,APs,APm,APl\n",
      "INFO:detectron2.evaluation.testing:copypaste: 1.0240,1.1580,0.9951,0.0044,0.6522,34.8630\n",
      "INFO:detectron2.evaluation.testing:copypaste: Task: segm\n",
      "INFO:detectron2.evaluation.testing:copypaste: AP,AP50,AP75,APs,APm,APl\n",
      "INFO:detectron2.evaluation.testing:copypaste: 0.6054,1.0573,0.4950,0.0010,0.4405,17.0307\n"
     ]
    },
    {
     "name": "stdout",
     "output_type": "stream",
     "text": [
      " Average Precision  (AP) @[ IoU=0.50:0.95 | area=   all | maxDets=100 ] = 0.006\n",
      " Average Precision  (AP) @[ IoU=0.50      | area=   all | maxDets=100 ] = 0.011\n",
      " Average Precision  (AP) @[ IoU=0.75      | area=   all | maxDets=100 ] = 0.005\n",
      " Average Precision  (AP) @[ IoU=0.50:0.95 | area= small | maxDets=100 ] = 0.000\n",
      " Average Precision  (AP) @[ IoU=0.50:0.95 | area=medium | maxDets=100 ] = 0.004\n",
      " Average Precision  (AP) @[ IoU=0.50:0.95 | area= large | maxDets=100 ] = 0.170\n",
      " Average Recall     (AR) @[ IoU=0.50:0.95 | area=   all | maxDets=  1 ] = 0.002\n",
      " Average Recall     (AR) @[ IoU=0.50:0.95 | area=   all | maxDets= 10 ] = 0.004\n",
      " Average Recall     (AR) @[ IoU=0.50:0.95 | area=   all | maxDets=100 ] = 0.009\n",
      " Average Recall     (AR) @[ IoU=0.50:0.95 | area= small | maxDets=100 ] = 0.002\n",
      " Average Recall     (AR) @[ IoU=0.50:0.95 | area=medium | maxDets=100 ] = 0.056\n",
      " Average Recall     (AR) @[ IoU=0.50:0.95 | area= large | maxDets=100 ] = 0.264\n"
     ]
    },
    {
     "name": "stderr",
     "output_type": "stream",
     "text": [
      "INFO:detectree2.models.train:Loss on Validation  done 11/170. 0.0001 s / img. ETA=0:00:21\n",
      "INFO:detectree2.models.train:Loss on Validation  done 40/170. 0.0001 s / img. ETA=0:00:21\n",
      "INFO:detectree2.models.train:Loss on Validation  done 69/170. 0.0001 s / img. ETA=0:00:17\n",
      "INFO:detectree2.models.train:Loss on Validation  done 100/170. 0.0001 s / img. ETA=0:00:11\n",
      "INFO:detectree2.models.train:Loss on Validation  done 131/170. 0.0001 s / img. ETA=0:00:06\n",
      "INFO:detectree2.models.train:Loss on Validation  done 161/170. 0.0001 s / img. ETA=0:00:01\n",
      "INFO:detectron2.data.dataset_mapper:[DatasetMapper] Augmentations used in inference: []\n",
      "INFO:detectree2.models.train:[FlexibleDatasetMapper] Augmentations used in inference: []\n",
      "INFO:detectron2.data.common:Serializing the dataset using: <class 'detectron2.data.common._TorchSerializedList'>\n",
      "INFO:detectron2.data.common:Serializing 170 elements to byte tensors and concatenating them all ...\n",
      "INFO:detectron2.data.common:Serialized dataset takes 8.90 MiB\n",
      "WARNING:detectron2.evaluation.coco_evaluation:COCO Evaluator instantiated using config, this is deprecated behavior. Please pass in explicit arguments instead.\n",
      "INFO:detectron2.evaluation.evaluator:Start inference on 170 batches\n",
      "INFO:detectron2.evaluation.evaluator:Inference done 11/170. Dataloading: 0.0011 s/iter. Inference: 0.0600 s/iter. Eval: 0.0180 s/iter. Total: 0.0791 s/iter. ETA=0:00:12\n",
      "INFO:detectron2.evaluation.evaluator:Inference done 80/170. Dataloading: 0.0010 s/iter. Inference: 0.0554 s/iter. Eval: 0.0170 s/iter. Total: 0.0735 s/iter. ETA=0:00:06\n",
      "INFO:detectron2.evaluation.evaluator:Inference done 150/170. Dataloading: 0.0010 s/iter. Inference: 0.0547 s/iter. Eval: 0.0169 s/iter. Total: 0.0727 s/iter. ETA=0:00:01\n",
      "INFO:detectron2.evaluation.evaluator:Total inference time: 0:00:12.058240 (0.073080 s / iter per device, on 1 devices)\n",
      "INFO:detectron2.evaluation.evaluator:Total inference pure compute time: 0:00:09 (0.054682 s / iter per device, on 1 devices)\n",
      "INFO:detectron2.evaluation.coco_evaluation:Preparing results for COCO format ...\n",
      "INFO:detectron2.evaluation.coco_evaluation:Saving results to eval/coco_instances_results.json\n",
      "INFO:detectron2.evaluation.coco_evaluation:Evaluating predictions with unofficial COCO API...\n",
      "INFO:detectron2.evaluation.fast_eval_api:Evaluate annotation type *bbox*\n"
     ]
    },
    {
     "name": "stdout",
     "output_type": "stream",
     "text": [
      "Loading and preparing results...\n",
      "DONE (t=0.01s)\n",
      "creating index...\n",
      "index created!\n"
     ]
    },
    {
     "name": "stderr",
     "output_type": "stream",
     "text": [
      "INFO:detectron2.evaluation.fast_eval_api:COCOeval_opt.evaluate() finished in 0.44 seconds.\n",
      "INFO:detectron2.evaluation.fast_eval_api:Accumulating evaluation results...\n",
      "INFO:detectron2.evaluation.fast_eval_api:COCOeval_opt.accumulate() finished in 0.03 seconds.\n",
      "INFO:detectron2.evaluation.coco_evaluation:Evaluation results for bbox: \n",
      "|  AP   |  AP50  |  AP75  |  APs  |  APm  |  APl   |\n",
      "|:-----:|:------:|:------:|:-----:|:-----:|:------:|\n",
      "| 1.024 | 1.158  | 0.995  | 0.004 | 0.652 | 34.863 |\n"
     ]
    },
    {
     "name": "stdout",
     "output_type": "stream",
     "text": [
      " Average Precision  (AP) @[ IoU=0.50:0.95 | area=   all | maxDets=100 ] = 0.010\n",
      " Average Precision  (AP) @[ IoU=0.50      | area=   all | maxDets=100 ] = 0.012\n",
      " Average Precision  (AP) @[ IoU=0.75      | area=   all | maxDets=100 ] = 0.010\n",
      " Average Precision  (AP) @[ IoU=0.50:0.95 | area= small | maxDets=100 ] = 0.000\n",
      " Average Precision  (AP) @[ IoU=0.50:0.95 | area=medium | maxDets=100 ] = 0.007\n",
      " Average Precision  (AP) @[ IoU=0.50:0.95 | area= large | maxDets=100 ] = 0.349\n",
      " Average Recall     (AR) @[ IoU=0.50:0.95 | area=   all | maxDets=  1 ] = 0.003\n",
      " Average Recall     (AR) @[ IoU=0.50:0.95 | area=   all | maxDets= 10 ] = 0.007\n",
      " Average Recall     (AR) @[ IoU=0.50:0.95 | area=   all | maxDets=100 ] = 0.022\n",
      " Average Recall     (AR) @[ IoU=0.50:0.95 | area= small | maxDets=100 ] = 0.005\n",
      " Average Recall     (AR) @[ IoU=0.50:0.95 | area=medium | maxDets=100 ] = 0.133\n",
      " Average Recall     (AR) @[ IoU=0.50:0.95 | area= large | maxDets=100 ] = 0.607\n"
     ]
    },
    {
     "name": "stderr",
     "output_type": "stream",
     "text": [
      "INFO:detectron2.evaluation.fast_eval_api:Evaluate annotation type *segm*\n"
     ]
    },
    {
     "name": "stdout",
     "output_type": "stream",
     "text": [
      "Loading and preparing results...\n",
      "DONE (t=0.12s)\n",
      "creating index...\n",
      "index created!\n"
     ]
    },
    {
     "name": "stderr",
     "output_type": "stream",
     "text": [
      "INFO:detectron2.evaluation.fast_eval_api:COCOeval_opt.evaluate() finished in 0.34 seconds.\n",
      "INFO:detectron2.evaluation.fast_eval_api:Accumulating evaluation results...\n",
      "INFO:detectron2.evaluation.fast_eval_api:COCOeval_opt.accumulate() finished in 0.03 seconds.\n",
      "INFO:detectron2.evaluation.coco_evaluation:Evaluation results for segm: \n",
      "|  AP   |  AP50  |  AP75  |  APs  |  APm  |  APl   |\n",
      "|:-----:|:------:|:------:|:-----:|:-----:|:------:|\n",
      "| 0.605 | 1.057  | 0.495  | 0.001 | 0.440 | 17.031 |\n",
      "INFO:detectron2.engine.defaults:Evaluation results for griffith_val in csv format:\n",
      "INFO:detectron2.evaluation.testing:copypaste: Task: bbox\n",
      "INFO:detectron2.evaluation.testing:copypaste: AP,AP50,AP75,APs,APm,APl\n",
      "INFO:detectron2.evaluation.testing:copypaste: 1.0240,1.1580,0.9951,0.0044,0.6522,34.8630\n",
      "INFO:detectron2.evaluation.testing:copypaste: Task: segm\n",
      "INFO:detectron2.evaluation.testing:copypaste: AP,AP50,AP75,APs,APm,APl\n",
      "INFO:detectron2.evaluation.testing:copypaste: 0.6054,1.0573,0.4950,0.0010,0.4405,17.0307\n",
      "INFO:detectron2.utils.events: eta: 0:25:06  iter: 799  total_loss: 1.023  loss_cls: 0.1003  loss_box_reg: 0.06373  loss_mask: 0.4224  loss_rpn_cls: 0.2295  loss_rpn_loc: 0.2098  validation_loss: 1.884    time: 0.7008  last_time: 0.6918  data_time: 0.0050  last_data_time: 0.0045   lr: 0.0003389  max_mem: 3999M\n"
     ]
    },
    {
     "name": "stdout",
     "output_type": "stream",
     "text": [
      " Average Precision  (AP) @[ IoU=0.50:0.95 | area=   all | maxDets=100 ] = 0.006\n",
      " Average Precision  (AP) @[ IoU=0.50      | area=   all | maxDets=100 ] = 0.011\n",
      " Average Precision  (AP) @[ IoU=0.75      | area=   all | maxDets=100 ] = 0.005\n",
      " Average Precision  (AP) @[ IoU=0.50:0.95 | area= small | maxDets=100 ] = 0.000\n",
      " Average Precision  (AP) @[ IoU=0.50:0.95 | area=medium | maxDets=100 ] = 0.004\n",
      " Average Precision  (AP) @[ IoU=0.50:0.95 | area= large | maxDets=100 ] = 0.170\n",
      " Average Recall     (AR) @[ IoU=0.50:0.95 | area=   all | maxDets=  1 ] = 0.002\n",
      " Average Recall     (AR) @[ IoU=0.50:0.95 | area=   all | maxDets= 10 ] = 0.004\n",
      " Average Recall     (AR) @[ IoU=0.50:0.95 | area=   all | maxDets=100 ] = 0.009\n",
      " Average Recall     (AR) @[ IoU=0.50:0.95 | area= small | maxDets=100 ] = 0.002\n",
      " Average Recall     (AR) @[ IoU=0.50:0.95 | area=medium | maxDets=100 ] = 0.056\n",
      " Average Recall     (AR) @[ IoU=0.50:0.95 | area= large | maxDets=100 ] = 0.264\n",
      "Av. segm AP50 = 1.0573318353409231\n"
     ]
    },
    {
     "name": "stderr",
     "output_type": "stream",
     "text": [
      "INFO:detectron2.utils.events: eta: 0:24:51  iter: 819  total_loss: 1.116  loss_cls: 0.08811  loss_box_reg: 0.05327  loss_mask: 0.4461  loss_rpn_cls: 0.2298  loss_rpn_loc: 0.2744  validation_loss: 1.884    time: 0.7005  last_time: 0.6727  data_time: 0.0052  last_data_time: 0.0027   lr: 0.0003389  max_mem: 3999M\n",
      "INFO:detectron2.utils.events: eta: 0:24:37  iter: 839  total_loss: 1.08  loss_cls: 0.1458  loss_box_reg: 0.1045  loss_mask: 0.4397  loss_rpn_cls: 0.1665  loss_rpn_loc: 0.2421  validation_loss: 1.884    time: 0.7005  last_time: 0.8288  data_time: 0.0056  last_data_time: 0.0054   lr: 0.0003389  max_mem: 3999M\n",
      "INFO:detectron2.utils.events: eta: 0:24:24  iter: 859  total_loss: 1.482  loss_cls: 0.145  loss_box_reg: 0.1251  loss_mask: 0.4418  loss_rpn_cls: 0.2188  loss_rpn_loc: 0.3165  validation_loss: 1.884    time: 0.7006  last_time: 0.6857  data_time: 0.0055  last_data_time: 0.0037   lr: 0.0003389  max_mem: 3999M\n",
      "INFO:detectron2.utils.events: eta: 0:24:10  iter: 879  total_loss: 1.279  loss_cls: 0.1379  loss_box_reg: 0.1121  loss_mask: 0.4714  loss_rpn_cls: 0.2359  loss_rpn_loc: 0.2446  validation_loss: 1.884    time: 0.7007  last_time: 0.6650  data_time: 0.0052  last_data_time: 0.0050   lr: 0.0003389  max_mem: 3999M\n",
      "INFO:detectron2.data.dataset_mapper:[DatasetMapper] Augmentations used in inference: []\n",
      "INFO:detectree2.models.train:[FlexibleDatasetMapper] Augmentations used in inference: []\n",
      "INFO:detectron2.data.common:Serializing the dataset using: <class 'detectron2.data.common._TorchSerializedList'>\n",
      "INFO:detectron2.data.common:Serializing 170 elements to byte tensors and concatenating them all ...\n",
      "INFO:detectron2.data.common:Serialized dataset takes 8.90 MiB\n",
      "WARNING:detectron2.evaluation.coco_evaluation:COCO Evaluator instantiated using config, this is deprecated behavior. Please pass in explicit arguments instead.\n",
      "INFO:detectron2.evaluation.evaluator:Start inference on 170 batches\n",
      "INFO:detectron2.evaluation.evaluator:Inference done 11/170. Dataloading: 0.0008 s/iter. Inference: 0.0568 s/iter. Eval: 0.0182 s/iter. Total: 0.0758 s/iter. ETA=0:00:12\n",
      "INFO:detectron2.evaluation.evaluator:Inference done 78/170. Dataloading: 0.0010 s/iter. Inference: 0.0562 s/iter. Eval: 0.0182 s/iter. Total: 0.0756 s/iter. ETA=0:00:06\n",
      "INFO:detectron2.evaluation.evaluator:Inference done 145/170. Dataloading: 0.0010 s/iter. Inference: 0.0560 s/iter. Eval: 0.0181 s/iter. Total: 0.0751 s/iter. ETA=0:00:01\n",
      "INFO:detectron2.evaluation.evaluator:Total inference time: 0:00:12.422898 (0.075290 s / iter per device, on 1 devices)\n",
      "INFO:detectron2.evaluation.evaluator:Total inference pure compute time: 0:00:09 (0.055867 s / iter per device, on 1 devices)\n",
      "INFO:detectron2.evaluation.coco_evaluation:Preparing results for COCO format ...\n",
      "INFO:detectron2.evaluation.coco_evaluation:Saving results to eval/coco_instances_results.json\n",
      "INFO:detectron2.evaluation.coco_evaluation:Evaluating predictions with unofficial COCO API...\n",
      "INFO:detectron2.evaluation.fast_eval_api:Evaluate annotation type *bbox*\n",
      "INFO:detectron2.evaluation.fast_eval_api:COCOeval_opt.evaluate() finished in 0.17 seconds.\n",
      "INFO:detectron2.evaluation.fast_eval_api:Accumulating evaluation results...\n",
      "INFO:detectron2.evaluation.fast_eval_api:COCOeval_opt.accumulate() finished in 0.03 seconds.\n"
     ]
    },
    {
     "name": "stdout",
     "output_type": "stream",
     "text": [
      "Loading and preparing results...\n",
      "DONE (t=0.01s)\n",
      "creating index...\n",
      "index created!\n"
     ]
    },
    {
     "name": "stderr",
     "output_type": "stream",
     "text": [
      "INFO:detectron2.evaluation.coco_evaluation:Evaluation results for bbox: \n",
      "|  AP   |  AP50  |  AP75  |  APs  |  APm  |  APl   |\n",
      "|:-----:|:------:|:------:|:-----:|:-----:|:------:|\n",
      "| 0.997 | 1.337  | 0.997  | 0.052 | 1.857 | 30.314 |\n"
     ]
    },
    {
     "name": "stdout",
     "output_type": "stream",
     "text": [
      " Average Precision  (AP) @[ IoU=0.50:0.95 | area=   all | maxDets=100 ] = 0.010\n",
      " Average Precision  (AP) @[ IoU=0.50      | area=   all | maxDets=100 ] = 0.013\n",
      " Average Precision  (AP) @[ IoU=0.75      | area=   all | maxDets=100 ] = 0.010\n",
      " Average Precision  (AP) @[ IoU=0.50:0.95 | area= small | maxDets=100 ] = 0.001\n",
      " Average Precision  (AP) @[ IoU=0.50:0.95 | area=medium | maxDets=100 ] = 0.019\n",
      " Average Precision  (AP) @[ IoU=0.50:0.95 | area= large | maxDets=100 ] = 0.303\n",
      " Average Recall     (AR) @[ IoU=0.50:0.95 | area=   all | maxDets=  1 ] = 0.003\n",
      " Average Recall     (AR) @[ IoU=0.50:0.95 | area=   all | maxDets= 10 ] = 0.008\n",
      " Average Recall     (AR) @[ IoU=0.50:0.95 | area=   all | maxDets=100 ] = 0.028\n",
      " Average Recall     (AR) @[ IoU=0.50:0.95 | area= small | maxDets=100 ] = 0.005\n",
      " Average Recall     (AR) @[ IoU=0.50:0.95 | area=medium | maxDets=100 ] = 0.189\n",
      " Average Recall     (AR) @[ IoU=0.50:0.95 | area= large | maxDets=100 ] = 0.618\n"
     ]
    },
    {
     "name": "stderr",
     "output_type": "stream",
     "text": [
      "INFO:detectron2.evaluation.fast_eval_api:Evaluate annotation type *segm*\n"
     ]
    },
    {
     "name": "stdout",
     "output_type": "stream",
     "text": [
      "Loading and preparing results...\n",
      "DONE (t=0.14s)\n",
      "creating index...\n",
      "index created!\n"
     ]
    },
    {
     "name": "stderr",
     "output_type": "stream",
     "text": [
      "INFO:detectron2.evaluation.fast_eval_api:COCOeval_opt.evaluate() finished in 0.36 seconds.\n",
      "INFO:detectron2.evaluation.fast_eval_api:Accumulating evaluation results...\n",
      "INFO:detectron2.evaluation.fast_eval_api:COCOeval_opt.accumulate() finished in 0.03 seconds.\n",
      "INFO:detectron2.evaluation.coco_evaluation:Evaluation results for segm: \n",
      "|  AP   |  AP50  |  AP75  |  APs  |  APm  |  APl   |\n",
      "|:-----:|:------:|:------:|:-----:|:-----:|:------:|\n",
      "| 0.733 | 1.107  | 0.990  | 0.002 | 0.429 | 15.454 |\n",
      "INFO:detectron2.engine.defaults:Evaluation results for griffith_val in csv format:\n",
      "INFO:detectron2.evaluation.testing:copypaste: Task: bbox\n",
      "INFO:detectron2.evaluation.testing:copypaste: AP,AP50,AP75,APs,APm,APl\n",
      "INFO:detectron2.evaluation.testing:copypaste: 0.9969,1.3374,0.9974,0.0516,1.8565,30.3140\n",
      "INFO:detectron2.evaluation.testing:copypaste: Task: segm\n",
      "INFO:detectron2.evaluation.testing:copypaste: AP,AP50,AP75,APs,APm,APl\n",
      "INFO:detectron2.evaluation.testing:copypaste: 0.7332,1.1068,0.9901,0.0018,0.4292,15.4543\n"
     ]
    },
    {
     "name": "stdout",
     "output_type": "stream",
     "text": [
      " Average Precision  (AP) @[ IoU=0.50:0.95 | area=   all | maxDets=100 ] = 0.007\n",
      " Average Precision  (AP) @[ IoU=0.50      | area=   all | maxDets=100 ] = 0.011\n",
      " Average Precision  (AP) @[ IoU=0.75      | area=   all | maxDets=100 ] = 0.010\n",
      " Average Precision  (AP) @[ IoU=0.50:0.95 | area= small | maxDets=100 ] = 0.000\n",
      " Average Precision  (AP) @[ IoU=0.50:0.95 | area=medium | maxDets=100 ] = 0.004\n",
      " Average Precision  (AP) @[ IoU=0.50:0.95 | area= large | maxDets=100 ] = 0.155\n",
      " Average Recall     (AR) @[ IoU=0.50:0.95 | area=   all | maxDets=  1 ] = 0.002\n",
      " Average Recall     (AR) @[ IoU=0.50:0.95 | area=   all | maxDets= 10 ] = 0.004\n",
      " Average Recall     (AR) @[ IoU=0.50:0.95 | area=   all | maxDets=100 ] = 0.010\n",
      " Average Recall     (AR) @[ IoU=0.50:0.95 | area= small | maxDets=100 ] = 0.002\n",
      " Average Recall     (AR) @[ IoU=0.50:0.95 | area=medium | maxDets=100 ] = 0.066\n",
      " Average Recall     (AR) @[ IoU=0.50:0.95 | area= large | maxDets=100 ] = 0.236\n"
     ]
    },
    {
     "name": "stderr",
     "output_type": "stream",
     "text": [
      "INFO:detectree2.models.train:Loss on Validation  done 11/170. 0.0001 s / img. ETA=0:00:21\n",
      "INFO:detectree2.models.train:Loss on Validation  done 40/170. 0.0001 s / img. ETA=0:00:21\n",
      "INFO:detectree2.models.train:Loss on Validation  done 69/170. 0.0001 s / img. ETA=0:00:17\n",
      "INFO:detectree2.models.train:Loss on Validation  done 99/170. 0.0001 s / img. ETA=0:00:12\n",
      "INFO:detectree2.models.train:Loss on Validation  done 130/170. 0.0001 s / img. ETA=0:00:06\n",
      "INFO:detectree2.models.train:Loss on Validation  done 160/170. 0.0001 s / img. ETA=0:00:01\n",
      "INFO:detectron2.data.dataset_mapper:[DatasetMapper] Augmentations used in inference: []\n",
      "INFO:detectree2.models.train:[FlexibleDatasetMapper] Augmentations used in inference: []\n",
      "INFO:detectron2.data.common:Serializing the dataset using: <class 'detectron2.data.common._TorchSerializedList'>\n",
      "INFO:detectron2.data.common:Serializing 170 elements to byte tensors and concatenating them all ...\n",
      "INFO:detectron2.data.common:Serialized dataset takes 8.90 MiB\n",
      "WARNING:detectron2.evaluation.coco_evaluation:COCO Evaluator instantiated using config, this is deprecated behavior. Please pass in explicit arguments instead.\n",
      "INFO:detectron2.evaluation.evaluator:Start inference on 170 batches\n",
      "INFO:detectron2.evaluation.evaluator:Inference done 11/170. Dataloading: 0.0007 s/iter. Inference: 0.0591 s/iter. Eval: 0.0179 s/iter. Total: 0.0778 s/iter. ETA=0:00:12\n",
      "INFO:detectron2.evaluation.evaluator:Inference done 74/170. Dataloading: 0.0010 s/iter. Inference: 0.0563 s/iter. Eval: 0.0225 s/iter. Total: 0.0798 s/iter. ETA=0:00:07\n",
      "INFO:detectron2.evaluation.evaluator:Inference done 142/170. Dataloading: 0.0010 s/iter. Inference: 0.0558 s/iter. Eval: 0.0201 s/iter. Total: 0.0769 s/iter. ETA=0:00:02\n",
      "INFO:detectron2.evaluation.evaluator:Total inference time: 0:00:12.659551 (0.076725 s / iter per device, on 1 devices)\n",
      "INFO:detectron2.evaluation.evaluator:Total inference pure compute time: 0:00:09 (0.055644 s / iter per device, on 1 devices)\n",
      "INFO:detectron2.evaluation.coco_evaluation:Preparing results for COCO format ...\n",
      "INFO:detectron2.evaluation.coco_evaluation:Saving results to eval/coco_instances_results.json\n",
      "INFO:detectron2.evaluation.coco_evaluation:Evaluating predictions with unofficial COCO API...\n",
      "INFO:detectron2.evaluation.fast_eval_api:Evaluate annotation type *bbox*\n",
      "INFO:detectron2.evaluation.fast_eval_api:COCOeval_opt.evaluate() finished in 0.18 seconds.\n",
      "INFO:detectron2.evaluation.fast_eval_api:Accumulating evaluation results...\n",
      "INFO:detectron2.evaluation.fast_eval_api:COCOeval_opt.accumulate() finished in 0.03 seconds.\n"
     ]
    },
    {
     "name": "stdout",
     "output_type": "stream",
     "text": [
      "Loading and preparing results...\n",
      "DONE (t=0.01s)\n",
      "creating index...\n",
      "index created!\n"
     ]
    },
    {
     "name": "stderr",
     "output_type": "stream",
     "text": [
      "INFO:detectron2.evaluation.coco_evaluation:Evaluation results for bbox: \n",
      "|  AP   |  AP50  |  AP75  |  APs  |  APm  |  APl   |\n",
      "|:-----:|:------:|:------:|:-----:|:-----:|:------:|\n",
      "| 0.997 | 1.337  | 0.997  | 0.052 | 1.857 | 30.314 |\n"
     ]
    },
    {
     "name": "stdout",
     "output_type": "stream",
     "text": [
      " Average Precision  (AP) @[ IoU=0.50:0.95 | area=   all | maxDets=100 ] = 0.010\n",
      " Average Precision  (AP) @[ IoU=0.50      | area=   all | maxDets=100 ] = 0.013\n",
      " Average Precision  (AP) @[ IoU=0.75      | area=   all | maxDets=100 ] = 0.010\n",
      " Average Precision  (AP) @[ IoU=0.50:0.95 | area= small | maxDets=100 ] = 0.001\n",
      " Average Precision  (AP) @[ IoU=0.50:0.95 | area=medium | maxDets=100 ] = 0.019\n",
      " Average Precision  (AP) @[ IoU=0.50:0.95 | area= large | maxDets=100 ] = 0.303\n",
      " Average Recall     (AR) @[ IoU=0.50:0.95 | area=   all | maxDets=  1 ] = 0.003\n",
      " Average Recall     (AR) @[ IoU=0.50:0.95 | area=   all | maxDets= 10 ] = 0.008\n",
      " Average Recall     (AR) @[ IoU=0.50:0.95 | area=   all | maxDets=100 ] = 0.028\n",
      " Average Recall     (AR) @[ IoU=0.50:0.95 | area= small | maxDets=100 ] = 0.005\n",
      " Average Recall     (AR) @[ IoU=0.50:0.95 | area=medium | maxDets=100 ] = 0.189\n",
      " Average Recall     (AR) @[ IoU=0.50:0.95 | area= large | maxDets=100 ] = 0.618\n"
     ]
    },
    {
     "name": "stderr",
     "output_type": "stream",
     "text": [
      "INFO:detectron2.evaluation.fast_eval_api:Evaluate annotation type *segm*\n"
     ]
    },
    {
     "name": "stdout",
     "output_type": "stream",
     "text": [
      "Loading and preparing results...\n",
      "DONE (t=0.14s)\n",
      "creating index...\n",
      "index created!\n"
     ]
    },
    {
     "name": "stderr",
     "output_type": "stream",
     "text": [
      "INFO:detectron2.evaluation.fast_eval_api:COCOeval_opt.evaluate() finished in 0.37 seconds.\n",
      "INFO:detectron2.evaluation.fast_eval_api:Accumulating evaluation results...\n",
      "INFO:detectron2.evaluation.fast_eval_api:COCOeval_opt.accumulate() finished in 0.03 seconds.\n",
      "INFO:detectron2.evaluation.coco_evaluation:Evaluation results for segm: \n",
      "|  AP   |  AP50  |  AP75  |  APs  |  APm  |  APl   |\n",
      "|:-----:|:------:|:------:|:-----:|:-----:|:------:|\n",
      "| 0.733 | 1.107  | 0.990  | 0.002 | 0.429 | 15.454 |\n",
      "INFO:detectron2.engine.defaults:Evaluation results for griffith_val in csv format:\n",
      "INFO:detectron2.evaluation.testing:copypaste: Task: bbox\n",
      "INFO:detectron2.evaluation.testing:copypaste: AP,AP50,AP75,APs,APm,APl\n",
      "INFO:detectron2.evaluation.testing:copypaste: 0.9969,1.3374,0.9974,0.0516,1.8565,30.3140\n",
      "INFO:detectron2.evaluation.testing:copypaste: Task: segm\n",
      "INFO:detectron2.evaluation.testing:copypaste: AP,AP50,AP75,APs,APm,APl\n",
      "INFO:detectron2.evaluation.testing:copypaste: 0.7332,1.1068,0.9901,0.0018,0.4292,15.4543\n",
      "INFO:detectron2.utils.events: eta: 0:23:57  iter: 899  total_loss: 1.284  loss_cls: 0.1545  loss_box_reg: 0.1264  loss_mask: 0.4271  loss_rpn_cls: 0.2017  loss_rpn_loc: 0.3407  validation_loss: 1.852    time: 0.7009  last_time: 0.7467  data_time: 0.0060  last_data_time: 0.0094   lr: 0.0003389  max_mem: 3999M\n"
     ]
    },
    {
     "name": "stdout",
     "output_type": "stream",
     "text": [
      " Average Precision  (AP) @[ IoU=0.50:0.95 | area=   all | maxDets=100 ] = 0.007\n",
      " Average Precision  (AP) @[ IoU=0.50      | area=   all | maxDets=100 ] = 0.011\n",
      " Average Precision  (AP) @[ IoU=0.75      | area=   all | maxDets=100 ] = 0.010\n",
      " Average Precision  (AP) @[ IoU=0.50:0.95 | area= small | maxDets=100 ] = 0.000\n",
      " Average Precision  (AP) @[ IoU=0.50:0.95 | area=medium | maxDets=100 ] = 0.004\n",
      " Average Precision  (AP) @[ IoU=0.50:0.95 | area= large | maxDets=100 ] = 0.155\n",
      " Average Recall     (AR) @[ IoU=0.50:0.95 | area=   all | maxDets=  1 ] = 0.002\n",
      " Average Recall     (AR) @[ IoU=0.50:0.95 | area=   all | maxDets= 10 ] = 0.004\n",
      " Average Recall     (AR) @[ IoU=0.50:0.95 | area=   all | maxDets=100 ] = 0.010\n",
      " Average Recall     (AR) @[ IoU=0.50:0.95 | area= small | maxDets=100 ] = 0.002\n",
      " Average Recall     (AR) @[ IoU=0.50:0.95 | area=medium | maxDets=100 ] = 0.066\n",
      " Average Recall     (AR) @[ IoU=0.50:0.95 | area= large | maxDets=100 ] = 0.236\n",
      "Av. segm AP50 = 1.1068372943043565\n"
     ]
    },
    {
     "name": "stderr",
     "output_type": "stream",
     "text": [
      "INFO:detectron2.utils.events: eta: 0:23:43  iter: 919  total_loss: 1.357  loss_cls: 0.139  loss_box_reg: 0.1268  loss_mask: 0.4114  loss_rpn_cls: 0.2531  loss_rpn_loc: 0.253  validation_loss: 1.852    time: 0.7009  last_time: 0.6982  data_time: 0.0057  last_data_time: 0.0010   lr: 0.0003389  max_mem: 3999M\n",
      "INFO:detectron2.utils.events: eta: 0:23:30  iter: 939  total_loss: 1.324  loss_cls: 0.1183  loss_box_reg: 0.08778  loss_mask: 0.4089  loss_rpn_cls: 0.3109  loss_rpn_loc: 0.4019  validation_loss: 1.852    time: 0.7011  last_time: 0.7378  data_time: 0.0060  last_data_time: 0.0095   lr: 0.0003389  max_mem: 3999M\n",
      "INFO:detectron2.utils.events: eta: 0:23:16  iter: 959  total_loss: 1.351  loss_cls: 0.1187  loss_box_reg: 0.06321  loss_mask: 0.4443  loss_rpn_cls: 0.2545  loss_rpn_loc: 0.4343  validation_loss: 1.852    time: 0.7009  last_time: 0.6842  data_time: 0.0054  last_data_time: 0.0033   lr: 0.0003389  max_mem: 3999M\n",
      "INFO:detectron2.utils.events: eta: 0:23:02  iter: 979  total_loss: 1.358  loss_cls: 0.08587  loss_box_reg: 0.04598  loss_mask: 0.4358  loss_rpn_cls: 0.2458  loss_rpn_loc: 0.3666  validation_loss: 1.852    time: 0.7007  last_time: 0.7571  data_time: 0.0053  last_data_time: 0.0082   lr: 0.0003389  max_mem: 3999M\n",
      "INFO:detectron2.data.dataset_mapper:[DatasetMapper] Augmentations used in inference: []\n",
      "INFO:detectree2.models.train:[FlexibleDatasetMapper] Augmentations used in inference: []\n",
      "INFO:detectron2.data.common:Serializing the dataset using: <class 'detectron2.data.common._TorchSerializedList'>\n",
      "INFO:detectron2.data.common:Serializing 170 elements to byte tensors and concatenating them all ...\n",
      "INFO:detectron2.data.common:Serialized dataset takes 8.90 MiB\n",
      "WARNING:detectron2.evaluation.coco_evaluation:COCO Evaluator instantiated using config, this is deprecated behavior. Please pass in explicit arguments instead.\n",
      "INFO:detectron2.evaluation.evaluator:Start inference on 170 batches\n",
      "INFO:detectron2.evaluation.evaluator:Inference done 11/170. Dataloading: 0.0006 s/iter. Inference: 0.0554 s/iter. Eval: 0.0179 s/iter. Total: 0.0739 s/iter. ETA=0:00:11\n",
      "INFO:detectron2.evaluation.evaluator:Inference done 75/170. Dataloading: 0.0010 s/iter. Inference: 0.0549 s/iter. Eval: 0.0226 s/iter. Total: 0.0785 s/iter. ETA=0:00:07\n",
      "INFO:detectron2.evaluation.evaluator:Inference done 143/170. Dataloading: 0.0010 s/iter. Inference: 0.0549 s/iter. Eval: 0.0202 s/iter. Total: 0.0762 s/iter. ETA=0:00:02\n",
      "INFO:detectron2.evaluation.evaluator:Total inference time: 0:00:12.568413 (0.076172 s / iter per device, on 1 devices)\n",
      "INFO:detectron2.evaluation.evaluator:Total inference pure compute time: 0:00:09 (0.055015 s / iter per device, on 1 devices)\n",
      "INFO:detectron2.evaluation.coco_evaluation:Preparing results for COCO format ...\n",
      "INFO:detectron2.evaluation.coco_evaluation:Saving results to eval/coco_instances_results.json\n",
      "INFO:detectron2.evaluation.coco_evaluation:Evaluating predictions with unofficial COCO API...\n",
      "INFO:detectron2.evaluation.fast_eval_api:Evaluate annotation type *bbox*\n",
      "INFO:detectron2.evaluation.fast_eval_api:COCOeval_opt.evaluate() finished in 0.17 seconds.\n",
      "INFO:detectron2.evaluation.fast_eval_api:Accumulating evaluation results...\n",
      "INFO:detectron2.evaluation.fast_eval_api:COCOeval_opt.accumulate() finished in 0.03 seconds.\n"
     ]
    },
    {
     "name": "stdout",
     "output_type": "stream",
     "text": [
      "Loading and preparing results...\n",
      "DONE (t=0.01s)\n",
      "creating index...\n",
      "index created!\n"
     ]
    },
    {
     "name": "stderr",
     "output_type": "stream",
     "text": [
      "INFO:detectron2.evaluation.coco_evaluation:Evaluation results for bbox: \n",
      "|  AP   |  AP50  |  AP75  |  APs  |  APm  |  APl   |\n",
      "|:-----:|:------:|:------:|:-----:|:-----:|:------:|\n",
      "| 1.019 | 1.307  | 0.997  | 0.017 | 1.443 | 31.378 |\n"
     ]
    },
    {
     "name": "stdout",
     "output_type": "stream",
     "text": [
      " Average Precision  (AP) @[ IoU=0.50:0.95 | area=   all | maxDets=100 ] = 0.010\n",
      " Average Precision  (AP) @[ IoU=0.50      | area=   all | maxDets=100 ] = 0.013\n",
      " Average Precision  (AP) @[ IoU=0.75      | area=   all | maxDets=100 ] = 0.010\n",
      " Average Precision  (AP) @[ IoU=0.50:0.95 | area= small | maxDets=100 ] = 0.000\n",
      " Average Precision  (AP) @[ IoU=0.50:0.95 | area=medium | maxDets=100 ] = 0.014\n",
      " Average Precision  (AP) @[ IoU=0.50:0.95 | area= large | maxDets=100 ] = 0.314\n",
      " Average Recall     (AR) @[ IoU=0.50:0.95 | area=   all | maxDets=  1 ] = 0.003\n",
      " Average Recall     (AR) @[ IoU=0.50:0.95 | area=   all | maxDets= 10 ] = 0.007\n",
      " Average Recall     (AR) @[ IoU=0.50:0.95 | area=   all | maxDets=100 ] = 0.025\n",
      " Average Recall     (AR) @[ IoU=0.50:0.95 | area= small | maxDets=100 ] = 0.005\n",
      " Average Recall     (AR) @[ IoU=0.50:0.95 | area=medium | maxDets=100 ] = 0.166\n",
      " Average Recall     (AR) @[ IoU=0.50:0.95 | area= large | maxDets=100 ] = 0.593\n"
     ]
    },
    {
     "name": "stderr",
     "output_type": "stream",
     "text": [
      "INFO:detectron2.evaluation.fast_eval_api:Evaluate annotation type *segm*\n"
     ]
    },
    {
     "name": "stdout",
     "output_type": "stream",
     "text": [
      "Loading and preparing results...\n",
      "DONE (t=0.13s)\n",
      "creating index...\n",
      "index created!\n"
     ]
    },
    {
     "name": "stderr",
     "output_type": "stream",
     "text": [
      "INFO:detectron2.evaluation.fast_eval_api:COCOeval_opt.evaluate() finished in 0.36 seconds.\n",
      "INFO:detectron2.evaluation.fast_eval_api:Accumulating evaluation results...\n",
      "INFO:detectron2.evaluation.fast_eval_api:COCOeval_opt.accumulate() finished in 0.03 seconds.\n",
      "INFO:detectron2.evaluation.coco_evaluation:Evaluation results for segm: \n",
      "|  AP   |  AP50  |  AP75  |  APs  |  APm  |  APl   |\n",
      "|:-----:|:------:|:------:|:-----:|:-----:|:------:|\n",
      "| 0.712 | 1.047  | 0.990  | 0.001 | 0.410 | 16.434 |\n",
      "INFO:detectron2.engine.defaults:Evaluation results for griffith_val in csv format:\n",
      "INFO:detectron2.evaluation.testing:copypaste: Task: bbox\n",
      "INFO:detectron2.evaluation.testing:copypaste: AP,AP50,AP75,APs,APm,APl\n",
      "INFO:detectron2.evaluation.testing:copypaste: 1.0194,1.3072,0.9972,0.0167,1.4426,31.3781\n",
      "INFO:detectron2.evaluation.testing:copypaste: Task: segm\n",
      "INFO:detectron2.evaluation.testing:copypaste: AP,AP50,AP75,APs,APm,APl\n",
      "INFO:detectron2.evaluation.testing:copypaste: 0.7117,1.0468,0.9901,0.0008,0.4100,16.4339\n"
     ]
    },
    {
     "name": "stdout",
     "output_type": "stream",
     "text": [
      " Average Precision  (AP) @[ IoU=0.50:0.95 | area=   all | maxDets=100 ] = 0.007\n",
      " Average Precision  (AP) @[ IoU=0.50      | area=   all | maxDets=100 ] = 0.010\n",
      " Average Precision  (AP) @[ IoU=0.75      | area=   all | maxDets=100 ] = 0.010\n",
      " Average Precision  (AP) @[ IoU=0.50:0.95 | area= small | maxDets=100 ] = 0.000\n",
      " Average Precision  (AP) @[ IoU=0.50:0.95 | area=medium | maxDets=100 ] = 0.004\n",
      " Average Precision  (AP) @[ IoU=0.50:0.95 | area= large | maxDets=100 ] = 0.164\n",
      " Average Recall     (AR) @[ IoU=0.50:0.95 | area=   all | maxDets=  1 ] = 0.002\n",
      " Average Recall     (AR) @[ IoU=0.50:0.95 | area=   all | maxDets= 10 ] = 0.004\n",
      " Average Recall     (AR) @[ IoU=0.50:0.95 | area=   all | maxDets=100 ] = 0.009\n",
      " Average Recall     (AR) @[ IoU=0.50:0.95 | area= small | maxDets=100 ] = 0.001\n",
      " Average Recall     (AR) @[ IoU=0.50:0.95 | area=medium | maxDets=100 ] = 0.055\n",
      " Average Recall     (AR) @[ IoU=0.50:0.95 | area= large | maxDets=100 ] = 0.286\n"
     ]
    },
    {
     "name": "stderr",
     "output_type": "stream",
     "text": [
      "INFO:detectree2.models.train:Loss on Validation  done 11/170. 0.0001 s / img. ETA=0:00:21\n",
      "INFO:detectree2.models.train:Loss on Validation  done 40/170. 0.0001 s / img. ETA=0:00:21\n",
      "INFO:detectree2.models.train:Loss on Validation  done 69/170. 0.0001 s / img. ETA=0:00:17\n",
      "INFO:detectree2.models.train:Loss on Validation  done 100/170. 0.0001 s / img. ETA=0:00:11\n",
      "INFO:detectree2.models.train:Loss on Validation  done 131/170. 0.0001 s / img. ETA=0:00:06\n",
      "INFO:detectree2.models.train:Loss on Validation  done 160/170. 0.0001 s / img. ETA=0:00:01\n",
      "INFO:detectron2.data.dataset_mapper:[DatasetMapper] Augmentations used in inference: []\n",
      "INFO:detectree2.models.train:[FlexibleDatasetMapper] Augmentations used in inference: []\n",
      "INFO:detectron2.data.common:Serializing the dataset using: <class 'detectron2.data.common._TorchSerializedList'>\n",
      "INFO:detectron2.data.common:Serializing 170 elements to byte tensors and concatenating them all ...\n",
      "INFO:detectron2.data.common:Serialized dataset takes 8.90 MiB\n",
      "WARNING:detectron2.evaluation.coco_evaluation:COCO Evaluator instantiated using config, this is deprecated behavior. Please pass in explicit arguments instead.\n",
      "INFO:detectron2.evaluation.evaluator:Start inference on 170 batches\n",
      "INFO:detectron2.evaluation.evaluator:Inference done 11/170. Dataloading: 0.0007 s/iter. Inference: 0.0588 s/iter. Eval: 0.0178 s/iter. Total: 0.0773 s/iter. ETA=0:00:12\n",
      "INFO:detectron2.evaluation.evaluator:Inference done 73/170. Dataloading: 0.0010 s/iter. Inference: 0.0571 s/iter. Eval: 0.0223 s/iter. Total: 0.0804 s/iter. ETA=0:00:07\n",
      "INFO:detectron2.evaluation.evaluator:Inference done 140/170. Dataloading: 0.0010 s/iter. Inference: 0.0565 s/iter. Eval: 0.0200 s/iter. Total: 0.0776 s/iter. ETA=0:00:02\n",
      "INFO:detectron2.evaluation.evaluator:Total inference time: 0:00:12.763515 (0.077355 s / iter per device, on 1 devices)\n",
      "INFO:detectron2.evaluation.evaluator:Total inference pure compute time: 0:00:09 (0.056365 s / iter per device, on 1 devices)\n",
      "INFO:detectron2.evaluation.coco_evaluation:Preparing results for COCO format ...\n",
      "INFO:detectron2.evaluation.coco_evaluation:Saving results to eval/coco_instances_results.json\n",
      "INFO:detectron2.evaluation.coco_evaluation:Evaluating predictions with unofficial COCO API...\n",
      "INFO:detectron2.evaluation.fast_eval_api:Evaluate annotation type *bbox*\n",
      "INFO:detectron2.evaluation.fast_eval_api:COCOeval_opt.evaluate() finished in 0.18 seconds.\n",
      "INFO:detectron2.evaluation.fast_eval_api:Accumulating evaluation results...\n",
      "INFO:detectron2.evaluation.fast_eval_api:COCOeval_opt.accumulate() finished in 0.03 seconds.\n"
     ]
    },
    {
     "name": "stdout",
     "output_type": "stream",
     "text": [
      "Loading and preparing results...\n",
      "DONE (t=0.01s)\n",
      "creating index...\n",
      "index created!\n"
     ]
    },
    {
     "name": "stderr",
     "output_type": "stream",
     "text": [
      "INFO:detectron2.evaluation.coco_evaluation:Evaluation results for bbox: \n",
      "|  AP   |  AP50  |  AP75  |  APs  |  APm  |  APl   |\n",
      "|:-----:|:------:|:------:|:-----:|:-----:|:------:|\n",
      "| 1.019 | 1.307  | 0.997  | 0.017 | 1.443 | 31.378 |\n"
     ]
    },
    {
     "name": "stdout",
     "output_type": "stream",
     "text": [
      " Average Precision  (AP) @[ IoU=0.50:0.95 | area=   all | maxDets=100 ] = 0.010\n",
      " Average Precision  (AP) @[ IoU=0.50      | area=   all | maxDets=100 ] = 0.013\n",
      " Average Precision  (AP) @[ IoU=0.75      | area=   all | maxDets=100 ] = 0.010\n",
      " Average Precision  (AP) @[ IoU=0.50:0.95 | area= small | maxDets=100 ] = 0.000\n",
      " Average Precision  (AP) @[ IoU=0.50:0.95 | area=medium | maxDets=100 ] = 0.014\n",
      " Average Precision  (AP) @[ IoU=0.50:0.95 | area= large | maxDets=100 ] = 0.314\n",
      " Average Recall     (AR) @[ IoU=0.50:0.95 | area=   all | maxDets=  1 ] = 0.003\n",
      " Average Recall     (AR) @[ IoU=0.50:0.95 | area=   all | maxDets= 10 ] = 0.007\n",
      " Average Recall     (AR) @[ IoU=0.50:0.95 | area=   all | maxDets=100 ] = 0.025\n",
      " Average Recall     (AR) @[ IoU=0.50:0.95 | area= small | maxDets=100 ] = 0.005\n",
      " Average Recall     (AR) @[ IoU=0.50:0.95 | area=medium | maxDets=100 ] = 0.166\n",
      " Average Recall     (AR) @[ IoU=0.50:0.95 | area= large | maxDets=100 ] = 0.593\n"
     ]
    },
    {
     "name": "stderr",
     "output_type": "stream",
     "text": [
      "INFO:detectron2.evaluation.fast_eval_api:Evaluate annotation type *segm*\n"
     ]
    },
    {
     "name": "stdout",
     "output_type": "stream",
     "text": [
      "Loading and preparing results...\n",
      "DONE (t=0.14s)\n",
      "creating index...\n",
      "index created!\n"
     ]
    },
    {
     "name": "stderr",
     "output_type": "stream",
     "text": [
      "INFO:detectron2.evaluation.fast_eval_api:COCOeval_opt.evaluate() finished in 0.57 seconds.\n",
      "INFO:detectron2.evaluation.fast_eval_api:Accumulating evaluation results...\n",
      "INFO:detectron2.evaluation.fast_eval_api:COCOeval_opt.accumulate() finished in 0.03 seconds.\n",
      "INFO:detectron2.evaluation.coco_evaluation:Evaluation results for segm: \n",
      "|  AP   |  AP50  |  AP75  |  APs  |  APm  |  APl   |\n",
      "|:-----:|:------:|:------:|:-----:|:-----:|:------:|\n",
      "| 0.712 | 1.047  | 0.990  | 0.001 | 0.410 | 16.434 |\n",
      "INFO:detectron2.engine.defaults:Evaluation results for griffith_val in csv format:\n",
      "INFO:detectron2.evaluation.testing:copypaste: Task: bbox\n",
      "INFO:detectron2.evaluation.testing:copypaste: AP,AP50,AP75,APs,APm,APl\n",
      "INFO:detectron2.evaluation.testing:copypaste: 1.0194,1.3072,0.9972,0.0167,1.4426,31.3781\n",
      "INFO:detectron2.evaluation.testing:copypaste: Task: segm\n",
      "INFO:detectron2.evaluation.testing:copypaste: AP,AP50,AP75,APs,APm,APl\n",
      "INFO:detectron2.evaluation.testing:copypaste: 0.7117,1.0468,0.9901,0.0008,0.4100,16.4339\n",
      "INFO:detectron2.utils.events: eta: 0:22:48  iter: 999  total_loss: 1.279  loss_cls: 0.1977  loss_box_reg: 0.115  loss_mask: 0.4548  loss_rpn_cls: 0.2549  loss_rpn_loc: 0.3124  validation_loss: 1.937    time: 0.7008  last_time: 0.7373  data_time: 0.0055  last_data_time: 0.0035   lr: 0.0003389  max_mem: 3999M\n"
     ]
    },
    {
     "name": "stdout",
     "output_type": "stream",
     "text": [
      " Average Precision  (AP) @[ IoU=0.50:0.95 | area=   all | maxDets=100 ] = 0.007\n",
      " Average Precision  (AP) @[ IoU=0.50      | area=   all | maxDets=100 ] = 0.010\n",
      " Average Precision  (AP) @[ IoU=0.75      | area=   all | maxDets=100 ] = 0.010\n",
      " Average Precision  (AP) @[ IoU=0.50:0.95 | area= small | maxDets=100 ] = 0.000\n",
      " Average Precision  (AP) @[ IoU=0.50:0.95 | area=medium | maxDets=100 ] = 0.004\n",
      " Average Precision  (AP) @[ IoU=0.50:0.95 | area= large | maxDets=100 ] = 0.164\n",
      " Average Recall     (AR) @[ IoU=0.50:0.95 | area=   all | maxDets=  1 ] = 0.002\n",
      " Average Recall     (AR) @[ IoU=0.50:0.95 | area=   all | maxDets= 10 ] = 0.004\n",
      " Average Recall     (AR) @[ IoU=0.50:0.95 | area=   all | maxDets=100 ] = 0.009\n",
      " Average Recall     (AR) @[ IoU=0.50:0.95 | area= small | maxDets=100 ] = 0.001\n",
      " Average Recall     (AR) @[ IoU=0.50:0.95 | area=medium | maxDets=100 ] = 0.055\n",
      " Average Recall     (AR) @[ IoU=0.50:0.95 | area= large | maxDets=100 ] = 0.286\n",
      "Av. segm AP50 = 1.046781240447896\n"
     ]
    },
    {
     "name": "stderr",
     "output_type": "stream",
     "text": [
      "INFO:detectron2.utils.events: eta: 0:22:35  iter: 1019  total_loss: 1.505  loss_cls: 0.1742  loss_box_reg: 0.1961  loss_mask: 0.4735  loss_rpn_cls: 0.2411  loss_rpn_loc: 0.3399  validation_loss: 1.937    time: 0.7013  last_time: 0.8098  data_time: 0.0063  last_data_time: 0.0063   lr: 0.0003389  max_mem: 3999M\n",
      "INFO:detectron2.utils.events: eta: 0:22:21  iter: 1039  total_loss: 1.222  loss_cls: 0.1292  loss_box_reg: 0.1103  loss_mask: 0.4205  loss_rpn_cls: 0.2184  loss_rpn_loc: 0.3307  validation_loss: 1.937    time: 0.7016  last_time: 0.7382  data_time: 0.0061  last_data_time: 0.0056   lr: 0.0003389  max_mem: 3999M\n",
      "INFO:detectron2.utils.events: eta: 0:22:08  iter: 1059  total_loss: 1.626  loss_cls: 0.1735  loss_box_reg: 0.112  loss_mask: 0.4179  loss_rpn_cls: 0.2185  loss_rpn_loc: 0.4459  validation_loss: 1.937    time: 0.7017  last_time: 0.7234  data_time: 0.0054  last_data_time: 0.0067   lr: 0.0003389  max_mem: 3999M\n",
      "INFO:detectron2.utils.events: eta: 0:21:54  iter: 1079  total_loss: 1.362  loss_cls: 0.127  loss_box_reg: 0.09333  loss_mask: 0.4088  loss_rpn_cls: 0.2931  loss_rpn_loc: 0.3328  validation_loss: 1.937    time: 0.7017  last_time: 0.6734  data_time: 0.0054  last_data_time: 0.0013   lr: 0.0003389  max_mem: 3999M\n",
      "INFO:detectron2.data.dataset_mapper:[DatasetMapper] Augmentations used in inference: []\n",
      "INFO:detectree2.models.train:[FlexibleDatasetMapper] Augmentations used in inference: []\n",
      "INFO:detectron2.data.common:Serializing the dataset using: <class 'detectron2.data.common._TorchSerializedList'>\n",
      "INFO:detectron2.data.common:Serializing 170 elements to byte tensors and concatenating them all ...\n",
      "INFO:detectron2.data.common:Serialized dataset takes 8.90 MiB\n",
      "WARNING:detectron2.evaluation.coco_evaluation:COCO Evaluator instantiated using config, this is deprecated behavior. Please pass in explicit arguments instead.\n",
      "INFO:detectron2.evaluation.evaluator:Start inference on 170 batches\n",
      "INFO:detectron2.evaluation.evaluator:Inference done 11/170. Dataloading: 0.0008 s/iter. Inference: 0.0560 s/iter. Eval: 0.0178 s/iter. Total: 0.0745 s/iter. ETA=0:00:11\n",
      "INFO:detectron2.evaluation.evaluator:Inference done 75/170. Dataloading: 0.0010 s/iter. Inference: 0.0551 s/iter. Eval: 0.0220 s/iter. Total: 0.0782 s/iter. ETA=0:00:07\n",
      "INFO:detectron2.evaluation.evaluator:Inference done 144/170. Dataloading: 0.0010 s/iter. Inference: 0.0551 s/iter. Eval: 0.0196 s/iter. Total: 0.0758 s/iter. ETA=0:00:01\n",
      "INFO:detectron2.evaluation.evaluator:Total inference time: 0:00:12.479081 (0.075631 s / iter per device, on 1 devices)\n",
      "INFO:detectron2.evaluation.evaluator:Total inference pure compute time: 0:00:09 (0.054940 s / iter per device, on 1 devices)\n",
      "INFO:detectron2.evaluation.coco_evaluation:Preparing results for COCO format ...\n",
      "INFO:detectron2.evaluation.coco_evaluation:Saving results to eval/coco_instances_results.json\n",
      "INFO:detectron2.evaluation.coco_evaluation:Evaluating predictions with unofficial COCO API...\n",
      "INFO:detectron2.evaluation.fast_eval_api:Evaluate annotation type *bbox*\n",
      "INFO:detectron2.evaluation.fast_eval_api:COCOeval_opt.evaluate() finished in 0.18 seconds.\n",
      "INFO:detectron2.evaluation.fast_eval_api:Accumulating evaluation results...\n",
      "INFO:detectron2.evaluation.fast_eval_api:COCOeval_opt.accumulate() finished in 0.03 seconds.\n"
     ]
    },
    {
     "name": "stdout",
     "output_type": "stream",
     "text": [
      "Loading and preparing results...\n",
      "DONE (t=0.01s)\n",
      "creating index...\n",
      "index created!\n"
     ]
    },
    {
     "name": "stderr",
     "output_type": "stream",
     "text": [
      "INFO:detectron2.evaluation.coco_evaluation:Evaluation results for bbox: \n",
      "|  AP   |  AP50  |  AP75  |  APs  |  APm  |  APl   |\n",
      "|:-----:|:------:|:------:|:-----:|:-----:|:------:|\n",
      "| 1.051 | 1.262  | 1.001  | 0.006 | 1.234 | 31.137 |\n"
     ]
    },
    {
     "name": "stdout",
     "output_type": "stream",
     "text": [
      " Average Precision  (AP) @[ IoU=0.50:0.95 | area=   all | maxDets=100 ] = 0.011\n",
      " Average Precision  (AP) @[ IoU=0.50      | area=   all | maxDets=100 ] = 0.013\n",
      " Average Precision  (AP) @[ IoU=0.75      | area=   all | maxDets=100 ] = 0.010\n",
      " Average Precision  (AP) @[ IoU=0.50:0.95 | area= small | maxDets=100 ] = 0.000\n",
      " Average Precision  (AP) @[ IoU=0.50:0.95 | area=medium | maxDets=100 ] = 0.012\n",
      " Average Precision  (AP) @[ IoU=0.50:0.95 | area= large | maxDets=100 ] = 0.311\n",
      " Average Recall     (AR) @[ IoU=0.50:0.95 | area=   all | maxDets=  1 ] = 0.004\n",
      " Average Recall     (AR) @[ IoU=0.50:0.95 | area=   all | maxDets= 10 ] = 0.008\n",
      " Average Recall     (AR) @[ IoU=0.50:0.95 | area=   all | maxDets=100 ] = 0.027\n",
      " Average Recall     (AR) @[ IoU=0.50:0.95 | area= small | maxDets=100 ] = 0.004\n",
      " Average Recall     (AR) @[ IoU=0.50:0.95 | area=medium | maxDets=100 ] = 0.182\n",
      " Average Recall     (AR) @[ IoU=0.50:0.95 | area= large | maxDets=100 ] = 0.625\n"
     ]
    },
    {
     "name": "stderr",
     "output_type": "stream",
     "text": [
      "INFO:detectron2.evaluation.fast_eval_api:Evaluate annotation type *segm*\n"
     ]
    },
    {
     "name": "stdout",
     "output_type": "stream",
     "text": [
      "Loading and preparing results...\n",
      "DONE (t=0.13s)\n",
      "creating index...\n",
      "index created!\n"
     ]
    },
    {
     "name": "stderr",
     "output_type": "stream",
     "text": [
      "INFO:detectron2.evaluation.fast_eval_api:COCOeval_opt.evaluate() finished in 0.35 seconds.\n",
      "INFO:detectron2.evaluation.fast_eval_api:Accumulating evaluation results...\n",
      "INFO:detectron2.evaluation.fast_eval_api:COCOeval_opt.accumulate() finished in 0.03 seconds.\n",
      "INFO:detectron2.evaluation.coco_evaluation:Evaluation results for segm: \n",
      "|  AP   |  AP50  |  AP75  |  APs  |  APm  |  APl   |\n",
      "|:-----:|:------:|:------:|:-----:|:-----:|:------:|\n",
      "| 0.571 | 1.057  | 0.495  | 0.001 | 0.492 | 13.540 |\n",
      "INFO:detectron2.engine.defaults:Evaluation results for griffith_val in csv format:\n",
      "INFO:detectron2.evaluation.testing:copypaste: Task: bbox\n",
      "INFO:detectron2.evaluation.testing:copypaste: AP,AP50,AP75,APs,APm,APl\n",
      "INFO:detectron2.evaluation.testing:copypaste: 1.0506,1.2616,1.0008,0.0061,1.2336,31.1367\n",
      "INFO:detectron2.evaluation.testing:copypaste: Task: segm\n",
      "INFO:detectron2.evaluation.testing:copypaste: AP,AP50,AP75,APs,APm,APl\n",
      "INFO:detectron2.evaluation.testing:copypaste: 0.5711,1.0568,0.4950,0.0007,0.4920,13.5399\n"
     ]
    },
    {
     "name": "stdout",
     "output_type": "stream",
     "text": [
      " Average Precision  (AP) @[ IoU=0.50:0.95 | area=   all | maxDets=100 ] = 0.006\n",
      " Average Precision  (AP) @[ IoU=0.50      | area=   all | maxDets=100 ] = 0.011\n",
      " Average Precision  (AP) @[ IoU=0.75      | area=   all | maxDets=100 ] = 0.005\n",
      " Average Precision  (AP) @[ IoU=0.50:0.95 | area= small | maxDets=100 ] = 0.000\n",
      " Average Precision  (AP) @[ IoU=0.50:0.95 | area=medium | maxDets=100 ] = 0.005\n",
      " Average Precision  (AP) @[ IoU=0.50:0.95 | area= large | maxDets=100 ] = 0.135\n",
      " Average Recall     (AR) @[ IoU=0.50:0.95 | area=   all | maxDets=  1 ] = 0.002\n",
      " Average Recall     (AR) @[ IoU=0.50:0.95 | area=   all | maxDets= 10 ] = 0.004\n",
      " Average Recall     (AR) @[ IoU=0.50:0.95 | area=   all | maxDets=100 ] = 0.010\n",
      " Average Recall     (AR) @[ IoU=0.50:0.95 | area= small | maxDets=100 ] = 0.001\n",
      " Average Recall     (AR) @[ IoU=0.50:0.95 | area=medium | maxDets=100 ] = 0.066\n",
      " Average Recall     (AR) @[ IoU=0.50:0.95 | area= large | maxDets=100 ] = 0.229\n"
     ]
    },
    {
     "name": "stderr",
     "output_type": "stream",
     "text": [
      "INFO:detectree2.models.train:Loss on Validation  done 11/170. 0.0001 s / img. ETA=0:00:21\n",
      "INFO:detectree2.models.train:Loss on Validation  done 40/170. 0.0001 s / img. ETA=0:00:21\n",
      "INFO:detectree2.models.train:Loss on Validation  done 69/170. 0.0001 s / img. ETA=0:00:17\n",
      "INFO:detectree2.models.train:Loss on Validation  done 100/170. 0.0001 s / img. ETA=0:00:11\n",
      "INFO:detectree2.models.train:Loss on Validation  done 129/170. 0.0001 s / img. ETA=0:00:07\n",
      "INFO:detectree2.models.train:Loss on Validation  done 159/170. 0.0001 s / img. ETA=0:00:01\n",
      "INFO:detectron2.data.dataset_mapper:[DatasetMapper] Augmentations used in inference: []\n",
      "INFO:detectree2.models.train:[FlexibleDatasetMapper] Augmentations used in inference: []\n",
      "INFO:detectron2.data.common:Serializing the dataset using: <class 'detectron2.data.common._TorchSerializedList'>\n",
      "INFO:detectron2.data.common:Serializing 170 elements to byte tensors and concatenating them all ...\n",
      "INFO:detectron2.data.common:Serialized dataset takes 8.90 MiB\n",
      "WARNING:detectron2.evaluation.coco_evaluation:COCO Evaluator instantiated using config, this is deprecated behavior. Please pass in explicit arguments instead.\n",
      "INFO:detectron2.evaluation.evaluator:Start inference on 170 batches\n",
      "INFO:detectron2.evaluation.evaluator:Inference done 11/170. Dataloading: 0.0006 s/iter. Inference: 0.0573 s/iter. Eval: 0.0177 s/iter. Total: 0.0755 s/iter. ETA=0:00:12\n",
      "INFO:detectron2.evaluation.evaluator:Inference done 80/170. Dataloading: 0.0010 s/iter. Inference: 0.0544 s/iter. Eval: 0.0175 s/iter. Total: 0.0730 s/iter. ETA=0:00:06\n",
      "INFO:detectron2.evaluation.evaluator:Inference done 144/170. Dataloading: 0.0010 s/iter. Inference: 0.0546 s/iter. Eval: 0.0197 s/iter. Total: 0.0754 s/iter. ETA=0:00:01\n",
      "INFO:detectron2.evaluation.evaluator:Total inference time: 0:00:12.437018 (0.075376 s / iter per device, on 1 devices)\n",
      "INFO:detectron2.evaluation.evaluator:Total inference pure compute time: 0:00:09 (0.054599 s / iter per device, on 1 devices)\n",
      "INFO:detectron2.evaluation.coco_evaluation:Preparing results for COCO format ...\n",
      "INFO:detectron2.evaluation.coco_evaluation:Saving results to eval/coco_instances_results.json\n",
      "INFO:detectron2.evaluation.coco_evaluation:Evaluating predictions with unofficial COCO API...\n",
      "INFO:detectron2.evaluation.fast_eval_api:Evaluate annotation type *bbox*\n",
      "INFO:detectron2.evaluation.fast_eval_api:COCOeval_opt.evaluate() finished in 0.17 seconds.\n",
      "INFO:detectron2.evaluation.fast_eval_api:Accumulating evaluation results...\n",
      "INFO:detectron2.evaluation.fast_eval_api:COCOeval_opt.accumulate() finished in 0.03 seconds.\n"
     ]
    },
    {
     "name": "stdout",
     "output_type": "stream",
     "text": [
      "Loading and preparing results...\n",
      "DONE (t=0.01s)\n",
      "creating index...\n",
      "index created!\n"
     ]
    },
    {
     "name": "stderr",
     "output_type": "stream",
     "text": [
      "INFO:detectron2.evaluation.coco_evaluation:Evaluation results for bbox: \n",
      "|  AP   |  AP50  |  AP75  |  APs  |  APm  |  APl   |\n",
      "|:-----:|:------:|:------:|:-----:|:-----:|:------:|\n",
      "| 1.051 | 1.262  | 1.001  | 0.006 | 1.234 | 31.137 |\n"
     ]
    },
    {
     "name": "stdout",
     "output_type": "stream",
     "text": [
      " Average Precision  (AP) @[ IoU=0.50:0.95 | area=   all | maxDets=100 ] = 0.011\n",
      " Average Precision  (AP) @[ IoU=0.50      | area=   all | maxDets=100 ] = 0.013\n",
      " Average Precision  (AP) @[ IoU=0.75      | area=   all | maxDets=100 ] = 0.010\n",
      " Average Precision  (AP) @[ IoU=0.50:0.95 | area= small | maxDets=100 ] = 0.000\n",
      " Average Precision  (AP) @[ IoU=0.50:0.95 | area=medium | maxDets=100 ] = 0.012\n",
      " Average Precision  (AP) @[ IoU=0.50:0.95 | area= large | maxDets=100 ] = 0.311\n",
      " Average Recall     (AR) @[ IoU=0.50:0.95 | area=   all | maxDets=  1 ] = 0.004\n",
      " Average Recall     (AR) @[ IoU=0.50:0.95 | area=   all | maxDets= 10 ] = 0.008\n",
      " Average Recall     (AR) @[ IoU=0.50:0.95 | area=   all | maxDets=100 ] = 0.027\n",
      " Average Recall     (AR) @[ IoU=0.50:0.95 | area= small | maxDets=100 ] = 0.004\n",
      " Average Recall     (AR) @[ IoU=0.50:0.95 | area=medium | maxDets=100 ] = 0.182\n",
      " Average Recall     (AR) @[ IoU=0.50:0.95 | area= large | maxDets=100 ] = 0.625\n"
     ]
    },
    {
     "name": "stderr",
     "output_type": "stream",
     "text": [
      "INFO:detectron2.evaluation.fast_eval_api:Evaluate annotation type *segm*\n"
     ]
    },
    {
     "name": "stdout",
     "output_type": "stream",
     "text": [
      "Loading and preparing results...\n",
      "DONE (t=0.13s)\n",
      "creating index...\n",
      "index created!\n"
     ]
    },
    {
     "name": "stderr",
     "output_type": "stream",
     "text": [
      "INFO:detectron2.evaluation.fast_eval_api:COCOeval_opt.evaluate() finished in 0.35 seconds.\n",
      "INFO:detectron2.evaluation.fast_eval_api:Accumulating evaluation results...\n",
      "INFO:detectron2.evaluation.fast_eval_api:COCOeval_opt.accumulate() finished in 0.03 seconds.\n",
      "INFO:detectron2.evaluation.coco_evaluation:Evaluation results for segm: \n",
      "|  AP   |  AP50  |  AP75  |  APs  |  APm  |  APl   |\n",
      "|:-----:|:------:|:------:|:-----:|:-----:|:------:|\n",
      "| 0.571 | 1.057  | 0.495  | 0.001 | 0.492 | 13.540 |\n",
      "INFO:detectron2.engine.defaults:Evaluation results for griffith_val in csv format:\n",
      "INFO:detectron2.evaluation.testing:copypaste: Task: bbox\n",
      "INFO:detectron2.evaluation.testing:copypaste: AP,AP50,AP75,APs,APm,APl\n",
      "INFO:detectron2.evaluation.testing:copypaste: 1.0506,1.2616,1.0008,0.0061,1.2336,31.1367\n",
      "INFO:detectron2.evaluation.testing:copypaste: Task: segm\n",
      "INFO:detectron2.evaluation.testing:copypaste: AP,AP50,AP75,APs,APm,APl\n",
      "INFO:detectron2.evaluation.testing:copypaste: 0.5711,1.0568,0.4950,0.0007,0.4920,13.5399\n",
      "INFO:detectron2.utils.events: eta: 0:21:41  iter: 1099  total_loss: 1.146  loss_cls: 0.09782  loss_box_reg: 0.09344  loss_mask: 0.4174  loss_rpn_cls: 0.2075  loss_rpn_loc: 0.2503  validation_loss: 1.904    time: 0.7015  last_time: 0.7321  data_time: 0.0053  last_data_time: 0.0085   lr: 0.0003389  max_mem: 3999M\n"
     ]
    },
    {
     "name": "stdout",
     "output_type": "stream",
     "text": [
      " Average Precision  (AP) @[ IoU=0.50:0.95 | area=   all | maxDets=100 ] = 0.006\n",
      " Average Precision  (AP) @[ IoU=0.50      | area=   all | maxDets=100 ] = 0.011\n",
      " Average Precision  (AP) @[ IoU=0.75      | area=   all | maxDets=100 ] = 0.005\n",
      " Average Precision  (AP) @[ IoU=0.50:0.95 | area= small | maxDets=100 ] = 0.000\n",
      " Average Precision  (AP) @[ IoU=0.50:0.95 | area=medium | maxDets=100 ] = 0.005\n",
      " Average Precision  (AP) @[ IoU=0.50:0.95 | area= large | maxDets=100 ] = 0.135\n",
      " Average Recall     (AR) @[ IoU=0.50:0.95 | area=   all | maxDets=  1 ] = 0.002\n",
      " Average Recall     (AR) @[ IoU=0.50:0.95 | area=   all | maxDets= 10 ] = 0.004\n",
      " Average Recall     (AR) @[ IoU=0.50:0.95 | area=   all | maxDets=100 ] = 0.010\n",
      " Average Recall     (AR) @[ IoU=0.50:0.95 | area= small | maxDets=100 ] = 0.001\n",
      " Average Recall     (AR) @[ IoU=0.50:0.95 | area=medium | maxDets=100 ] = 0.066\n",
      " Average Recall     (AR) @[ IoU=0.50:0.95 | area= large | maxDets=100 ] = 0.229\n",
      "Av. segm AP50 = 1.056848656681562\n"
     ]
    },
    {
     "name": "stderr",
     "output_type": "stream",
     "text": [
      "INFO:detectron2.utils.events: eta: 0:21:27  iter: 1119  total_loss: 1.046  loss_cls: 0.09117  loss_box_reg: 0.07798  loss_mask: 0.3735  loss_rpn_cls: 0.2341  loss_rpn_loc: 0.213  validation_loss: 1.904    time: 0.7014  last_time: 0.6791  data_time: 0.0050  last_data_time: 0.0048   lr: 0.0003389  max_mem: 3999M\n",
      "INFO:detectron2.utils.events: eta: 0:21:13  iter: 1139  total_loss: 1.355  loss_cls: 0.1245  loss_box_reg: 0.06502  loss_mask: 0.4645  loss_rpn_cls: 0.2588  loss_rpn_loc: 0.3278  validation_loss: 1.904    time: 0.7015  last_time: 0.7670  data_time: 0.0057  last_data_time: 0.0010   lr: 0.0003389  max_mem: 3999M\n",
      "INFO:detectron2.utils.events: eta: 0:21:00  iter: 1159  total_loss: 1.323  loss_cls: 0.1147  loss_box_reg: 0.05108  loss_mask: 0.4477  loss_rpn_cls: 0.2286  loss_rpn_loc: 0.2959  validation_loss: 1.904    time: 0.7015  last_time: 0.6906  data_time: 0.0054  last_data_time: 0.0046   lr: 0.0003389  max_mem: 3999M\n",
      "INFO:detectron2.utils.events: eta: 0:20:46  iter: 1179  total_loss: 1.243  loss_cls: 0.1284  loss_box_reg: 0.09354  loss_mask: 0.4419  loss_rpn_cls: 0.2405  loss_rpn_loc: 0.362  validation_loss: 1.904    time: 0.7015  last_time: 0.6697  data_time: 0.0053  last_data_time: 0.0010   lr: 0.0003389  max_mem: 3999M\n",
      "INFO:detectron2.data.dataset_mapper:[DatasetMapper] Augmentations used in inference: []\n",
      "INFO:detectree2.models.train:[FlexibleDatasetMapper] Augmentations used in inference: []\n",
      "INFO:detectron2.data.common:Serializing the dataset using: <class 'detectron2.data.common._TorchSerializedList'>\n",
      "INFO:detectron2.data.common:Serializing 170 elements to byte tensors and concatenating them all ...\n",
      "INFO:detectron2.data.common:Serialized dataset takes 8.90 MiB\n",
      "WARNING:detectron2.evaluation.coco_evaluation:COCO Evaluator instantiated using config, this is deprecated behavior. Please pass in explicit arguments instead.\n",
      "INFO:detectron2.evaluation.evaluator:Start inference on 170 batches\n",
      "INFO:detectron2.evaluation.evaluator:Inference done 11/170. Dataloading: 0.0007 s/iter. Inference: 0.0569 s/iter. Eval: 0.0174 s/iter. Total: 0.0750 s/iter. ETA=0:00:11\n",
      "INFO:detectron2.evaluation.evaluator:Inference done 82/170. Dataloading: 0.0010 s/iter. Inference: 0.0538 s/iter. Eval: 0.0163 s/iter. Total: 0.0712 s/iter. ETA=0:00:06\n",
      "INFO:detectron2.evaluation.evaluator:Inference done 148/170. Dataloading: 0.0010 s/iter. Inference: 0.0537 s/iter. Eval: 0.0185 s/iter. Total: 0.0733 s/iter. ETA=0:00:01\n",
      "INFO:detectron2.evaluation.evaluator:Total inference time: 0:00:12.068736 (0.073144 s / iter per device, on 1 devices)\n",
      "INFO:detectron2.evaluation.evaluator:Total inference pure compute time: 0:00:08 (0.053533 s / iter per device, on 1 devices)\n",
      "INFO:detectron2.evaluation.coco_evaluation:Preparing results for COCO format ...\n",
      "INFO:detectron2.evaluation.coco_evaluation:Saving results to eval/coco_instances_results.json\n",
      "INFO:detectron2.evaluation.coco_evaluation:Evaluating predictions with unofficial COCO API...\n",
      "INFO:detectron2.evaluation.fast_eval_api:Evaluate annotation type *bbox*\n",
      "INFO:detectron2.evaluation.fast_eval_api:COCOeval_opt.evaluate() finished in 0.16 seconds.\n",
      "INFO:detectron2.evaluation.fast_eval_api:Accumulating evaluation results...\n",
      "INFO:detectron2.evaluation.fast_eval_api:COCOeval_opt.accumulate() finished in 0.03 seconds.\n",
      "INFO:detectron2.evaluation.coco_evaluation:Evaluation results for bbox: \n",
      "|  AP   |  AP50  |  AP75  |  APs  |  APm  |  APl   |\n",
      "|:-----:|:------:|:------:|:-----:|:-----:|:------:|\n",
      "| 1.059 | 1.443  | 1.000  | 0.019 | 2.266 | 35.761 |\n"
     ]
    },
    {
     "name": "stdout",
     "output_type": "stream",
     "text": [
      "Loading and preparing results...\n",
      "DONE (t=0.01s)\n",
      "creating index...\n",
      "index created!\n",
      " Average Precision  (AP) @[ IoU=0.50:0.95 | area=   all | maxDets=100 ] = 0.011\n",
      " Average Precision  (AP) @[ IoU=0.50      | area=   all | maxDets=100 ] = 0.014\n",
      " Average Precision  (AP) @[ IoU=0.75      | area=   all | maxDets=100 ] = 0.010\n",
      " Average Precision  (AP) @[ IoU=0.50:0.95 | area= small | maxDets=100 ] = 0.000\n",
      " Average Precision  (AP) @[ IoU=0.50:0.95 | area=medium | maxDets=100 ] = 0.023\n",
      " Average Precision  (AP) @[ IoU=0.50:0.95 | area= large | maxDets=100 ] = 0.358\n",
      " Average Recall     (AR) @[ IoU=0.50:0.95 | area=   all | maxDets=  1 ] = 0.004\n",
      " Average Recall     (AR) @[ IoU=0.50:0.95 | area=   all | maxDets= 10 ] = 0.010\n",
      " Average Recall     (AR) @[ IoU=0.50:0.95 | area=   all | maxDets=100 ] = 0.029\n",
      " Average Recall     (AR) @[ IoU=0.50:0.95 | area= small | maxDets=100 ] = 0.005\n",
      " Average Recall     (AR) @[ IoU=0.50:0.95 | area=medium | maxDets=100 ] = 0.199\n",
      " Average Recall     (AR) @[ IoU=0.50:0.95 | area= large | maxDets=100 ] = 0.625\n"
     ]
    },
    {
     "name": "stderr",
     "output_type": "stream",
     "text": [
      "INFO:detectron2.evaluation.fast_eval_api:Evaluate annotation type *segm*\n"
     ]
    },
    {
     "name": "stdout",
     "output_type": "stream",
     "text": [
      "Loading and preparing results...\n",
      "DONE (t=0.13s)\n",
      "creating index...\n",
      "index created!\n"
     ]
    },
    {
     "name": "stderr",
     "output_type": "stream",
     "text": [
      "INFO:detectron2.evaluation.fast_eval_api:COCOeval_opt.evaluate() finished in 0.35 seconds.\n",
      "INFO:detectron2.evaluation.fast_eval_api:Accumulating evaluation results...\n",
      "INFO:detectron2.evaluation.fast_eval_api:COCOeval_opt.accumulate() finished in 0.03 seconds.\n",
      "INFO:detectron2.evaluation.coco_evaluation:Evaluation results for segm: \n",
      "|  AP   |  AP50  |  AP75  |  APs  |  APm  |  APl   |\n",
      "|:-----:|:------:|:------:|:-----:|:-----:|:------:|\n",
      "| 0.646 | 1.121  | 0.990  | 0.002 | 0.621 | 15.745 |\n",
      "INFO:detectron2.engine.defaults:Evaluation results for griffith_val in csv format:\n",
      "INFO:detectron2.evaluation.testing:copypaste: Task: bbox\n",
      "INFO:detectron2.evaluation.testing:copypaste: AP,AP50,AP75,APs,APm,APl\n",
      "INFO:detectron2.evaluation.testing:copypaste: 1.0591,1.4431,0.9998,0.0190,2.2659,35.7610\n",
      "INFO:detectron2.evaluation.testing:copypaste: Task: segm\n",
      "INFO:detectron2.evaluation.testing:copypaste: AP,AP50,AP75,APs,APm,APl\n",
      "INFO:detectron2.evaluation.testing:copypaste: 0.6464,1.1212,0.9901,0.0017,0.6206,15.7450\n"
     ]
    },
    {
     "name": "stdout",
     "output_type": "stream",
     "text": [
      " Average Precision  (AP) @[ IoU=0.50:0.95 | area=   all | maxDets=100 ] = 0.006\n",
      " Average Precision  (AP) @[ IoU=0.50      | area=   all | maxDets=100 ] = 0.011\n",
      " Average Precision  (AP) @[ IoU=0.75      | area=   all | maxDets=100 ] = 0.010\n",
      " Average Precision  (AP) @[ IoU=0.50:0.95 | area= small | maxDets=100 ] = 0.000\n",
      " Average Precision  (AP) @[ IoU=0.50:0.95 | area=medium | maxDets=100 ] = 0.006\n",
      " Average Precision  (AP) @[ IoU=0.50:0.95 | area= large | maxDets=100 ] = 0.157\n",
      " Average Recall     (AR) @[ IoU=0.50:0.95 | area=   all | maxDets=  1 ] = 0.002\n",
      " Average Recall     (AR) @[ IoU=0.50:0.95 | area=   all | maxDets= 10 ] = 0.005\n",
      " Average Recall     (AR) @[ IoU=0.50:0.95 | area=   all | maxDets=100 ] = 0.011\n",
      " Average Recall     (AR) @[ IoU=0.50:0.95 | area= small | maxDets=100 ] = 0.001\n",
      " Average Recall     (AR) @[ IoU=0.50:0.95 | area=medium | maxDets=100 ] = 0.071\n",
      " Average Recall     (AR) @[ IoU=0.50:0.95 | area= large | maxDets=100 ] = 0.268\n"
     ]
    },
    {
     "name": "stderr",
     "output_type": "stream",
     "text": [
      "INFO:detectree2.models.train:Loss on Validation  done 11/170. 0.0001 s / img. ETA=0:00:21\n",
      "INFO:detectree2.models.train:Loss on Validation  done 40/170. 0.0001 s / img. ETA=0:00:21\n",
      "INFO:detectree2.models.train:Loss on Validation  done 69/170. 0.0001 s / img. ETA=0:00:17\n",
      "INFO:detectree2.models.train:Loss on Validation  done 100/170. 0.0001 s / img. ETA=0:00:11\n",
      "INFO:detectree2.models.train:Loss on Validation  done 131/170. 0.0001 s / img. ETA=0:00:06\n",
      "INFO:detectree2.models.train:Loss on Validation  done 161/170. 0.0001 s / img. ETA=0:00:01\n",
      "INFO:detectron2.data.dataset_mapper:[DatasetMapper] Augmentations used in inference: []\n",
      "INFO:detectree2.models.train:[FlexibleDatasetMapper] Augmentations used in inference: []\n",
      "INFO:detectron2.data.common:Serializing the dataset using: <class 'detectron2.data.common._TorchSerializedList'>\n",
      "INFO:detectron2.data.common:Serializing 170 elements to byte tensors and concatenating them all ...\n",
      "INFO:detectron2.data.common:Serialized dataset takes 8.90 MiB\n",
      "WARNING:detectron2.evaluation.coco_evaluation:COCO Evaluator instantiated using config, this is deprecated behavior. Please pass in explicit arguments instead.\n",
      "INFO:detectron2.evaluation.evaluator:Start inference on 170 batches\n",
      "INFO:detectron2.evaluation.evaluator:Inference done 11/170. Dataloading: 0.0006 s/iter. Inference: 0.0569 s/iter. Eval: 0.0173 s/iter. Total: 0.0747 s/iter. ETA=0:00:11\n",
      "INFO:detectron2.evaluation.evaluator:Inference done 81/170. Dataloading: 0.0010 s/iter. Inference: 0.0549 s/iter. Eval: 0.0162 s/iter. Total: 0.0722 s/iter. ETA=0:00:06\n",
      "INFO:detectron2.evaluation.evaluator:Inference done 152/170. Dataloading: 0.0010 s/iter. Inference: 0.0545 s/iter. Eval: 0.0162 s/iter. Total: 0.0717 s/iter. ETA=0:00:01\n",
      "INFO:detectron2.evaluation.evaluator:Total inference time: 0:00:12.151898 (0.073648 s / iter per device, on 1 devices)\n",
      "INFO:detectron2.evaluation.evaluator:Total inference pure compute time: 0:00:08 (0.054168 s / iter per device, on 1 devices)\n",
      "INFO:detectron2.evaluation.coco_evaluation:Preparing results for COCO format ...\n",
      "INFO:detectron2.evaluation.coco_evaluation:Saving results to eval/coco_instances_results.json\n",
      "INFO:detectron2.evaluation.coco_evaluation:Evaluating predictions with unofficial COCO API...\n",
      "INFO:detectron2.evaluation.fast_eval_api:Evaluate annotation type *bbox*\n",
      "INFO:detectron2.evaluation.fast_eval_api:COCOeval_opt.evaluate() finished in 0.16 seconds.\n",
      "INFO:detectron2.evaluation.fast_eval_api:Accumulating evaluation results...\n",
      "INFO:detectron2.evaluation.fast_eval_api:COCOeval_opt.accumulate() finished in 0.03 seconds.\n"
     ]
    },
    {
     "name": "stdout",
     "output_type": "stream",
     "text": [
      "Loading and preparing results...\n",
      "DONE (t=0.01s)\n",
      "creating index...\n",
      "index created!\n",
      " Average Precision  (AP) @[ IoU=0.50:0.95 | area=   all | maxDets=100 ] = 0.011\n",
      " Average Precision  (AP) @[ IoU=0.50      | area=   all | maxDets=100 ] = 0.014\n",
      " Average Precision  (AP) @[ IoU=0.75      | area=   all | maxDets=100 ] = 0.010\n",
      " Average Precision  (AP) @[ IoU=0.50:0.95 | area= small | maxDets=100 ] = 0.000\n",
      " Average Precision  (AP) @[ IoU=0.50:0.95 | area=medium | maxDets=100 ] = 0.023\n",
      " Average Precision  (AP) @[ IoU=0.50:0.95 | area= large | maxDets=100 ] = 0.358\n",
      " Average Recall     (AR) @[ IoU=0.50:0.95 | area=   all | maxDets=  1 ] = 0.004\n",
      " Average Recall     (AR) @[ IoU=0.50:0.95 | area=   all | maxDets= 10 ] = 0.010\n",
      " Average Recall     (AR) @[ IoU=0.50:0.95 | area=   all | maxDets=100 ] = 0.029\n",
      " Average Recall     (AR) @[ IoU=0.50:0.95 | area= small | maxDets=100 ] = 0.005\n",
      " Average Recall     (AR) @[ IoU=0.50:0.95 | area=medium | maxDets=100 ] = 0.199\n",
      " Average Recall     (AR) @[ IoU=0.50:0.95 | area= large | maxDets=100 ] = 0.625\n"
     ]
    },
    {
     "name": "stderr",
     "output_type": "stream",
     "text": [
      "INFO:detectron2.evaluation.coco_evaluation:Evaluation results for bbox: \n",
      "|  AP   |  AP50  |  AP75  |  APs  |  APm  |  APl   |\n",
      "|:-----:|:------:|:------:|:-----:|:-----:|:------:|\n",
      "| 1.059 | 1.443  | 1.000  | 0.019 | 2.266 | 35.761 |\n",
      "INFO:detectron2.evaluation.fast_eval_api:Evaluate annotation type *segm*\n"
     ]
    },
    {
     "name": "stdout",
     "output_type": "stream",
     "text": [
      "Loading and preparing results...\n",
      "DONE (t=0.13s)\n",
      "creating index...\n",
      "index created!\n"
     ]
    },
    {
     "name": "stderr",
     "output_type": "stream",
     "text": [
      "INFO:detectron2.evaluation.fast_eval_api:COCOeval_opt.evaluate() finished in 0.35 seconds.\n",
      "INFO:detectron2.evaluation.fast_eval_api:Accumulating evaluation results...\n",
      "INFO:detectron2.evaluation.fast_eval_api:COCOeval_opt.accumulate() finished in 0.03 seconds.\n",
      "INFO:detectron2.evaluation.coco_evaluation:Evaluation results for segm: \n",
      "|  AP   |  AP50  |  AP75  |  APs  |  APm  |  APl   |\n",
      "|:-----:|:------:|:------:|:-----:|:-----:|:------:|\n",
      "| 0.646 | 1.121  | 0.990  | 0.002 | 0.621 | 15.745 |\n",
      "INFO:detectron2.engine.defaults:Evaluation results for griffith_val in csv format:\n",
      "INFO:detectron2.evaluation.testing:copypaste: Task: bbox\n",
      "INFO:detectron2.evaluation.testing:copypaste: AP,AP50,AP75,APs,APm,APl\n",
      "INFO:detectron2.evaluation.testing:copypaste: 1.0591,1.4431,0.9998,0.0190,2.2659,35.7610\n",
      "INFO:detectron2.evaluation.testing:copypaste: Task: segm\n",
      "INFO:detectron2.evaluation.testing:copypaste: AP,AP50,AP75,APs,APm,APl\n",
      "INFO:detectron2.evaluation.testing:copypaste: 0.6464,1.1212,0.9901,0.0017,0.6206,15.7450\n",
      "INFO:fvcore.common.checkpoint:Saving checkpoint to /mnt/d_drive/detectree2/griffith_site/train_outputs_round2/model_12.pth\n"
     ]
    },
    {
     "name": "stdout",
     "output_type": "stream",
     "text": [
      " Average Precision  (AP) @[ IoU=0.50:0.95 | area=   all | maxDets=100 ] = 0.006\n",
      " Average Precision  (AP) @[ IoU=0.50      | area=   all | maxDets=100 ] = 0.011\n",
      " Average Precision  (AP) @[ IoU=0.75      | area=   all | maxDets=100 ] = 0.010\n",
      " Average Precision  (AP) @[ IoU=0.50:0.95 | area= small | maxDets=100 ] = 0.000\n",
      " Average Precision  (AP) @[ IoU=0.50:0.95 | area=medium | maxDets=100 ] = 0.006\n",
      " Average Precision  (AP) @[ IoU=0.50:0.95 | area= large | maxDets=100 ] = 0.157\n",
      " Average Recall     (AR) @[ IoU=0.50:0.95 | area=   all | maxDets=  1 ] = 0.002\n",
      " Average Recall     (AR) @[ IoU=0.50:0.95 | area=   all | maxDets= 10 ] = 0.005\n",
      " Average Recall     (AR) @[ IoU=0.50:0.95 | area=   all | maxDets=100 ] = 0.011\n",
      " Average Recall     (AR) @[ IoU=0.50:0.95 | area= small | maxDets=100 ] = 0.001\n",
      " Average Recall     (AR) @[ IoU=0.50:0.95 | area=medium | maxDets=100 ] = 0.071\n",
      " Average Recall     (AR) @[ IoU=0.50:0.95 | area= large | maxDets=100 ] = 0.268\n",
      "Av. segm AP50 = 1.1212496939521606\n"
     ]
    },
    {
     "name": "stderr",
     "output_type": "stream",
     "text": [
      "INFO:detectron2.utils.events: eta: 0:20:32  iter: 1199  total_loss: 1.202  loss_cls: 0.09666  loss_box_reg: 0.0753  loss_mask: 0.4711  loss_rpn_cls: 0.23  loss_rpn_loc: 0.3503  validation_loss: 1.786    time: 0.7014  last_time: 0.6877  data_time: 0.0054  last_data_time: 0.0047   lr: 0.0003389  max_mem: 3999M\n",
      "INFO:detectron2.utils.events: eta: 0:20:18  iter: 1219  total_loss: 1.277  loss_cls: 0.07096  loss_box_reg: 0.07416  loss_mask: 0.4441  loss_rpn_cls: 0.2392  loss_rpn_loc: 0.3338  validation_loss: 1.786    time: 0.7014  last_time: 0.6808  data_time: 0.0062  last_data_time: 0.0011   lr: 0.0003389  max_mem: 3999M\n",
      "INFO:detectron2.utils.events: eta: 0:20:04  iter: 1239  total_loss: 1.418  loss_cls: 0.1027  loss_box_reg: 0.07315  loss_mask: 0.4572  loss_rpn_cls: 0.22  loss_rpn_loc: 0.3706  validation_loss: 1.786    time: 0.7014  last_time: 0.6824  data_time: 0.0055  last_data_time: 0.0067   lr: 0.0003389  max_mem: 3999M\n",
      "INFO:detectron2.utils.events: eta: 0:19:50  iter: 1259  total_loss: 1.079  loss_cls: 0.09453  loss_box_reg: 0.07241  loss_mask: 0.4199  loss_rpn_cls: 0.202  loss_rpn_loc: 0.2436  validation_loss: 1.786    time: 0.7013  last_time: 0.6663  data_time: 0.0052  last_data_time: 0.0064   lr: 0.0003389  max_mem: 3999M\n",
      "INFO:detectron2.utils.events: eta: 0:19:35  iter: 1279  total_loss: 1.313  loss_cls: 0.1234  loss_box_reg: 0.09689  loss_mask: 0.4462  loss_rpn_cls: 0.212  loss_rpn_loc: 0.3468  validation_loss: 1.786    time: 0.7013  last_time: 0.7113  data_time: 0.0050  last_data_time: 0.0088   lr: 0.0003389  max_mem: 3999M\n",
      "INFO:detectron2.data.dataset_mapper:[DatasetMapper] Augmentations used in inference: []\n",
      "INFO:detectree2.models.train:[FlexibleDatasetMapper] Augmentations used in inference: []\n",
      "INFO:detectron2.data.common:Serializing the dataset using: <class 'detectron2.data.common._TorchSerializedList'>\n",
      "INFO:detectron2.data.common:Serializing 170 elements to byte tensors and concatenating them all ...\n",
      "INFO:detectron2.data.common:Serialized dataset takes 8.90 MiB\n",
      "WARNING:detectron2.evaluation.coco_evaluation:COCO Evaluator instantiated using config, this is deprecated behavior. Please pass in explicit arguments instead.\n",
      "INFO:detectron2.evaluation.evaluator:Start inference on 170 batches\n",
      "INFO:detectron2.evaluation.evaluator:Inference done 11/170. Dataloading: 0.0007 s/iter. Inference: 0.0589 s/iter. Eval: 0.0179 s/iter. Total: 0.0775 s/iter. ETA=0:00:12\n",
      "INFO:detectron2.evaluation.evaluator:Inference done 81/170. Dataloading: 0.0010 s/iter. Inference: 0.0544 s/iter. Eval: 0.0171 s/iter. Total: 0.0725 s/iter. ETA=0:00:06\n",
      "INFO:detectron2.evaluation.evaluator:Inference done 150/170. Dataloading: 0.0010 s/iter. Inference: 0.0545 s/iter. Eval: 0.0170 s/iter. Total: 0.0726 s/iter. ETA=0:00:01\n",
      "INFO:detectron2.evaluation.evaluator:Total inference time: 0:00:12.001131 (0.072734 s / iter per device, on 1 devices)\n",
      "INFO:detectron2.evaluation.evaluator:Total inference pure compute time: 0:00:08 (0.054345 s / iter per device, on 1 devices)\n",
      "INFO:detectron2.evaluation.coco_evaluation:Preparing results for COCO format ...\n",
      "INFO:detectron2.evaluation.coco_evaluation:Saving results to eval/coco_instances_results.json\n",
      "INFO:detectron2.evaluation.coco_evaluation:Evaluating predictions with unofficial COCO API...\n",
      "INFO:detectron2.evaluation.fast_eval_api:Evaluate annotation type *bbox*\n",
      "INFO:detectron2.evaluation.fast_eval_api:COCOeval_opt.evaluate() finished in 0.17 seconds.\n",
      "INFO:detectron2.evaluation.fast_eval_api:Accumulating evaluation results...\n",
      "INFO:detectron2.evaluation.fast_eval_api:COCOeval_opt.accumulate() finished in 0.03 seconds.\n"
     ]
    },
    {
     "name": "stdout",
     "output_type": "stream",
     "text": [
      "Loading and preparing results...\n",
      "DONE (t=0.01s)\n",
      "creating index...\n",
      "index created!\n"
     ]
    },
    {
     "name": "stderr",
     "output_type": "stream",
     "text": [
      "INFO:detectron2.evaluation.coco_evaluation:Evaluation results for bbox: \n",
      "|  AP   |  AP50  |  AP75  |  APs  |  APm  |  APl   |\n",
      "|:-----:|:------:|:------:|:-----:|:-----:|:------:|\n",
      "| 1.021 | 1.356  | 1.002  | 0.011 | 1.583 | 34.938 |\n"
     ]
    },
    {
     "name": "stdout",
     "output_type": "stream",
     "text": [
      " Average Precision  (AP) @[ IoU=0.50:0.95 | area=   all | maxDets=100 ] = 0.010\n",
      " Average Precision  (AP) @[ IoU=0.50      | area=   all | maxDets=100 ] = 0.014\n",
      " Average Precision  (AP) @[ IoU=0.75      | area=   all | maxDets=100 ] = 0.010\n",
      " Average Precision  (AP) @[ IoU=0.50:0.95 | area= small | maxDets=100 ] = 0.000\n",
      " Average Precision  (AP) @[ IoU=0.50:0.95 | area=medium | maxDets=100 ] = 0.016\n",
      " Average Precision  (AP) @[ IoU=0.50:0.95 | area= large | maxDets=100 ] = 0.349\n",
      " Average Recall     (AR) @[ IoU=0.50:0.95 | area=   all | maxDets=  1 ] = 0.003\n",
      " Average Recall     (AR) @[ IoU=0.50:0.95 | area=   all | maxDets= 10 ] = 0.008\n",
      " Average Recall     (AR) @[ IoU=0.50:0.95 | area=   all | maxDets=100 ] = 0.027\n",
      " Average Recall     (AR) @[ IoU=0.50:0.95 | area= small | maxDets=100 ] = 0.004\n",
      " Average Recall     (AR) @[ IoU=0.50:0.95 | area=medium | maxDets=100 ] = 0.183\n",
      " Average Recall     (AR) @[ IoU=0.50:0.95 | area= large | maxDets=100 ] = 0.636\n"
     ]
    },
    {
     "name": "stderr",
     "output_type": "stream",
     "text": [
      "INFO:detectron2.evaluation.fast_eval_api:Evaluate annotation type *segm*\n"
     ]
    },
    {
     "name": "stdout",
     "output_type": "stream",
     "text": [
      "Loading and preparing results...\n",
      "DONE (t=0.13s)\n",
      "creating index...\n",
      "index created!\n"
     ]
    },
    {
     "name": "stderr",
     "output_type": "stream",
     "text": [
      "INFO:detectron2.evaluation.fast_eval_api:COCOeval_opt.evaluate() finished in 0.35 seconds.\n",
      "INFO:detectron2.evaluation.fast_eval_api:Accumulating evaluation results...\n",
      "INFO:detectron2.evaluation.fast_eval_api:COCOeval_opt.accumulate() finished in 0.03 seconds.\n",
      "INFO:detectron2.evaluation.coco_evaluation:Evaluation results for segm: \n",
      "|  AP   |  AP50  |  AP75  |  APs  |  APm  |  APl   |\n",
      "|:-----:|:------:|:------:|:-----:|:-----:|:------:|\n",
      "| 0.663 | 1.092  | 0.990  | 0.001 | 0.469 | 17.111 |\n",
      "INFO:detectron2.engine.defaults:Evaluation results for griffith_val in csv format:\n",
      "INFO:detectron2.evaluation.testing:copypaste: Task: bbox\n",
      "INFO:detectron2.evaluation.testing:copypaste: AP,AP50,AP75,APs,APm,APl\n",
      "INFO:detectron2.evaluation.testing:copypaste: 1.0211,1.3557,1.0017,0.0111,1.5831,34.9383\n",
      "INFO:detectron2.evaluation.testing:copypaste: Task: segm\n",
      "INFO:detectron2.evaluation.testing:copypaste: AP,AP50,AP75,APs,APm,APl\n",
      "INFO:detectron2.evaluation.testing:copypaste: 0.6630,1.0922,0.9901,0.0009,0.4687,17.1109\n"
     ]
    },
    {
     "name": "stdout",
     "output_type": "stream",
     "text": [
      " Average Precision  (AP) @[ IoU=0.50:0.95 | area=   all | maxDets=100 ] = 0.007\n",
      " Average Precision  (AP) @[ IoU=0.50      | area=   all | maxDets=100 ] = 0.011\n",
      " Average Precision  (AP) @[ IoU=0.75      | area=   all | maxDets=100 ] = 0.010\n",
      " Average Precision  (AP) @[ IoU=0.50:0.95 | area= small | maxDets=100 ] = 0.000\n",
      " Average Precision  (AP) @[ IoU=0.50:0.95 | area=medium | maxDets=100 ] = 0.005\n",
      " Average Precision  (AP) @[ IoU=0.50:0.95 | area= large | maxDets=100 ] = 0.171\n",
      " Average Recall     (AR) @[ IoU=0.50:0.95 | area=   all | maxDets=  1 ] = 0.002\n",
      " Average Recall     (AR) @[ IoU=0.50:0.95 | area=   all | maxDets= 10 ] = 0.005\n",
      " Average Recall     (AR) @[ IoU=0.50:0.95 | area=   all | maxDets=100 ] = 0.009\n",
      " Average Recall     (AR) @[ IoU=0.50:0.95 | area= small | maxDets=100 ] = 0.001\n",
      " Average Recall     (AR) @[ IoU=0.50:0.95 | area=medium | maxDets=100 ] = 0.060\n",
      " Average Recall     (AR) @[ IoU=0.50:0.95 | area= large | maxDets=100 ] = 0.282\n"
     ]
    },
    {
     "name": "stderr",
     "output_type": "stream",
     "text": [
      "INFO:detectree2.models.train:Loss on Validation  done 11/170. 0.0001 s / img. ETA=0:00:21\n",
      "INFO:detectree2.models.train:Loss on Validation  done 40/170. 0.0001 s / img. ETA=0:00:21\n",
      "INFO:detectree2.models.train:Loss on Validation  done 69/170. 0.0001 s / img. ETA=0:00:17\n",
      "INFO:detectree2.models.train:Loss on Validation  done 99/170. 0.0001 s / img. ETA=0:00:12\n",
      "INFO:detectree2.models.train:Loss on Validation  done 130/170. 0.0001 s / img. ETA=0:00:06\n",
      "INFO:detectree2.models.train:Loss on Validation  done 160/170. 0.0001 s / img. ETA=0:00:01\n",
      "INFO:detectron2.data.dataset_mapper:[DatasetMapper] Augmentations used in inference: []\n",
      "INFO:detectree2.models.train:[FlexibleDatasetMapper] Augmentations used in inference: []\n",
      "INFO:detectron2.data.common:Serializing the dataset using: <class 'detectron2.data.common._TorchSerializedList'>\n",
      "INFO:detectron2.data.common:Serializing 170 elements to byte tensors and concatenating them all ...\n",
      "INFO:detectron2.data.common:Serialized dataset takes 8.90 MiB\n",
      "WARNING:detectron2.evaluation.coco_evaluation:COCO Evaluator instantiated using config, this is deprecated behavior. Please pass in explicit arguments instead.\n",
      "INFO:detectron2.evaluation.evaluator:Start inference on 170 batches\n",
      "INFO:detectron2.evaluation.evaluator:Inference done 11/170. Dataloading: 0.0006 s/iter. Inference: 0.0571 s/iter. Eval: 0.0179 s/iter. Total: 0.0757 s/iter. ETA=0:00:12\n",
      "INFO:detectron2.evaluation.evaluator:Inference done 80/170. Dataloading: 0.0010 s/iter. Inference: 0.0548 s/iter. Eval: 0.0171 s/iter. Total: 0.0730 s/iter. ETA=0:00:06\n",
      "INFO:detectron2.evaluation.evaluator:Inference done 150/170. Dataloading: 0.0010 s/iter. Inference: 0.0545 s/iter. Eval: 0.0170 s/iter. Total: 0.0726 s/iter. ETA=0:00:01\n",
      "INFO:detectron2.evaluation.evaluator:Total inference time: 0:00:12.016884 (0.072830 s / iter per device, on 1 devices)\n",
      "INFO:detectron2.evaluation.evaluator:Total inference pure compute time: 0:00:08 (0.054415 s / iter per device, on 1 devices)\n",
      "INFO:detectron2.evaluation.coco_evaluation:Preparing results for COCO format ...\n",
      "INFO:detectron2.evaluation.coco_evaluation:Saving results to eval/coco_instances_results.json\n",
      "INFO:detectron2.evaluation.coco_evaluation:Evaluating predictions with unofficial COCO API...\n",
      "INFO:detectron2.evaluation.fast_eval_api:Evaluate annotation type *bbox*\n",
      "INFO:detectron2.evaluation.fast_eval_api:COCOeval_opt.evaluate() finished in 0.17 seconds.\n",
      "INFO:detectron2.evaluation.fast_eval_api:Accumulating evaluation results...\n",
      "INFO:detectron2.evaluation.fast_eval_api:COCOeval_opt.accumulate() finished in 0.03 seconds.\n"
     ]
    },
    {
     "name": "stdout",
     "output_type": "stream",
     "text": [
      "Loading and preparing results...\n",
      "DONE (t=0.01s)\n",
      "creating index...\n",
      "index created!\n"
     ]
    },
    {
     "name": "stderr",
     "output_type": "stream",
     "text": [
      "INFO:detectron2.evaluation.coco_evaluation:Evaluation results for bbox: \n",
      "|  AP   |  AP50  |  AP75  |  APs  |  APm  |  APl   |\n",
      "|:-----:|:------:|:------:|:-----:|:-----:|:------:|\n",
      "| 1.021 | 1.356  | 1.002  | 0.011 | 1.583 | 34.938 |\n"
     ]
    },
    {
     "name": "stdout",
     "output_type": "stream",
     "text": [
      " Average Precision  (AP) @[ IoU=0.50:0.95 | area=   all | maxDets=100 ] = 0.010\n",
      " Average Precision  (AP) @[ IoU=0.50      | area=   all | maxDets=100 ] = 0.014\n",
      " Average Precision  (AP) @[ IoU=0.75      | area=   all | maxDets=100 ] = 0.010\n",
      " Average Precision  (AP) @[ IoU=0.50:0.95 | area= small | maxDets=100 ] = 0.000\n",
      " Average Precision  (AP) @[ IoU=0.50:0.95 | area=medium | maxDets=100 ] = 0.016\n",
      " Average Precision  (AP) @[ IoU=0.50:0.95 | area= large | maxDets=100 ] = 0.349\n",
      " Average Recall     (AR) @[ IoU=0.50:0.95 | area=   all | maxDets=  1 ] = 0.003\n",
      " Average Recall     (AR) @[ IoU=0.50:0.95 | area=   all | maxDets= 10 ] = 0.008\n",
      " Average Recall     (AR) @[ IoU=0.50:0.95 | area=   all | maxDets=100 ] = 0.027\n",
      " Average Recall     (AR) @[ IoU=0.50:0.95 | area= small | maxDets=100 ] = 0.004\n",
      " Average Recall     (AR) @[ IoU=0.50:0.95 | area=medium | maxDets=100 ] = 0.183\n",
      " Average Recall     (AR) @[ IoU=0.50:0.95 | area= large | maxDets=100 ] = 0.636\n"
     ]
    },
    {
     "name": "stderr",
     "output_type": "stream",
     "text": [
      "INFO:detectron2.evaluation.fast_eval_api:Evaluate annotation type *segm*\n"
     ]
    },
    {
     "name": "stdout",
     "output_type": "stream",
     "text": [
      "Loading and preparing results...\n",
      "DONE (t=0.13s)\n",
      "creating index...\n",
      "index created!\n"
     ]
    },
    {
     "name": "stderr",
     "output_type": "stream",
     "text": [
      "INFO:detectron2.evaluation.fast_eval_api:COCOeval_opt.evaluate() finished in 0.35 seconds.\n",
      "INFO:detectron2.evaluation.fast_eval_api:Accumulating evaluation results...\n",
      "INFO:detectron2.evaluation.fast_eval_api:COCOeval_opt.accumulate() finished in 0.03 seconds.\n",
      "INFO:detectron2.evaluation.coco_evaluation:Evaluation results for segm: \n",
      "|  AP   |  AP50  |  AP75  |  APs  |  APm  |  APl   |\n",
      "|:-----:|:------:|:------:|:-----:|:-----:|:------:|\n",
      "| 0.663 | 1.092  | 0.990  | 0.001 | 0.469 | 17.111 |\n",
      "INFO:detectron2.engine.defaults:Evaluation results for griffith_val in csv format:\n",
      "INFO:detectron2.evaluation.testing:copypaste: Task: bbox\n",
      "INFO:detectron2.evaluation.testing:copypaste: AP,AP50,AP75,APs,APm,APl\n",
      "INFO:detectron2.evaluation.testing:copypaste: 1.0211,1.3557,1.0017,0.0111,1.5831,34.9383\n",
      "INFO:detectron2.evaluation.testing:copypaste: Task: segm\n",
      "INFO:detectron2.evaluation.testing:copypaste: AP,AP50,AP75,APs,APm,APl\n",
      "INFO:detectron2.evaluation.testing:copypaste: 0.6630,1.0922,0.9901,0.0009,0.4687,17.1109\n",
      "INFO:detectron2.utils.events: eta: 0:19:23  iter: 1299  total_loss: 1.127  loss_cls: 0.1013  loss_box_reg: 0.08919  loss_mask: 0.4565  loss_rpn_cls: 0.2472  loss_rpn_loc: 0.2522  validation_loss: 1.851    time: 0.7014  last_time: 0.7562  data_time: 0.0052  last_data_time: 0.0079   lr: 0.0003389  max_mem: 3999M\n"
     ]
    },
    {
     "name": "stdout",
     "output_type": "stream",
     "text": [
      " Average Precision  (AP) @[ IoU=0.50:0.95 | area=   all | maxDets=100 ] = 0.007\n",
      " Average Precision  (AP) @[ IoU=0.50      | area=   all | maxDets=100 ] = 0.011\n",
      " Average Precision  (AP) @[ IoU=0.75      | area=   all | maxDets=100 ] = 0.010\n",
      " Average Precision  (AP) @[ IoU=0.50:0.95 | area= small | maxDets=100 ] = 0.000\n",
      " Average Precision  (AP) @[ IoU=0.50:0.95 | area=medium | maxDets=100 ] = 0.005\n",
      " Average Precision  (AP) @[ IoU=0.50:0.95 | area= large | maxDets=100 ] = 0.171\n",
      " Average Recall     (AR) @[ IoU=0.50:0.95 | area=   all | maxDets=  1 ] = 0.002\n",
      " Average Recall     (AR) @[ IoU=0.50:0.95 | area=   all | maxDets= 10 ] = 0.005\n",
      " Average Recall     (AR) @[ IoU=0.50:0.95 | area=   all | maxDets=100 ] = 0.009\n",
      " Average Recall     (AR) @[ IoU=0.50:0.95 | area= small | maxDets=100 ] = 0.001\n",
      " Average Recall     (AR) @[ IoU=0.50:0.95 | area=medium | maxDets=100 ] = 0.060\n",
      " Average Recall     (AR) @[ IoU=0.50:0.95 | area= large | maxDets=100 ] = 0.282\n",
      "Av. segm AP50 = 1.0922396138920623\n"
     ]
    },
    {
     "name": "stderr",
     "output_type": "stream",
     "text": [
      "INFO:detectron2.utils.events: eta: 0:19:09  iter: 1319  total_loss: 1.52  loss_cls: 0.1717  loss_box_reg: 0.131  loss_mask: 0.43  loss_rpn_cls: 0.2869  loss_rpn_loc: 0.4788  validation_loss: 1.851    time: 0.7016  last_time: 0.6786  data_time: 0.0054  last_data_time: 0.0054   lr: 0.0003389  max_mem: 3999M\n",
      "INFO:detectron2.utils.events: eta: 0:18:56  iter: 1339  total_loss: 1.309  loss_cls: 0.1376  loss_box_reg: 0.07683  loss_mask: 0.4433  loss_rpn_cls: 0.2574  loss_rpn_loc: 0.3489  validation_loss: 1.851    time: 0.7016  last_time: 0.6897  data_time: 0.0054  last_data_time: 0.0036   lr: 0.0003389  max_mem: 3999M\n",
      "INFO:detectron2.utils.events: eta: 0:18:42  iter: 1359  total_loss: 1.479  loss_cls: 0.1197  loss_box_reg: 0.1132  loss_mask: 0.4122  loss_rpn_cls: 0.2832  loss_rpn_loc: 0.3632  validation_loss: 1.851    time: 0.7016  last_time: 0.7521  data_time: 0.0070  last_data_time: 0.0060   lr: 0.0003389  max_mem: 3999M\n",
      "INFO:detectron2.utils.events: eta: 0:18:28  iter: 1379  total_loss: 1.015  loss_cls: 0.09695  loss_box_reg: 0.05528  loss_mask: 0.4316  loss_rpn_cls: 0.2038  loss_rpn_loc: 0.225  validation_loss: 1.851    time: 0.7015  last_time: 0.6725  data_time: 0.0050  last_data_time: 0.0029   lr: 0.0003389  max_mem: 3999M\n",
      "INFO:detectron2.data.dataset_mapper:[DatasetMapper] Augmentations used in inference: []\n",
      "INFO:detectree2.models.train:[FlexibleDatasetMapper] Augmentations used in inference: []\n",
      "INFO:detectron2.data.common:Serializing the dataset using: <class 'detectron2.data.common._TorchSerializedList'>\n",
      "INFO:detectron2.data.common:Serializing 170 elements to byte tensors and concatenating them all ...\n",
      "INFO:detectron2.data.common:Serialized dataset takes 8.90 MiB\n",
      "WARNING:detectron2.evaluation.coco_evaluation:COCO Evaluator instantiated using config, this is deprecated behavior. Please pass in explicit arguments instead.\n",
      "INFO:detectron2.evaluation.evaluator:Start inference on 170 batches\n",
      "INFO:detectron2.evaluation.evaluator:Inference done 11/170. Dataloading: 0.0007 s/iter. Inference: 0.0579 s/iter. Eval: 0.0206 s/iter. Total: 0.0791 s/iter. ETA=0:00:12\n",
      "INFO:detectron2.evaluation.evaluator:Inference done 78/170. Dataloading: 0.0010 s/iter. Inference: 0.0562 s/iter. Eval: 0.0180 s/iter. Total: 0.0754 s/iter. ETA=0:00:06\n",
      "INFO:detectron2.evaluation.evaluator:Inference done 145/170. Dataloading: 0.0010 s/iter. Inference: 0.0559 s/iter. Eval: 0.0180 s/iter. Total: 0.0750 s/iter. ETA=0:00:01\n",
      "INFO:detectron2.evaluation.evaluator:Total inference time: 0:00:12.382923 (0.075048 s / iter per device, on 1 devices)\n",
      "INFO:detectron2.evaluation.evaluator:Total inference pure compute time: 0:00:09 (0.055664 s / iter per device, on 1 devices)\n",
      "INFO:detectron2.evaluation.coco_evaluation:Preparing results for COCO format ...\n",
      "INFO:detectron2.evaluation.coco_evaluation:Saving results to eval/coco_instances_results.json\n",
      "INFO:detectron2.evaluation.coco_evaluation:Evaluating predictions with unofficial COCO API...\n",
      "INFO:detectron2.evaluation.fast_eval_api:Evaluate annotation type *bbox*\n",
      "INFO:detectron2.evaluation.fast_eval_api:COCOeval_opt.evaluate() finished in 0.18 seconds.\n",
      "INFO:detectron2.evaluation.fast_eval_api:Accumulating evaluation results...\n"
     ]
    },
    {
     "name": "stdout",
     "output_type": "stream",
     "text": [
      "Loading and preparing results...\n",
      "DONE (t=0.01s)\n",
      "creating index...\n",
      "index created!\n"
     ]
    },
    {
     "name": "stderr",
     "output_type": "stream",
     "text": [
      "INFO:detectron2.evaluation.fast_eval_api:COCOeval_opt.accumulate() finished in 0.03 seconds.\n",
      "INFO:detectron2.evaluation.coco_evaluation:Evaluation results for bbox: \n",
      "|  AP   |  AP50  |  AP75  |  APs  |  APm  |  APl   |\n",
      "|:-----:|:------:|:------:|:-----:|:-----:|:------:|\n",
      "| 1.042 | 1.229  | 0.998  | 0.009 | 0.626 | 32.447 |\n"
     ]
    },
    {
     "name": "stdout",
     "output_type": "stream",
     "text": [
      " Average Precision  (AP) @[ IoU=0.50:0.95 | area=   all | maxDets=100 ] = 0.010\n",
      " Average Precision  (AP) @[ IoU=0.50      | area=   all | maxDets=100 ] = 0.012\n",
      " Average Precision  (AP) @[ IoU=0.75      | area=   all | maxDets=100 ] = 0.010\n",
      " Average Precision  (AP) @[ IoU=0.50:0.95 | area= small | maxDets=100 ] = 0.000\n",
      " Average Precision  (AP) @[ IoU=0.50:0.95 | area=medium | maxDets=100 ] = 0.006\n",
      " Average Precision  (AP) @[ IoU=0.50:0.95 | area= large | maxDets=100 ] = 0.324\n",
      " Average Recall     (AR) @[ IoU=0.50:0.95 | area=   all | maxDets=  1 ] = 0.003\n",
      " Average Recall     (AR) @[ IoU=0.50:0.95 | area=   all | maxDets= 10 ] = 0.007\n",
      " Average Recall     (AR) @[ IoU=0.50:0.95 | area=   all | maxDets=100 ] = 0.027\n",
      " Average Recall     (AR) @[ IoU=0.50:0.95 | area= small | maxDets=100 ] = 0.005\n",
      " Average Recall     (AR) @[ IoU=0.50:0.95 | area=medium | maxDets=100 ] = 0.170\n",
      " Average Recall     (AR) @[ IoU=0.50:0.95 | area= large | maxDets=100 ] = 0.654\n"
     ]
    },
    {
     "name": "stderr",
     "output_type": "stream",
     "text": [
      "INFO:detectron2.evaluation.fast_eval_api:Evaluate annotation type *segm*\n"
     ]
    },
    {
     "name": "stdout",
     "output_type": "stream",
     "text": [
      "Loading and preparing results...\n",
      "DONE (t=0.13s)\n",
      "creating index...\n",
      "index created!\n"
     ]
    },
    {
     "name": "stderr",
     "output_type": "stream",
     "text": [
      "INFO:detectron2.evaluation.fast_eval_api:COCOeval_opt.evaluate() finished in 0.36 seconds.\n",
      "INFO:detectron2.evaluation.fast_eval_api:Accumulating evaluation results...\n",
      "INFO:detectron2.evaluation.fast_eval_api:COCOeval_opt.accumulate() finished in 0.03 seconds.\n",
      "INFO:detectron2.evaluation.coco_evaluation:Evaluation results for segm: \n",
      "|  AP   |  AP50  |  AP75  |  APs  |  APm  |  APl   |\n",
      "|:-----:|:------:|:------:|:-----:|:-----:|:------:|\n",
      "| 0.689 | 1.039  | 0.990  | 0.001 | 0.205 | 19.749 |\n",
      "INFO:detectron2.engine.defaults:Evaluation results for griffith_val in csv format:\n",
      "INFO:detectron2.evaluation.testing:copypaste: Task: bbox\n",
      "INFO:detectron2.evaluation.testing:copypaste: AP,AP50,AP75,APs,APm,APl\n",
      "INFO:detectron2.evaluation.testing:copypaste: 1.0418,1.2294,0.9979,0.0091,0.6256,32.4472\n",
      "INFO:detectron2.evaluation.testing:copypaste: Task: segm\n",
      "INFO:detectron2.evaluation.testing:copypaste: AP,AP50,AP75,APs,APm,APl\n",
      "INFO:detectron2.evaluation.testing:copypaste: 0.6895,1.0387,0.9901,0.0008,0.2050,19.7490\n"
     ]
    },
    {
     "name": "stdout",
     "output_type": "stream",
     "text": [
      " Average Precision  (AP) @[ IoU=0.50:0.95 | area=   all | maxDets=100 ] = 0.007\n",
      " Average Precision  (AP) @[ IoU=0.50      | area=   all | maxDets=100 ] = 0.010\n",
      " Average Precision  (AP) @[ IoU=0.75      | area=   all | maxDets=100 ] = 0.010\n",
      " Average Precision  (AP) @[ IoU=0.50:0.95 | area= small | maxDets=100 ] = 0.000\n",
      " Average Precision  (AP) @[ IoU=0.50:0.95 | area=medium | maxDets=100 ] = 0.002\n",
      " Average Precision  (AP) @[ IoU=0.50:0.95 | area= large | maxDets=100 ] = 0.197\n",
      " Average Recall     (AR) @[ IoU=0.50:0.95 | area=   all | maxDets=  1 ] = 0.002\n",
      " Average Recall     (AR) @[ IoU=0.50:0.95 | area=   all | maxDets= 10 ] = 0.004\n",
      " Average Recall     (AR) @[ IoU=0.50:0.95 | area=   all | maxDets=100 ] = 0.009\n",
      " Average Recall     (AR) @[ IoU=0.50:0.95 | area= small | maxDets=100 ] = 0.001\n",
      " Average Recall     (AR) @[ IoU=0.50:0.95 | area=medium | maxDets=100 ] = 0.056\n",
      " Average Recall     (AR) @[ IoU=0.50:0.95 | area= large | maxDets=100 ] = 0.314\n"
     ]
    },
    {
     "name": "stderr",
     "output_type": "stream",
     "text": [
      "INFO:detectree2.models.train:Loss on Validation  done 11/170. 0.0001 s / img. ETA=0:00:21\n",
      "INFO:detectree2.models.train:Loss on Validation  done 40/170. 0.0001 s / img. ETA=0:00:21\n",
      "INFO:detectree2.models.train:Loss on Validation  done 69/170. 0.0001 s / img. ETA=0:00:17\n",
      "INFO:detectree2.models.train:Loss on Validation  done 99/170. 0.0001 s / img. ETA=0:00:12\n",
      "INFO:detectree2.models.train:Loss on Validation  done 130/170. 0.0001 s / img. ETA=0:00:06\n",
      "INFO:detectree2.models.train:Loss on Validation  done 160/170. 0.0001 s / img. ETA=0:00:01\n",
      "INFO:detectron2.data.dataset_mapper:[DatasetMapper] Augmentations used in inference: []\n",
      "INFO:detectree2.models.train:[FlexibleDatasetMapper] Augmentations used in inference: []\n",
      "INFO:detectron2.data.common:Serializing the dataset using: <class 'detectron2.data.common._TorchSerializedList'>\n",
      "INFO:detectron2.data.common:Serializing 170 elements to byte tensors and concatenating them all ...\n",
      "INFO:detectron2.data.common:Serialized dataset takes 8.90 MiB\n",
      "WARNING:detectron2.evaluation.coco_evaluation:COCO Evaluator instantiated using config, this is deprecated behavior. Please pass in explicit arguments instead.\n",
      "INFO:detectron2.evaluation.evaluator:Start inference on 170 batches\n",
      "INFO:detectron2.evaluation.evaluator:Inference done 11/170. Dataloading: 0.0007 s/iter. Inference: 0.0567 s/iter. Eval: 0.0178 s/iter. Total: 0.0753 s/iter. ETA=0:00:11\n",
      "INFO:detectron2.evaluation.evaluator:Inference done 74/170. Dataloading: 0.0010 s/iter. Inference: 0.0560 s/iter. Eval: 0.0220 s/iter. Total: 0.0791 s/iter. ETA=0:00:07\n",
      "INFO:detectron2.evaluation.evaluator:Inference done 142/170. Dataloading: 0.0010 s/iter. Inference: 0.0556 s/iter. Eval: 0.0199 s/iter. Total: 0.0766 s/iter. ETA=0:00:02\n",
      "INFO:detectron2.evaluation.evaluator:Total inference time: 0:00:12.662916 (0.076745 s / iter per device, on 1 devices)\n",
      "INFO:detectron2.evaluation.evaluator:Total inference pure compute time: 0:00:09 (0.055351 s / iter per device, on 1 devices)\n",
      "INFO:detectron2.evaluation.coco_evaluation:Preparing results for COCO format ...\n",
      "INFO:detectron2.evaluation.coco_evaluation:Saving results to eval/coco_instances_results.json\n",
      "INFO:detectron2.evaluation.coco_evaluation:Evaluating predictions with unofficial COCO API...\n",
      "INFO:detectron2.evaluation.fast_eval_api:Evaluate annotation type *bbox*\n",
      "INFO:detectron2.evaluation.fast_eval_api:COCOeval_opt.evaluate() finished in 0.18 seconds.\n",
      "INFO:detectron2.evaluation.fast_eval_api:Accumulating evaluation results...\n"
     ]
    },
    {
     "name": "stdout",
     "output_type": "stream",
     "text": [
      "Loading and preparing results...\n",
      "DONE (t=0.01s)\n",
      "creating index...\n",
      "index created!\n"
     ]
    },
    {
     "name": "stderr",
     "output_type": "stream",
     "text": [
      "INFO:detectron2.evaluation.fast_eval_api:COCOeval_opt.accumulate() finished in 0.03 seconds.\n",
      "INFO:detectron2.evaluation.coco_evaluation:Evaluation results for bbox: \n",
      "|  AP   |  AP50  |  AP75  |  APs  |  APm  |  APl   |\n",
      "|:-----:|:------:|:------:|:-----:|:-----:|:------:|\n",
      "| 1.042 | 1.229  | 0.998  | 0.009 | 0.626 | 32.447 |\n"
     ]
    },
    {
     "name": "stdout",
     "output_type": "stream",
     "text": [
      " Average Precision  (AP) @[ IoU=0.50:0.95 | area=   all | maxDets=100 ] = 0.010\n",
      " Average Precision  (AP) @[ IoU=0.50      | area=   all | maxDets=100 ] = 0.012\n",
      " Average Precision  (AP) @[ IoU=0.75      | area=   all | maxDets=100 ] = 0.010\n",
      " Average Precision  (AP) @[ IoU=0.50:0.95 | area= small | maxDets=100 ] = 0.000\n",
      " Average Precision  (AP) @[ IoU=0.50:0.95 | area=medium | maxDets=100 ] = 0.006\n",
      " Average Precision  (AP) @[ IoU=0.50:0.95 | area= large | maxDets=100 ] = 0.324\n",
      " Average Recall     (AR) @[ IoU=0.50:0.95 | area=   all | maxDets=  1 ] = 0.003\n",
      " Average Recall     (AR) @[ IoU=0.50:0.95 | area=   all | maxDets= 10 ] = 0.007\n",
      " Average Recall     (AR) @[ IoU=0.50:0.95 | area=   all | maxDets=100 ] = 0.027\n",
      " Average Recall     (AR) @[ IoU=0.50:0.95 | area= small | maxDets=100 ] = 0.005\n",
      " Average Recall     (AR) @[ IoU=0.50:0.95 | area=medium | maxDets=100 ] = 0.170\n",
      " Average Recall     (AR) @[ IoU=0.50:0.95 | area= large | maxDets=100 ] = 0.654\n"
     ]
    },
    {
     "name": "stderr",
     "output_type": "stream",
     "text": [
      "INFO:detectron2.evaluation.fast_eval_api:Evaluate annotation type *segm*\n"
     ]
    },
    {
     "name": "stdout",
     "output_type": "stream",
     "text": [
      "Loading and preparing results...\n",
      "DONE (t=0.13s)\n",
      "creating index...\n",
      "index created!\n"
     ]
    },
    {
     "name": "stderr",
     "output_type": "stream",
     "text": [
      "INFO:detectron2.evaluation.fast_eval_api:COCOeval_opt.evaluate() finished in 0.36 seconds.\n",
      "INFO:detectron2.evaluation.fast_eval_api:Accumulating evaluation results...\n",
      "INFO:detectron2.evaluation.fast_eval_api:COCOeval_opt.accumulate() finished in 0.03 seconds.\n",
      "INFO:detectron2.evaluation.coco_evaluation:Evaluation results for segm: \n",
      "|  AP   |  AP50  |  AP75  |  APs  |  APm  |  APl   |\n",
      "|:-----:|:------:|:------:|:-----:|:-----:|:------:|\n",
      "| 0.689 | 1.039  | 0.990  | 0.001 | 0.205 | 19.749 |\n",
      "INFO:detectron2.engine.defaults:Evaluation results for griffith_val in csv format:\n",
      "INFO:detectron2.evaluation.testing:copypaste: Task: bbox\n",
      "INFO:detectron2.evaluation.testing:copypaste: AP,AP50,AP75,APs,APm,APl\n",
      "INFO:detectron2.evaluation.testing:copypaste: 1.0418,1.2294,0.9979,0.0091,0.6256,32.4472\n",
      "INFO:detectron2.evaluation.testing:copypaste: Task: segm\n",
      "INFO:detectron2.evaluation.testing:copypaste: AP,AP50,AP75,APs,APm,APl\n",
      "INFO:detectron2.evaluation.testing:copypaste: 0.6895,1.0387,0.9901,0.0008,0.2050,19.7490\n",
      "INFO:detectron2.utils.events: eta: 0:18:15  iter: 1399  total_loss: 1.577  loss_cls: 0.1276  loss_box_reg: 0.2161  loss_mask: 0.4492  loss_rpn_cls: 0.2132  loss_rpn_loc: 0.381  validation_loss: 1.857    time: 0.7016  last_time: 0.7056  data_time: 0.0057  last_data_time: 0.0017   lr: 0.0003389  max_mem: 3999M\n"
     ]
    },
    {
     "name": "stdout",
     "output_type": "stream",
     "text": [
      " Average Precision  (AP) @[ IoU=0.50:0.95 | area=   all | maxDets=100 ] = 0.007\n",
      " Average Precision  (AP) @[ IoU=0.50      | area=   all | maxDets=100 ] = 0.010\n",
      " Average Precision  (AP) @[ IoU=0.75      | area=   all | maxDets=100 ] = 0.010\n",
      " Average Precision  (AP) @[ IoU=0.50:0.95 | area= small | maxDets=100 ] = 0.000\n",
      " Average Precision  (AP) @[ IoU=0.50:0.95 | area=medium | maxDets=100 ] = 0.002\n",
      " Average Precision  (AP) @[ IoU=0.50:0.95 | area= large | maxDets=100 ] = 0.197\n",
      " Average Recall     (AR) @[ IoU=0.50:0.95 | area=   all | maxDets=  1 ] = 0.002\n",
      " Average Recall     (AR) @[ IoU=0.50:0.95 | area=   all | maxDets= 10 ] = 0.004\n",
      " Average Recall     (AR) @[ IoU=0.50:0.95 | area=   all | maxDets=100 ] = 0.009\n",
      " Average Recall     (AR) @[ IoU=0.50:0.95 | area= small | maxDets=100 ] = 0.001\n",
      " Average Recall     (AR) @[ IoU=0.50:0.95 | area=medium | maxDets=100 ] = 0.056\n",
      " Average Recall     (AR) @[ IoU=0.50:0.95 | area= large | maxDets=100 ] = 0.314\n",
      "Av. segm AP50 = 1.0387131454187617\n"
     ]
    },
    {
     "name": "stderr",
     "output_type": "stream",
     "text": [
      "INFO:detectron2.utils.events: eta: 0:18:01  iter: 1419  total_loss: 1.022  loss_cls: 0.08959  loss_box_reg: 0.06692  loss_mask: 0.4253  loss_rpn_cls: 0.2022  loss_rpn_loc: 0.2812  validation_loss: 1.857    time: 0.7014  last_time: 0.7521  data_time: 0.0052  last_data_time: 0.0045   lr: 0.0003389  max_mem: 3999M\n",
      "INFO:detectron2.utils.events: eta: 0:17:48  iter: 1439  total_loss: 1.525  loss_cls: 0.1632  loss_box_reg: 0.08996  loss_mask: 0.484  loss_rpn_cls: 0.2825  loss_rpn_loc: 0.4337  validation_loss: 1.857    time: 0.7015  last_time: 0.6488  data_time: 0.0054  last_data_time: 0.0047   lr: 0.0003389  max_mem: 3999M\n",
      "INFO:detectron2.utils.events: eta: 0:17:34  iter: 1459  total_loss: 1.427  loss_cls: 0.131  loss_box_reg: 0.07054  loss_mask: 0.4458  loss_rpn_cls: 0.2353  loss_rpn_loc: 0.3743  validation_loss: 1.857    time: 0.7016  last_time: 0.7577  data_time: 0.0072  last_data_time: 0.0066   lr: 0.0003389  max_mem: 3999M\n",
      "INFO:detectron2.utils.events: eta: 0:17:20  iter: 1479  total_loss: 1.477  loss_cls: 0.186  loss_box_reg: 0.2112  loss_mask: 0.4211  loss_rpn_cls: 0.2804  loss_rpn_loc: 0.4422  validation_loss: 1.857    time: 0.7018  last_time: 0.7090  data_time: 0.0054  last_data_time: 0.0039   lr: 0.0003389  max_mem: 3999M\n",
      "INFO:detectron2.data.dataset_mapper:[DatasetMapper] Augmentations used in inference: []\n",
      "INFO:detectree2.models.train:[FlexibleDatasetMapper] Augmentations used in inference: []\n",
      "INFO:detectron2.data.common:Serializing the dataset using: <class 'detectron2.data.common._TorchSerializedList'>\n",
      "INFO:detectron2.data.common:Serializing 170 elements to byte tensors and concatenating them all ...\n",
      "INFO:detectron2.data.common:Serialized dataset takes 8.90 MiB\n",
      "WARNING:detectron2.evaluation.coco_evaluation:COCO Evaluator instantiated using config, this is deprecated behavior. Please pass in explicit arguments instead.\n",
      "INFO:detectron2.evaluation.evaluator:Start inference on 170 batches\n",
      "INFO:detectron2.evaluation.evaluator:Inference done 11/170. Dataloading: 0.0006 s/iter. Inference: 0.0555 s/iter. Eval: 0.0722 s/iter. Total: 0.1283 s/iter. ETA=0:00:20\n",
      "INFO:detectron2.evaluation.evaluator:Inference done 79/170. Dataloading: 0.0010 s/iter. Inference: 0.0552 s/iter. Eval: 0.0223 s/iter. Total: 0.0786 s/iter. ETA=0:00:07\n",
      "INFO:detectron2.evaluation.evaluator:Inference done 145/170. Dataloading: 0.0017 s/iter. Inference: 0.0553 s/iter. Eval: 0.0203 s/iter. Total: 0.0774 s/iter. ETA=0:00:01\n",
      "INFO:detectron2.evaluation.evaluator:Total inference time: 0:00:12.755365 (0.077305 s / iter per device, on 1 devices)\n",
      "INFO:detectron2.evaluation.evaluator:Total inference pure compute time: 0:00:09 (0.055271 s / iter per device, on 1 devices)\n",
      "INFO:detectron2.evaluation.coco_evaluation:Preparing results for COCO format ...\n",
      "INFO:detectron2.evaluation.coco_evaluation:Saving results to eval/coco_instances_results.json\n",
      "INFO:detectron2.evaluation.coco_evaluation:Evaluating predictions with unofficial COCO API...\n",
      "INFO:detectron2.evaluation.fast_eval_api:Evaluate annotation type *bbox*\n",
      "INFO:detectron2.evaluation.fast_eval_api:COCOeval_opt.evaluate() finished in 0.18 seconds.\n",
      "INFO:detectron2.evaluation.fast_eval_api:Accumulating evaluation results...\n",
      "INFO:detectron2.evaluation.fast_eval_api:COCOeval_opt.accumulate() finished in 0.03 seconds.\n"
     ]
    },
    {
     "name": "stdout",
     "output_type": "stream",
     "text": [
      "Loading and preparing results...\n",
      "DONE (t=0.01s)\n",
      "creating index...\n",
      "index created!\n"
     ]
    },
    {
     "name": "stderr",
     "output_type": "stream",
     "text": [
      "INFO:detectron2.evaluation.coco_evaluation:Evaluation results for bbox: \n",
      "|  AP   |  AP50  |  AP75  |  APs  |  APm  |  APl   |\n",
      "|:-----:|:------:|:------:|:-----:|:-----:|:------:|\n",
      "| 0.992 | 1.245  | 0.997  | 0.014 | 0.567 | 34.156 |\n"
     ]
    },
    {
     "name": "stdout",
     "output_type": "stream",
     "text": [
      " Average Precision  (AP) @[ IoU=0.50:0.95 | area=   all | maxDets=100 ] = 0.010\n",
      " Average Precision  (AP) @[ IoU=0.50      | area=   all | maxDets=100 ] = 0.012\n",
      " Average Precision  (AP) @[ IoU=0.75      | area=   all | maxDets=100 ] = 0.010\n",
      " Average Precision  (AP) @[ IoU=0.50:0.95 | area= small | maxDets=100 ] = 0.000\n",
      " Average Precision  (AP) @[ IoU=0.50:0.95 | area=medium | maxDets=100 ] = 0.006\n",
      " Average Precision  (AP) @[ IoU=0.50:0.95 | area= large | maxDets=100 ] = 0.342\n",
      " Average Recall     (AR) @[ IoU=0.50:0.95 | area=   all | maxDets=  1 ] = 0.003\n",
      " Average Recall     (AR) @[ IoU=0.50:0.95 | area=   all | maxDets= 10 ] = 0.006\n",
      " Average Recall     (AR) @[ IoU=0.50:0.95 | area=   all | maxDets=100 ] = 0.029\n",
      " Average Recall     (AR) @[ IoU=0.50:0.95 | area= small | maxDets=100 ] = 0.005\n",
      " Average Recall     (AR) @[ IoU=0.50:0.95 | area=medium | maxDets=100 ] = 0.192\n",
      " Average Recall     (AR) @[ IoU=0.50:0.95 | area= large | maxDets=100 ] = 0.629\n"
     ]
    },
    {
     "name": "stderr",
     "output_type": "stream",
     "text": [
      "INFO:detectron2.evaluation.fast_eval_api:Evaluate annotation type *segm*\n"
     ]
    },
    {
     "name": "stdout",
     "output_type": "stream",
     "text": [
      "Loading and preparing results...\n",
      "DONE (t=0.14s)\n",
      "creating index...\n",
      "index created!\n"
     ]
    },
    {
     "name": "stderr",
     "output_type": "stream",
     "text": [
      "INFO:detectron2.evaluation.fast_eval_api:COCOeval_opt.evaluate() finished in 0.36 seconds.\n",
      "INFO:detectron2.evaluation.fast_eval_api:Accumulating evaluation results...\n",
      "INFO:detectron2.evaluation.fast_eval_api:COCOeval_opt.accumulate() finished in 0.03 seconds.\n",
      "INFO:detectron2.evaluation.coco_evaluation:Evaluation results for segm: \n",
      "|  AP   |  AP50  |  AP75  |  APs  |  APm  |  APl   |\n",
      "|:-----:|:------:|:------:|:-----:|:-----:|:------:|\n",
      "| 0.702 | 1.035  | 0.990  | 0.001 | 0.151 | 16.547 |\n",
      "INFO:detectron2.engine.defaults:Evaluation results for griffith_val in csv format:\n",
      "INFO:detectron2.evaluation.testing:copypaste: Task: bbox\n",
      "INFO:detectron2.evaluation.testing:copypaste: AP,AP50,AP75,APs,APm,APl\n",
      "INFO:detectron2.evaluation.testing:copypaste: 0.9919,1.2453,0.9974,0.0138,0.5673,34.1561\n",
      "INFO:detectron2.evaluation.testing:copypaste: Task: segm\n",
      "INFO:detectron2.evaluation.testing:copypaste: AP,AP50,AP75,APs,APm,APl\n",
      "INFO:detectron2.evaluation.testing:copypaste: 0.7023,1.0350,0.9901,0.0006,0.1513,16.5473\n"
     ]
    },
    {
     "name": "stdout",
     "output_type": "stream",
     "text": [
      " Average Precision  (AP) @[ IoU=0.50:0.95 | area=   all | maxDets=100 ] = 0.007\n",
      " Average Precision  (AP) @[ IoU=0.50      | area=   all | maxDets=100 ] = 0.010\n",
      " Average Precision  (AP) @[ IoU=0.75      | area=   all | maxDets=100 ] = 0.010\n",
      " Average Precision  (AP) @[ IoU=0.50:0.95 | area= small | maxDets=100 ] = 0.000\n",
      " Average Precision  (AP) @[ IoU=0.50:0.95 | area=medium | maxDets=100 ] = 0.002\n",
      " Average Precision  (AP) @[ IoU=0.50:0.95 | area= large | maxDets=100 ] = 0.165\n",
      " Average Recall     (AR) @[ IoU=0.50:0.95 | area=   all | maxDets=  1 ] = 0.002\n",
      " Average Recall     (AR) @[ IoU=0.50:0.95 | area=   all | maxDets= 10 ] = 0.003\n",
      " Average Recall     (AR) @[ IoU=0.50:0.95 | area=   all | maxDets=100 ] = 0.008\n",
      " Average Recall     (AR) @[ IoU=0.50:0.95 | area= small | maxDets=100 ] = 0.001\n",
      " Average Recall     (AR) @[ IoU=0.50:0.95 | area=medium | maxDets=100 ] = 0.056\n",
      " Average Recall     (AR) @[ IoU=0.50:0.95 | area= large | maxDets=100 ] = 0.254\n"
     ]
    },
    {
     "name": "stderr",
     "output_type": "stream",
     "text": [
      "INFO:detectree2.models.train:Loss on Validation  done 11/170. 0.0001 s / img. ETA=0:00:21\n",
      "INFO:detectree2.models.train:Loss on Validation  done 40/170. 0.0001 s / img. ETA=0:00:21\n",
      "INFO:detectree2.models.train:Loss on Validation  done 69/170. 0.0001 s / img. ETA=0:00:17\n",
      "INFO:detectree2.models.train:Loss on Validation  done 99/170. 0.0001 s / img. ETA=0:00:12\n",
      "INFO:detectree2.models.train:Loss on Validation  done 130/170. 0.0001 s / img. ETA=0:00:06\n",
      "INFO:detectree2.models.train:Loss on Validation  done 160/170. 0.0001 s / img. ETA=0:00:01\n",
      "INFO:detectron2.data.dataset_mapper:[DatasetMapper] Augmentations used in inference: []\n",
      "INFO:detectree2.models.train:[FlexibleDatasetMapper] Augmentations used in inference: []\n",
      "INFO:detectron2.data.common:Serializing the dataset using: <class 'detectron2.data.common._TorchSerializedList'>\n",
      "INFO:detectron2.data.common:Serializing 170 elements to byte tensors and concatenating them all ...\n",
      "INFO:detectron2.data.common:Serialized dataset takes 8.90 MiB\n",
      "WARNING:detectron2.evaluation.coco_evaluation:COCO Evaluator instantiated using config, this is deprecated behavior. Please pass in explicit arguments instead.\n",
      "INFO:detectron2.evaluation.evaluator:Start inference on 170 batches\n",
      "INFO:detectron2.evaluation.evaluator:Inference done 11/170. Dataloading: 0.0007 s/iter. Inference: 0.0589 s/iter. Eval: 0.0179 s/iter. Total: 0.0775 s/iter. ETA=0:00:12\n",
      "INFO:detectron2.evaluation.evaluator:Inference done 73/170. Dataloading: 0.0010 s/iter. Inference: 0.0570 s/iter. Eval: 0.0223 s/iter. Total: 0.0804 s/iter. ETA=0:00:07\n",
      "INFO:detectron2.evaluation.evaluator:Inference done 141/170. Dataloading: 0.0010 s/iter. Inference: 0.0563 s/iter. Eval: 0.0201 s/iter. Total: 0.0774 s/iter. ETA=0:00:02\n",
      "INFO:detectron2.evaluation.evaluator:Total inference time: 0:00:12.743465 (0.077233 s / iter per device, on 1 devices)\n",
      "INFO:detectron2.evaluation.evaluator:Total inference pure compute time: 0:00:09 (0.056073 s / iter per device, on 1 devices)\n",
      "INFO:detectron2.evaluation.coco_evaluation:Preparing results for COCO format ...\n",
      "INFO:detectron2.evaluation.coco_evaluation:Saving results to eval/coco_instances_results.json\n",
      "INFO:detectron2.evaluation.coco_evaluation:Evaluating predictions with unofficial COCO API...\n",
      "INFO:detectron2.evaluation.fast_eval_api:Evaluate annotation type *bbox*\n",
      "INFO:detectron2.evaluation.fast_eval_api:COCOeval_opt.evaluate() finished in 0.18 seconds.\n",
      "INFO:detectron2.evaluation.fast_eval_api:Accumulating evaluation results...\n",
      "INFO:detectron2.evaluation.fast_eval_api:COCOeval_opt.accumulate() finished in 0.03 seconds.\n"
     ]
    },
    {
     "name": "stdout",
     "output_type": "stream",
     "text": [
      "Loading and preparing results...\n",
      "DONE (t=0.01s)\n",
      "creating index...\n",
      "index created!\n"
     ]
    },
    {
     "name": "stderr",
     "output_type": "stream",
     "text": [
      "INFO:detectron2.evaluation.coco_evaluation:Evaluation results for bbox: \n",
      "|  AP   |  AP50  |  AP75  |  APs  |  APm  |  APl   |\n",
      "|:-----:|:------:|:------:|:-----:|:-----:|:------:|\n",
      "| 0.992 | 1.245  | 0.997  | 0.014 | 0.567 | 34.156 |\n"
     ]
    },
    {
     "name": "stdout",
     "output_type": "stream",
     "text": [
      " Average Precision  (AP) @[ IoU=0.50:0.95 | area=   all | maxDets=100 ] = 0.010\n",
      " Average Precision  (AP) @[ IoU=0.50      | area=   all | maxDets=100 ] = 0.012\n",
      " Average Precision  (AP) @[ IoU=0.75      | area=   all | maxDets=100 ] = 0.010\n",
      " Average Precision  (AP) @[ IoU=0.50:0.95 | area= small | maxDets=100 ] = 0.000\n",
      " Average Precision  (AP) @[ IoU=0.50:0.95 | area=medium | maxDets=100 ] = 0.006\n",
      " Average Precision  (AP) @[ IoU=0.50:0.95 | area= large | maxDets=100 ] = 0.342\n",
      " Average Recall     (AR) @[ IoU=0.50:0.95 | area=   all | maxDets=  1 ] = 0.003\n",
      " Average Recall     (AR) @[ IoU=0.50:0.95 | area=   all | maxDets= 10 ] = 0.006\n",
      " Average Recall     (AR) @[ IoU=0.50:0.95 | area=   all | maxDets=100 ] = 0.029\n",
      " Average Recall     (AR) @[ IoU=0.50:0.95 | area= small | maxDets=100 ] = 0.005\n",
      " Average Recall     (AR) @[ IoU=0.50:0.95 | area=medium | maxDets=100 ] = 0.192\n",
      " Average Recall     (AR) @[ IoU=0.50:0.95 | area= large | maxDets=100 ] = 0.629\n"
     ]
    },
    {
     "name": "stderr",
     "output_type": "stream",
     "text": [
      "INFO:detectron2.evaluation.fast_eval_api:Evaluate annotation type *segm*\n"
     ]
    },
    {
     "name": "stdout",
     "output_type": "stream",
     "text": [
      "Loading and preparing results...\n",
      "DONE (t=0.13s)\n",
      "creating index...\n",
      "index created!\n"
     ]
    },
    {
     "name": "stderr",
     "output_type": "stream",
     "text": [
      "INFO:detectron2.evaluation.fast_eval_api:COCOeval_opt.evaluate() finished in 0.37 seconds.\n",
      "INFO:detectron2.evaluation.fast_eval_api:Accumulating evaluation results...\n",
      "INFO:detectron2.evaluation.fast_eval_api:COCOeval_opt.accumulate() finished in 0.03 seconds.\n",
      "INFO:detectron2.evaluation.coco_evaluation:Evaluation results for segm: \n",
      "|  AP   |  AP50  |  AP75  |  APs  |  APm  |  APl   |\n",
      "|:-----:|:------:|:------:|:-----:|:-----:|:------:|\n",
      "| 0.702 | 1.035  | 0.990  | 0.001 | 0.151 | 16.547 |\n",
      "INFO:detectron2.engine.defaults:Evaluation results for griffith_val in csv format:\n",
      "INFO:detectron2.evaluation.testing:copypaste: Task: bbox\n",
      "INFO:detectron2.evaluation.testing:copypaste: AP,AP50,AP75,APs,APm,APl\n",
      "INFO:detectron2.evaluation.testing:copypaste: 0.9919,1.2453,0.9974,0.0138,0.5673,34.1561\n",
      "INFO:detectron2.evaluation.testing:copypaste: Task: segm\n",
      "INFO:detectron2.evaluation.testing:copypaste: AP,AP50,AP75,APs,APm,APl\n",
      "INFO:detectron2.evaluation.testing:copypaste: 0.7023,1.0350,0.9901,0.0006,0.1513,16.5473\n",
      "INFO:detectron2.utils.events: eta: 0:17:07  iter: 1499  total_loss: 1.42  loss_cls: 0.1531  loss_box_reg: 0.1047  loss_mask: 0.4345  loss_rpn_cls: 0.2422  loss_rpn_loc: 0.2718  validation_loss: 1.844    time: 0.7018  last_time: 0.6808  data_time: 0.0056  last_data_time: 0.0043   lr: 0.0003389  max_mem: 3999M\n"
     ]
    },
    {
     "name": "stdout",
     "output_type": "stream",
     "text": [
      " Average Precision  (AP) @[ IoU=0.50:0.95 | area=   all | maxDets=100 ] = 0.007\n",
      " Average Precision  (AP) @[ IoU=0.50      | area=   all | maxDets=100 ] = 0.010\n",
      " Average Precision  (AP) @[ IoU=0.75      | area=   all | maxDets=100 ] = 0.010\n",
      " Average Precision  (AP) @[ IoU=0.50:0.95 | area= small | maxDets=100 ] = 0.000\n",
      " Average Precision  (AP) @[ IoU=0.50:0.95 | area=medium | maxDets=100 ] = 0.002\n",
      " Average Precision  (AP) @[ IoU=0.50:0.95 | area= large | maxDets=100 ] = 0.165\n",
      " Average Recall     (AR) @[ IoU=0.50:0.95 | area=   all | maxDets=  1 ] = 0.002\n",
      " Average Recall     (AR) @[ IoU=0.50:0.95 | area=   all | maxDets= 10 ] = 0.003\n",
      " Average Recall     (AR) @[ IoU=0.50:0.95 | area=   all | maxDets=100 ] = 0.008\n",
      " Average Recall     (AR) @[ IoU=0.50:0.95 | area= small | maxDets=100 ] = 0.001\n",
      " Average Recall     (AR) @[ IoU=0.50:0.95 | area=medium | maxDets=100 ] = 0.056\n",
      " Average Recall     (AR) @[ IoU=0.50:0.95 | area= large | maxDets=100 ] = 0.254\n",
      "Av. segm AP50 = 1.0349509107436188\n"
     ]
    },
    {
     "name": "stderr",
     "output_type": "stream",
     "text": [
      "INFO:detectron2.utils.events: eta: 0:16:53  iter: 1519  total_loss: 1.356  loss_cls: 0.111  loss_box_reg: 0.07215  loss_mask: 0.4317  loss_rpn_cls: 0.2688  loss_rpn_loc: 0.3402  validation_loss: 1.844    time: 0.7018  last_time: 0.6697  data_time: 0.0058  last_data_time: 0.0069   lr: 0.0003389  max_mem: 3999M\n",
      "INFO:detectron2.utils.events: eta: 0:16:40  iter: 1539  total_loss: 1.592  loss_cls: 0.1941  loss_box_reg: 0.1672  loss_mask: 0.4621  loss_rpn_cls: 0.3052  loss_rpn_loc: 0.4578  validation_loss: 1.844    time: 0.7020  last_time: 0.6754  data_time: 0.0057  last_data_time: 0.0048   lr: 0.0003389  max_mem: 3999M\n",
      "INFO:detectron2.utils.events: eta: 0:16:26  iter: 1559  total_loss: 1.126  loss_cls: 0.09995  loss_box_reg: 0.08968  loss_mask: 0.3904  loss_rpn_cls: 0.2089  loss_rpn_loc: 0.2867  validation_loss: 1.844    time: 0.7018  last_time: 0.7141  data_time: 0.0052  last_data_time: 0.0051   lr: 0.0003389  max_mem: 3999M\n",
      "INFO:detectron2.utils.events: eta: 0:16:12  iter: 1579  total_loss: 1.196  loss_cls: 0.1101  loss_box_reg: 0.0713  loss_mask: 0.4211  loss_rpn_cls: 0.2211  loss_rpn_loc: 0.2469  validation_loss: 1.844    time: 0.7019  last_time: 0.7658  data_time: 0.0052  last_data_time: 0.0051   lr: 0.0003389  max_mem: 3999M\n",
      "INFO:detectron2.data.dataset_mapper:[DatasetMapper] Augmentations used in inference: []\n",
      "INFO:detectree2.models.train:[FlexibleDatasetMapper] Augmentations used in inference: []\n",
      "INFO:detectron2.data.common:Serializing the dataset using: <class 'detectron2.data.common._TorchSerializedList'>\n",
      "INFO:detectron2.data.common:Serializing 170 elements to byte tensors and concatenating them all ...\n",
      "INFO:detectron2.data.common:Serialized dataset takes 8.90 MiB\n",
      "WARNING:detectron2.evaluation.coco_evaluation:COCO Evaluator instantiated using config, this is deprecated behavior. Please pass in explicit arguments instead.\n",
      "INFO:detectron2.evaluation.evaluator:Start inference on 170 batches\n",
      "INFO:detectron2.evaluation.evaluator:Inference done 11/170. Dataloading: 0.0007 s/iter. Inference: 0.0574 s/iter. Eval: 0.0179 s/iter. Total: 0.0761 s/iter. ETA=0:00:12\n",
      "INFO:detectron2.evaluation.evaluator:Inference done 74/170. Dataloading: 0.0010 s/iter. Inference: 0.0558 s/iter. Eval: 0.0223 s/iter. Total: 0.0791 s/iter. ETA=0:00:07\n",
      "INFO:detectron2.evaluation.evaluator:Inference done 143/170. Dataloading: 0.0010 s/iter. Inference: 0.0553 s/iter. Eval: 0.0199 s/iter. Total: 0.0763 s/iter. ETA=0:00:02\n",
      "INFO:detectron2.evaluation.evaluator:Total inference time: 0:00:12.563180 (0.076140 s / iter per device, on 1 devices)\n",
      "INFO:detectron2.evaluation.evaluator:Total inference pure compute time: 0:00:09 (0.055085 s / iter per device, on 1 devices)\n",
      "INFO:detectron2.evaluation.coco_evaluation:Preparing results for COCO format ...\n",
      "INFO:detectron2.evaluation.coco_evaluation:Saving results to eval/coco_instances_results.json\n",
      "INFO:detectron2.evaluation.coco_evaluation:Evaluating predictions with unofficial COCO API...\n",
      "INFO:detectron2.evaluation.fast_eval_api:Evaluate annotation type *bbox*\n",
      "INFO:detectron2.evaluation.fast_eval_api:COCOeval_opt.evaluate() finished in 0.18 seconds.\n",
      "INFO:detectron2.evaluation.fast_eval_api:Accumulating evaluation results...\n",
      "INFO:detectron2.evaluation.fast_eval_api:COCOeval_opt.accumulate() finished in 0.03 seconds.\n"
     ]
    },
    {
     "name": "stdout",
     "output_type": "stream",
     "text": [
      "Loading and preparing results...\n",
      "DONE (t=0.01s)\n",
      "creating index...\n",
      "index created!\n"
     ]
    },
    {
     "name": "stderr",
     "output_type": "stream",
     "text": [
      "INFO:detectron2.evaluation.coco_evaluation:Evaluation results for bbox: \n",
      "|  AP   |  AP50  |  AP75  |  APs  |  APm  |  APl   |\n",
      "|:-----:|:------:|:------:|:-----:|:-----:|:------:|\n",
      "| 1.019 | 1.129  | 0.996  | 0.003 | 0.488 | 34.430 |\n"
     ]
    },
    {
     "name": "stdout",
     "output_type": "stream",
     "text": [
      " Average Precision  (AP) @[ IoU=0.50:0.95 | area=   all | maxDets=100 ] = 0.010\n",
      " Average Precision  (AP) @[ IoU=0.50      | area=   all | maxDets=100 ] = 0.011\n",
      " Average Precision  (AP) @[ IoU=0.75      | area=   all | maxDets=100 ] = 0.010\n",
      " Average Precision  (AP) @[ IoU=0.50:0.95 | area= small | maxDets=100 ] = 0.000\n",
      " Average Precision  (AP) @[ IoU=0.50:0.95 | area=medium | maxDets=100 ] = 0.005\n",
      " Average Precision  (AP) @[ IoU=0.50:0.95 | area= large | maxDets=100 ] = 0.344\n",
      " Average Recall     (AR) @[ IoU=0.50:0.95 | area=   all | maxDets=  1 ] = 0.003\n",
      " Average Recall     (AR) @[ IoU=0.50:0.95 | area=   all | maxDets= 10 ] = 0.006\n",
      " Average Recall     (AR) @[ IoU=0.50:0.95 | area=   all | maxDets=100 ] = 0.021\n",
      " Average Recall     (AR) @[ IoU=0.50:0.95 | area= small | maxDets=100 ] = 0.004\n",
      " Average Recall     (AR) @[ IoU=0.50:0.95 | area=medium | maxDets=100 ] = 0.134\n",
      " Average Recall     (AR) @[ IoU=0.50:0.95 | area= large | maxDets=100 ] = 0.596\n"
     ]
    },
    {
     "name": "stderr",
     "output_type": "stream",
     "text": [
      "INFO:detectron2.evaluation.fast_eval_api:Evaluate annotation type *segm*\n"
     ]
    },
    {
     "name": "stdout",
     "output_type": "stream",
     "text": [
      "Loading and preparing results...\n",
      "DONE (t=0.13s)\n",
      "creating index...\n",
      "index created!\n"
     ]
    },
    {
     "name": "stderr",
     "output_type": "stream",
     "text": [
      "INFO:detectron2.evaluation.fast_eval_api:COCOeval_opt.evaluate() finished in 0.36 seconds.\n",
      "INFO:detectron2.evaluation.fast_eval_api:Accumulating evaluation results...\n",
      "INFO:detectron2.evaluation.fast_eval_api:COCOeval_opt.accumulate() finished in 0.03 seconds.\n",
      "INFO:detectron2.evaluation.coco_evaluation:Evaluation results for segm: \n",
      "|  AP   |  AP50  |  AP75  |  APs  |  APm  |  APl   |\n",
      "|:-----:|:------:|:------:|:-----:|:-----:|:------:|\n",
      "| 0.602 | 1.027  | 0.396  | 0.001 | 0.187 | 16.345 |\n",
      "INFO:detectron2.engine.defaults:Evaluation results for griffith_val in csv format:\n",
      "INFO:detectron2.evaluation.testing:copypaste: Task: bbox\n",
      "INFO:detectron2.evaluation.testing:copypaste: AP,AP50,AP75,APs,APm,APl\n",
      "INFO:detectron2.evaluation.testing:copypaste: 1.0195,1.1290,0.9962,0.0032,0.4883,34.4302\n",
      "INFO:detectron2.evaluation.testing:copypaste: Task: segm\n",
      "INFO:detectron2.evaluation.testing:copypaste: AP,AP50,AP75,APs,APm,APl\n",
      "INFO:detectron2.evaluation.testing:copypaste: 0.6018,1.0267,0.3960,0.0006,0.1875,16.3449\n"
     ]
    },
    {
     "name": "stdout",
     "output_type": "stream",
     "text": [
      " Average Precision  (AP) @[ IoU=0.50:0.95 | area=   all | maxDets=100 ] = 0.006\n",
      " Average Precision  (AP) @[ IoU=0.50      | area=   all | maxDets=100 ] = 0.010\n",
      " Average Precision  (AP) @[ IoU=0.75      | area=   all | maxDets=100 ] = 0.004\n",
      " Average Precision  (AP) @[ IoU=0.50:0.95 | area= small | maxDets=100 ] = 0.000\n",
      " Average Precision  (AP) @[ IoU=0.50:0.95 | area=medium | maxDets=100 ] = 0.002\n",
      " Average Precision  (AP) @[ IoU=0.50:0.95 | area= large | maxDets=100 ] = 0.163\n",
      " Average Recall     (AR) @[ IoU=0.50:0.95 | area=   all | maxDets=  1 ] = 0.002\n",
      " Average Recall     (AR) @[ IoU=0.50:0.95 | area=   all | maxDets= 10 ] = 0.004\n",
      " Average Recall     (AR) @[ IoU=0.50:0.95 | area=   all | maxDets=100 ] = 0.009\n",
      " Average Recall     (AR) @[ IoU=0.50:0.95 | area= small | maxDets=100 ] = 0.001\n",
      " Average Recall     (AR) @[ IoU=0.50:0.95 | area=medium | maxDets=100 ] = 0.053\n",
      " Average Recall     (AR) @[ IoU=0.50:0.95 | area= large | maxDets=100 ] = 0.275\n"
     ]
    },
    {
     "name": "stderr",
     "output_type": "stream",
     "text": [
      "INFO:detectree2.models.train:Loss on Validation  done 11/170. 0.0001 s / img. ETA=0:00:21\n",
      "INFO:detectree2.models.train:Loss on Validation  done 40/170. 0.0001 s / img. ETA=0:00:21\n",
      "INFO:detectree2.models.train:Loss on Validation  done 69/170. 0.0001 s / img. ETA=0:00:17\n",
      "INFO:detectree2.models.train:Loss on Validation  done 99/170. 0.0001 s / img. ETA=0:00:12\n",
      "INFO:detectree2.models.train:Loss on Validation  done 130/170. 0.0001 s / img. ETA=0:00:06\n",
      "INFO:detectree2.models.train:Loss on Validation  done 160/170. 0.0001 s / img. ETA=0:00:01\n",
      "INFO:detectron2.data.dataset_mapper:[DatasetMapper] Augmentations used in inference: []\n",
      "INFO:detectree2.models.train:[FlexibleDatasetMapper] Augmentations used in inference: []\n",
      "INFO:detectron2.data.common:Serializing the dataset using: <class 'detectron2.data.common._TorchSerializedList'>\n",
      "INFO:detectron2.data.common:Serializing 170 elements to byte tensors and concatenating them all ...\n",
      "INFO:detectron2.data.common:Serialized dataset takes 8.90 MiB\n",
      "WARNING:detectron2.evaluation.coco_evaluation:COCO Evaluator instantiated using config, this is deprecated behavior. Please pass in explicit arguments instead.\n",
      "INFO:detectron2.evaluation.evaluator:Start inference on 170 batches\n",
      "INFO:detectron2.evaluation.evaluator:Inference done 11/170. Dataloading: 0.0006 s/iter. Inference: 0.0569 s/iter. Eval: 0.0177 s/iter. Total: 0.0752 s/iter. ETA=0:00:11\n",
      "INFO:detectron2.evaluation.evaluator:Inference done 79/170. Dataloading: 0.0010 s/iter. Inference: 0.0556 s/iter. Eval: 0.0177 s/iter. Total: 0.0743 s/iter. ETA=0:00:06\n",
      "INFO:detectron2.evaluation.evaluator:Inference done 144/170. Dataloading: 0.0010 s/iter. Inference: 0.0550 s/iter. Eval: 0.0199 s/iter. Total: 0.0760 s/iter. ETA=0:00:01\n",
      "INFO:detectron2.evaluation.evaluator:Total inference time: 0:00:12.512579 (0.075834 s / iter per device, on 1 devices)\n",
      "INFO:detectron2.evaluation.evaluator:Total inference pure compute time: 0:00:09 (0.054878 s / iter per device, on 1 devices)\n",
      "INFO:detectron2.evaluation.coco_evaluation:Preparing results for COCO format ...\n",
      "INFO:detectron2.evaluation.coco_evaluation:Saving results to eval/coco_instances_results.json\n",
      "INFO:detectron2.evaluation.coco_evaluation:Evaluating predictions with unofficial COCO API...\n",
      "INFO:detectron2.evaluation.fast_eval_api:Evaluate annotation type *bbox*\n",
      "INFO:detectron2.evaluation.fast_eval_api:COCOeval_opt.evaluate() finished in 0.18 seconds.\n",
      "INFO:detectron2.evaluation.fast_eval_api:Accumulating evaluation results...\n",
      "INFO:detectron2.evaluation.fast_eval_api:COCOeval_opt.accumulate() finished in 0.03 seconds.\n"
     ]
    },
    {
     "name": "stdout",
     "output_type": "stream",
     "text": [
      "Loading and preparing results...\n",
      "DONE (t=0.01s)\n",
      "creating index...\n",
      "index created!\n"
     ]
    },
    {
     "name": "stderr",
     "output_type": "stream",
     "text": [
      "INFO:detectron2.evaluation.coco_evaluation:Evaluation results for bbox: \n",
      "|  AP   |  AP50  |  AP75  |  APs  |  APm  |  APl   |\n",
      "|:-----:|:------:|:------:|:-----:|:-----:|:------:|\n",
      "| 1.019 | 1.129  | 0.996  | 0.003 | 0.488 | 34.430 |\n"
     ]
    },
    {
     "name": "stdout",
     "output_type": "stream",
     "text": [
      " Average Precision  (AP) @[ IoU=0.50:0.95 | area=   all | maxDets=100 ] = 0.010\n",
      " Average Precision  (AP) @[ IoU=0.50      | area=   all | maxDets=100 ] = 0.011\n",
      " Average Precision  (AP) @[ IoU=0.75      | area=   all | maxDets=100 ] = 0.010\n",
      " Average Precision  (AP) @[ IoU=0.50:0.95 | area= small | maxDets=100 ] = 0.000\n",
      " Average Precision  (AP) @[ IoU=0.50:0.95 | area=medium | maxDets=100 ] = 0.005\n",
      " Average Precision  (AP) @[ IoU=0.50:0.95 | area= large | maxDets=100 ] = 0.344\n",
      " Average Recall     (AR) @[ IoU=0.50:0.95 | area=   all | maxDets=  1 ] = 0.003\n",
      " Average Recall     (AR) @[ IoU=0.50:0.95 | area=   all | maxDets= 10 ] = 0.006\n",
      " Average Recall     (AR) @[ IoU=0.50:0.95 | area=   all | maxDets=100 ] = 0.021\n",
      " Average Recall     (AR) @[ IoU=0.50:0.95 | area= small | maxDets=100 ] = 0.004\n",
      " Average Recall     (AR) @[ IoU=0.50:0.95 | area=medium | maxDets=100 ] = 0.134\n",
      " Average Recall     (AR) @[ IoU=0.50:0.95 | area= large | maxDets=100 ] = 0.596\n"
     ]
    },
    {
     "name": "stderr",
     "output_type": "stream",
     "text": [
      "INFO:detectron2.evaluation.fast_eval_api:Evaluate annotation type *segm*\n"
     ]
    },
    {
     "name": "stdout",
     "output_type": "stream",
     "text": [
      "Loading and preparing results...\n",
      "DONE (t=0.13s)\n",
      "creating index...\n",
      "index created!\n"
     ]
    },
    {
     "name": "stderr",
     "output_type": "stream",
     "text": [
      "INFO:detectron2.evaluation.fast_eval_api:COCOeval_opt.evaluate() finished in 0.35 seconds.\n",
      "INFO:detectron2.evaluation.fast_eval_api:Accumulating evaluation results...\n",
      "INFO:detectron2.evaluation.fast_eval_api:COCOeval_opt.accumulate() finished in 0.03 seconds.\n",
      "INFO:detectron2.evaluation.coco_evaluation:Evaluation results for segm: \n",
      "|  AP   |  AP50  |  AP75  |  APs  |  APm  |  APl   |\n",
      "|:-----:|:------:|:------:|:-----:|:-----:|:------:|\n",
      "| 0.602 | 1.027  | 0.396  | 0.001 | 0.187 | 16.345 |\n",
      "INFO:detectron2.engine.defaults:Evaluation results for griffith_val in csv format:\n",
      "INFO:detectron2.evaluation.testing:copypaste: Task: bbox\n",
      "INFO:detectron2.evaluation.testing:copypaste: AP,AP50,AP75,APs,APm,APl\n",
      "INFO:detectron2.evaluation.testing:copypaste: 1.0195,1.1290,0.9962,0.0032,0.4883,34.4302\n",
      "INFO:detectron2.evaluation.testing:copypaste: Task: segm\n",
      "INFO:detectron2.evaluation.testing:copypaste: AP,AP50,AP75,APs,APm,APl\n",
      "INFO:detectron2.evaluation.testing:copypaste: 0.6018,1.0267,0.3960,0.0006,0.1875,16.3449\n",
      "INFO:detectron2.utils.events: eta: 0:15:59  iter: 1599  total_loss: 1.573  loss_cls: 0.1747  loss_box_reg: 0.1534  loss_mask: 0.4187  loss_rpn_cls: 0.2275  loss_rpn_loc: 0.423  validation_loss: 1.853    time: 0.7021  last_time: 0.6766  data_time: 0.0064  last_data_time: 0.0044   lr: 0.0003389  max_mem: 3999M\n"
     ]
    },
    {
     "name": "stdout",
     "output_type": "stream",
     "text": [
      " Average Precision  (AP) @[ IoU=0.50:0.95 | area=   all | maxDets=100 ] = 0.006\n",
      " Average Precision  (AP) @[ IoU=0.50      | area=   all | maxDets=100 ] = 0.010\n",
      " Average Precision  (AP) @[ IoU=0.75      | area=   all | maxDets=100 ] = 0.004\n",
      " Average Precision  (AP) @[ IoU=0.50:0.95 | area= small | maxDets=100 ] = 0.000\n",
      " Average Precision  (AP) @[ IoU=0.50:0.95 | area=medium | maxDets=100 ] = 0.002\n",
      " Average Precision  (AP) @[ IoU=0.50:0.95 | area= large | maxDets=100 ] = 0.163\n",
      " Average Recall     (AR) @[ IoU=0.50:0.95 | area=   all | maxDets=  1 ] = 0.002\n",
      " Average Recall     (AR) @[ IoU=0.50:0.95 | area=   all | maxDets= 10 ] = 0.004\n",
      " Average Recall     (AR) @[ IoU=0.50:0.95 | area=   all | maxDets=100 ] = 0.009\n",
      " Average Recall     (AR) @[ IoU=0.50:0.95 | area= small | maxDets=100 ] = 0.001\n",
      " Average Recall     (AR) @[ IoU=0.50:0.95 | area=medium | maxDets=100 ] = 0.053\n",
      " Average Recall     (AR) @[ IoU=0.50:0.95 | area= large | maxDets=100 ] = 0.275\n",
      "Av. segm AP50 = 1.0266667897478738\n"
     ]
    },
    {
     "name": "stderr",
     "output_type": "stream",
     "text": [
      "INFO:detectron2.utils.events: eta: 0:15:46  iter: 1619  total_loss: 1.294  loss_cls: 0.1157  loss_box_reg: 0.09972  loss_mask: 0.4084  loss_rpn_cls: 0.1815  loss_rpn_loc: 0.3689  validation_loss: 1.853    time: 0.7020  last_time: 0.6486  data_time: 0.0051  last_data_time: 0.0040   lr: 0.0003389  max_mem: 3999M\n",
      "INFO:detectron2.utils.events: eta: 0:15:33  iter: 1639  total_loss: 1.16  loss_cls: 0.1208  loss_box_reg: 0.1069  loss_mask: 0.4128  loss_rpn_cls: 0.2376  loss_rpn_loc: 0.2146  validation_loss: 1.853    time: 0.7021  last_time: 0.8209  data_time: 0.0056  last_data_time: 0.0077   lr: 0.0003389  max_mem: 3999M\n",
      "INFO:detectron2.utils.events: eta: 0:15:20  iter: 1659  total_loss: 1.644  loss_cls: 0.1297  loss_box_reg: 0.1942  loss_mask: 0.4201  loss_rpn_cls: 0.2673  loss_rpn_loc: 0.4791  validation_loss: 1.853    time: 0.7024  last_time: 0.7755  data_time: 0.0062  last_data_time: 0.0096   lr: 0.0003389  max_mem: 3999M\n",
      "INFO:detectron2.utils.events: eta: 0:15:07  iter: 1679  total_loss: 1.407  loss_cls: 0.1955  loss_box_reg: 0.1233  loss_mask: 0.4599  loss_rpn_cls: 0.2337  loss_rpn_loc: 0.3046  validation_loss: 1.853    time: 0.7025  last_time: 0.7507  data_time: 0.0060  last_data_time: 0.0084   lr: 0.0003389  max_mem: 3999M\n",
      "INFO:detectron2.data.dataset_mapper:[DatasetMapper] Augmentations used in inference: []\n",
      "INFO:detectree2.models.train:[FlexibleDatasetMapper] Augmentations used in inference: []\n",
      "INFO:detectron2.data.common:Serializing the dataset using: <class 'detectron2.data.common._TorchSerializedList'>\n",
      "INFO:detectron2.data.common:Serializing 170 elements to byte tensors and concatenating them all ...\n",
      "INFO:detectron2.data.common:Serialized dataset takes 8.90 MiB\n",
      "WARNING:detectron2.evaluation.coco_evaluation:COCO Evaluator instantiated using config, this is deprecated behavior. Please pass in explicit arguments instead.\n",
      "INFO:detectron2.evaluation.evaluator:Start inference on 170 batches\n",
      "INFO:detectron2.evaluation.evaluator:Inference done 11/170. Dataloading: 0.0007 s/iter. Inference: 0.0563 s/iter. Eval: 0.0170 s/iter. Total: 0.0740 s/iter. ETA=0:00:11\n",
      "INFO:detectron2.evaluation.evaluator:Inference done 83/170. Dataloading: 0.0010 s/iter. Inference: 0.0527 s/iter. Eval: 0.0160 s/iter. Total: 0.0698 s/iter. ETA=0:00:06\n",
      "INFO:detectron2.evaluation.evaluator:Inference done 155/170. Dataloading: 0.0010 s/iter. Inference: 0.0528 s/iter. Eval: 0.0179 s/iter. Total: 0.0718 s/iter. ETA=0:00:01\n",
      "INFO:detectron2.evaluation.evaluator:Total inference time: 0:00:11.839422 (0.071754 s / iter per device, on 1 devices)\n",
      "INFO:detectron2.evaluation.evaluator:Total inference pure compute time: 0:00:08 (0.052621 s / iter per device, on 1 devices)\n",
      "INFO:detectron2.evaluation.coco_evaluation:Preparing results for COCO format ...\n",
      "INFO:detectron2.evaluation.coco_evaluation:Saving results to eval/coco_instances_results.json\n",
      "INFO:detectron2.evaluation.coco_evaluation:Evaluating predictions with unofficial COCO API...\n",
      "INFO:detectron2.evaluation.fast_eval_api:Evaluate annotation type *bbox*\n",
      "INFO:detectron2.evaluation.fast_eval_api:COCOeval_opt.evaluate() finished in 0.17 seconds.\n",
      "INFO:detectron2.evaluation.fast_eval_api:Accumulating evaluation results...\n"
     ]
    },
    {
     "name": "stdout",
     "output_type": "stream",
     "text": [
      "Loading and preparing results...\n",
      "DONE (t=0.01s)\n",
      "creating index...\n",
      "index created!\n"
     ]
    },
    {
     "name": "stderr",
     "output_type": "stream",
     "text": [
      "INFO:detectron2.evaluation.fast_eval_api:COCOeval_opt.accumulate() finished in 0.03 seconds.\n",
      "INFO:detectron2.evaluation.coco_evaluation:Evaluation results for bbox: \n",
      "|  AP   |  AP50  |  AP75  |  APs  |  APm  |  APl   |\n",
      "|:-----:|:------:|:------:|:-----:|:-----:|:------:|\n",
      "| 1.042 | 1.224  | 0.997  | 0.007 | 0.981 | 32.236 |\n"
     ]
    },
    {
     "name": "stdout",
     "output_type": "stream",
     "text": [
      " Average Precision  (AP) @[ IoU=0.50:0.95 | area=   all | maxDets=100 ] = 0.010\n",
      " Average Precision  (AP) @[ IoU=0.50      | area=   all | maxDets=100 ] = 0.012\n",
      " Average Precision  (AP) @[ IoU=0.75      | area=   all | maxDets=100 ] = 0.010\n",
      " Average Precision  (AP) @[ IoU=0.50:0.95 | area= small | maxDets=100 ] = 0.000\n",
      " Average Precision  (AP) @[ IoU=0.50:0.95 | area=medium | maxDets=100 ] = 0.010\n",
      " Average Precision  (AP) @[ IoU=0.50:0.95 | area= large | maxDets=100 ] = 0.322\n",
      " Average Recall     (AR) @[ IoU=0.50:0.95 | area=   all | maxDets=  1 ] = 0.003\n",
      " Average Recall     (AR) @[ IoU=0.50:0.95 | area=   all | maxDets= 10 ] = 0.008\n",
      " Average Recall     (AR) @[ IoU=0.50:0.95 | area=   all | maxDets=100 ] = 0.023\n",
      " Average Recall     (AR) @[ IoU=0.50:0.95 | area= small | maxDets=100 ] = 0.005\n",
      " Average Recall     (AR) @[ IoU=0.50:0.95 | area=medium | maxDets=100 ] = 0.139\n",
      " Average Recall     (AR) @[ IoU=0.50:0.95 | area= large | maxDets=100 ] = 0.607\n"
     ]
    },
    {
     "name": "stderr",
     "output_type": "stream",
     "text": [
      "INFO:detectron2.evaluation.fast_eval_api:Evaluate annotation type *segm*\n"
     ]
    },
    {
     "name": "stdout",
     "output_type": "stream",
     "text": [
      "Loading and preparing results...\n",
      "DONE (t=0.12s)\n",
      "creating index...\n",
      "index created!\n"
     ]
    },
    {
     "name": "stderr",
     "output_type": "stream",
     "text": [
      "INFO:detectron2.evaluation.fast_eval_api:COCOeval_opt.evaluate() finished in 0.34 seconds.\n",
      "INFO:detectron2.evaluation.fast_eval_api:Accumulating evaluation results...\n",
      "INFO:detectron2.evaluation.fast_eval_api:COCOeval_opt.accumulate() finished in 0.03 seconds.\n",
      "INFO:detectron2.evaluation.coco_evaluation:Evaluation results for segm: \n",
      "|  AP   |  AP50  |  AP75  |  APs  |  APm  |  APl   |\n",
      "|:-----:|:------:|:------:|:-----:|:-----:|:------:|\n",
      "| 0.605 | 1.079  | 0.495  | 0.001 | 0.398 | 17.553 |\n",
      "INFO:detectron2.engine.defaults:Evaluation results for griffith_val in csv format:\n",
      "INFO:detectron2.evaluation.testing:copypaste: Task: bbox\n",
      "INFO:detectron2.evaluation.testing:copypaste: AP,AP50,AP75,APs,APm,APl\n",
      "INFO:detectron2.evaluation.testing:copypaste: 1.0416,1.2243,0.9971,0.0071,0.9805,32.2356\n",
      "INFO:detectron2.evaluation.testing:copypaste: Task: segm\n",
      "INFO:detectron2.evaluation.testing:copypaste: AP,AP50,AP75,APs,APm,APl\n",
      "INFO:detectron2.evaluation.testing:copypaste: 0.6047,1.0785,0.4950,0.0012,0.3982,17.5535\n"
     ]
    },
    {
     "name": "stdout",
     "output_type": "stream",
     "text": [
      " Average Precision  (AP) @[ IoU=0.50:0.95 | area=   all | maxDets=100 ] = 0.006\n",
      " Average Precision  (AP) @[ IoU=0.50      | area=   all | maxDets=100 ] = 0.011\n",
      " Average Precision  (AP) @[ IoU=0.75      | area=   all | maxDets=100 ] = 0.005\n",
      " Average Precision  (AP) @[ IoU=0.50:0.95 | area= small | maxDets=100 ] = 0.000\n",
      " Average Precision  (AP) @[ IoU=0.50:0.95 | area=medium | maxDets=100 ] = 0.004\n",
      " Average Precision  (AP) @[ IoU=0.50:0.95 | area= large | maxDets=100 ] = 0.176\n",
      " Average Recall     (AR) @[ IoU=0.50:0.95 | area=   all | maxDets=  1 ] = 0.002\n",
      " Average Recall     (AR) @[ IoU=0.50:0.95 | area=   all | maxDets= 10 ] = 0.006\n",
      " Average Recall     (AR) @[ IoU=0.50:0.95 | area=   all | maxDets=100 ] = 0.010\n",
      " Average Recall     (AR) @[ IoU=0.50:0.95 | area= small | maxDets=100 ] = 0.002\n",
      " Average Recall     (AR) @[ IoU=0.50:0.95 | area=medium | maxDets=100 ] = 0.064\n",
      " Average Recall     (AR) @[ IoU=0.50:0.95 | area= large | maxDets=100 ] = 0.282\n"
     ]
    },
    {
     "name": "stderr",
     "output_type": "stream",
     "text": [
      "INFO:detectree2.models.train:Loss on Validation  done 11/170. 0.0001 s / img. ETA=0:00:21\n",
      "INFO:detectree2.models.train:Loss on Validation  done 40/170. 0.0001 s / img. ETA=0:00:21\n",
      "INFO:detectree2.models.train:Loss on Validation  done 69/170. 0.0001 s / img. ETA=0:00:17\n",
      "INFO:detectree2.models.train:Loss on Validation  done 100/170. 0.0001 s / img. ETA=0:00:11\n",
      "INFO:detectree2.models.train:Loss on Validation  done 131/170. 0.0001 s / img. ETA=0:00:06\n",
      "INFO:detectree2.models.train:Loss on Validation  done 161/170. 0.0001 s / img. ETA=0:00:01\n",
      "INFO:detectron2.data.dataset_mapper:[DatasetMapper] Augmentations used in inference: []\n",
      "INFO:detectree2.models.train:[FlexibleDatasetMapper] Augmentations used in inference: []\n",
      "INFO:detectron2.data.common:Serializing the dataset using: <class 'detectron2.data.common._TorchSerializedList'>\n",
      "INFO:detectron2.data.common:Serializing 170 elements to byte tensors and concatenating them all ...\n",
      "INFO:detectron2.data.common:Serialized dataset takes 8.90 MiB\n",
      "WARNING:detectron2.evaluation.coco_evaluation:COCO Evaluator instantiated using config, this is deprecated behavior. Please pass in explicit arguments instead.\n",
      "INFO:detectron2.evaluation.evaluator:Start inference on 170 batches\n",
      "INFO:detectron2.evaluation.evaluator:Inference done 11/170. Dataloading: 0.0007 s/iter. Inference: 0.0561 s/iter. Eval: 0.0168 s/iter. Total: 0.0736 s/iter. ETA=0:00:11\n",
      "INFO:detectron2.evaluation.evaluator:Inference done 82/170. Dataloading: 0.0010 s/iter. Inference: 0.0538 s/iter. Eval: 0.0161 s/iter. Total: 0.0709 s/iter. ETA=0:00:06\n",
      "INFO:detectron2.evaluation.evaluator:Inference done 154/170. Dataloading: 0.0010 s/iter. Inference: 0.0536 s/iter. Eval: 0.0158 s/iter. Total: 0.0704 s/iter. ETA=0:00:01\n",
      "INFO:detectron2.evaluation.evaluator:Total inference time: 0:00:11.652755 (0.070623 s / iter per device, on 1 devices)\n",
      "INFO:detectron2.evaluation.evaluator:Total inference pure compute time: 0:00:08 (0.053448 s / iter per device, on 1 devices)\n",
      "INFO:detectron2.evaluation.coco_evaluation:Preparing results for COCO format ...\n",
      "INFO:detectron2.evaluation.coco_evaluation:Saving results to eval/coco_instances_results.json\n",
      "INFO:detectron2.evaluation.coco_evaluation:Evaluating predictions with unofficial COCO API...\n",
      "INFO:detectron2.evaluation.fast_eval_api:Evaluate annotation type *bbox*\n",
      "INFO:detectron2.evaluation.fast_eval_api:COCOeval_opt.evaluate() finished in 0.17 seconds.\n",
      "INFO:detectron2.evaluation.fast_eval_api:Accumulating evaluation results...\n",
      "INFO:detectron2.evaluation.fast_eval_api:COCOeval_opt.accumulate() finished in 0.03 seconds.\n"
     ]
    },
    {
     "name": "stdout",
     "output_type": "stream",
     "text": [
      "Loading and preparing results...\n",
      "DONE (t=0.01s)\n",
      "creating index...\n",
      "index created!\n"
     ]
    },
    {
     "name": "stderr",
     "output_type": "stream",
     "text": [
      "INFO:detectron2.evaluation.coco_evaluation:Evaluation results for bbox: \n",
      "|  AP   |  AP50  |  AP75  |  APs  |  APm  |  APl   |\n",
      "|:-----:|:------:|:------:|:-----:|:-----:|:------:|\n",
      "| 1.042 | 1.224  | 0.997  | 0.007 | 0.981 | 32.236 |\n"
     ]
    },
    {
     "name": "stdout",
     "output_type": "stream",
     "text": [
      " Average Precision  (AP) @[ IoU=0.50:0.95 | area=   all | maxDets=100 ] = 0.010\n",
      " Average Precision  (AP) @[ IoU=0.50      | area=   all | maxDets=100 ] = 0.012\n",
      " Average Precision  (AP) @[ IoU=0.75      | area=   all | maxDets=100 ] = 0.010\n",
      " Average Precision  (AP) @[ IoU=0.50:0.95 | area= small | maxDets=100 ] = 0.000\n",
      " Average Precision  (AP) @[ IoU=0.50:0.95 | area=medium | maxDets=100 ] = 0.010\n",
      " Average Precision  (AP) @[ IoU=0.50:0.95 | area= large | maxDets=100 ] = 0.322\n",
      " Average Recall     (AR) @[ IoU=0.50:0.95 | area=   all | maxDets=  1 ] = 0.003\n",
      " Average Recall     (AR) @[ IoU=0.50:0.95 | area=   all | maxDets= 10 ] = 0.008\n",
      " Average Recall     (AR) @[ IoU=0.50:0.95 | area=   all | maxDets=100 ] = 0.023\n",
      " Average Recall     (AR) @[ IoU=0.50:0.95 | area= small | maxDets=100 ] = 0.005\n",
      " Average Recall     (AR) @[ IoU=0.50:0.95 | area=medium | maxDets=100 ] = 0.139\n",
      " Average Recall     (AR) @[ IoU=0.50:0.95 | area= large | maxDets=100 ] = 0.607\n"
     ]
    },
    {
     "name": "stderr",
     "output_type": "stream",
     "text": [
      "INFO:detectron2.evaluation.fast_eval_api:Evaluate annotation type *segm*\n"
     ]
    },
    {
     "name": "stdout",
     "output_type": "stream",
     "text": [
      "Loading and preparing results...\n",
      "DONE (t=0.11s)\n",
      "creating index...\n",
      "index created!\n"
     ]
    },
    {
     "name": "stderr",
     "output_type": "stream",
     "text": [
      "INFO:detectron2.evaluation.fast_eval_api:COCOeval_opt.evaluate() finished in 0.34 seconds.\n",
      "INFO:detectron2.evaluation.fast_eval_api:Accumulating evaluation results...\n",
      "INFO:detectron2.evaluation.fast_eval_api:COCOeval_opt.accumulate() finished in 0.03 seconds.\n",
      "INFO:detectron2.evaluation.coco_evaluation:Evaluation results for segm: \n",
      "|  AP   |  AP50  |  AP75  |  APs  |  APm  |  APl   |\n",
      "|:-----:|:------:|:------:|:-----:|:-----:|:------:|\n",
      "| 0.605 | 1.079  | 0.495  | 0.001 | 0.398 | 17.553 |\n",
      "INFO:detectron2.engine.defaults:Evaluation results for griffith_val in csv format:\n",
      "INFO:detectron2.evaluation.testing:copypaste: Task: bbox\n",
      "INFO:detectron2.evaluation.testing:copypaste: AP,AP50,AP75,APs,APm,APl\n",
      "INFO:detectron2.evaluation.testing:copypaste: 1.0416,1.2243,0.9971,0.0071,0.9805,32.2356\n",
      "INFO:detectron2.evaluation.testing:copypaste: Task: segm\n",
      "INFO:detectron2.evaluation.testing:copypaste: AP,AP50,AP75,APs,APm,APl\n",
      "INFO:detectron2.evaluation.testing:copypaste: 0.6047,1.0785,0.4950,0.0012,0.3982,17.5535\n",
      "INFO:detectron2.utils.events: eta: 0:14:52  iter: 1699  total_loss: 1.072  loss_cls: 0.08376  loss_box_reg: 0.05322  loss_mask: 0.4445  loss_rpn_cls: 0.2136  loss_rpn_loc: 0.2887  validation_loss: 1.758    time: 0.7023  last_time: 0.7295  data_time: 0.0048  last_data_time: 0.0084   lr: 0.0003389  max_mem: 3999M\n"
     ]
    },
    {
     "name": "stdout",
     "output_type": "stream",
     "text": [
      " Average Precision  (AP) @[ IoU=0.50:0.95 | area=   all | maxDets=100 ] = 0.006\n",
      " Average Precision  (AP) @[ IoU=0.50      | area=   all | maxDets=100 ] = 0.011\n",
      " Average Precision  (AP) @[ IoU=0.75      | area=   all | maxDets=100 ] = 0.005\n",
      " Average Precision  (AP) @[ IoU=0.50:0.95 | area= small | maxDets=100 ] = 0.000\n",
      " Average Precision  (AP) @[ IoU=0.50:0.95 | area=medium | maxDets=100 ] = 0.004\n",
      " Average Precision  (AP) @[ IoU=0.50:0.95 | area= large | maxDets=100 ] = 0.176\n",
      " Average Recall     (AR) @[ IoU=0.50:0.95 | area=   all | maxDets=  1 ] = 0.002\n",
      " Average Recall     (AR) @[ IoU=0.50:0.95 | area=   all | maxDets= 10 ] = 0.006\n",
      " Average Recall     (AR) @[ IoU=0.50:0.95 | area=   all | maxDets=100 ] = 0.010\n",
      " Average Recall     (AR) @[ IoU=0.50:0.95 | area= small | maxDets=100 ] = 0.002\n",
      " Average Recall     (AR) @[ IoU=0.50:0.95 | area=medium | maxDets=100 ] = 0.064\n",
      " Average Recall     (AR) @[ IoU=0.50:0.95 | area= large | maxDets=100 ] = 0.282\n",
      "Av. segm AP50 = 1.078524896256233\n"
     ]
    },
    {
     "name": "stderr",
     "output_type": "stream",
     "text": [
      "INFO:detectron2.utils.events: eta: 0:14:39  iter: 1719  total_loss: 1.368  loss_cls: 0.07531  loss_box_reg: 0.05244  loss_mask: 0.4168  loss_rpn_cls: 0.2736  loss_rpn_loc: 0.3483  validation_loss: 1.758    time: 0.7021  last_time: 0.6639  data_time: 0.0052  last_data_time: 0.0088   lr: 0.0003389  max_mem: 3999M\n",
      "INFO:detectron2.utils.events: eta: 0:14:25  iter: 1739  total_loss: 1.029  loss_cls: 0.08461  loss_box_reg: 0.07728  loss_mask: 0.3754  loss_rpn_cls: 0.1864  loss_rpn_loc: 0.1824  validation_loss: 1.758    time: 0.7020  last_time: 0.6673  data_time: 0.0049  last_data_time: 0.0011   lr: 0.0003389  max_mem: 3999M\n",
      "INFO:detectron2.utils.events: eta: 0:14:11  iter: 1759  total_loss: 1.571  loss_cls: 0.1314  loss_box_reg: 0.1059  loss_mask: 0.4495  loss_rpn_cls: 0.2621  loss_rpn_loc: 0.3707  validation_loss: 1.758    time: 0.7020  last_time: 0.7518  data_time: 0.0053  last_data_time: 0.0059   lr: 0.0003389  max_mem: 3999M\n",
      "INFO:detectron2.utils.events: eta: 0:13:57  iter: 1779  total_loss: 1.351  loss_cls: 0.1229  loss_box_reg: 0.1208  loss_mask: 0.4472  loss_rpn_cls: 0.2357  loss_rpn_loc: 0.2617  validation_loss: 1.758    time: 0.7022  last_time: 0.6659  data_time: 0.0069  last_data_time: 0.0047   lr: 0.0003389  max_mem: 3999M\n",
      "INFO:detectron2.data.dataset_mapper:[DatasetMapper] Augmentations used in inference: []\n",
      "INFO:detectree2.models.train:[FlexibleDatasetMapper] Augmentations used in inference: []\n",
      "INFO:detectron2.data.common:Serializing the dataset using: <class 'detectron2.data.common._TorchSerializedList'>\n",
      "INFO:detectron2.data.common:Serializing 170 elements to byte tensors and concatenating them all ...\n",
      "INFO:detectron2.data.common:Serialized dataset takes 8.90 MiB\n",
      "WARNING:detectron2.evaluation.coco_evaluation:COCO Evaluator instantiated using config, this is deprecated behavior. Please pass in explicit arguments instead.\n",
      "INFO:detectron2.evaluation.evaluator:Start inference on 170 batches\n",
      "INFO:detectron2.evaluation.evaluator:Inference done 11/170. Dataloading: 0.0006 s/iter. Inference: 0.0574 s/iter. Eval: 0.0178 s/iter. Total: 0.0758 s/iter. ETA=0:00:12\n",
      "INFO:detectron2.evaluation.evaluator:Inference done 79/170. Dataloading: 0.0010 s/iter. Inference: 0.0562 s/iter. Eval: 0.0174 s/iter. Total: 0.0746 s/iter. ETA=0:00:06\n",
      "INFO:detectron2.evaluation.evaluator:Inference done 147/170. Dataloading: 0.0010 s/iter. Inference: 0.0558 s/iter. Eval: 0.0174 s/iter. Total: 0.0742 s/iter. ETA=0:00:01\n",
      "INFO:detectron2.evaluation.evaluator:Total inference time: 0:00:12.289877 (0.074484 s / iter per device, on 1 devices)\n",
      "INFO:detectron2.evaluation.evaluator:Total inference pure compute time: 0:00:09 (0.055677 s / iter per device, on 1 devices)\n",
      "INFO:detectron2.evaluation.coco_evaluation:Preparing results for COCO format ...\n",
      "INFO:detectron2.evaluation.coco_evaluation:Saving results to eval/coco_instances_results.json\n",
      "INFO:detectron2.evaluation.coco_evaluation:Evaluating predictions with unofficial COCO API...\n",
      "INFO:detectron2.evaluation.fast_eval_api:Evaluate annotation type *bbox*\n",
      "INFO:detectron2.evaluation.fast_eval_api:COCOeval_opt.evaluate() finished in 0.18 seconds.\n",
      "INFO:detectron2.evaluation.fast_eval_api:Accumulating evaluation results...\n"
     ]
    },
    {
     "name": "stdout",
     "output_type": "stream",
     "text": [
      "Loading and preparing results...\n",
      "DONE (t=0.01s)\n",
      "creating index...\n",
      "index created!\n"
     ]
    },
    {
     "name": "stderr",
     "output_type": "stream",
     "text": [
      "INFO:detectron2.evaluation.fast_eval_api:COCOeval_opt.accumulate() finished in 0.03 seconds.\n",
      "INFO:detectron2.evaluation.coco_evaluation:Evaluation results for bbox: \n",
      "|  AP   |  AP50  |  AP75  |  APs  |  APm  |  APl   |\n",
      "|:-----:|:------:|:------:|:-----:|:-----:|:------:|\n",
      "| 0.970 | 1.272  | 0.997  | 0.009 | 0.706 | 34.127 |\n"
     ]
    },
    {
     "name": "stdout",
     "output_type": "stream",
     "text": [
      " Average Precision  (AP) @[ IoU=0.50:0.95 | area=   all | maxDets=100 ] = 0.010\n",
      " Average Precision  (AP) @[ IoU=0.50      | area=   all | maxDets=100 ] = 0.013\n",
      " Average Precision  (AP) @[ IoU=0.75      | area=   all | maxDets=100 ] = 0.010\n",
      " Average Precision  (AP) @[ IoU=0.50:0.95 | area= small | maxDets=100 ] = 0.000\n",
      " Average Precision  (AP) @[ IoU=0.50:0.95 | area=medium | maxDets=100 ] = 0.007\n",
      " Average Precision  (AP) @[ IoU=0.50:0.95 | area= large | maxDets=100 ] = 0.341\n",
      " Average Recall     (AR) @[ IoU=0.50:0.95 | area=   all | maxDets=  1 ] = 0.003\n",
      " Average Recall     (AR) @[ IoU=0.50:0.95 | area=   all | maxDets= 10 ] = 0.007\n",
      " Average Recall     (AR) @[ IoU=0.50:0.95 | area=   all | maxDets=100 ] = 0.028\n",
      " Average Recall     (AR) @[ IoU=0.50:0.95 | area= small | maxDets=100 ] = 0.005\n",
      " Average Recall     (AR) @[ IoU=0.50:0.95 | area=medium | maxDets=100 ] = 0.180\n",
      " Average Recall     (AR) @[ IoU=0.50:0.95 | area= large | maxDets=100 ] = 0.596\n"
     ]
    },
    {
     "name": "stderr",
     "output_type": "stream",
     "text": [
      "INFO:detectron2.evaluation.fast_eval_api:Evaluate annotation type *segm*\n"
     ]
    },
    {
     "name": "stdout",
     "output_type": "stream",
     "text": [
      "Loading and preparing results...\n",
      "DONE (t=0.13s)\n",
      "creating index...\n",
      "index created!\n"
     ]
    },
    {
     "name": "stderr",
     "output_type": "stream",
     "text": [
      "INFO:detectron2.evaluation.fast_eval_api:COCOeval_opt.evaluate() finished in 0.35 seconds.\n",
      "INFO:detectron2.evaluation.fast_eval_api:Accumulating evaluation results...\n",
      "INFO:detectron2.evaluation.fast_eval_api:COCOeval_opt.accumulate() finished in 0.03 seconds.\n",
      "INFO:detectron2.evaluation.coco_evaluation:Evaluation results for segm: \n",
      "|  AP   |  AP50  |  AP75  |  APs  |  APm  |  APl   |\n",
      "|:-----:|:------:|:------:|:-----:|:-----:|:------:|\n",
      "| 0.657 | 1.060  | 0.990  | 0.001 | 0.306 | 16.104 |\n",
      "INFO:detectron2.engine.defaults:Evaluation results for griffith_val in csv format:\n",
      "INFO:detectron2.evaluation.testing:copypaste: Task: bbox\n",
      "INFO:detectron2.evaluation.testing:copypaste: AP,AP50,AP75,APs,APm,APl\n",
      "INFO:detectron2.evaluation.testing:copypaste: 0.9703,1.2716,0.9974,0.0092,0.7060,34.1270\n",
      "INFO:detectron2.evaluation.testing:copypaste: Task: segm\n",
      "INFO:detectron2.evaluation.testing:copypaste: AP,AP50,AP75,APs,APm,APl\n",
      "INFO:detectron2.evaluation.testing:copypaste: 0.6571,1.0601,0.9901,0.0005,0.3063,16.1040\n"
     ]
    },
    {
     "name": "stdout",
     "output_type": "stream",
     "text": [
      " Average Precision  (AP) @[ IoU=0.50:0.95 | area=   all | maxDets=100 ] = 0.007\n",
      " Average Precision  (AP) @[ IoU=0.50      | area=   all | maxDets=100 ] = 0.011\n",
      " Average Precision  (AP) @[ IoU=0.75      | area=   all | maxDets=100 ] = 0.010\n",
      " Average Precision  (AP) @[ IoU=0.50:0.95 | area= small | maxDets=100 ] = 0.000\n",
      " Average Precision  (AP) @[ IoU=0.50:0.95 | area=medium | maxDets=100 ] = 0.003\n",
      " Average Precision  (AP) @[ IoU=0.50:0.95 | area= large | maxDets=100 ] = 0.161\n",
      " Average Recall     (AR) @[ IoU=0.50:0.95 | area=   all | maxDets=  1 ] = 0.002\n",
      " Average Recall     (AR) @[ IoU=0.50:0.95 | area=   all | maxDets= 10 ] = 0.004\n",
      " Average Recall     (AR) @[ IoU=0.50:0.95 | area=   all | maxDets=100 ] = 0.009\n",
      " Average Recall     (AR) @[ IoU=0.50:0.95 | area= small | maxDets=100 ] = 0.001\n",
      " Average Recall     (AR) @[ IoU=0.50:0.95 | area=medium | maxDets=100 ] = 0.059\n",
      " Average Recall     (AR) @[ IoU=0.50:0.95 | area= large | maxDets=100 ] = 0.236\n"
     ]
    },
    {
     "name": "stderr",
     "output_type": "stream",
     "text": [
      "INFO:detectree2.models.train:Loss on Validation  done 11/170. 0.0001 s / img. ETA=0:00:21\n",
      "INFO:detectree2.models.train:Loss on Validation  done 40/170. 0.0001 s / img. ETA=0:00:21\n",
      "INFO:detectree2.models.train:Loss on Validation  done 69/170. 0.0001 s / img. ETA=0:00:17\n",
      "INFO:detectree2.models.train:Loss on Validation  done 99/170. 0.0001 s / img. ETA=0:00:12\n",
      "INFO:detectree2.models.train:Loss on Validation  done 130/170. 0.0001 s / img. ETA=0:00:06\n",
      "INFO:detectree2.models.train:Loss on Validation  done 160/170. 0.0001 s / img. ETA=0:00:01\n",
      "INFO:detectron2.data.dataset_mapper:[DatasetMapper] Augmentations used in inference: []\n",
      "INFO:detectree2.models.train:[FlexibleDatasetMapper] Augmentations used in inference: []\n",
      "INFO:detectron2.data.common:Serializing the dataset using: <class 'detectron2.data.common._TorchSerializedList'>\n",
      "INFO:detectron2.data.common:Serializing 170 elements to byte tensors and concatenating them all ...\n",
      "INFO:detectron2.data.common:Serialized dataset takes 8.90 MiB\n",
      "WARNING:detectron2.evaluation.coco_evaluation:COCO Evaluator instantiated using config, this is deprecated behavior. Please pass in explicit arguments instead.\n",
      "INFO:detectron2.evaluation.evaluator:Start inference on 170 batches\n",
      "INFO:detectron2.evaluation.evaluator:Inference done 11/170. Dataloading: 0.0007 s/iter. Inference: 0.0586 s/iter. Eval: 0.0180 s/iter. Total: 0.0773 s/iter. ETA=0:00:12\n",
      "INFO:detectron2.evaluation.evaluator:Inference done 78/170. Dataloading: 0.0010 s/iter. Inference: 0.0563 s/iter. Eval: 0.0219 s/iter. Total: 0.0793 s/iter. ETA=0:00:07\n",
      "INFO:detectron2.evaluation.evaluator:Inference done 147/170. Dataloading: 0.0010 s/iter. Inference: 0.0556 s/iter. Eval: 0.0198 s/iter. Total: 0.0764 s/iter. ETA=0:00:01\n",
      "INFO:detectron2.evaluation.evaluator:Total inference time: 0:00:12.594378 (0.076330 s / iter per device, on 1 devices)\n",
      "INFO:detectron2.evaluation.evaluator:Total inference pure compute time: 0:00:09 (0.055467 s / iter per device, on 1 devices)\n",
      "INFO:detectron2.evaluation.coco_evaluation:Preparing results for COCO format ...\n",
      "INFO:detectron2.evaluation.coco_evaluation:Saving results to eval/coco_instances_results.json\n",
      "INFO:detectron2.evaluation.coco_evaluation:Evaluating predictions with unofficial COCO API...\n",
      "INFO:detectron2.evaluation.fast_eval_api:Evaluate annotation type *bbox*\n",
      "INFO:detectron2.evaluation.fast_eval_api:COCOeval_opt.evaluate() finished in 0.18 seconds.\n",
      "INFO:detectron2.evaluation.fast_eval_api:Accumulating evaluation results...\n",
      "INFO:detectron2.evaluation.fast_eval_api:COCOeval_opt.accumulate() finished in 0.03 seconds.\n"
     ]
    },
    {
     "name": "stdout",
     "output_type": "stream",
     "text": [
      "Loading and preparing results...\n",
      "DONE (t=0.01s)\n",
      "creating index...\n",
      "index created!\n"
     ]
    },
    {
     "name": "stderr",
     "output_type": "stream",
     "text": [
      "INFO:detectron2.evaluation.coco_evaluation:Evaluation results for bbox: \n",
      "|  AP   |  AP50  |  AP75  |  APs  |  APm  |  APl   |\n",
      "|:-----:|:------:|:------:|:-----:|:-----:|:------:|\n",
      "| 0.970 | 1.272  | 0.997  | 0.009 | 0.706 | 34.127 |\n"
     ]
    },
    {
     "name": "stdout",
     "output_type": "stream",
     "text": [
      " Average Precision  (AP) @[ IoU=0.50:0.95 | area=   all | maxDets=100 ] = 0.010\n",
      " Average Precision  (AP) @[ IoU=0.50      | area=   all | maxDets=100 ] = 0.013\n",
      " Average Precision  (AP) @[ IoU=0.75      | area=   all | maxDets=100 ] = 0.010\n",
      " Average Precision  (AP) @[ IoU=0.50:0.95 | area= small | maxDets=100 ] = 0.000\n",
      " Average Precision  (AP) @[ IoU=0.50:0.95 | area=medium | maxDets=100 ] = 0.007\n",
      " Average Precision  (AP) @[ IoU=0.50:0.95 | area= large | maxDets=100 ] = 0.341\n",
      " Average Recall     (AR) @[ IoU=0.50:0.95 | area=   all | maxDets=  1 ] = 0.003\n",
      " Average Recall     (AR) @[ IoU=0.50:0.95 | area=   all | maxDets= 10 ] = 0.007\n",
      " Average Recall     (AR) @[ IoU=0.50:0.95 | area=   all | maxDets=100 ] = 0.028\n",
      " Average Recall     (AR) @[ IoU=0.50:0.95 | area= small | maxDets=100 ] = 0.005\n",
      " Average Recall     (AR) @[ IoU=0.50:0.95 | area=medium | maxDets=100 ] = 0.180\n",
      " Average Recall     (AR) @[ IoU=0.50:0.95 | area= large | maxDets=100 ] = 0.596\n"
     ]
    },
    {
     "name": "stderr",
     "output_type": "stream",
     "text": [
      "INFO:detectron2.evaluation.fast_eval_api:Evaluate annotation type *segm*\n"
     ]
    },
    {
     "name": "stdout",
     "output_type": "stream",
     "text": [
      "Loading and preparing results...\n",
      "DONE (t=0.13s)\n",
      "creating index...\n",
      "index created!\n"
     ]
    },
    {
     "name": "stderr",
     "output_type": "stream",
     "text": [
      "INFO:detectron2.evaluation.fast_eval_api:COCOeval_opt.evaluate() finished in 0.35 seconds.\n",
      "INFO:detectron2.evaluation.fast_eval_api:Accumulating evaluation results...\n",
      "INFO:detectron2.evaluation.fast_eval_api:COCOeval_opt.accumulate() finished in 0.03 seconds.\n",
      "INFO:detectron2.evaluation.coco_evaluation:Evaluation results for segm: \n",
      "|  AP   |  AP50  |  AP75  |  APs  |  APm  |  APl   |\n",
      "|:-----:|:------:|:------:|:-----:|:-----:|:------:|\n",
      "| 0.657 | 1.060  | 0.990  | 0.001 | 0.306 | 16.104 |\n",
      "INFO:detectron2.engine.defaults:Evaluation results for griffith_val in csv format:\n",
      "INFO:detectron2.evaluation.testing:copypaste: Task: bbox\n",
      "INFO:detectron2.evaluation.testing:copypaste: AP,AP50,AP75,APs,APm,APl\n",
      "INFO:detectron2.evaluation.testing:copypaste: 0.9703,1.2716,0.9974,0.0092,0.7060,34.1270\n",
      "INFO:detectron2.evaluation.testing:copypaste: Task: segm\n",
      "INFO:detectron2.evaluation.testing:copypaste: AP,AP50,AP75,APs,APm,APl\n",
      "INFO:detectron2.evaluation.testing:copypaste: 0.6571,1.0601,0.9901,0.0005,0.3063,16.1040\n",
      "INFO:detectron2.utils.events: eta: 0:13:44  iter: 1799  total_loss: 1.426  loss_cls: 0.1073  loss_box_reg: 0.09149  loss_mask: 0.4317  loss_rpn_cls: 0.2392  loss_rpn_loc: 0.3469  validation_loss: 1.892    time: 0.7022  last_time: 0.7668  data_time: 0.0056  last_data_time: 0.0014   lr: 0.0003389  max_mem: 3999M\n"
     ]
    },
    {
     "name": "stdout",
     "output_type": "stream",
     "text": [
      " Average Precision  (AP) @[ IoU=0.50:0.95 | area=   all | maxDets=100 ] = 0.007\n",
      " Average Precision  (AP) @[ IoU=0.50      | area=   all | maxDets=100 ] = 0.011\n",
      " Average Precision  (AP) @[ IoU=0.75      | area=   all | maxDets=100 ] = 0.010\n",
      " Average Precision  (AP) @[ IoU=0.50:0.95 | area= small | maxDets=100 ] = 0.000\n",
      " Average Precision  (AP) @[ IoU=0.50:0.95 | area=medium | maxDets=100 ] = 0.003\n",
      " Average Precision  (AP) @[ IoU=0.50:0.95 | area= large | maxDets=100 ] = 0.161\n",
      " Average Recall     (AR) @[ IoU=0.50:0.95 | area=   all | maxDets=  1 ] = 0.002\n",
      " Average Recall     (AR) @[ IoU=0.50:0.95 | area=   all | maxDets= 10 ] = 0.004\n",
      " Average Recall     (AR) @[ IoU=0.50:0.95 | area=   all | maxDets=100 ] = 0.009\n",
      " Average Recall     (AR) @[ IoU=0.50:0.95 | area= small | maxDets=100 ] = 0.001\n",
      " Average Recall     (AR) @[ IoU=0.50:0.95 | area=medium | maxDets=100 ] = 0.059\n",
      " Average Recall     (AR) @[ IoU=0.50:0.95 | area= large | maxDets=100 ] = 0.236\n",
      "Av. segm AP50 = 1.0601017366693934\n"
     ]
    },
    {
     "name": "stderr",
     "output_type": "stream",
     "text": [
      "INFO:detectron2.utils.events: eta: 0:13:31  iter: 1819  total_loss: 1.146  loss_cls: 0.1333  loss_box_reg: 0.09256  loss_mask: 0.3838  loss_rpn_cls: 0.1912  loss_rpn_loc: 0.231  validation_loss: 1.892    time: 0.7023  last_time: 0.6728  data_time: 0.0055  last_data_time: 0.0035   lr: 0.0003389  max_mem: 3999M\n",
      "INFO:detectron2.utils.events: eta: 0:13:17  iter: 1839  total_loss: 1.432  loss_cls: 0.09743  loss_box_reg: 0.07616  loss_mask: 0.4169  loss_rpn_cls: 0.2292  loss_rpn_loc: 0.2866  validation_loss: 1.892    time: 0.7023  last_time: 0.7542  data_time: 0.0050  last_data_time: 0.0014   lr: 0.0003389  max_mem: 3999M\n",
      "INFO:detectron2.utils.events: eta: 0:13:03  iter: 1859  total_loss: 1.162  loss_cls: 0.08618  loss_box_reg: 0.07133  loss_mask: 0.4191  loss_rpn_cls: 0.2095  loss_rpn_loc: 0.2587  validation_loss: 1.892    time: 0.7022  last_time: 0.7546  data_time: 0.0052  last_data_time: 0.0052   lr: 0.0003389  max_mem: 3999M\n",
      "INFO:detectron2.utils.events: eta: 0:12:49  iter: 1879  total_loss: 1.215  loss_cls: 0.08982  loss_box_reg: 0.0665  loss_mask: 0.42  loss_rpn_cls: 0.1966  loss_rpn_loc: 0.3116  validation_loss: 1.892    time: 0.7021  last_time: 0.6842  data_time: 0.0051  last_data_time: 0.0030   lr: 0.0003389  max_mem: 3999M\n",
      "INFO:detectron2.data.dataset_mapper:[DatasetMapper] Augmentations used in inference: []\n",
      "INFO:detectree2.models.train:[FlexibleDatasetMapper] Augmentations used in inference: []\n",
      "INFO:detectron2.data.common:Serializing the dataset using: <class 'detectron2.data.common._TorchSerializedList'>\n",
      "INFO:detectron2.data.common:Serializing 170 elements to byte tensors and concatenating them all ...\n",
      "INFO:detectron2.data.common:Serialized dataset takes 8.90 MiB\n",
      "WARNING:detectron2.evaluation.coco_evaluation:COCO Evaluator instantiated using config, this is deprecated behavior. Please pass in explicit arguments instead.\n",
      "INFO:detectron2.evaluation.evaluator:Start inference on 170 batches\n",
      "INFO:detectron2.evaluation.evaluator:Inference done 11/170. Dataloading: 0.0007 s/iter. Inference: 0.0571 s/iter. Eval: 0.0180 s/iter. Total: 0.0758 s/iter. ETA=0:00:12\n",
      "INFO:detectron2.evaluation.evaluator:Inference done 74/170. Dataloading: 0.0010 s/iter. Inference: 0.0556 s/iter. Eval: 0.0224 s/iter. Total: 0.0791 s/iter. ETA=0:00:07\n",
      "INFO:detectron2.evaluation.evaluator:Inference done 142/170. Dataloading: 0.0010 s/iter. Inference: 0.0556 s/iter. Eval: 0.0201 s/iter. Total: 0.0769 s/iter. ETA=0:00:02\n",
      "INFO:detectron2.evaluation.evaluator:Total inference time: 0:00:12.687459 (0.076894 s / iter per device, on 1 devices)\n",
      "INFO:detectron2.evaluation.evaluator:Total inference pure compute time: 0:00:09 (0.055636 s / iter per device, on 1 devices)\n",
      "INFO:detectron2.evaluation.coco_evaluation:Preparing results for COCO format ...\n",
      "INFO:detectron2.evaluation.coco_evaluation:Saving results to eval/coco_instances_results.json\n",
      "INFO:detectron2.evaluation.coco_evaluation:Evaluating predictions with unofficial COCO API...\n",
      "INFO:detectron2.evaluation.fast_eval_api:Evaluate annotation type *bbox*\n",
      "INFO:detectron2.evaluation.fast_eval_api:COCOeval_opt.evaluate() finished in 0.18 seconds.\n",
      "INFO:detectron2.evaluation.fast_eval_api:Accumulating evaluation results...\n",
      "INFO:detectron2.evaluation.fast_eval_api:COCOeval_opt.accumulate() finished in 0.03 seconds.\n"
     ]
    },
    {
     "name": "stdout",
     "output_type": "stream",
     "text": [
      "Loading and preparing results...\n",
      "DONE (t=0.01s)\n",
      "creating index...\n",
      "index created!\n"
     ]
    },
    {
     "name": "stderr",
     "output_type": "stream",
     "text": [
      "INFO:detectron2.evaluation.coco_evaluation:Evaluation results for bbox: \n",
      "|  AP   |  AP50  |  AP75  |  APs  |  APm  |  APl   |\n",
      "|:-----:|:------:|:------:|:-----:|:-----:|:------:|\n",
      "| 0.994 | 1.359  | 1.001  | 0.022 | 0.974 | 33.065 |\n"
     ]
    },
    {
     "name": "stdout",
     "output_type": "stream",
     "text": [
      " Average Precision  (AP) @[ IoU=0.50:0.95 | area=   all | maxDets=100 ] = 0.010\n",
      " Average Precision  (AP) @[ IoU=0.50      | area=   all | maxDets=100 ] = 0.014\n",
      " Average Precision  (AP) @[ IoU=0.75      | area=   all | maxDets=100 ] = 0.010\n",
      " Average Precision  (AP) @[ IoU=0.50:0.95 | area= small | maxDets=100 ] = 0.000\n",
      " Average Precision  (AP) @[ IoU=0.50:0.95 | area=medium | maxDets=100 ] = 0.010\n",
      " Average Precision  (AP) @[ IoU=0.50:0.95 | area= large | maxDets=100 ] = 0.331\n",
      " Average Recall     (AR) @[ IoU=0.50:0.95 | area=   all | maxDets=  1 ] = 0.003\n",
      " Average Recall     (AR) @[ IoU=0.50:0.95 | area=   all | maxDets= 10 ] = 0.009\n",
      " Average Recall     (AR) @[ IoU=0.50:0.95 | area=   all | maxDets=100 ] = 0.027\n",
      " Average Recall     (AR) @[ IoU=0.50:0.95 | area= small | maxDets=100 ] = 0.005\n",
      " Average Recall     (AR) @[ IoU=0.50:0.95 | area=medium | maxDets=100 ] = 0.181\n",
      " Average Recall     (AR) @[ IoU=0.50:0.95 | area= large | maxDets=100 ] = 0.575\n"
     ]
    },
    {
     "name": "stderr",
     "output_type": "stream",
     "text": [
      "INFO:detectron2.evaluation.fast_eval_api:Evaluate annotation type *segm*\n"
     ]
    },
    {
     "name": "stdout",
     "output_type": "stream",
     "text": [
      "Loading and preparing results...\n",
      "DONE (t=0.14s)\n",
      "creating index...\n",
      "index created!\n"
     ]
    },
    {
     "name": "stderr",
     "output_type": "stream",
     "text": [
      "INFO:detectron2.evaluation.fast_eval_api:COCOeval_opt.evaluate() finished in 0.36 seconds.\n",
      "INFO:detectron2.evaluation.fast_eval_api:Accumulating evaluation results...\n",
      "INFO:detectron2.evaluation.fast_eval_api:COCOeval_opt.accumulate() finished in 0.03 seconds.\n",
      "INFO:detectron2.evaluation.coco_evaluation:Evaluation results for segm: \n",
      "|  AP   |  AP50  |  AP75  |  APs  |  APm  |  APl   |\n",
      "|:-----:|:------:|:------:|:-----:|:-----:|:------:|\n",
      "| 0.733 | 1.066  | 0.990  | 0.001 | 0.300 | 19.583 |\n",
      "INFO:detectron2.engine.defaults:Evaluation results for griffith_val in csv format:\n",
      "INFO:detectron2.evaluation.testing:copypaste: Task: bbox\n",
      "INFO:detectron2.evaluation.testing:copypaste: AP,AP50,AP75,APs,APm,APl\n",
      "INFO:detectron2.evaluation.testing:copypaste: 0.9943,1.3592,1.0014,0.0225,0.9737,33.0651\n",
      "INFO:detectron2.evaluation.testing:copypaste: Task: segm\n",
      "INFO:detectron2.evaluation.testing:copypaste: AP,AP50,AP75,APs,APm,APl\n",
      "INFO:detectron2.evaluation.testing:copypaste: 0.7328,1.0658,0.9901,0.0005,0.3003,19.5826\n"
     ]
    },
    {
     "name": "stdout",
     "output_type": "stream",
     "text": [
      " Average Precision  (AP) @[ IoU=0.50:0.95 | area=   all | maxDets=100 ] = 0.007\n",
      " Average Precision  (AP) @[ IoU=0.50      | area=   all | maxDets=100 ] = 0.011\n",
      " Average Precision  (AP) @[ IoU=0.75      | area=   all | maxDets=100 ] = 0.010\n",
      " Average Precision  (AP) @[ IoU=0.50:0.95 | area= small | maxDets=100 ] = 0.000\n",
      " Average Precision  (AP) @[ IoU=0.50:0.95 | area=medium | maxDets=100 ] = 0.003\n",
      " Average Precision  (AP) @[ IoU=0.50:0.95 | area= large | maxDets=100 ] = 0.196\n",
      " Average Recall     (AR) @[ IoU=0.50:0.95 | area=   all | maxDets=  1 ] = 0.002\n",
      " Average Recall     (AR) @[ IoU=0.50:0.95 | area=   all | maxDets= 10 ] = 0.004\n",
      " Average Recall     (AR) @[ IoU=0.50:0.95 | area=   all | maxDets=100 ] = 0.009\n",
      " Average Recall     (AR) @[ IoU=0.50:0.95 | area= small | maxDets=100 ] = 0.001\n",
      " Average Recall     (AR) @[ IoU=0.50:0.95 | area=medium | maxDets=100 ] = 0.059\n",
      " Average Recall     (AR) @[ IoU=0.50:0.95 | area= large | maxDets=100 ] = 0.300\n"
     ]
    },
    {
     "name": "stderr",
     "output_type": "stream",
     "text": [
      "INFO:detectree2.models.train:Loss on Validation  done 11/170. 0.0001 s / img. ETA=0:00:21\n",
      "INFO:detectree2.models.train:Loss on Validation  done 40/170. 0.0001 s / img. ETA=0:00:21\n",
      "INFO:detectree2.models.train:Loss on Validation  done 69/170. 0.0001 s / img. ETA=0:00:17\n",
      "INFO:detectree2.models.train:Loss on Validation  done 99/170. 0.0001 s / img. ETA=0:00:12\n",
      "INFO:detectree2.models.train:Loss on Validation  done 130/170. 0.0001 s / img. ETA=0:00:06\n",
      "INFO:detectree2.models.train:Loss on Validation  done 160/170. 0.0001 s / img. ETA=0:00:01\n",
      "INFO:detectron2.data.dataset_mapper:[DatasetMapper] Augmentations used in inference: []\n",
      "INFO:detectree2.models.train:[FlexibleDatasetMapper] Augmentations used in inference: []\n",
      "INFO:detectron2.data.common:Serializing the dataset using: <class 'detectron2.data.common._TorchSerializedList'>\n",
      "INFO:detectron2.data.common:Serializing 170 elements to byte tensors and concatenating them all ...\n",
      "INFO:detectron2.data.common:Serialized dataset takes 8.90 MiB\n",
      "WARNING:detectron2.evaluation.coco_evaluation:COCO Evaluator instantiated using config, this is deprecated behavior. Please pass in explicit arguments instead.\n",
      "INFO:detectron2.evaluation.evaluator:Start inference on 170 batches\n",
      "INFO:detectron2.evaluation.evaluator:Inference done 11/170. Dataloading: 0.0007 s/iter. Inference: 0.0578 s/iter. Eval: 0.0180 s/iter. Total: 0.0766 s/iter. ETA=0:00:12\n",
      "INFO:detectron2.evaluation.evaluator:Inference done 78/170. Dataloading: 0.0010 s/iter. Inference: 0.0564 s/iter. Eval: 0.0182 s/iter. Total: 0.0758 s/iter. ETA=0:00:06\n",
      "INFO:detectron2.evaluation.evaluator:Inference done 141/170. Dataloading: 0.0010 s/iter. Inference: 0.0562 s/iter. Eval: 0.0204 s/iter. Total: 0.0777 s/iter. ETA=0:00:02\n",
      "INFO:detectron2.evaluation.evaluator:Total inference time: 0:00:12.817867 (0.077684 s / iter per device, on 1 devices)\n",
      "INFO:detectron2.evaluation.evaluator:Total inference pure compute time: 0:00:09 (0.056174 s / iter per device, on 1 devices)\n",
      "INFO:detectron2.evaluation.coco_evaluation:Preparing results for COCO format ...\n",
      "INFO:detectron2.evaluation.coco_evaluation:Saving results to eval/coco_instances_results.json\n",
      "INFO:detectron2.evaluation.coco_evaluation:Evaluating predictions with unofficial COCO API...\n",
      "INFO:detectron2.evaluation.fast_eval_api:Evaluate annotation type *bbox*\n",
      "INFO:detectron2.evaluation.fast_eval_api:COCOeval_opt.evaluate() finished in 0.18 seconds.\n",
      "INFO:detectron2.evaluation.fast_eval_api:Accumulating evaluation results...\n",
      "INFO:detectron2.evaluation.fast_eval_api:COCOeval_opt.accumulate() finished in 0.03 seconds.\n"
     ]
    },
    {
     "name": "stdout",
     "output_type": "stream",
     "text": [
      "Loading and preparing results...\n",
      "DONE (t=0.01s)\n",
      "creating index...\n",
      "index created!\n"
     ]
    },
    {
     "name": "stderr",
     "output_type": "stream",
     "text": [
      "INFO:detectron2.evaluation.coco_evaluation:Evaluation results for bbox: \n",
      "|  AP   |  AP50  |  AP75  |  APs  |  APm  |  APl   |\n",
      "|:-----:|:------:|:------:|:-----:|:-----:|:------:|\n",
      "| 0.994 | 1.359  | 1.001  | 0.022 | 0.974 | 33.065 |\n"
     ]
    },
    {
     "name": "stdout",
     "output_type": "stream",
     "text": [
      " Average Precision  (AP) @[ IoU=0.50:0.95 | area=   all | maxDets=100 ] = 0.010\n",
      " Average Precision  (AP) @[ IoU=0.50      | area=   all | maxDets=100 ] = 0.014\n",
      " Average Precision  (AP) @[ IoU=0.75      | area=   all | maxDets=100 ] = 0.010\n",
      " Average Precision  (AP) @[ IoU=0.50:0.95 | area= small | maxDets=100 ] = 0.000\n",
      " Average Precision  (AP) @[ IoU=0.50:0.95 | area=medium | maxDets=100 ] = 0.010\n",
      " Average Precision  (AP) @[ IoU=0.50:0.95 | area= large | maxDets=100 ] = 0.331\n",
      " Average Recall     (AR) @[ IoU=0.50:0.95 | area=   all | maxDets=  1 ] = 0.003\n",
      " Average Recall     (AR) @[ IoU=0.50:0.95 | area=   all | maxDets= 10 ] = 0.009\n",
      " Average Recall     (AR) @[ IoU=0.50:0.95 | area=   all | maxDets=100 ] = 0.027\n",
      " Average Recall     (AR) @[ IoU=0.50:0.95 | area= small | maxDets=100 ] = 0.005\n",
      " Average Recall     (AR) @[ IoU=0.50:0.95 | area=medium | maxDets=100 ] = 0.181\n",
      " Average Recall     (AR) @[ IoU=0.50:0.95 | area= large | maxDets=100 ] = 0.575\n"
     ]
    },
    {
     "name": "stderr",
     "output_type": "stream",
     "text": [
      "INFO:detectron2.evaluation.fast_eval_api:Evaluate annotation type *segm*\n"
     ]
    },
    {
     "name": "stdout",
     "output_type": "stream",
     "text": [
      "Loading and preparing results...\n",
      "DONE (t=0.14s)\n",
      "creating index...\n",
      "index created!\n"
     ]
    },
    {
     "name": "stderr",
     "output_type": "stream",
     "text": [
      "INFO:detectron2.evaluation.fast_eval_api:COCOeval_opt.evaluate() finished in 0.37 seconds.\n",
      "INFO:detectron2.evaluation.fast_eval_api:Accumulating evaluation results...\n",
      "INFO:detectron2.evaluation.fast_eval_api:COCOeval_opt.accumulate() finished in 0.03 seconds.\n",
      "INFO:detectron2.evaluation.coco_evaluation:Evaluation results for segm: \n",
      "|  AP   |  AP50  |  AP75  |  APs  |  APm  |  APl   |\n",
      "|:-----:|:------:|:------:|:-----:|:-----:|:------:|\n",
      "| 0.733 | 1.066  | 0.990  | 0.001 | 0.300 | 19.583 |\n",
      "INFO:detectron2.engine.defaults:Evaluation results for griffith_val in csv format:\n",
      "INFO:detectron2.evaluation.testing:copypaste: Task: bbox\n",
      "INFO:detectron2.evaluation.testing:copypaste: AP,AP50,AP75,APs,APm,APl\n",
      "INFO:detectron2.evaluation.testing:copypaste: 0.9943,1.3592,1.0014,0.0225,0.9737,33.0651\n",
      "INFO:detectron2.evaluation.testing:copypaste: Task: segm\n",
      "INFO:detectron2.evaluation.testing:copypaste: AP,AP50,AP75,APs,APm,APl\n",
      "INFO:detectron2.evaluation.testing:copypaste: 0.7328,1.0658,0.9901,0.0005,0.3003,19.5826\n",
      "INFO:detectron2.utils.events: eta: 0:12:36  iter: 1899  total_loss: 1.464  loss_cls: 0.1502  loss_box_reg: 0.1336  loss_mask: 0.4471  loss_rpn_cls: 0.2392  loss_rpn_loc: 0.4052  validation_loss: 1.838    time: 0.7023  last_time: 0.6650  data_time: 0.0053  last_data_time: 0.0028   lr: 0.0003389  max_mem: 3999M\n"
     ]
    },
    {
     "name": "stdout",
     "output_type": "stream",
     "text": [
      " Average Precision  (AP) @[ IoU=0.50:0.95 | area=   all | maxDets=100 ] = 0.007\n",
      " Average Precision  (AP) @[ IoU=0.50      | area=   all | maxDets=100 ] = 0.011\n",
      " Average Precision  (AP) @[ IoU=0.75      | area=   all | maxDets=100 ] = 0.010\n",
      " Average Precision  (AP) @[ IoU=0.50:0.95 | area= small | maxDets=100 ] = 0.000\n",
      " Average Precision  (AP) @[ IoU=0.50:0.95 | area=medium | maxDets=100 ] = 0.003\n",
      " Average Precision  (AP) @[ IoU=0.50:0.95 | area= large | maxDets=100 ] = 0.196\n",
      " Average Recall     (AR) @[ IoU=0.50:0.95 | area=   all | maxDets=  1 ] = 0.002\n",
      " Average Recall     (AR) @[ IoU=0.50:0.95 | area=   all | maxDets= 10 ] = 0.004\n",
      " Average Recall     (AR) @[ IoU=0.50:0.95 | area=   all | maxDets=100 ] = 0.009\n",
      " Average Recall     (AR) @[ IoU=0.50:0.95 | area= small | maxDets=100 ] = 0.001\n",
      " Average Recall     (AR) @[ IoU=0.50:0.95 | area=medium | maxDets=100 ] = 0.059\n",
      " Average Recall     (AR) @[ IoU=0.50:0.95 | area= large | maxDets=100 ] = 0.300\n",
      "Av. segm AP50 = 1.0658052298010425\n"
     ]
    },
    {
     "name": "stderr",
     "output_type": "stream",
     "text": [
      "INFO:detectron2.utils.events: eta: 0:12:22  iter: 1919  total_loss: 1.463  loss_cls: 0.1316  loss_box_reg: 0.09357  loss_mask: 0.4243  loss_rpn_cls: 0.232  loss_rpn_loc: 0.4569  validation_loss: 1.838    time: 0.7025  last_time: 0.6592  data_time: 0.0058  last_data_time: 0.0010   lr: 0.0003389  max_mem: 3999M\n",
      "INFO:detectron2.utils.events: eta: 0:12:08  iter: 1939  total_loss: 1.231  loss_cls: 0.1474  loss_box_reg: 0.1193  loss_mask: 0.4092  loss_rpn_cls: 0.207  loss_rpn_loc: 0.295  validation_loss: 1.838    time: 0.7026  last_time: 0.6600  data_time: 0.0058  last_data_time: 0.0057   lr: 0.0003389  max_mem: 3999M\n",
      "INFO:detectron2.utils.events: eta: 0:11:55  iter: 1959  total_loss: 1.425  loss_cls: 0.1471  loss_box_reg: 0.1098  loss_mask: 0.4364  loss_rpn_cls: 0.199  loss_rpn_loc: 0.3323  validation_loss: 1.838    time: 0.7027  last_time: 0.8432  data_time: 0.0057  last_data_time: 0.0099   lr: 0.0003389  max_mem: 3999M\n",
      "INFO:detectron2.utils.events: eta: 0:11:41  iter: 1979  total_loss: 1.084  loss_cls: 0.08287  loss_box_reg: 0.07023  loss_mask: 0.4155  loss_rpn_cls: 0.2134  loss_rpn_loc: 0.175  validation_loss: 1.838    time: 0.7027  last_time: 0.7233  data_time: 0.0055  last_data_time: 0.0018   lr: 0.0003389  max_mem: 3999M\n",
      "INFO:detectron2.data.dataset_mapper:[DatasetMapper] Augmentations used in inference: []\n",
      "INFO:detectree2.models.train:[FlexibleDatasetMapper] Augmentations used in inference: []\n",
      "INFO:detectron2.data.common:Serializing the dataset using: <class 'detectron2.data.common._TorchSerializedList'>\n",
      "INFO:detectron2.data.common:Serializing 170 elements to byte tensors and concatenating them all ...\n",
      "INFO:detectron2.data.common:Serialized dataset takes 8.90 MiB\n",
      "WARNING:detectron2.evaluation.coco_evaluation:COCO Evaluator instantiated using config, this is deprecated behavior. Please pass in explicit arguments instead.\n",
      "INFO:detectron2.evaluation.evaluator:Start inference on 170 batches\n",
      "INFO:detectron2.evaluation.evaluator:Inference done 11/170. Dataloading: 0.0006 s/iter. Inference: 0.0573 s/iter. Eval: 0.0182 s/iter. Total: 0.0761 s/iter. ETA=0:00:12\n",
      "INFO:detectron2.evaluation.evaluator:Inference done 74/170. Dataloading: 0.0010 s/iter. Inference: 0.0560 s/iter. Eval: 0.0222 s/iter. Total: 0.0793 s/iter. ETA=0:00:07\n",
      "INFO:detectron2.evaluation.evaluator:Inference done 142/170. Dataloading: 0.0010 s/iter. Inference: 0.0557 s/iter. Eval: 0.0199 s/iter. Total: 0.0766 s/iter. ETA=0:00:02\n",
      "INFO:detectron2.evaluation.evaluator:Total inference time: 0:00:12.599190 (0.076359 s / iter per device, on 1 devices)\n",
      "INFO:detectron2.evaluation.evaluator:Total inference pure compute time: 0:00:09 (0.055440 s / iter per device, on 1 devices)\n",
      "INFO:detectron2.evaluation.coco_evaluation:Preparing results for COCO format ...\n",
      "INFO:detectron2.evaluation.coco_evaluation:Saving results to eval/coco_instances_results.json\n",
      "INFO:detectron2.evaluation.coco_evaluation:Evaluating predictions with unofficial COCO API...\n",
      "INFO:detectron2.evaluation.fast_eval_api:Evaluate annotation type *bbox*\n",
      "INFO:detectron2.evaluation.fast_eval_api:COCOeval_opt.evaluate() finished in 0.18 seconds.\n",
      "INFO:detectron2.evaluation.fast_eval_api:Accumulating evaluation results...\n",
      "INFO:detectron2.evaluation.fast_eval_api:COCOeval_opt.accumulate() finished in 0.03 seconds.\n"
     ]
    },
    {
     "name": "stdout",
     "output_type": "stream",
     "text": [
      "Loading and preparing results...\n",
      "DONE (t=0.01s)\n",
      "creating index...\n",
      "index created!\n"
     ]
    },
    {
     "name": "stderr",
     "output_type": "stream",
     "text": [
      "INFO:detectron2.evaluation.coco_evaluation:Evaluation results for bbox: \n",
      "|  AP   |  AP50  |  AP75  |  APs  |  APm  |  APl   |\n",
      "|:-----:|:------:|:------:|:-----:|:-----:|:------:|\n",
      "| 1.089 | 1.441  | 1.002  | 0.031 | 1.180 | 34.535 |\n"
     ]
    },
    {
     "name": "stdout",
     "output_type": "stream",
     "text": [
      " Average Precision  (AP) @[ IoU=0.50:0.95 | area=   all | maxDets=100 ] = 0.011\n",
      " Average Precision  (AP) @[ IoU=0.50      | area=   all | maxDets=100 ] = 0.014\n",
      " Average Precision  (AP) @[ IoU=0.75      | area=   all | maxDets=100 ] = 0.010\n",
      " Average Precision  (AP) @[ IoU=0.50:0.95 | area= small | maxDets=100 ] = 0.000\n",
      " Average Precision  (AP) @[ IoU=0.50:0.95 | area=medium | maxDets=100 ] = 0.012\n",
      " Average Precision  (AP) @[ IoU=0.50:0.95 | area= large | maxDets=100 ] = 0.345\n",
      " Average Recall     (AR) @[ IoU=0.50:0.95 | area=   all | maxDets=  1 ] = 0.003\n",
      " Average Recall     (AR) @[ IoU=0.50:0.95 | area=   all | maxDets= 10 ] = 0.009\n",
      " Average Recall     (AR) @[ IoU=0.50:0.95 | area=   all | maxDets=100 ] = 0.030\n",
      " Average Recall     (AR) @[ IoU=0.50:0.95 | area= small | maxDets=100 ] = 0.005\n",
      " Average Recall     (AR) @[ IoU=0.50:0.95 | area=medium | maxDets=100 ] = 0.207\n",
      " Average Recall     (AR) @[ IoU=0.50:0.95 | area= large | maxDets=100 ] = 0.550\n"
     ]
    },
    {
     "name": "stderr",
     "output_type": "stream",
     "text": [
      "INFO:detectron2.evaluation.fast_eval_api:Evaluate annotation type *segm*\n"
     ]
    },
    {
     "name": "stdout",
     "output_type": "stream",
     "text": [
      "Loading and preparing results...\n",
      "DONE (t=0.13s)\n",
      "creating index...\n",
      "index created!\n"
     ]
    },
    {
     "name": "stderr",
     "output_type": "stream",
     "text": [
      "INFO:detectron2.evaluation.fast_eval_api:COCOeval_opt.evaluate() finished in 0.36 seconds.\n",
      "INFO:detectron2.evaluation.fast_eval_api:Accumulating evaluation results...\n",
      "INFO:detectron2.evaluation.fast_eval_api:COCOeval_opt.accumulate() finished in 0.03 seconds.\n",
      "INFO:detectron2.evaluation.coco_evaluation:Evaluation results for segm: \n",
      "|  AP   |  AP50  |  AP75  |  APs  |  APm  |  APl   |\n",
      "|:-----:|:------:|:------:|:-----:|:-----:|:------:|\n",
      "| 0.651 | 1.086  | 0.660  | 0.001 | 0.418 | 19.011 |\n",
      "INFO:detectron2.engine.defaults:Evaluation results for griffith_val in csv format:\n",
      "INFO:detectron2.evaluation.testing:copypaste: Task: bbox\n",
      "INFO:detectron2.evaluation.testing:copypaste: AP,AP50,AP75,APs,APm,APl\n",
      "INFO:detectron2.evaluation.testing:copypaste: 1.0894,1.4405,1.0019,0.0312,1.1798,34.5354\n",
      "INFO:detectron2.evaluation.testing:copypaste: Task: segm\n",
      "INFO:detectron2.evaluation.testing:copypaste: AP,AP50,AP75,APs,APm,APl\n",
      "INFO:detectron2.evaluation.testing:copypaste: 0.6513,1.0858,0.6601,0.0014,0.4178,19.0112\n"
     ]
    },
    {
     "name": "stdout",
     "output_type": "stream",
     "text": [
      " Average Precision  (AP) @[ IoU=0.50:0.95 | area=   all | maxDets=100 ] = 0.007\n",
      " Average Precision  (AP) @[ IoU=0.50      | area=   all | maxDets=100 ] = 0.011\n",
      " Average Precision  (AP) @[ IoU=0.75      | area=   all | maxDets=100 ] = 0.007\n",
      " Average Precision  (AP) @[ IoU=0.50:0.95 | area= small | maxDets=100 ] = 0.000\n",
      " Average Precision  (AP) @[ IoU=0.50:0.95 | area=medium | maxDets=100 ] = 0.004\n",
      " Average Precision  (AP) @[ IoU=0.50:0.95 | area= large | maxDets=100 ] = 0.190\n",
      " Average Recall     (AR) @[ IoU=0.50:0.95 | area=   all | maxDets=  1 ] = 0.002\n",
      " Average Recall     (AR) @[ IoU=0.50:0.95 | area=   all | maxDets= 10 ] = 0.005\n",
      " Average Recall     (AR) @[ IoU=0.50:0.95 | area=   all | maxDets=100 ] = 0.010\n",
      " Average Recall     (AR) @[ IoU=0.50:0.95 | area= small | maxDets=100 ] = 0.001\n",
      " Average Recall     (AR) @[ IoU=0.50:0.95 | area=medium | maxDets=100 ] = 0.067\n",
      " Average Recall     (AR) @[ IoU=0.50:0.95 | area= large | maxDets=100 ] = 0.289\n"
     ]
    },
    {
     "name": "stderr",
     "output_type": "stream",
     "text": [
      "INFO:detectree2.models.train:Loss on Validation  done 11/170. 0.0001 s / img. ETA=0:00:21\n",
      "INFO:detectree2.models.train:Loss on Validation  done 40/170. 0.0001 s / img. ETA=0:00:21\n",
      "INFO:detectree2.models.train:Loss on Validation  done 69/170. 0.0001 s / img. ETA=0:00:17\n",
      "INFO:detectree2.models.train:Loss on Validation  done 99/170. 0.0001 s / img. ETA=0:00:12\n",
      "INFO:detectree2.models.train:Loss on Validation  done 130/170. 0.0001 s / img. ETA=0:00:06\n",
      "INFO:detectree2.models.train:Loss on Validation  done 160/170. 0.0001 s / img. ETA=0:00:01\n",
      "INFO:detectron2.data.dataset_mapper:[DatasetMapper] Augmentations used in inference: []\n",
      "INFO:detectree2.models.train:[FlexibleDatasetMapper] Augmentations used in inference: []\n",
      "INFO:detectron2.data.common:Serializing the dataset using: <class 'detectron2.data.common._TorchSerializedList'>\n",
      "INFO:detectron2.data.common:Serializing 170 elements to byte tensors and concatenating them all ...\n",
      "INFO:detectron2.data.common:Serialized dataset takes 8.90 MiB\n",
      "WARNING:detectron2.evaluation.coco_evaluation:COCO Evaluator instantiated using config, this is deprecated behavior. Please pass in explicit arguments instead.\n",
      "INFO:detectron2.evaluation.evaluator:Start inference on 170 batches\n",
      "INFO:detectron2.evaluation.evaluator:Inference done 11/170. Dataloading: 0.0007 s/iter. Inference: 0.0580 s/iter. Eval: 0.0181 s/iter. Total: 0.0768 s/iter. ETA=0:00:12\n",
      "INFO:detectron2.evaluation.evaluator:Inference done 78/170. Dataloading: 0.0010 s/iter. Inference: 0.0564 s/iter. Eval: 0.0176 s/iter. Total: 0.0750 s/iter. ETA=0:00:06\n",
      "INFO:detectron2.evaluation.evaluator:Inference done 141/170. Dataloading: 0.0010 s/iter. Inference: 0.0560 s/iter. Eval: 0.0200 s/iter. Total: 0.0770 s/iter. ETA=0:00:02\n",
      "INFO:detectron2.evaluation.evaluator:Total inference time: 0:00:12.678211 (0.076838 s / iter per device, on 1 devices)\n",
      "INFO:detectron2.evaluation.evaluator:Total inference pure compute time: 0:00:09 (0.055929 s / iter per device, on 1 devices)\n",
      "INFO:detectron2.evaluation.coco_evaluation:Preparing results for COCO format ...\n",
      "INFO:detectron2.evaluation.coco_evaluation:Saving results to eval/coco_instances_results.json\n",
      "INFO:detectron2.evaluation.coco_evaluation:Evaluating predictions with unofficial COCO API...\n",
      "INFO:detectron2.evaluation.fast_eval_api:Evaluate annotation type *bbox*\n",
      "INFO:detectron2.evaluation.fast_eval_api:COCOeval_opt.evaluate() finished in 0.17 seconds.\n",
      "INFO:detectron2.evaluation.fast_eval_api:Accumulating evaluation results...\n",
      "INFO:detectron2.evaluation.fast_eval_api:COCOeval_opt.accumulate() finished in 0.03 seconds.\n"
     ]
    },
    {
     "name": "stdout",
     "output_type": "stream",
     "text": [
      "Loading and preparing results...\n",
      "DONE (t=0.01s)\n",
      "creating index...\n",
      "index created!\n"
     ]
    },
    {
     "name": "stderr",
     "output_type": "stream",
     "text": [
      "INFO:detectron2.evaluation.coco_evaluation:Evaluation results for bbox: \n",
      "|  AP   |  AP50  |  AP75  |  APs  |  APm  |  APl   |\n",
      "|:-----:|:------:|:------:|:-----:|:-----:|:------:|\n",
      "| 1.089 | 1.441  | 1.002  | 0.031 | 1.180 | 34.535 |\n"
     ]
    },
    {
     "name": "stdout",
     "output_type": "stream",
     "text": [
      " Average Precision  (AP) @[ IoU=0.50:0.95 | area=   all | maxDets=100 ] = 0.011\n",
      " Average Precision  (AP) @[ IoU=0.50      | area=   all | maxDets=100 ] = 0.014\n",
      " Average Precision  (AP) @[ IoU=0.75      | area=   all | maxDets=100 ] = 0.010\n",
      " Average Precision  (AP) @[ IoU=0.50:0.95 | area= small | maxDets=100 ] = 0.000\n",
      " Average Precision  (AP) @[ IoU=0.50:0.95 | area=medium | maxDets=100 ] = 0.012\n",
      " Average Precision  (AP) @[ IoU=0.50:0.95 | area= large | maxDets=100 ] = 0.345\n",
      " Average Recall     (AR) @[ IoU=0.50:0.95 | area=   all | maxDets=  1 ] = 0.003\n",
      " Average Recall     (AR) @[ IoU=0.50:0.95 | area=   all | maxDets= 10 ] = 0.009\n",
      " Average Recall     (AR) @[ IoU=0.50:0.95 | area=   all | maxDets=100 ] = 0.030\n",
      " Average Recall     (AR) @[ IoU=0.50:0.95 | area= small | maxDets=100 ] = 0.005\n",
      " Average Recall     (AR) @[ IoU=0.50:0.95 | area=medium | maxDets=100 ] = 0.207\n",
      " Average Recall     (AR) @[ IoU=0.50:0.95 | area= large | maxDets=100 ] = 0.550\n"
     ]
    },
    {
     "name": "stderr",
     "output_type": "stream",
     "text": [
      "INFO:detectron2.evaluation.fast_eval_api:Evaluate annotation type *segm*\n"
     ]
    },
    {
     "name": "stdout",
     "output_type": "stream",
     "text": [
      "Loading and preparing results...\n",
      "DONE (t=0.13s)\n",
      "creating index...\n",
      "index created!\n"
     ]
    },
    {
     "name": "stderr",
     "output_type": "stream",
     "text": [
      "INFO:detectron2.evaluation.fast_eval_api:COCOeval_opt.evaluate() finished in 0.36 seconds.\n",
      "INFO:detectron2.evaluation.fast_eval_api:Accumulating evaluation results...\n",
      "INFO:detectron2.evaluation.fast_eval_api:COCOeval_opt.accumulate() finished in 0.03 seconds.\n",
      "INFO:detectron2.evaluation.coco_evaluation:Evaluation results for segm: \n",
      "|  AP   |  AP50  |  AP75  |  APs  |  APm  |  APl   |\n",
      "|:-----:|:------:|:------:|:-----:|:-----:|:------:|\n",
      "| 0.651 | 1.086  | 0.660  | 0.001 | 0.418 | 19.011 |\n",
      "INFO:detectron2.engine.defaults:Evaluation results for griffith_val in csv format:\n",
      "INFO:detectron2.evaluation.testing:copypaste: Task: bbox\n",
      "INFO:detectron2.evaluation.testing:copypaste: AP,AP50,AP75,APs,APm,APl\n",
      "INFO:detectron2.evaluation.testing:copypaste: 1.0894,1.4405,1.0019,0.0312,1.1798,34.5354\n",
      "INFO:detectron2.evaluation.testing:copypaste: Task: segm\n",
      "INFO:detectron2.evaluation.testing:copypaste: AP,AP50,AP75,APs,APm,APl\n",
      "INFO:detectron2.evaluation.testing:copypaste: 0.6513,1.0858,0.6601,0.0014,0.4178,19.0112\n",
      "INFO:detectron2.utils.events: eta: 0:11:27  iter: 1999  total_loss: 1.194  loss_cls: 0.1072  loss_box_reg: 0.09206  loss_mask: 0.3964  loss_rpn_cls: 0.2147  loss_rpn_loc: 0.2553  validation_loss: 1.817    time: 0.7026  last_time: 0.6635  data_time: 0.0054  last_data_time: 0.0081   lr: 0.0003389  max_mem: 3999M\n"
     ]
    },
    {
     "name": "stdout",
     "output_type": "stream",
     "text": [
      " Average Precision  (AP) @[ IoU=0.50:0.95 | area=   all | maxDets=100 ] = 0.007\n",
      " Average Precision  (AP) @[ IoU=0.50      | area=   all | maxDets=100 ] = 0.011\n",
      " Average Precision  (AP) @[ IoU=0.75      | area=   all | maxDets=100 ] = 0.007\n",
      " Average Precision  (AP) @[ IoU=0.50:0.95 | area= small | maxDets=100 ] = 0.000\n",
      " Average Precision  (AP) @[ IoU=0.50:0.95 | area=medium | maxDets=100 ] = 0.004\n",
      " Average Precision  (AP) @[ IoU=0.50:0.95 | area= large | maxDets=100 ] = 0.190\n",
      " Average Recall     (AR) @[ IoU=0.50:0.95 | area=   all | maxDets=  1 ] = 0.002\n",
      " Average Recall     (AR) @[ IoU=0.50:0.95 | area=   all | maxDets= 10 ] = 0.005\n",
      " Average Recall     (AR) @[ IoU=0.50:0.95 | area=   all | maxDets=100 ] = 0.010\n",
      " Average Recall     (AR) @[ IoU=0.50:0.95 | area= small | maxDets=100 ] = 0.001\n",
      " Average Recall     (AR) @[ IoU=0.50:0.95 | area=medium | maxDets=100 ] = 0.067\n",
      " Average Recall     (AR) @[ IoU=0.50:0.95 | area= large | maxDets=100 ] = 0.289\n",
      "Av. segm AP50 = 1.0857994325427345\n"
     ]
    },
    {
     "name": "stderr",
     "output_type": "stream",
     "text": [
      "INFO:detectron2.utils.events: eta: 0:11:13  iter: 2019  total_loss: 1.601  loss_cls: 0.1402  loss_box_reg: 0.1261  loss_mask: 0.4042  loss_rpn_cls: 0.2733  loss_rpn_loc: 0.3609  validation_loss: 1.817    time: 0.7026  last_time: 0.6637  data_time: 0.0054  last_data_time: 0.0055   lr: 0.0003389  max_mem: 3999M\n",
      "INFO:detectron2.utils.events: eta: 0:11:00  iter: 2039  total_loss: 1.611  loss_cls: 0.1874  loss_box_reg: 0.2567  loss_mask: 0.4242  loss_rpn_cls: 0.2596  loss_rpn_loc: 0.3773  validation_loss: 1.817    time: 0.7028  last_time: 0.6860  data_time: 0.0072  last_data_time: 0.0037   lr: 0.0003389  max_mem: 3999M\n",
      "INFO:detectron2.utils.events: eta: 0:10:46  iter: 2059  total_loss: 1.173  loss_cls: 0.1374  loss_box_reg: 0.08273  loss_mask: 0.4323  loss_rpn_cls: 0.2123  loss_rpn_loc: 0.2137  validation_loss: 1.817    time: 0.7029  last_time: 0.6712  data_time: 0.0054  last_data_time: 0.0015   lr: 0.0003389  max_mem: 3999M\n",
      "INFO:detectron2.utils.events: eta: 0:10:32  iter: 2079  total_loss: 1.132  loss_cls: 0.1331  loss_box_reg: 0.08459  loss_mask: 0.4185  loss_rpn_cls: 0.2319  loss_rpn_loc: 0.2586  validation_loss: 1.817    time: 0.7028  last_time: 0.7192  data_time: 0.0053  last_data_time: 0.0060   lr: 0.0003389  max_mem: 3999M\n",
      "INFO:detectron2.data.dataset_mapper:[DatasetMapper] Augmentations used in inference: []\n",
      "INFO:detectree2.models.train:[FlexibleDatasetMapper] Augmentations used in inference: []\n",
      "INFO:detectron2.data.common:Serializing the dataset using: <class 'detectron2.data.common._TorchSerializedList'>\n",
      "INFO:detectron2.data.common:Serializing 170 elements to byte tensors and concatenating them all ...\n",
      "INFO:detectron2.data.common:Serialized dataset takes 8.90 MiB\n",
      "WARNING:detectron2.evaluation.coco_evaluation:COCO Evaluator instantiated using config, this is deprecated behavior. Please pass in explicit arguments instead.\n",
      "INFO:detectron2.evaluation.evaluator:Start inference on 170 batches\n",
      "INFO:detectron2.evaluation.evaluator:Inference done 11/170. Dataloading: 0.0006 s/iter. Inference: 0.0548 s/iter. Eval: 0.0179 s/iter. Total: 0.0733 s/iter. ETA=0:00:11\n",
      "INFO:detectron2.evaluation.evaluator:Inference done 75/170. Dataloading: 0.0010 s/iter. Inference: 0.0550 s/iter. Eval: 0.0226 s/iter. Total: 0.0787 s/iter. ETA=0:00:07\n",
      "INFO:detectron2.evaluation.evaluator:Inference done 143/170. Dataloading: 0.0010 s/iter. Inference: 0.0552 s/iter. Eval: 0.0203 s/iter. Total: 0.0766 s/iter. ETA=0:00:02\n",
      "INFO:detectron2.evaluation.evaluator:Total inference time: 0:00:12.652264 (0.076680 s / iter per device, on 1 devices)\n",
      "INFO:detectron2.evaluation.evaluator:Total inference pure compute time: 0:00:09 (0.055322 s / iter per device, on 1 devices)\n",
      "INFO:detectron2.evaluation.coco_evaluation:Preparing results for COCO format ...\n",
      "INFO:detectron2.evaluation.coco_evaluation:Saving results to eval/coco_instances_results.json\n",
      "INFO:detectron2.evaluation.coco_evaluation:Evaluating predictions with unofficial COCO API...\n",
      "INFO:detectron2.evaluation.fast_eval_api:Evaluate annotation type *bbox*\n",
      "INFO:detectron2.evaluation.fast_eval_api:COCOeval_opt.evaluate() finished in 0.18 seconds.\n",
      "INFO:detectron2.evaluation.fast_eval_api:Accumulating evaluation results...\n",
      "INFO:detectron2.evaluation.fast_eval_api:COCOeval_opt.accumulate() finished in 0.03 seconds.\n"
     ]
    },
    {
     "name": "stdout",
     "output_type": "stream",
     "text": [
      "Loading and preparing results...\n",
      "DONE (t=0.01s)\n",
      "creating index...\n",
      "index created!\n"
     ]
    },
    {
     "name": "stderr",
     "output_type": "stream",
     "text": [
      "INFO:detectron2.evaluation.coco_evaluation:Evaluation results for bbox: \n",
      "|  AP   |  AP50  |  AP75  |  APs  |  APm  |  APl   |\n",
      "|:-----:|:------:|:------:|:-----:|:-----:|:------:|\n",
      "| 1.054 | 1.275  | 0.998  | 0.011 | 0.746 | 32.458 |\n"
     ]
    },
    {
     "name": "stdout",
     "output_type": "stream",
     "text": [
      " Average Precision  (AP) @[ IoU=0.50:0.95 | area=   all | maxDets=100 ] = 0.011\n",
      " Average Precision  (AP) @[ IoU=0.50      | area=   all | maxDets=100 ] = 0.013\n",
      " Average Precision  (AP) @[ IoU=0.75      | area=   all | maxDets=100 ] = 0.010\n",
      " Average Precision  (AP) @[ IoU=0.50:0.95 | area= small | maxDets=100 ] = 0.000\n",
      " Average Precision  (AP) @[ IoU=0.50:0.95 | area=medium | maxDets=100 ] = 0.007\n",
      " Average Precision  (AP) @[ IoU=0.50:0.95 | area= large | maxDets=100 ] = 0.325\n",
      " Average Recall     (AR) @[ IoU=0.50:0.95 | area=   all | maxDets=  1 ] = 0.003\n",
      " Average Recall     (AR) @[ IoU=0.50:0.95 | area=   all | maxDets= 10 ] = 0.008\n",
      " Average Recall     (AR) @[ IoU=0.50:0.95 | area=   all | maxDets=100 ] = 0.028\n",
      " Average Recall     (AR) @[ IoU=0.50:0.95 | area= small | maxDets=100 ] = 0.005\n",
      " Average Recall     (AR) @[ IoU=0.50:0.95 | area=medium | maxDets=100 ] = 0.191\n",
      " Average Recall     (AR) @[ IoU=0.50:0.95 | area= large | maxDets=100 ] = 0.582\n"
     ]
    },
    {
     "name": "stderr",
     "output_type": "stream",
     "text": [
      "INFO:detectron2.evaluation.fast_eval_api:Evaluate annotation type *segm*\n"
     ]
    },
    {
     "name": "stdout",
     "output_type": "stream",
     "text": [
      "Loading and preparing results...\n",
      "DONE (t=0.14s)\n",
      "creating index...\n",
      "index created!\n"
     ]
    },
    {
     "name": "stderr",
     "output_type": "stream",
     "text": [
      "INFO:detectron2.evaluation.fast_eval_api:COCOeval_opt.evaluate() finished in 0.37 seconds.\n",
      "INFO:detectron2.evaluation.fast_eval_api:Accumulating evaluation results...\n",
      "INFO:detectron2.evaluation.fast_eval_api:COCOeval_opt.accumulate() finished in 0.03 seconds.\n",
      "INFO:detectron2.evaluation.coco_evaluation:Evaluation results for segm: \n",
      "|  AP   |  AP50  |  AP75  |  APs  |  APm  |  APl   |\n",
      "|:-----:|:------:|:------:|:-----:|:-----:|:------:|\n",
      "| 0.610 | 1.048  | 0.566  | 0.001 | 0.159 | 18.411 |\n",
      "INFO:detectron2.engine.defaults:Evaluation results for griffith_val in csv format:\n",
      "INFO:detectron2.evaluation.testing:copypaste: Task: bbox\n",
      "INFO:detectron2.evaluation.testing:copypaste: AP,AP50,AP75,APs,APm,APl\n",
      "INFO:detectron2.evaluation.testing:copypaste: 1.0540,1.2749,0.9981,0.0107,0.7457,32.4576\n",
      "INFO:detectron2.evaluation.testing:copypaste: Task: segm\n",
      "INFO:detectron2.evaluation.testing:copypaste: AP,AP50,AP75,APs,APm,APl\n",
      "INFO:detectron2.evaluation.testing:copypaste: 0.6105,1.0478,0.5658,0.0008,0.1594,18.4111\n"
     ]
    },
    {
     "name": "stdout",
     "output_type": "stream",
     "text": [
      " Average Precision  (AP) @[ IoU=0.50:0.95 | area=   all | maxDets=100 ] = 0.006\n",
      " Average Precision  (AP) @[ IoU=0.50      | area=   all | maxDets=100 ] = 0.010\n",
      " Average Precision  (AP) @[ IoU=0.75      | area=   all | maxDets=100 ] = 0.006\n",
      " Average Precision  (AP) @[ IoU=0.50:0.95 | area= small | maxDets=100 ] = 0.000\n",
      " Average Precision  (AP) @[ IoU=0.50:0.95 | area=medium | maxDets=100 ] = 0.002\n",
      " Average Precision  (AP) @[ IoU=0.50:0.95 | area= large | maxDets=100 ] = 0.184\n",
      " Average Recall     (AR) @[ IoU=0.50:0.95 | area=   all | maxDets=  1 ] = 0.002\n",
      " Average Recall     (AR) @[ IoU=0.50:0.95 | area=   all | maxDets= 10 ] = 0.004\n",
      " Average Recall     (AR) @[ IoU=0.50:0.95 | area=   all | maxDets=100 ] = 0.010\n",
      " Average Recall     (AR) @[ IoU=0.50:0.95 | area= small | maxDets=100 ] = 0.001\n",
      " Average Recall     (AR) @[ IoU=0.50:0.95 | area=medium | maxDets=100 ] = 0.063\n",
      " Average Recall     (AR) @[ IoU=0.50:0.95 | area= large | maxDets=100 ] = 0.268\n"
     ]
    },
    {
     "name": "stderr",
     "output_type": "stream",
     "text": [
      "INFO:detectree2.models.train:Loss on Validation  done 11/170. 0.0001 s / img. ETA=0:00:21\n",
      "INFO:detectree2.models.train:Loss on Validation  done 40/170. 0.0001 s / img. ETA=0:00:21\n",
      "INFO:detectree2.models.train:Loss on Validation  done 67/170. 0.0001 s / img. ETA=0:00:18\n",
      "INFO:detectree2.models.train:Loss on Validation  done 98/170. 0.0001 s / img. ETA=0:00:12\n",
      "INFO:detectree2.models.train:Loss on Validation  done 128/170. 0.0001 s / img. ETA=0:00:07\n",
      "INFO:detectree2.models.train:Loss on Validation  done 158/170. 0.0001 s / img. ETA=0:00:02\n",
      "INFO:detectron2.data.dataset_mapper:[DatasetMapper] Augmentations used in inference: []\n",
      "INFO:detectree2.models.train:[FlexibleDatasetMapper] Augmentations used in inference: []\n",
      "INFO:detectron2.data.common:Serializing the dataset using: <class 'detectron2.data.common._TorchSerializedList'>\n",
      "INFO:detectron2.data.common:Serializing 170 elements to byte tensors and concatenating them all ...\n",
      "INFO:detectron2.data.common:Serialized dataset takes 8.90 MiB\n",
      "WARNING:detectron2.evaluation.coco_evaluation:COCO Evaluator instantiated using config, this is deprecated behavior. Please pass in explicit arguments instead.\n",
      "INFO:detectron2.evaluation.evaluator:Start inference on 170 batches\n",
      "INFO:detectron2.evaluation.evaluator:Inference done 11/170. Dataloading: 0.0007 s/iter. Inference: 0.0574 s/iter. Eval: 0.0177 s/iter. Total: 0.0759 s/iter. ETA=0:00:12\n",
      "INFO:detectron2.evaluation.evaluator:Inference done 74/170. Dataloading: 0.0010 s/iter. Inference: 0.0560 s/iter. Eval: 0.0225 s/iter. Total: 0.0796 s/iter. ETA=0:00:07\n",
      "INFO:detectron2.evaluation.evaluator:Inference done 141/170. Dataloading: 0.0010 s/iter. Inference: 0.0560 s/iter. Eval: 0.0201 s/iter. Total: 0.0772 s/iter. ETA=0:00:02\n",
      "INFO:detectron2.evaluation.evaluator:Total inference time: 0:00:12.745347 (0.077245 s / iter per device, on 1 devices)\n",
      "INFO:detectron2.evaluation.evaluator:Total inference pure compute time: 0:00:09 (0.055997 s / iter per device, on 1 devices)\n",
      "INFO:detectron2.evaluation.coco_evaluation:Preparing results for COCO format ...\n",
      "INFO:detectron2.evaluation.coco_evaluation:Saving results to eval/coco_instances_results.json\n",
      "INFO:detectron2.evaluation.coco_evaluation:Evaluating predictions with unofficial COCO API...\n",
      "INFO:detectron2.evaluation.fast_eval_api:Evaluate annotation type *bbox*\n",
      "INFO:detectron2.evaluation.fast_eval_api:COCOeval_opt.evaluate() finished in 0.18 seconds.\n",
      "INFO:detectron2.evaluation.fast_eval_api:Accumulating evaluation results...\n",
      "INFO:detectron2.evaluation.fast_eval_api:COCOeval_opt.accumulate() finished in 0.03 seconds.\n"
     ]
    },
    {
     "name": "stdout",
     "output_type": "stream",
     "text": [
      "Loading and preparing results...\n",
      "DONE (t=0.01s)\n",
      "creating index...\n",
      "index created!\n"
     ]
    },
    {
     "name": "stderr",
     "output_type": "stream",
     "text": [
      "INFO:detectron2.evaluation.coco_evaluation:Evaluation results for bbox: \n",
      "|  AP   |  AP50  |  AP75  |  APs  |  APm  |  APl   |\n",
      "|:-----:|:------:|:------:|:-----:|:-----:|:------:|\n",
      "| 1.054 | 1.275  | 0.998  | 0.011 | 0.746 | 32.458 |\n"
     ]
    },
    {
     "name": "stdout",
     "output_type": "stream",
     "text": [
      " Average Precision  (AP) @[ IoU=0.50:0.95 | area=   all | maxDets=100 ] = 0.011\n",
      " Average Precision  (AP) @[ IoU=0.50      | area=   all | maxDets=100 ] = 0.013\n",
      " Average Precision  (AP) @[ IoU=0.75      | area=   all | maxDets=100 ] = 0.010\n",
      " Average Precision  (AP) @[ IoU=0.50:0.95 | area= small | maxDets=100 ] = 0.000\n",
      " Average Precision  (AP) @[ IoU=0.50:0.95 | area=medium | maxDets=100 ] = 0.007\n",
      " Average Precision  (AP) @[ IoU=0.50:0.95 | area= large | maxDets=100 ] = 0.325\n",
      " Average Recall     (AR) @[ IoU=0.50:0.95 | area=   all | maxDets=  1 ] = 0.003\n",
      " Average Recall     (AR) @[ IoU=0.50:0.95 | area=   all | maxDets= 10 ] = 0.008\n",
      " Average Recall     (AR) @[ IoU=0.50:0.95 | area=   all | maxDets=100 ] = 0.028\n",
      " Average Recall     (AR) @[ IoU=0.50:0.95 | area= small | maxDets=100 ] = 0.005\n",
      " Average Recall     (AR) @[ IoU=0.50:0.95 | area=medium | maxDets=100 ] = 0.191\n",
      " Average Recall     (AR) @[ IoU=0.50:0.95 | area= large | maxDets=100 ] = 0.582\n"
     ]
    },
    {
     "name": "stderr",
     "output_type": "stream",
     "text": [
      "INFO:detectron2.evaluation.fast_eval_api:Evaluate annotation type *segm*\n"
     ]
    },
    {
     "name": "stdout",
     "output_type": "stream",
     "text": [
      "Loading and preparing results...\n",
      "DONE (t=0.14s)\n",
      "creating index...\n",
      "index created!\n"
     ]
    },
    {
     "name": "stderr",
     "output_type": "stream",
     "text": [
      "INFO:detectron2.evaluation.fast_eval_api:COCOeval_opt.evaluate() finished in 0.58 seconds.\n",
      "INFO:detectron2.evaluation.fast_eval_api:Accumulating evaluation results...\n",
      "INFO:detectron2.evaluation.fast_eval_api:COCOeval_opt.accumulate() finished in 0.03 seconds.\n",
      "INFO:detectron2.evaluation.coco_evaluation:Evaluation results for segm: \n",
      "|  AP   |  AP50  |  AP75  |  APs  |  APm  |  APl   |\n",
      "|:-----:|:------:|:------:|:-----:|:-----:|:------:|\n",
      "| 0.610 | 1.048  | 0.566  | 0.001 | 0.159 | 18.411 |\n",
      "INFO:detectron2.engine.defaults:Evaluation results for griffith_val in csv format:\n",
      "INFO:detectron2.evaluation.testing:copypaste: Task: bbox\n",
      "INFO:detectron2.evaluation.testing:copypaste: AP,AP50,AP75,APs,APm,APl\n",
      "INFO:detectron2.evaluation.testing:copypaste: 1.0540,1.2749,0.9981,0.0107,0.7457,32.4576\n",
      "INFO:detectron2.evaluation.testing:copypaste: Task: segm\n",
      "INFO:detectron2.evaluation.testing:copypaste: AP,AP50,AP75,APs,APm,APl\n",
      "INFO:detectron2.evaluation.testing:copypaste: 0.6105,1.0478,0.5658,0.0008,0.1594,18.4111\n",
      "INFO:detectron2.utils.events: eta: 0:10:18  iter: 2099  total_loss: 1.328  loss_cls: 0.1441  loss_box_reg: 0.1193  loss_mask: 0.4181  loss_rpn_cls: 0.1857  loss_rpn_loc: 0.3748  validation_loss: 1.846    time: 0.7029  last_time: 0.6540  data_time: 0.0055  last_data_time: 0.0011   lr: 0.0003389  max_mem: 3999M\n"
     ]
    },
    {
     "name": "stdout",
     "output_type": "stream",
     "text": [
      " Average Precision  (AP) @[ IoU=0.50:0.95 | area=   all | maxDets=100 ] = 0.006\n",
      " Average Precision  (AP) @[ IoU=0.50      | area=   all | maxDets=100 ] = 0.010\n",
      " Average Precision  (AP) @[ IoU=0.75      | area=   all | maxDets=100 ] = 0.006\n",
      " Average Precision  (AP) @[ IoU=0.50:0.95 | area= small | maxDets=100 ] = 0.000\n",
      " Average Precision  (AP) @[ IoU=0.50:0.95 | area=medium | maxDets=100 ] = 0.002\n",
      " Average Precision  (AP) @[ IoU=0.50:0.95 | area= large | maxDets=100 ] = 0.184\n",
      " Average Recall     (AR) @[ IoU=0.50:0.95 | area=   all | maxDets=  1 ] = 0.002\n",
      " Average Recall     (AR) @[ IoU=0.50:0.95 | area=   all | maxDets= 10 ] = 0.004\n",
      " Average Recall     (AR) @[ IoU=0.50:0.95 | area=   all | maxDets=100 ] = 0.010\n",
      " Average Recall     (AR) @[ IoU=0.50:0.95 | area= small | maxDets=100 ] = 0.001\n",
      " Average Recall     (AR) @[ IoU=0.50:0.95 | area=medium | maxDets=100 ] = 0.063\n",
      " Average Recall     (AR) @[ IoU=0.50:0.95 | area= large | maxDets=100 ] = 0.268\n",
      "Av. segm AP50 = 1.0478013910165527\n"
     ]
    },
    {
     "name": "stderr",
     "output_type": "stream",
     "text": [
      "INFO:detectron2.utils.events: eta: 0:10:05  iter: 2119  total_loss: 1.41  loss_cls: 0.1051  loss_box_reg: 0.09882  loss_mask: 0.4165  loss_rpn_cls: 0.2683  loss_rpn_loc: 0.3068  validation_loss: 1.846    time: 0.7029  last_time: 0.7630  data_time: 0.0062  last_data_time: 0.0107   lr: 0.0003389  max_mem: 3999M\n",
      "INFO:detectron2.utils.events: eta: 0:09:51  iter: 2139  total_loss: 1.402  loss_cls: 0.1412  loss_box_reg: 0.08227  loss_mask: 0.4259  loss_rpn_cls: 0.2223  loss_rpn_loc: 0.3023  validation_loss: 1.846    time: 0.7029  last_time: 0.6639  data_time: 0.0054  last_data_time: 0.0033   lr: 0.0003389  max_mem: 3999M\n",
      "INFO:detectron2.utils.events: eta: 0:09:38  iter: 2159  total_loss: 1.224  loss_cls: 0.112  loss_box_reg: 0.08187  loss_mask: 0.3989  loss_rpn_cls: 0.2515  loss_rpn_loc: 0.3496  validation_loss: 1.846    time: 0.7029  last_time: 0.7535  data_time: 0.0051  last_data_time: 0.0060   lr: 0.0003389  max_mem: 3999M\n",
      "INFO:detectron2.utils.events: eta: 0:09:24  iter: 2179  total_loss: 1.503  loss_cls: 0.1492  loss_box_reg: 0.05987  loss_mask: 0.4516  loss_rpn_cls: 0.3091  loss_rpn_loc: 0.3545  validation_loss: 1.846    time: 0.7029  last_time: 0.7473  data_time: 0.0067  last_data_time: 0.0053   lr: 0.0003389  max_mem: 3999M\n",
      "INFO:detectron2.data.dataset_mapper:[DatasetMapper] Augmentations used in inference: []\n",
      "INFO:detectree2.models.train:[FlexibleDatasetMapper] Augmentations used in inference: []\n",
      "INFO:detectron2.data.common:Serializing the dataset using: <class 'detectron2.data.common._TorchSerializedList'>\n",
      "INFO:detectron2.data.common:Serializing 170 elements to byte tensors and concatenating them all ...\n",
      "INFO:detectron2.data.common:Serialized dataset takes 8.90 MiB\n",
      "WARNING:detectron2.evaluation.coco_evaluation:COCO Evaluator instantiated using config, this is deprecated behavior. Please pass in explicit arguments instead.\n",
      "INFO:detectron2.evaluation.evaluator:Start inference on 170 batches\n",
      "INFO:detectron2.evaluation.evaluator:Inference done 11/170. Dataloading: 0.0006 s/iter. Inference: 0.0565 s/iter. Eval: 0.0179 s/iter. Total: 0.0750 s/iter. ETA=0:00:11\n",
      "INFO:detectron2.evaluation.evaluator:Inference done 78/170. Dataloading: 0.0010 s/iter. Inference: 0.0558 s/iter. Eval: 0.0179 s/iter. Total: 0.0748 s/iter. ETA=0:00:06\n",
      "INFO:detectron2.evaluation.evaluator:Inference done 142/170. Dataloading: 0.0010 s/iter. Inference: 0.0555 s/iter. Eval: 0.0202 s/iter. Total: 0.0768 s/iter. ETA=0:00:02\n",
      "INFO:detectron2.evaluation.evaluator:Total inference time: 0:00:12.656450 (0.076706 s / iter per device, on 1 devices)\n",
      "INFO:detectron2.evaluation.evaluator:Total inference pure compute time: 0:00:09 (0.055430 s / iter per device, on 1 devices)\n",
      "INFO:detectron2.evaluation.coco_evaluation:Preparing results for COCO format ...\n",
      "INFO:detectron2.evaluation.coco_evaluation:Saving results to eval/coco_instances_results.json\n",
      "INFO:detectron2.evaluation.coco_evaluation:Evaluating predictions with unofficial COCO API...\n",
      "INFO:detectron2.evaluation.fast_eval_api:Evaluate annotation type *bbox*\n",
      "INFO:detectron2.evaluation.fast_eval_api:COCOeval_opt.evaluate() finished in 0.18 seconds.\n",
      "INFO:detectron2.evaluation.fast_eval_api:Accumulating evaluation results...\n",
      "INFO:detectron2.evaluation.fast_eval_api:COCOeval_opt.accumulate() finished in 0.03 seconds.\n"
     ]
    },
    {
     "name": "stdout",
     "output_type": "stream",
     "text": [
      "Loading and preparing results...\n",
      "DONE (t=0.01s)\n",
      "creating index...\n",
      "index created!\n"
     ]
    },
    {
     "name": "stderr",
     "output_type": "stream",
     "text": [
      "INFO:detectron2.evaluation.coco_evaluation:Evaluation results for bbox: \n",
      "|  AP   |  AP50  |  AP75  |  APs  |  APm  |  APl   |\n",
      "|:-----:|:------:|:------:|:-----:|:-----:|:------:|\n",
      "| 1.016 | 1.553  | 0.998  | 0.020 | 2.148 | 32.522 |\n"
     ]
    },
    {
     "name": "stdout",
     "output_type": "stream",
     "text": [
      " Average Precision  (AP) @[ IoU=0.50:0.95 | area=   all | maxDets=100 ] = 0.010\n",
      " Average Precision  (AP) @[ IoU=0.50      | area=   all | maxDets=100 ] = 0.016\n",
      " Average Precision  (AP) @[ IoU=0.75      | area=   all | maxDets=100 ] = 0.010\n",
      " Average Precision  (AP) @[ IoU=0.50:0.95 | area= small | maxDets=100 ] = 0.000\n",
      " Average Precision  (AP) @[ IoU=0.50:0.95 | area=medium | maxDets=100 ] = 0.021\n",
      " Average Precision  (AP) @[ IoU=0.50:0.95 | area= large | maxDets=100 ] = 0.325\n",
      " Average Recall     (AR) @[ IoU=0.50:0.95 | area=   all | maxDets=  1 ] = 0.003\n",
      " Average Recall     (AR) @[ IoU=0.50:0.95 | area=   all | maxDets= 10 ] = 0.008\n",
      " Average Recall     (AR) @[ IoU=0.50:0.95 | area=   all | maxDets=100 ] = 0.026\n",
      " Average Recall     (AR) @[ IoU=0.50:0.95 | area= small | maxDets=100 ] = 0.005\n",
      " Average Recall     (AR) @[ IoU=0.50:0.95 | area=medium | maxDets=100 ] = 0.166\n",
      " Average Recall     (AR) @[ IoU=0.50:0.95 | area= large | maxDets=100 ] = 0.550\n"
     ]
    },
    {
     "name": "stderr",
     "output_type": "stream",
     "text": [
      "INFO:detectron2.evaluation.fast_eval_api:Evaluate annotation type *segm*\n"
     ]
    },
    {
     "name": "stdout",
     "output_type": "stream",
     "text": [
      "Loading and preparing results...\n",
      "DONE (t=0.13s)\n",
      "creating index...\n",
      "index created!\n"
     ]
    },
    {
     "name": "stderr",
     "output_type": "stream",
     "text": [
      "INFO:detectron2.evaluation.fast_eval_api:COCOeval_opt.evaluate() finished in 0.36 seconds.\n",
      "INFO:detectron2.evaluation.fast_eval_api:Accumulating evaluation results...\n",
      "INFO:detectron2.evaluation.fast_eval_api:COCOeval_opt.accumulate() finished in 0.03 seconds.\n",
      "INFO:detectron2.evaluation.coco_evaluation:Evaluation results for segm: \n",
      "|  AP   |  AP50  |  AP75  |  APs  |  APm  |  APl   |\n",
      "|:-----:|:------:|:------:|:-----:|:-----:|:------:|\n",
      "| 0.684 | 1.120  | 0.990  | 0.002 | 1.082 | 15.539 |\n",
      "INFO:detectron2.engine.defaults:Evaluation results for griffith_val in csv format:\n",
      "INFO:detectron2.evaluation.testing:copypaste: Task: bbox\n",
      "INFO:detectron2.evaluation.testing:copypaste: AP,AP50,AP75,APs,APm,APl\n",
      "INFO:detectron2.evaluation.testing:copypaste: 1.0161,1.5534,0.9982,0.0196,2.1478,32.5217\n",
      "INFO:detectron2.evaluation.testing:copypaste: Task: segm\n",
      "INFO:detectron2.evaluation.testing:copypaste: AP,AP50,AP75,APs,APm,APl\n",
      "INFO:detectron2.evaluation.testing:copypaste: 0.6844,1.1199,0.9901,0.0015,1.0818,15.5394\n"
     ]
    },
    {
     "name": "stdout",
     "output_type": "stream",
     "text": [
      " Average Precision  (AP) @[ IoU=0.50:0.95 | area=   all | maxDets=100 ] = 0.007\n",
      " Average Precision  (AP) @[ IoU=0.50      | area=   all | maxDets=100 ] = 0.011\n",
      " Average Precision  (AP) @[ IoU=0.75      | area=   all | maxDets=100 ] = 0.010\n",
      " Average Precision  (AP) @[ IoU=0.50:0.95 | area= small | maxDets=100 ] = 0.000\n",
      " Average Precision  (AP) @[ IoU=0.50:0.95 | area=medium | maxDets=100 ] = 0.011\n",
      " Average Precision  (AP) @[ IoU=0.50:0.95 | area= large | maxDets=100 ] = 0.155\n",
      " Average Recall     (AR) @[ IoU=0.50:0.95 | area=   all | maxDets=  1 ] = 0.003\n",
      " Average Recall     (AR) @[ IoU=0.50:0.95 | area=   all | maxDets= 10 ] = 0.005\n",
      " Average Recall     (AR) @[ IoU=0.50:0.95 | area=   all | maxDets=100 ] = 0.009\n",
      " Average Recall     (AR) @[ IoU=0.50:0.95 | area= small | maxDets=100 ] = 0.001\n",
      " Average Recall     (AR) @[ IoU=0.50:0.95 | area=medium | maxDets=100 ] = 0.058\n",
      " Average Recall     (AR) @[ IoU=0.50:0.95 | area= large | maxDets=100 ] = 0.250\n"
     ]
    },
    {
     "name": "stderr",
     "output_type": "stream",
     "text": [
      "INFO:detectree2.models.train:Loss on Validation  done 11/170. 0.0001 s / img. ETA=0:00:21\n",
      "INFO:detectree2.models.train:Loss on Validation  done 40/170. 0.0001 s / img. ETA=0:00:21\n",
      "INFO:detectree2.models.train:Loss on Validation  done 69/170. 0.0001 s / img. ETA=0:00:17\n",
      "INFO:detectree2.models.train:Loss on Validation  done 99/170. 0.0001 s / img. ETA=0:00:12\n",
      "INFO:detectree2.models.train:Loss on Validation  done 130/170. 0.0001 s / img. ETA=0:00:06\n",
      "INFO:detectree2.models.train:Loss on Validation  done 160/170. 0.0001 s / img. ETA=0:00:01\n",
      "INFO:detectron2.data.dataset_mapper:[DatasetMapper] Augmentations used in inference: []\n",
      "INFO:detectree2.models.train:[FlexibleDatasetMapper] Augmentations used in inference: []\n",
      "INFO:detectron2.data.common:Serializing the dataset using: <class 'detectron2.data.common._TorchSerializedList'>\n",
      "INFO:detectron2.data.common:Serializing 170 elements to byte tensors and concatenating them all ...\n",
      "INFO:detectron2.data.common:Serialized dataset takes 8.90 MiB\n",
      "WARNING:detectron2.evaluation.coco_evaluation:COCO Evaluator instantiated using config, this is deprecated behavior. Please pass in explicit arguments instead.\n",
      "INFO:detectron2.evaluation.evaluator:Start inference on 170 batches\n",
      "INFO:detectron2.evaluation.evaluator:Inference done 11/170. Dataloading: 0.0006 s/iter. Inference: 0.0582 s/iter. Eval: 0.0178 s/iter. Total: 0.0765 s/iter. ETA=0:00:12\n",
      "INFO:detectron2.evaluation.evaluator:Inference done 78/170. Dataloading: 0.0010 s/iter. Inference: 0.0569 s/iter. Eval: 0.0176 s/iter. Total: 0.0756 s/iter. ETA=0:00:06\n",
      "INFO:detectron2.evaluation.evaluator:Inference done 141/170. Dataloading: 0.0010 s/iter. Inference: 0.0566 s/iter. Eval: 0.0201 s/iter. Total: 0.0777 s/iter. ETA=0:00:02\n",
      "INFO:detectron2.evaluation.evaluator:Total inference time: 0:00:12.792001 (0.077527 s / iter per device, on 1 devices)\n",
      "INFO:detectron2.evaluation.evaluator:Total inference pure compute time: 0:00:09 (0.056438 s / iter per device, on 1 devices)\n",
      "INFO:detectron2.evaluation.coco_evaluation:Preparing results for COCO format ...\n",
      "INFO:detectron2.evaluation.coco_evaluation:Saving results to eval/coco_instances_results.json\n",
      "INFO:detectron2.evaluation.coco_evaluation:Evaluating predictions with unofficial COCO API...\n",
      "INFO:detectron2.evaluation.fast_eval_api:Evaluate annotation type *bbox*\n",
      "INFO:detectron2.evaluation.fast_eval_api:COCOeval_opt.evaluate() finished in 0.18 seconds.\n",
      "INFO:detectron2.evaluation.fast_eval_api:Accumulating evaluation results...\n",
      "INFO:detectron2.evaluation.fast_eval_api:COCOeval_opt.accumulate() finished in 0.03 seconds.\n"
     ]
    },
    {
     "name": "stdout",
     "output_type": "stream",
     "text": [
      "Loading and preparing results...\n",
      "DONE (t=0.01s)\n",
      "creating index...\n",
      "index created!\n"
     ]
    },
    {
     "name": "stderr",
     "output_type": "stream",
     "text": [
      "INFO:detectron2.evaluation.coco_evaluation:Evaluation results for bbox: \n",
      "|  AP   |  AP50  |  AP75  |  APs  |  APm  |  APl   |\n",
      "|:-----:|:------:|:------:|:-----:|:-----:|:------:|\n",
      "| 1.016 | 1.553  | 0.998  | 0.020 | 2.148 | 32.522 |\n"
     ]
    },
    {
     "name": "stdout",
     "output_type": "stream",
     "text": [
      " Average Precision  (AP) @[ IoU=0.50:0.95 | area=   all | maxDets=100 ] = 0.010\n",
      " Average Precision  (AP) @[ IoU=0.50      | area=   all | maxDets=100 ] = 0.016\n",
      " Average Precision  (AP) @[ IoU=0.75      | area=   all | maxDets=100 ] = 0.010\n",
      " Average Precision  (AP) @[ IoU=0.50:0.95 | area= small | maxDets=100 ] = 0.000\n",
      " Average Precision  (AP) @[ IoU=0.50:0.95 | area=medium | maxDets=100 ] = 0.021\n",
      " Average Precision  (AP) @[ IoU=0.50:0.95 | area= large | maxDets=100 ] = 0.325\n",
      " Average Recall     (AR) @[ IoU=0.50:0.95 | area=   all | maxDets=  1 ] = 0.003\n",
      " Average Recall     (AR) @[ IoU=0.50:0.95 | area=   all | maxDets= 10 ] = 0.008\n",
      " Average Recall     (AR) @[ IoU=0.50:0.95 | area=   all | maxDets=100 ] = 0.026\n",
      " Average Recall     (AR) @[ IoU=0.50:0.95 | area= small | maxDets=100 ] = 0.005\n",
      " Average Recall     (AR) @[ IoU=0.50:0.95 | area=medium | maxDets=100 ] = 0.166\n",
      " Average Recall     (AR) @[ IoU=0.50:0.95 | area= large | maxDets=100 ] = 0.550\n"
     ]
    },
    {
     "name": "stderr",
     "output_type": "stream",
     "text": [
      "INFO:detectron2.evaluation.fast_eval_api:Evaluate annotation type *segm*\n"
     ]
    },
    {
     "name": "stdout",
     "output_type": "stream",
     "text": [
      "Loading and preparing results...\n",
      "DONE (t=0.13s)\n",
      "creating index...\n",
      "index created!\n"
     ]
    },
    {
     "name": "stderr",
     "output_type": "stream",
     "text": [
      "INFO:detectron2.evaluation.fast_eval_api:COCOeval_opt.evaluate() finished in 0.36 seconds.\n",
      "INFO:detectron2.evaluation.fast_eval_api:Accumulating evaluation results...\n",
      "INFO:detectron2.evaluation.fast_eval_api:COCOeval_opt.accumulate() finished in 0.03 seconds.\n",
      "INFO:detectron2.evaluation.coco_evaluation:Evaluation results for segm: \n",
      "|  AP   |  AP50  |  AP75  |  APs  |  APm  |  APl   |\n",
      "|:-----:|:------:|:------:|:-----:|:-----:|:------:|\n",
      "| 0.684 | 1.120  | 0.990  | 0.002 | 1.082 | 15.539 |\n",
      "INFO:detectron2.engine.defaults:Evaluation results for griffith_val in csv format:\n",
      "INFO:detectron2.evaluation.testing:copypaste: Task: bbox\n",
      "INFO:detectron2.evaluation.testing:copypaste: AP,AP50,AP75,APs,APm,APl\n",
      "INFO:detectron2.evaluation.testing:copypaste: 1.0161,1.5534,0.9982,0.0196,2.1478,32.5217\n",
      "INFO:detectron2.evaluation.testing:copypaste: Task: segm\n",
      "INFO:detectron2.evaluation.testing:copypaste: AP,AP50,AP75,APs,APm,APl\n",
      "INFO:detectron2.evaluation.testing:copypaste: 0.6844,1.1199,0.9901,0.0015,1.0818,15.5394\n",
      "INFO:detectron2.utils.events: eta: 0:09:11  iter: 2199  total_loss: 1.508  loss_cls: 0.1747  loss_box_reg: 0.1393  loss_mask: 0.43  loss_rpn_cls: 0.2531  loss_rpn_loc: 0.3309  validation_loss: 1.844    time: 0.7030  last_time: 0.7455  data_time: 0.0065  last_data_time: 0.0053   lr: 0.0003389  max_mem: 3999M\n"
     ]
    },
    {
     "name": "stdout",
     "output_type": "stream",
     "text": [
      " Average Precision  (AP) @[ IoU=0.50:0.95 | area=   all | maxDets=100 ] = 0.007\n",
      " Average Precision  (AP) @[ IoU=0.50      | area=   all | maxDets=100 ] = 0.011\n",
      " Average Precision  (AP) @[ IoU=0.75      | area=   all | maxDets=100 ] = 0.010\n",
      " Average Precision  (AP) @[ IoU=0.50:0.95 | area= small | maxDets=100 ] = 0.000\n",
      " Average Precision  (AP) @[ IoU=0.50:0.95 | area=medium | maxDets=100 ] = 0.011\n",
      " Average Precision  (AP) @[ IoU=0.50:0.95 | area= large | maxDets=100 ] = 0.155\n",
      " Average Recall     (AR) @[ IoU=0.50:0.95 | area=   all | maxDets=  1 ] = 0.003\n",
      " Average Recall     (AR) @[ IoU=0.50:0.95 | area=   all | maxDets= 10 ] = 0.005\n",
      " Average Recall     (AR) @[ IoU=0.50:0.95 | area=   all | maxDets=100 ] = 0.009\n",
      " Average Recall     (AR) @[ IoU=0.50:0.95 | area= small | maxDets=100 ] = 0.001\n",
      " Average Recall     (AR) @[ IoU=0.50:0.95 | area=medium | maxDets=100 ] = 0.058\n",
      " Average Recall     (AR) @[ IoU=0.50:0.95 | area= large | maxDets=100 ] = 0.250\n",
      "Av. segm AP50 = 1.119858685842574\n"
     ]
    },
    {
     "name": "stderr",
     "output_type": "stream",
     "text": [
      "INFO:detectron2.utils.events: eta: 0:08:57  iter: 2219  total_loss: 1.21  loss_cls: 0.119  loss_box_reg: 0.1109  loss_mask: 0.4062  loss_rpn_cls: 0.2188  loss_rpn_loc: 0.2819  validation_loss: 1.844    time: 0.7030  last_time: 0.6734  data_time: 0.0050  last_data_time: 0.0045   lr: 0.0003389  max_mem: 3999M\n",
      "INFO:detectron2.utils.events: eta: 0:08:43  iter: 2239  total_loss: 1.084  loss_cls: 0.1509  loss_box_reg: 0.1692  loss_mask: 0.4193  loss_rpn_cls: 0.178  loss_rpn_loc: 0.3045  validation_loss: 1.844    time: 0.7030  last_time: 0.6757  data_time: 0.0055  last_data_time: 0.0018   lr: 0.0003389  max_mem: 3999M\n",
      "INFO:detectron2.utils.events: eta: 0:08:30  iter: 2259  total_loss: 1.32  loss_cls: 0.1383  loss_box_reg: 0.14  loss_mask: 0.3972  loss_rpn_cls: 0.2211  loss_rpn_loc: 0.314  validation_loss: 1.844    time: 0.7032  last_time: 0.7560  data_time: 0.0054  last_data_time: 0.0077   lr: 0.0003389  max_mem: 3999M\n",
      "INFO:detectron2.utils.events: eta: 0:08:16  iter: 2279  total_loss: 1.344  loss_cls: 0.09897  loss_box_reg: 0.07126  loss_mask: 0.4141  loss_rpn_cls: 0.1821  loss_rpn_loc: 0.2281  validation_loss: 1.844    time: 0.7031  last_time: 0.6687  data_time: 0.0049  last_data_time: 0.0044   lr: 0.0003389  max_mem: 3999M\n",
      "INFO:detectron2.data.dataset_mapper:[DatasetMapper] Augmentations used in inference: []\n",
      "INFO:detectree2.models.train:[FlexibleDatasetMapper] Augmentations used in inference: []\n",
      "INFO:detectron2.data.common:Serializing the dataset using: <class 'detectron2.data.common._TorchSerializedList'>\n",
      "INFO:detectron2.data.common:Serializing 170 elements to byte tensors and concatenating them all ...\n",
      "INFO:detectron2.data.common:Serialized dataset takes 8.90 MiB\n",
      "WARNING:detectron2.evaluation.coco_evaluation:COCO Evaluator instantiated using config, this is deprecated behavior. Please pass in explicit arguments instead.\n",
      "INFO:detectron2.evaluation.evaluator:Start inference on 170 batches\n",
      "INFO:detectron2.evaluation.evaluator:Inference done 11/170. Dataloading: 0.0007 s/iter. Inference: 0.0550 s/iter. Eval: 0.0177 s/iter. Total: 0.0734 s/iter. ETA=0:00:11\n",
      "INFO:detectron2.evaluation.evaluator:Inference done 81/170. Dataloading: 0.0010 s/iter. Inference: 0.0540 s/iter. Eval: 0.0169 s/iter. Total: 0.0720 s/iter. ETA=0:00:06\n",
      "INFO:detectron2.evaluation.evaluator:Inference done 145/170. Dataloading: 0.0010 s/iter. Inference: 0.0545 s/iter. Eval: 0.0193 s/iter. Total: 0.0748 s/iter. ETA=0:00:01\n",
      "INFO:detectron2.evaluation.evaluator:Total inference time: 0:00:12.308805 (0.074599 s / iter per device, on 1 devices)\n",
      "INFO:detectron2.evaluation.evaluator:Total inference pure compute time: 0:00:08 (0.054343 s / iter per device, on 1 devices)\n",
      "INFO:detectron2.evaluation.coco_evaluation:Preparing results for COCO format ...\n",
      "INFO:detectron2.evaluation.coco_evaluation:Saving results to eval/coco_instances_results.json\n",
      "INFO:detectron2.evaluation.coco_evaluation:Evaluating predictions with unofficial COCO API...\n",
      "INFO:detectron2.evaluation.fast_eval_api:Evaluate annotation type *bbox*\n",
      "INFO:detectron2.evaluation.fast_eval_api:COCOeval_opt.evaluate() finished in 0.17 seconds.\n",
      "INFO:detectron2.evaluation.fast_eval_api:Accumulating evaluation results...\n",
      "INFO:detectron2.evaluation.fast_eval_api:COCOeval_opt.accumulate() finished in 0.03 seconds.\n"
     ]
    },
    {
     "name": "stdout",
     "output_type": "stream",
     "text": [
      "Loading and preparing results...\n",
      "DONE (t=0.01s)\n",
      "creating index...\n",
      "index created!\n"
     ]
    },
    {
     "name": "stderr",
     "output_type": "stream",
     "text": [
      "INFO:detectron2.evaluation.coco_evaluation:Evaluation results for bbox: \n",
      "|  AP   |  AP50  |  AP75  |  APs  |  APm  |  APl   |\n",
      "|:-----:|:------:|:------:|:-----:|:-----:|:------:|\n",
      "| 1.066 | 1.347  | 0.997  | 0.011 | 1.211 | 30.691 |\n"
     ]
    },
    {
     "name": "stdout",
     "output_type": "stream",
     "text": [
      " Average Precision  (AP) @[ IoU=0.50:0.95 | area=   all | maxDets=100 ] = 0.011\n",
      " Average Precision  (AP) @[ IoU=0.50      | area=   all | maxDets=100 ] = 0.013\n",
      " Average Precision  (AP) @[ IoU=0.75      | area=   all | maxDets=100 ] = 0.010\n",
      " Average Precision  (AP) @[ IoU=0.50:0.95 | area= small | maxDets=100 ] = 0.000\n",
      " Average Precision  (AP) @[ IoU=0.50:0.95 | area=medium | maxDets=100 ] = 0.012\n",
      " Average Precision  (AP) @[ IoU=0.50:0.95 | area= large | maxDets=100 ] = 0.307\n",
      " Average Recall     (AR) @[ IoU=0.50:0.95 | area=   all | maxDets=  1 ] = 0.003\n",
      " Average Recall     (AR) @[ IoU=0.50:0.95 | area=   all | maxDets= 10 ] = 0.008\n",
      " Average Recall     (AR) @[ IoU=0.50:0.95 | area=   all | maxDets=100 ] = 0.026\n",
      " Average Recall     (AR) @[ IoU=0.50:0.95 | area= small | maxDets=100 ] = 0.004\n",
      " Average Recall     (AR) @[ IoU=0.50:0.95 | area=medium | maxDets=100 ] = 0.170\n",
      " Average Recall     (AR) @[ IoU=0.50:0.95 | area= large | maxDets=100 ] = 0.586\n"
     ]
    },
    {
     "name": "stderr",
     "output_type": "stream",
     "text": [
      "INFO:detectron2.evaluation.fast_eval_api:Evaluate annotation type *segm*\n"
     ]
    },
    {
     "name": "stdout",
     "output_type": "stream",
     "text": [
      "Loading and preparing results...\n",
      "DONE (t=0.13s)\n",
      "creating index...\n",
      "index created!\n"
     ]
    },
    {
     "name": "stderr",
     "output_type": "stream",
     "text": [
      "INFO:detectron2.evaluation.fast_eval_api:COCOeval_opt.evaluate() finished in 0.36 seconds.\n",
      "INFO:detectron2.evaluation.fast_eval_api:Accumulating evaluation results...\n",
      "INFO:detectron2.evaluation.fast_eval_api:COCOeval_opt.accumulate() finished in 0.03 seconds.\n",
      "INFO:detectron2.evaluation.coco_evaluation:Evaluation results for segm: \n",
      "|  AP   |  AP50  |  AP75  |  APs  |  APm  |  APl   |\n",
      "|:-----:|:------:|:------:|:-----:|:-----:|:------:|\n",
      "| 0.695 | 1.142  | 0.990  | 0.001 | 1.082 | 18.562 |\n",
      "INFO:detectron2.engine.defaults:Evaluation results for griffith_val in csv format:\n",
      "INFO:detectron2.evaluation.testing:copypaste: Task: bbox\n",
      "INFO:detectron2.evaluation.testing:copypaste: AP,AP50,AP75,APs,APm,APl\n",
      "INFO:detectron2.evaluation.testing:copypaste: 1.0656,1.3466,0.9974,0.0107,1.2112,30.6908\n",
      "INFO:detectron2.evaluation.testing:copypaste: Task: segm\n",
      "INFO:detectron2.evaluation.testing:copypaste: AP,AP50,AP75,APs,APm,APl\n",
      "INFO:detectron2.evaluation.testing:copypaste: 0.6952,1.1418,0.9901,0.0009,1.0819,18.5616\n"
     ]
    },
    {
     "name": "stdout",
     "output_type": "stream",
     "text": [
      " Average Precision  (AP) @[ IoU=0.50:0.95 | area=   all | maxDets=100 ] = 0.007\n",
      " Average Precision  (AP) @[ IoU=0.50      | area=   all | maxDets=100 ] = 0.011\n",
      " Average Precision  (AP) @[ IoU=0.75      | area=   all | maxDets=100 ] = 0.010\n",
      " Average Precision  (AP) @[ IoU=0.50:0.95 | area= small | maxDets=100 ] = 0.000\n",
      " Average Precision  (AP) @[ IoU=0.50:0.95 | area=medium | maxDets=100 ] = 0.011\n",
      " Average Precision  (AP) @[ IoU=0.50:0.95 | area= large | maxDets=100 ] = 0.186\n",
      " Average Recall     (AR) @[ IoU=0.50:0.95 | area=   all | maxDets=  1 ] = 0.003\n",
      " Average Recall     (AR) @[ IoU=0.50:0.95 | area=   all | maxDets= 10 ] = 0.006\n",
      " Average Recall     (AR) @[ IoU=0.50:0.95 | area=   all | maxDets=100 ] = 0.011\n",
      " Average Recall     (AR) @[ IoU=0.50:0.95 | area= small | maxDets=100 ] = 0.001\n",
      " Average Recall     (AR) @[ IoU=0.50:0.95 | area=medium | maxDets=100 ] = 0.072\n",
      " Average Recall     (AR) @[ IoU=0.50:0.95 | area= large | maxDets=100 ] = 0.307\n"
     ]
    },
    {
     "name": "stderr",
     "output_type": "stream",
     "text": [
      "INFO:detectree2.models.train:Loss on Validation  done 11/170. 0.0001 s / img. ETA=0:00:21\n",
      "INFO:detectree2.models.train:Loss on Validation  done 40/170. 0.0001 s / img. ETA=0:00:21\n",
      "INFO:detectree2.models.train:Loss on Validation  done 69/170. 0.0001 s / img. ETA=0:00:17\n",
      "INFO:detectree2.models.train:Loss on Validation  done 99/170. 0.0001 s / img. ETA=0:00:12\n",
      "INFO:detectree2.models.train:Loss on Validation  done 130/170. 0.0001 s / img. ETA=0:00:06\n",
      "INFO:detectree2.models.train:Loss on Validation  done 160/170. 0.0001 s / img. ETA=0:00:01\n",
      "INFO:detectron2.data.dataset_mapper:[DatasetMapper] Augmentations used in inference: []\n",
      "INFO:detectree2.models.train:[FlexibleDatasetMapper] Augmentations used in inference: []\n",
      "INFO:detectron2.data.common:Serializing the dataset using: <class 'detectron2.data.common._TorchSerializedList'>\n",
      "INFO:detectron2.data.common:Serializing 170 elements to byte tensors and concatenating them all ...\n",
      "INFO:detectron2.data.common:Serialized dataset takes 8.90 MiB\n",
      "WARNING:detectron2.evaluation.coco_evaluation:COCO Evaluator instantiated using config, this is deprecated behavior. Please pass in explicit arguments instead.\n",
      "INFO:detectron2.evaluation.evaluator:Start inference on 170 batches\n",
      "INFO:detectron2.evaluation.evaluator:Inference done 11/170. Dataloading: 0.0007 s/iter. Inference: 0.0564 s/iter. Eval: 0.0179 s/iter. Total: 0.0750 s/iter. ETA=0:00:11\n",
      "INFO:detectron2.evaluation.evaluator:Inference done 81/170. Dataloading: 0.0010 s/iter. Inference: 0.0543 s/iter. Eval: 0.0170 s/iter. Total: 0.0724 s/iter. ETA=0:00:06\n",
      "INFO:detectron2.evaluation.evaluator:Inference done 150/170. Dataloading: 0.0010 s/iter. Inference: 0.0546 s/iter. Eval: 0.0170 s/iter. Total: 0.0727 s/iter. ETA=0:00:01\n",
      "INFO:detectron2.evaluation.evaluator:Total inference time: 0:00:12.042654 (0.072986 s / iter per device, on 1 devices)\n",
      "INFO:detectron2.evaluation.evaluator:Total inference pure compute time: 0:00:09 (0.054546 s / iter per device, on 1 devices)\n",
      "INFO:detectron2.evaluation.coco_evaluation:Preparing results for COCO format ...\n",
      "INFO:detectron2.evaluation.coco_evaluation:Saving results to eval/coco_instances_results.json\n",
      "INFO:detectron2.evaluation.coco_evaluation:Evaluating predictions with unofficial COCO API...\n",
      "INFO:detectron2.evaluation.fast_eval_api:Evaluate annotation type *bbox*\n",
      "INFO:detectron2.evaluation.fast_eval_api:COCOeval_opt.evaluate() finished in 0.17 seconds.\n",
      "INFO:detectron2.evaluation.fast_eval_api:Accumulating evaluation results...\n"
     ]
    },
    {
     "name": "stdout",
     "output_type": "stream",
     "text": [
      "Loading and preparing results...\n",
      "DONE (t=0.01s)\n",
      "creating index...\n",
      "index created!\n"
     ]
    },
    {
     "name": "stderr",
     "output_type": "stream",
     "text": [
      "INFO:detectron2.evaluation.fast_eval_api:COCOeval_opt.accumulate() finished in 0.03 seconds.\n",
      "INFO:detectron2.evaluation.coco_evaluation:Evaluation results for bbox: \n",
      "|  AP   |  AP50  |  AP75  |  APs  |  APm  |  APl   |\n",
      "|:-----:|:------:|:------:|:-----:|:-----:|:------:|\n",
      "| 1.066 | 1.347  | 0.997  | 0.011 | 1.211 | 30.691 |\n"
     ]
    },
    {
     "name": "stdout",
     "output_type": "stream",
     "text": [
      " Average Precision  (AP) @[ IoU=0.50:0.95 | area=   all | maxDets=100 ] = 0.011\n",
      " Average Precision  (AP) @[ IoU=0.50      | area=   all | maxDets=100 ] = 0.013\n",
      " Average Precision  (AP) @[ IoU=0.75      | area=   all | maxDets=100 ] = 0.010\n",
      " Average Precision  (AP) @[ IoU=0.50:0.95 | area= small | maxDets=100 ] = 0.000\n",
      " Average Precision  (AP) @[ IoU=0.50:0.95 | area=medium | maxDets=100 ] = 0.012\n",
      " Average Precision  (AP) @[ IoU=0.50:0.95 | area= large | maxDets=100 ] = 0.307\n",
      " Average Recall     (AR) @[ IoU=0.50:0.95 | area=   all | maxDets=  1 ] = 0.003\n",
      " Average Recall     (AR) @[ IoU=0.50:0.95 | area=   all | maxDets= 10 ] = 0.008\n",
      " Average Recall     (AR) @[ IoU=0.50:0.95 | area=   all | maxDets=100 ] = 0.026\n",
      " Average Recall     (AR) @[ IoU=0.50:0.95 | area= small | maxDets=100 ] = 0.004\n",
      " Average Recall     (AR) @[ IoU=0.50:0.95 | area=medium | maxDets=100 ] = 0.170\n",
      " Average Recall     (AR) @[ IoU=0.50:0.95 | area= large | maxDets=100 ] = 0.586\n"
     ]
    },
    {
     "name": "stderr",
     "output_type": "stream",
     "text": [
      "INFO:detectron2.evaluation.fast_eval_api:Evaluate annotation type *segm*\n"
     ]
    },
    {
     "name": "stdout",
     "output_type": "stream",
     "text": [
      "Loading and preparing results...\n",
      "DONE (t=0.13s)\n",
      "creating index...\n",
      "index created!\n"
     ]
    },
    {
     "name": "stderr",
     "output_type": "stream",
     "text": [
      "INFO:detectron2.evaluation.fast_eval_api:COCOeval_opt.evaluate() finished in 0.36 seconds.\n",
      "INFO:detectron2.evaluation.fast_eval_api:Accumulating evaluation results...\n",
      "INFO:detectron2.evaluation.fast_eval_api:COCOeval_opt.accumulate() finished in 0.03 seconds.\n",
      "INFO:detectron2.evaluation.coco_evaluation:Evaluation results for segm: \n",
      "|  AP   |  AP50  |  AP75  |  APs  |  APm  |  APl   |\n",
      "|:-----:|:------:|:------:|:-----:|:-----:|:------:|\n",
      "| 0.695 | 1.142  | 0.990  | 0.001 | 1.082 | 18.562 |\n",
      "INFO:detectron2.engine.defaults:Evaluation results for griffith_val in csv format:\n",
      "INFO:detectron2.evaluation.testing:copypaste: Task: bbox\n",
      "INFO:detectron2.evaluation.testing:copypaste: AP,AP50,AP75,APs,APm,APl\n",
      "INFO:detectron2.evaluation.testing:copypaste: 1.0656,1.3466,0.9974,0.0107,1.2112,30.6908\n",
      "INFO:detectron2.evaluation.testing:copypaste: Task: segm\n",
      "INFO:detectron2.evaluation.testing:copypaste: AP,AP50,AP75,APs,APm,APl\n",
      "INFO:detectron2.evaluation.testing:copypaste: 0.6952,1.1418,0.9901,0.0009,1.0819,18.5616\n",
      "INFO:fvcore.common.checkpoint:Saving checkpoint to /mnt/d_drive/detectree2/griffith_site/train_outputs_round2/model_23.pth\n"
     ]
    },
    {
     "name": "stdout",
     "output_type": "stream",
     "text": [
      " Average Precision  (AP) @[ IoU=0.50:0.95 | area=   all | maxDets=100 ] = 0.007\n",
      " Average Precision  (AP) @[ IoU=0.50      | area=   all | maxDets=100 ] = 0.011\n",
      " Average Precision  (AP) @[ IoU=0.75      | area=   all | maxDets=100 ] = 0.010\n",
      " Average Precision  (AP) @[ IoU=0.50:0.95 | area= small | maxDets=100 ] = 0.000\n",
      " Average Precision  (AP) @[ IoU=0.50:0.95 | area=medium | maxDets=100 ] = 0.011\n",
      " Average Precision  (AP) @[ IoU=0.50:0.95 | area= large | maxDets=100 ] = 0.186\n",
      " Average Recall     (AR) @[ IoU=0.50:0.95 | area=   all | maxDets=  1 ] = 0.003\n",
      " Average Recall     (AR) @[ IoU=0.50:0.95 | area=   all | maxDets= 10 ] = 0.006\n",
      " Average Recall     (AR) @[ IoU=0.50:0.95 | area=   all | maxDets=100 ] = 0.011\n",
      " Average Recall     (AR) @[ IoU=0.50:0.95 | area= small | maxDets=100 ] = 0.001\n",
      " Average Recall     (AR) @[ IoU=0.50:0.95 | area=medium | maxDets=100 ] = 0.072\n",
      " Average Recall     (AR) @[ IoU=0.50:0.95 | area= large | maxDets=100 ] = 0.307\n",
      "Av. segm AP50 = 1.1417934199766182\n"
     ]
    },
    {
     "name": "stderr",
     "output_type": "stream",
     "text": [
      "INFO:detectron2.utils.events: eta: 0:08:02  iter: 2299  total_loss: 0.847  loss_cls: 0.08711  loss_box_reg: 0.08008  loss_mask: 0.4298  loss_rpn_cls: 0.1227  loss_rpn_loc: 0.1127  validation_loss: 1.761    time: 0.7030  last_time: 0.6683  data_time: 0.0048  last_data_time: 0.0022   lr: 0.0003389  max_mem: 3999M\n",
      "INFO:detectron2.utils.events: eta: 0:07:48  iter: 2319  total_loss: 1.375  loss_cls: 0.1434  loss_box_reg: 0.1202  loss_mask: 0.4085  loss_rpn_cls: 0.212  loss_rpn_loc: 0.3249  validation_loss: 1.761    time: 0.7031  last_time: 0.6597  data_time: 0.0053  last_data_time: 0.0013   lr: 0.0003389  max_mem: 3999M\n",
      "INFO:detectron2.utils.events: eta: 0:07:34  iter: 2339  total_loss: 1.008  loss_cls: 0.07696  loss_box_reg: 0.04831  loss_mask: 0.3888  loss_rpn_cls: 0.2248  loss_rpn_loc: 0.2677  validation_loss: 1.761    time: 0.7031  last_time: 0.6734  data_time: 0.0055  last_data_time: 0.0041   lr: 0.0003389  max_mem: 3999M\n",
      "INFO:detectron2.utils.events: eta: 0:07:20  iter: 2359  total_loss: 1.456  loss_cls: 0.1371  loss_box_reg: 0.1373  loss_mask: 0.4162  loss_rpn_cls: 0.2574  loss_rpn_loc: 0.3691  validation_loss: 1.761    time: 0.7031  last_time: 0.6950  data_time: 0.0057  last_data_time: 0.0060   lr: 0.0003389  max_mem: 3999M\n",
      "INFO:detectron2.utils.events: eta: 0:07:07  iter: 2379  total_loss: 1.31  loss_cls: 0.1022  loss_box_reg: 0.07459  loss_mask: 0.4052  loss_rpn_cls: 0.2371  loss_rpn_loc: 0.336  validation_loss: 1.761    time: 0.7032  last_time: 0.7447  data_time: 0.0050  last_data_time: 0.0085   lr: 0.0003389  max_mem: 3999M\n",
      "INFO:detectron2.data.dataset_mapper:[DatasetMapper] Augmentations used in inference: []\n",
      "INFO:detectree2.models.train:[FlexibleDatasetMapper] Augmentations used in inference: []\n",
      "INFO:detectron2.data.common:Serializing the dataset using: <class 'detectron2.data.common._TorchSerializedList'>\n",
      "INFO:detectron2.data.common:Serializing 170 elements to byte tensors and concatenating them all ...\n",
      "INFO:detectron2.data.common:Serialized dataset takes 8.90 MiB\n",
      "WARNING:detectron2.evaluation.coco_evaluation:COCO Evaluator instantiated using config, this is deprecated behavior. Please pass in explicit arguments instead.\n",
      "INFO:detectron2.evaluation.evaluator:Start inference on 170 batches\n",
      "INFO:detectron2.evaluation.evaluator:Inference done 11/170. Dataloading: 0.0006 s/iter. Inference: 0.0558 s/iter. Eval: 0.0205 s/iter. Total: 0.0770 s/iter. ETA=0:00:12\n",
      "INFO:detectron2.evaluation.evaluator:Inference done 78/170. Dataloading: 0.0009 s/iter. Inference: 0.0565 s/iter. Eval: 0.0178 s/iter. Total: 0.0754 s/iter. ETA=0:00:06\n",
      "INFO:detectron2.evaluation.evaluator:Inference done 145/170. Dataloading: 0.0010 s/iter. Inference: 0.0564 s/iter. Eval: 0.0179 s/iter. Total: 0.0753 s/iter. ETA=0:00:01\n",
      "INFO:detectron2.evaluation.evaluator:Total inference time: 0:00:12.777766 (0.077441 s / iter per device, on 1 devices)\n",
      "INFO:detectron2.evaluation.evaluator:Total inference pure compute time: 0:00:09 (0.056196 s / iter per device, on 1 devices)\n",
      "INFO:detectron2.evaluation.coco_evaluation:Preparing results for COCO format ...\n",
      "INFO:detectron2.evaluation.coco_evaluation:Saving results to eval/coco_instances_results.json\n",
      "INFO:detectron2.evaluation.coco_evaluation:Evaluating predictions with unofficial COCO API...\n",
      "INFO:detectron2.evaluation.fast_eval_api:Evaluate annotation type *bbox*\n",
      "INFO:detectron2.evaluation.fast_eval_api:COCOeval_opt.evaluate() finished in 0.18 seconds.\n",
      "INFO:detectron2.evaluation.fast_eval_api:Accumulating evaluation results...\n",
      "INFO:detectron2.evaluation.fast_eval_api:COCOeval_opt.accumulate() finished in 0.03 seconds.\n"
     ]
    },
    {
     "name": "stdout",
     "output_type": "stream",
     "text": [
      "Loading and preparing results...\n",
      "DONE (t=0.01s)\n",
      "creating index...\n",
      "index created!\n"
     ]
    },
    {
     "name": "stderr",
     "output_type": "stream",
     "text": [
      "INFO:detectron2.evaluation.coco_evaluation:Evaluation results for bbox: \n",
      "|  AP   |  AP50  |  AP75  |  APs  |  APm  |  APl   |\n",
      "|:-----:|:------:|:------:|:-----:|:-----:|:------:|\n",
      "| 1.096 | 1.454  | 1.007  | 0.032 | 1.874 | 33.665 |\n"
     ]
    },
    {
     "name": "stdout",
     "output_type": "stream",
     "text": [
      " Average Precision  (AP) @[ IoU=0.50:0.95 | area=   all | maxDets=100 ] = 0.011\n",
      " Average Precision  (AP) @[ IoU=0.50      | area=   all | maxDets=100 ] = 0.015\n",
      " Average Precision  (AP) @[ IoU=0.75      | area=   all | maxDets=100 ] = 0.010\n",
      " Average Precision  (AP) @[ IoU=0.50:0.95 | area= small | maxDets=100 ] = 0.000\n",
      " Average Precision  (AP) @[ IoU=0.50:0.95 | area=medium | maxDets=100 ] = 0.019\n",
      " Average Precision  (AP) @[ IoU=0.50:0.95 | area= large | maxDets=100 ] = 0.337\n",
      " Average Recall     (AR) @[ IoU=0.50:0.95 | area=   all | maxDets=  1 ] = 0.003\n",
      " Average Recall     (AR) @[ IoU=0.50:0.95 | area=   all | maxDets= 10 ] = 0.009\n",
      " Average Recall     (AR) @[ IoU=0.50:0.95 | area=   all | maxDets=100 ] = 0.028\n",
      " Average Recall     (AR) @[ IoU=0.50:0.95 | area= small | maxDets=100 ] = 0.005\n",
      " Average Recall     (AR) @[ IoU=0.50:0.95 | area=medium | maxDets=100 ] = 0.195\n",
      " Average Recall     (AR) @[ IoU=0.50:0.95 | area= large | maxDets=100 ] = 0.561\n"
     ]
    },
    {
     "name": "stderr",
     "output_type": "stream",
     "text": [
      "INFO:detectron2.evaluation.fast_eval_api:Evaluate annotation type *segm*\n"
     ]
    },
    {
     "name": "stdout",
     "output_type": "stream",
     "text": [
      "Loading and preparing results...\n",
      "DONE (t=0.14s)\n",
      "creating index...\n",
      "index created!\n"
     ]
    },
    {
     "name": "stderr",
     "output_type": "stream",
     "text": [
      "INFO:detectron2.evaluation.fast_eval_api:COCOeval_opt.evaluate() finished in 0.37 seconds.\n",
      "INFO:detectron2.evaluation.fast_eval_api:Accumulating evaluation results...\n",
      "INFO:detectron2.evaluation.fast_eval_api:COCOeval_opt.accumulate() finished in 0.03 seconds.\n",
      "INFO:detectron2.evaluation.coco_evaluation:Evaluation results for segm: \n",
      "|  AP   |  AP50  |  AP75  |  APs  |  APm  |  APl   |\n",
      "|:-----:|:------:|:------:|:-----:|:-----:|:------:|\n",
      "| 0.697 | 1.107  | 0.990  | 0.001 | 0.632 | 19.575 |\n",
      "INFO:detectron2.engine.defaults:Evaluation results for griffith_val in csv format:\n",
      "INFO:detectron2.evaluation.testing:copypaste: Task: bbox\n",
      "INFO:detectron2.evaluation.testing:copypaste: AP,AP50,AP75,APs,APm,APl\n",
      "INFO:detectron2.evaluation.testing:copypaste: 1.0960,1.4535,1.0067,0.0321,1.8735,33.6652\n",
      "INFO:detectron2.evaluation.testing:copypaste: Task: segm\n",
      "INFO:detectron2.evaluation.testing:copypaste: AP,AP50,AP75,APs,APm,APl\n",
      "INFO:detectron2.evaluation.testing:copypaste: 0.6974,1.1067,0.9901,0.0011,0.6316,19.5749\n"
     ]
    },
    {
     "name": "stdout",
     "output_type": "stream",
     "text": [
      " Average Precision  (AP) @[ IoU=0.50:0.95 | area=   all | maxDets=100 ] = 0.007\n",
      " Average Precision  (AP) @[ IoU=0.50      | area=   all | maxDets=100 ] = 0.011\n",
      " Average Precision  (AP) @[ IoU=0.75      | area=   all | maxDets=100 ] = 0.010\n",
      " Average Precision  (AP) @[ IoU=0.50:0.95 | area= small | maxDets=100 ] = 0.000\n",
      " Average Precision  (AP) @[ IoU=0.50:0.95 | area=medium | maxDets=100 ] = 0.006\n",
      " Average Precision  (AP) @[ IoU=0.50:0.95 | area= large | maxDets=100 ] = 0.196\n",
      " Average Recall     (AR) @[ IoU=0.50:0.95 | area=   all | maxDets=  1 ] = 0.002\n",
      " Average Recall     (AR) @[ IoU=0.50:0.95 | area=   all | maxDets= 10 ] = 0.005\n",
      " Average Recall     (AR) @[ IoU=0.50:0.95 | area=   all | maxDets=100 ] = 0.011\n",
      " Average Recall     (AR) @[ IoU=0.50:0.95 | area= small | maxDets=100 ] = 0.002\n",
      " Average Recall     (AR) @[ IoU=0.50:0.95 | area=medium | maxDets=100 ] = 0.073\n",
      " Average Recall     (AR) @[ IoU=0.50:0.95 | area= large | maxDets=100 ] = 0.296\n"
     ]
    },
    {
     "name": "stderr",
     "output_type": "stream",
     "text": [
      "INFO:detectree2.models.train:Loss on Validation  done 11/170. 0.0001 s / img. ETA=0:00:21\n",
      "INFO:detectree2.models.train:Loss on Validation  done 40/170. 0.0001 s / img. ETA=0:00:21\n",
      "INFO:detectree2.models.train:Loss on Validation  done 69/170. 0.0001 s / img. ETA=0:00:17\n",
      "INFO:detectree2.models.train:Loss on Validation  done 99/170. 0.0001 s / img. ETA=0:00:12\n",
      "INFO:detectree2.models.train:Loss on Validation  done 130/170. 0.0001 s / img. ETA=0:00:06\n",
      "INFO:detectree2.models.train:Loss on Validation  done 160/170. 0.0001 s / img. ETA=0:00:01\n",
      "INFO:detectron2.data.dataset_mapper:[DatasetMapper] Augmentations used in inference: []\n",
      "INFO:detectree2.models.train:[FlexibleDatasetMapper] Augmentations used in inference: []\n",
      "INFO:detectron2.data.common:Serializing the dataset using: <class 'detectron2.data.common._TorchSerializedList'>\n",
      "INFO:detectron2.data.common:Serializing 170 elements to byte tensors and concatenating them all ...\n",
      "INFO:detectron2.data.common:Serialized dataset takes 8.90 MiB\n",
      "WARNING:detectron2.evaluation.coco_evaluation:COCO Evaluator instantiated using config, this is deprecated behavior. Please pass in explicit arguments instead.\n",
      "INFO:detectron2.evaluation.evaluator:Start inference on 170 batches\n",
      "INFO:detectron2.evaluation.evaluator:Inference done 11/170. Dataloading: 0.0007 s/iter. Inference: 0.0591 s/iter. Eval: 0.0206 s/iter. Total: 0.0804 s/iter. ETA=0:00:12\n",
      "INFO:detectron2.evaluation.evaluator:Inference done 78/170. Dataloading: 0.0010 s/iter. Inference: 0.0568 s/iter. Eval: 0.0178 s/iter. Total: 0.0756 s/iter. ETA=0:00:06\n",
      "INFO:detectron2.evaluation.evaluator:Inference done 145/170. Dataloading: 0.0010 s/iter. Inference: 0.0565 s/iter. Eval: 0.0179 s/iter. Total: 0.0755 s/iter. ETA=0:00:01\n",
      "INFO:detectron2.evaluation.evaluator:Total inference time: 0:00:12.506949 (0.075800 s / iter per device, on 1 devices)\n",
      "INFO:detectron2.evaluation.evaluator:Total inference pure compute time: 0:00:09 (0.056494 s / iter per device, on 1 devices)\n",
      "INFO:detectron2.evaluation.coco_evaluation:Preparing results for COCO format ...\n",
      "INFO:detectron2.evaluation.coco_evaluation:Saving results to eval/coco_instances_results.json\n",
      "INFO:detectron2.evaluation.coco_evaluation:Evaluating predictions with unofficial COCO API...\n",
      "INFO:detectron2.evaluation.fast_eval_api:Evaluate annotation type *bbox*\n",
      "INFO:detectron2.evaluation.fast_eval_api:COCOeval_opt.evaluate() finished in 0.18 seconds.\n",
      "INFO:detectron2.evaluation.fast_eval_api:Accumulating evaluation results...\n",
      "INFO:detectron2.evaluation.fast_eval_api:COCOeval_opt.accumulate() finished in 0.03 seconds.\n"
     ]
    },
    {
     "name": "stdout",
     "output_type": "stream",
     "text": [
      "Loading and preparing results...\n",
      "DONE (t=0.01s)\n",
      "creating index...\n",
      "index created!\n"
     ]
    },
    {
     "name": "stderr",
     "output_type": "stream",
     "text": [
      "INFO:detectron2.evaluation.coco_evaluation:Evaluation results for bbox: \n",
      "|  AP   |  AP50  |  AP75  |  APs  |  APm  |  APl   |\n",
      "|:-----:|:------:|:------:|:-----:|:-----:|:------:|\n",
      "| 1.096 | 1.454  | 1.007  | 0.032 | 1.874 | 33.665 |\n"
     ]
    },
    {
     "name": "stdout",
     "output_type": "stream",
     "text": [
      " Average Precision  (AP) @[ IoU=0.50:0.95 | area=   all | maxDets=100 ] = 0.011\n",
      " Average Precision  (AP) @[ IoU=0.50      | area=   all | maxDets=100 ] = 0.015\n",
      " Average Precision  (AP) @[ IoU=0.75      | area=   all | maxDets=100 ] = 0.010\n",
      " Average Precision  (AP) @[ IoU=0.50:0.95 | area= small | maxDets=100 ] = 0.000\n",
      " Average Precision  (AP) @[ IoU=0.50:0.95 | area=medium | maxDets=100 ] = 0.019\n",
      " Average Precision  (AP) @[ IoU=0.50:0.95 | area= large | maxDets=100 ] = 0.337\n",
      " Average Recall     (AR) @[ IoU=0.50:0.95 | area=   all | maxDets=  1 ] = 0.003\n",
      " Average Recall     (AR) @[ IoU=0.50:0.95 | area=   all | maxDets= 10 ] = 0.009\n",
      " Average Recall     (AR) @[ IoU=0.50:0.95 | area=   all | maxDets=100 ] = 0.028\n",
      " Average Recall     (AR) @[ IoU=0.50:0.95 | area= small | maxDets=100 ] = 0.005\n",
      " Average Recall     (AR) @[ IoU=0.50:0.95 | area=medium | maxDets=100 ] = 0.195\n",
      " Average Recall     (AR) @[ IoU=0.50:0.95 | area= large | maxDets=100 ] = 0.561\n"
     ]
    },
    {
     "name": "stderr",
     "output_type": "stream",
     "text": [
      "INFO:detectron2.evaluation.fast_eval_api:Evaluate annotation type *segm*\n"
     ]
    },
    {
     "name": "stdout",
     "output_type": "stream",
     "text": [
      "Loading and preparing results...\n",
      "DONE (t=0.14s)\n",
      "creating index...\n",
      "index created!\n"
     ]
    },
    {
     "name": "stderr",
     "output_type": "stream",
     "text": [
      "INFO:detectron2.evaluation.fast_eval_api:COCOeval_opt.evaluate() finished in 0.36 seconds.\n",
      "INFO:detectron2.evaluation.fast_eval_api:Accumulating evaluation results...\n",
      "INFO:detectron2.evaluation.fast_eval_api:COCOeval_opt.accumulate() finished in 0.03 seconds.\n",
      "INFO:detectron2.evaluation.coco_evaluation:Evaluation results for segm: \n",
      "|  AP   |  AP50  |  AP75  |  APs  |  APm  |  APl   |\n",
      "|:-----:|:------:|:------:|:-----:|:-----:|:------:|\n",
      "| 0.697 | 1.107  | 0.990  | 0.001 | 0.632 | 19.575 |\n",
      "INFO:detectron2.engine.defaults:Evaluation results for griffith_val in csv format:\n",
      "INFO:detectron2.evaluation.testing:copypaste: Task: bbox\n",
      "INFO:detectron2.evaluation.testing:copypaste: AP,AP50,AP75,APs,APm,APl\n",
      "INFO:detectron2.evaluation.testing:copypaste: 1.0960,1.4535,1.0067,0.0321,1.8735,33.6652\n",
      "INFO:detectron2.evaluation.testing:copypaste: Task: segm\n",
      "INFO:detectron2.evaluation.testing:copypaste: AP,AP50,AP75,APs,APm,APl\n",
      "INFO:detectron2.evaluation.testing:copypaste: 0.6974,1.1067,0.9901,0.0011,0.6316,19.5749\n",
      "INFO:detectron2.utils.events: eta: 0:06:53  iter: 2399  total_loss: 1.424  loss_cls: 0.1002  loss_box_reg: 0.08365  loss_mask: 0.4176  loss_rpn_cls: 0.2496  loss_rpn_loc: 0.3494  validation_loss: 1.826    time: 0.7032  last_time: 0.6707  data_time: 0.0052  last_data_time: 0.0042   lr: 0.0003389  max_mem: 3999M\n"
     ]
    },
    {
     "name": "stdout",
     "output_type": "stream",
     "text": [
      " Average Precision  (AP) @[ IoU=0.50:0.95 | area=   all | maxDets=100 ] = 0.007\n",
      " Average Precision  (AP) @[ IoU=0.50      | area=   all | maxDets=100 ] = 0.011\n",
      " Average Precision  (AP) @[ IoU=0.75      | area=   all | maxDets=100 ] = 0.010\n",
      " Average Precision  (AP) @[ IoU=0.50:0.95 | area= small | maxDets=100 ] = 0.000\n",
      " Average Precision  (AP) @[ IoU=0.50:0.95 | area=medium | maxDets=100 ] = 0.006\n",
      " Average Precision  (AP) @[ IoU=0.50:0.95 | area= large | maxDets=100 ] = 0.196\n",
      " Average Recall     (AR) @[ IoU=0.50:0.95 | area=   all | maxDets=  1 ] = 0.002\n",
      " Average Recall     (AR) @[ IoU=0.50:0.95 | area=   all | maxDets= 10 ] = 0.005\n",
      " Average Recall     (AR) @[ IoU=0.50:0.95 | area=   all | maxDets=100 ] = 0.011\n",
      " Average Recall     (AR) @[ IoU=0.50:0.95 | area= small | maxDets=100 ] = 0.002\n",
      " Average Recall     (AR) @[ IoU=0.50:0.95 | area=medium | maxDets=100 ] = 0.073\n",
      " Average Recall     (AR) @[ IoU=0.50:0.95 | area= large | maxDets=100 ] = 0.296\n",
      "Av. segm AP50 = 1.1067004109367746\n"
     ]
    },
    {
     "name": "stderr",
     "output_type": "stream",
     "text": [
      "INFO:detectron2.utils.events: eta: 0:06:40  iter: 2419  total_loss: 1.504  loss_cls: 0.1117  loss_box_reg: 0.105  loss_mask: 0.4322  loss_rpn_cls: 0.2781  loss_rpn_loc: 0.3992  validation_loss: 1.826    time: 0.7032  last_time: 0.7029  data_time: 0.0052  last_data_time: 0.0053   lr: 0.0003389  max_mem: 3999M\n",
      "INFO:detectron2.utils.events: eta: 0:06:26  iter: 2439  total_loss: 1.039  loss_cls: 0.1132  loss_box_reg: 0.09291  loss_mask: 0.3895  loss_rpn_cls: 0.2024  loss_rpn_loc: 0.2407  validation_loss: 1.826    time: 0.7032  last_time: 0.6638  data_time: 0.0053  last_data_time: 0.0012   lr: 0.0003389  max_mem: 3999M\n",
      "INFO:detectron2.utils.events: eta: 0:06:12  iter: 2459  total_loss: 1.182  loss_cls: 0.111  loss_box_reg: 0.08423  loss_mask: 0.4115  loss_rpn_cls: 0.2137  loss_rpn_loc: 0.3075  validation_loss: 1.826    time: 0.7031  last_time: 0.7395  data_time: 0.0052  last_data_time: 0.0058   lr: 0.0003389  max_mem: 3999M\n",
      "INFO:detectron2.utils.events: eta: 0:05:58  iter: 2479  total_loss: 1.343  loss_cls: 0.122  loss_box_reg: 0.1125  loss_mask: 0.4062  loss_rpn_cls: 0.1945  loss_rpn_loc: 0.2768  validation_loss: 1.826    time: 0.7031  last_time: 0.6673  data_time: 0.0051  last_data_time: 0.0043   lr: 0.0003389  max_mem: 3999M\n",
      "INFO:detectron2.data.dataset_mapper:[DatasetMapper] Augmentations used in inference: []\n",
      "INFO:detectree2.models.train:[FlexibleDatasetMapper] Augmentations used in inference: []\n",
      "INFO:detectron2.data.common:Serializing the dataset using: <class 'detectron2.data.common._TorchSerializedList'>\n",
      "INFO:detectron2.data.common:Serializing 170 elements to byte tensors and concatenating them all ...\n",
      "INFO:detectron2.data.common:Serialized dataset takes 8.90 MiB\n",
      "WARNING:detectron2.evaluation.coco_evaluation:COCO Evaluator instantiated using config, this is deprecated behavior. Please pass in explicit arguments instead.\n",
      "INFO:detectron2.evaluation.evaluator:Start inference on 170 batches\n",
      "INFO:detectron2.evaluation.evaluator:Inference done 11/170. Dataloading: 0.0007 s/iter. Inference: 0.0567 s/iter. Eval: 0.0172 s/iter. Total: 0.0747 s/iter. ETA=0:00:11\n",
      "INFO:detectron2.evaluation.evaluator:Inference done 79/170. Dataloading: 0.0010 s/iter. Inference: 0.0558 s/iter. Eval: 0.0175 s/iter. Total: 0.0744 s/iter. ETA=0:00:06\n",
      "INFO:detectron2.evaluation.evaluator:Inference done 147/170. Dataloading: 0.0010 s/iter. Inference: 0.0559 s/iter. Eval: 0.0175 s/iter. Total: 0.0744 s/iter. ETA=0:00:01\n",
      "INFO:detectron2.evaluation.evaluator:Total inference time: 0:00:12.298915 (0.074539 s / iter per device, on 1 devices)\n",
      "INFO:detectron2.evaluation.evaluator:Total inference pure compute time: 0:00:09 (0.055714 s / iter per device, on 1 devices)\n",
      "INFO:detectron2.evaluation.coco_evaluation:Preparing results for COCO format ...\n",
      "INFO:detectron2.evaluation.coco_evaluation:Saving results to eval/coco_instances_results.json\n",
      "INFO:detectron2.evaluation.coco_evaluation:Evaluating predictions with unofficial COCO API...\n",
      "INFO:detectron2.evaluation.fast_eval_api:Evaluate annotation type *bbox*\n",
      "INFO:detectron2.evaluation.fast_eval_api:COCOeval_opt.evaluate() finished in 0.17 seconds.\n",
      "INFO:detectron2.evaluation.fast_eval_api:Accumulating evaluation results...\n",
      "INFO:detectron2.evaluation.fast_eval_api:COCOeval_opt.accumulate() finished in 0.03 seconds.\n"
     ]
    },
    {
     "name": "stdout",
     "output_type": "stream",
     "text": [
      "Loading and preparing results...\n",
      "DONE (t=0.01s)\n",
      "creating index...\n",
      "index created!\n"
     ]
    },
    {
     "name": "stderr",
     "output_type": "stream",
     "text": [
      "INFO:detectron2.evaluation.coco_evaluation:Evaluation results for bbox: \n",
      "|  AP   |  AP50  |  AP75  |  APs  |  APm  |  APl   |\n",
      "|:-----:|:------:|:------:|:-----:|:-----:|:------:|\n",
      "| 1.031 | 1.372  | 1.004  | 0.020 | 1.095 | 32.839 |\n"
     ]
    },
    {
     "name": "stdout",
     "output_type": "stream",
     "text": [
      " Average Precision  (AP) @[ IoU=0.50:0.95 | area=   all | maxDets=100 ] = 0.010\n",
      " Average Precision  (AP) @[ IoU=0.50      | area=   all | maxDets=100 ] = 0.014\n",
      " Average Precision  (AP) @[ IoU=0.75      | area=   all | maxDets=100 ] = 0.010\n",
      " Average Precision  (AP) @[ IoU=0.50:0.95 | area= small | maxDets=100 ] = 0.000\n",
      " Average Precision  (AP) @[ IoU=0.50:0.95 | area=medium | maxDets=100 ] = 0.011\n",
      " Average Precision  (AP) @[ IoU=0.50:0.95 | area= large | maxDets=100 ] = 0.328\n",
      " Average Recall     (AR) @[ IoU=0.50:0.95 | area=   all | maxDets=  1 ] = 0.003\n",
      " Average Recall     (AR) @[ IoU=0.50:0.95 | area=   all | maxDets= 10 ] = 0.009\n",
      " Average Recall     (AR) @[ IoU=0.50:0.95 | area=   all | maxDets=100 ] = 0.029\n",
      " Average Recall     (AR) @[ IoU=0.50:0.95 | area= small | maxDets=100 ] = 0.005\n",
      " Average Recall     (AR) @[ IoU=0.50:0.95 | area=medium | maxDets=100 ] = 0.199\n",
      " Average Recall     (AR) @[ IoU=0.50:0.95 | area= large | maxDets=100 ] = 0.564\n"
     ]
    },
    {
     "name": "stderr",
     "output_type": "stream",
     "text": [
      "INFO:detectron2.evaluation.fast_eval_api:Evaluate annotation type *segm*\n"
     ]
    },
    {
     "name": "stdout",
     "output_type": "stream",
     "text": [
      "Loading and preparing results...\n",
      "DONE (t=0.13s)\n",
      "creating index...\n",
      "index created!\n"
     ]
    },
    {
     "name": "stderr",
     "output_type": "stream",
     "text": [
      "INFO:detectron2.evaluation.fast_eval_api:COCOeval_opt.evaluate() finished in 0.36 seconds.\n",
      "INFO:detectron2.evaluation.fast_eval_api:Accumulating evaluation results...\n",
      "INFO:detectron2.evaluation.fast_eval_api:COCOeval_opt.accumulate() finished in 0.03 seconds.\n",
      "INFO:detectron2.evaluation.coco_evaluation:Evaluation results for segm: \n",
      "|  AP   |  AP50  |  AP75  |  APs  |  APm  |  APl   |\n",
      "|:-----:|:------:|:------:|:-----:|:-----:|:------:|\n",
      "| 0.637 | 1.117  | 0.660  | 0.001 | 0.415 | 21.612 |\n",
      "INFO:detectron2.engine.defaults:Evaluation results for griffith_val in csv format:\n",
      "INFO:detectron2.evaluation.testing:copypaste: Task: bbox\n",
      "INFO:detectron2.evaluation.testing:copypaste: AP,AP50,AP75,APs,APm,APl\n",
      "INFO:detectron2.evaluation.testing:copypaste: 1.0312,1.3724,1.0043,0.0202,1.0954,32.8388\n",
      "INFO:detectron2.evaluation.testing:copypaste: Task: segm\n",
      "INFO:detectron2.evaluation.testing:copypaste: AP,AP50,AP75,APs,APm,APl\n",
      "INFO:detectron2.evaluation.testing:copypaste: 0.6372,1.1165,0.6601,0.0009,0.4148,21.6117\n"
     ]
    },
    {
     "name": "stdout",
     "output_type": "stream",
     "text": [
      " Average Precision  (AP) @[ IoU=0.50:0.95 | area=   all | maxDets=100 ] = 0.006\n",
      " Average Precision  (AP) @[ IoU=0.50      | area=   all | maxDets=100 ] = 0.011\n",
      " Average Precision  (AP) @[ IoU=0.75      | area=   all | maxDets=100 ] = 0.007\n",
      " Average Precision  (AP) @[ IoU=0.50:0.95 | area= small | maxDets=100 ] = 0.000\n",
      " Average Precision  (AP) @[ IoU=0.50:0.95 | area=medium | maxDets=100 ] = 0.004\n",
      " Average Precision  (AP) @[ IoU=0.50:0.95 | area= large | maxDets=100 ] = 0.216\n",
      " Average Recall     (AR) @[ IoU=0.50:0.95 | area=   all | maxDets=  1 ] = 0.003\n",
      " Average Recall     (AR) @[ IoU=0.50:0.95 | area=   all | maxDets= 10 ] = 0.005\n",
      " Average Recall     (AR) @[ IoU=0.50:0.95 | area=   all | maxDets=100 ] = 0.010\n",
      " Average Recall     (AR) @[ IoU=0.50:0.95 | area= small | maxDets=100 ] = 0.001\n",
      " Average Recall     (AR) @[ IoU=0.50:0.95 | area=medium | maxDets=100 ] = 0.069\n",
      " Average Recall     (AR) @[ IoU=0.50:0.95 | area= large | maxDets=100 ] = 0.307\n"
     ]
    },
    {
     "name": "stderr",
     "output_type": "stream",
     "text": [
      "INFO:detectree2.models.train:Loss on Validation  done 11/170. 0.0001 s / img. ETA=0:00:21\n",
      "INFO:detectree2.models.train:Loss on Validation  done 40/170. 0.0001 s / img. ETA=0:00:21\n",
      "INFO:detectree2.models.train:Loss on Validation  done 69/170. 0.0001 s / img. ETA=0:00:17\n",
      "INFO:detectree2.models.train:Loss on Validation  done 99/170. 0.0001 s / img. ETA=0:00:12\n",
      "INFO:detectree2.models.train:Loss on Validation  done 130/170. 0.0001 s / img. ETA=0:00:06\n",
      "INFO:detectree2.models.train:Loss on Validation  done 160/170. 0.0001 s / img. ETA=0:00:01\n",
      "INFO:detectron2.data.dataset_mapper:[DatasetMapper] Augmentations used in inference: []\n",
      "INFO:detectree2.models.train:[FlexibleDatasetMapper] Augmentations used in inference: []\n",
      "INFO:detectron2.data.common:Serializing the dataset using: <class 'detectron2.data.common._TorchSerializedList'>\n",
      "INFO:detectron2.data.common:Serializing 170 elements to byte tensors and concatenating them all ...\n",
      "INFO:detectron2.data.common:Serialized dataset takes 8.90 MiB\n",
      "WARNING:detectron2.evaluation.coco_evaluation:COCO Evaluator instantiated using config, this is deprecated behavior. Please pass in explicit arguments instead.\n",
      "INFO:detectron2.evaluation.evaluator:Start inference on 170 batches\n",
      "INFO:detectron2.evaluation.evaluator:Inference done 11/170. Dataloading: 0.0007 s/iter. Inference: 0.0541 s/iter. Eval: 0.0691 s/iter. Total: 0.1240 s/iter. ETA=0:00:19\n",
      "INFO:detectron2.evaluation.evaluator:Inference done 74/170. Dataloading: 0.0048 s/iter. Inference: 0.0563 s/iter. Eval: 0.0229 s/iter. Total: 0.0841 s/iter. ETA=0:00:08\n",
      "INFO:detectron2.evaluation.evaluator:Inference done 142/170. Dataloading: 0.0029 s/iter. Inference: 0.0559 s/iter. Eval: 0.0202 s/iter. Total: 0.0791 s/iter. ETA=0:00:02\n",
      "INFO:detectron2.evaluation.evaluator:Total inference time: 0:00:12.942119 (0.078437 s / iter per device, on 1 devices)\n",
      "INFO:detectron2.evaluation.evaluator:Total inference pure compute time: 0:00:09 (0.055687 s / iter per device, on 1 devices)\n",
      "INFO:detectron2.evaluation.coco_evaluation:Preparing results for COCO format ...\n",
      "INFO:detectron2.evaluation.coco_evaluation:Saving results to eval/coco_instances_results.json\n",
      "INFO:detectron2.evaluation.coco_evaluation:Evaluating predictions with unofficial COCO API...\n",
      "INFO:detectron2.evaluation.fast_eval_api:Evaluate annotation type *bbox*\n",
      "INFO:detectron2.evaluation.fast_eval_api:COCOeval_opt.evaluate() finished in 0.17 seconds.\n",
      "INFO:detectron2.evaluation.fast_eval_api:Accumulating evaluation results...\n",
      "INFO:detectron2.evaluation.fast_eval_api:COCOeval_opt.accumulate() finished in 0.03 seconds.\n"
     ]
    },
    {
     "name": "stdout",
     "output_type": "stream",
     "text": [
      "Loading and preparing results...\n",
      "DONE (t=0.01s)\n",
      "creating index...\n",
      "index created!\n"
     ]
    },
    {
     "name": "stderr",
     "output_type": "stream",
     "text": [
      "INFO:detectron2.evaluation.coco_evaluation:Evaluation results for bbox: \n",
      "|  AP   |  AP50  |  AP75  |  APs  |  APm  |  APl   |\n",
      "|:-----:|:------:|:------:|:-----:|:-----:|:------:|\n",
      "| 1.031 | 1.372  | 1.004  | 0.020 | 1.095 | 32.839 |\n"
     ]
    },
    {
     "name": "stdout",
     "output_type": "stream",
     "text": [
      " Average Precision  (AP) @[ IoU=0.50:0.95 | area=   all | maxDets=100 ] = 0.010\n",
      " Average Precision  (AP) @[ IoU=0.50      | area=   all | maxDets=100 ] = 0.014\n",
      " Average Precision  (AP) @[ IoU=0.75      | area=   all | maxDets=100 ] = 0.010\n",
      " Average Precision  (AP) @[ IoU=0.50:0.95 | area= small | maxDets=100 ] = 0.000\n",
      " Average Precision  (AP) @[ IoU=0.50:0.95 | area=medium | maxDets=100 ] = 0.011\n",
      " Average Precision  (AP) @[ IoU=0.50:0.95 | area= large | maxDets=100 ] = 0.328\n",
      " Average Recall     (AR) @[ IoU=0.50:0.95 | area=   all | maxDets=  1 ] = 0.003\n",
      " Average Recall     (AR) @[ IoU=0.50:0.95 | area=   all | maxDets= 10 ] = 0.009\n",
      " Average Recall     (AR) @[ IoU=0.50:0.95 | area=   all | maxDets=100 ] = 0.029\n",
      " Average Recall     (AR) @[ IoU=0.50:0.95 | area= small | maxDets=100 ] = 0.005\n",
      " Average Recall     (AR) @[ IoU=0.50:0.95 | area=medium | maxDets=100 ] = 0.199\n",
      " Average Recall     (AR) @[ IoU=0.50:0.95 | area= large | maxDets=100 ] = 0.564\n"
     ]
    },
    {
     "name": "stderr",
     "output_type": "stream",
     "text": [
      "INFO:detectron2.evaluation.fast_eval_api:Evaluate annotation type *segm*\n"
     ]
    },
    {
     "name": "stdout",
     "output_type": "stream",
     "text": [
      "Loading and preparing results...\n",
      "DONE (t=0.13s)\n",
      "creating index...\n",
      "index created!\n"
     ]
    },
    {
     "name": "stderr",
     "output_type": "stream",
     "text": [
      "INFO:detectron2.evaluation.fast_eval_api:COCOeval_opt.evaluate() finished in 0.35 seconds.\n",
      "INFO:detectron2.evaluation.fast_eval_api:Accumulating evaluation results...\n",
      "INFO:detectron2.evaluation.fast_eval_api:COCOeval_opt.accumulate() finished in 0.03 seconds.\n",
      "INFO:detectron2.evaluation.coco_evaluation:Evaluation results for segm: \n",
      "|  AP   |  AP50  |  AP75  |  APs  |  APm  |  APl   |\n",
      "|:-----:|:------:|:------:|:-----:|:-----:|:------:|\n",
      "| 0.637 | 1.117  | 0.660  | 0.001 | 0.415 | 21.612 |\n",
      "INFO:detectron2.engine.defaults:Evaluation results for griffith_val in csv format:\n",
      "INFO:detectron2.evaluation.testing:copypaste: Task: bbox\n",
      "INFO:detectron2.evaluation.testing:copypaste: AP,AP50,AP75,APs,APm,APl\n",
      "INFO:detectron2.evaluation.testing:copypaste: 1.0312,1.3724,1.0043,0.0202,1.0954,32.8388\n",
      "INFO:detectron2.evaluation.testing:copypaste: Task: segm\n",
      "INFO:detectron2.evaluation.testing:copypaste: AP,AP50,AP75,APs,APm,APl\n",
      "INFO:detectron2.evaluation.testing:copypaste: 0.6372,1.1165,0.6601,0.0009,0.4148,21.6117\n",
      "INFO:detectron2.utils.events: eta: 0:05:44  iter: 2499  total_loss: 0.8465  loss_cls: 0.1144  loss_box_reg: 0.09345  loss_mask: 0.4352  loss_rpn_cls: 0.1189  loss_rpn_loc: 0.1552  validation_loss: 1.82    time: 0.7031  last_time: 0.6596  data_time: 0.0053  last_data_time: 0.0065   lr: 0.0003389  max_mem: 4008M\n"
     ]
    },
    {
     "name": "stdout",
     "output_type": "stream",
     "text": [
      " Average Precision  (AP) @[ IoU=0.50:0.95 | area=   all | maxDets=100 ] = 0.006\n",
      " Average Precision  (AP) @[ IoU=0.50      | area=   all | maxDets=100 ] = 0.011\n",
      " Average Precision  (AP) @[ IoU=0.75      | area=   all | maxDets=100 ] = 0.007\n",
      " Average Precision  (AP) @[ IoU=0.50:0.95 | area= small | maxDets=100 ] = 0.000\n",
      " Average Precision  (AP) @[ IoU=0.50:0.95 | area=medium | maxDets=100 ] = 0.004\n",
      " Average Precision  (AP) @[ IoU=0.50:0.95 | area= large | maxDets=100 ] = 0.216\n",
      " Average Recall     (AR) @[ IoU=0.50:0.95 | area=   all | maxDets=  1 ] = 0.003\n",
      " Average Recall     (AR) @[ IoU=0.50:0.95 | area=   all | maxDets= 10 ] = 0.005\n",
      " Average Recall     (AR) @[ IoU=0.50:0.95 | area=   all | maxDets=100 ] = 0.010\n",
      " Average Recall     (AR) @[ IoU=0.50:0.95 | area= small | maxDets=100 ] = 0.001\n",
      " Average Recall     (AR) @[ IoU=0.50:0.95 | area=medium | maxDets=100 ] = 0.069\n",
      " Average Recall     (AR) @[ IoU=0.50:0.95 | area= large | maxDets=100 ] = 0.307\n",
      "Av. segm AP50 = 1.116511965771091\n"
     ]
    },
    {
     "name": "stderr",
     "output_type": "stream",
     "text": [
      "INFO:detectron2.utils.events: eta: 0:05:30  iter: 2519  total_loss: 1.32  loss_cls: 0.1485  loss_box_reg: 0.1008  loss_mask: 0.4043  loss_rpn_cls: 0.214  loss_rpn_loc: 0.2875  validation_loss: 1.82    time: 0.7031  last_time: 0.7375  data_time: 0.0062  last_data_time: 0.0049   lr: 0.0003389  max_mem: 4008M\n",
      "INFO:detectron2.utils.events: eta: 0:05:16  iter: 2539  total_loss: 1.433  loss_cls: 0.1049  loss_box_reg: 0.08882  loss_mask: 0.4313  loss_rpn_cls: 0.2006  loss_rpn_loc: 0.3515  validation_loss: 1.82    time: 0.7031  last_time: 0.6689  data_time: 0.0050  last_data_time: 0.0038   lr: 0.0003389  max_mem: 4008M\n",
      "INFO:detectron2.utils.events: eta: 0:05:03  iter: 2559  total_loss: 1.351  loss_cls: 0.2056  loss_box_reg: 0.2656  loss_mask: 0.387  loss_rpn_cls: 0.2538  loss_rpn_loc: 0.2655  validation_loss: 1.82    time: 0.7033  last_time: 0.6435  data_time: 0.0091  last_data_time: 0.0039   lr: 0.0003389  max_mem: 4008M\n",
      "INFO:detectron2.utils.events: eta: 0:04:49  iter: 2579  total_loss: 1.536  loss_cls: 0.1311  loss_box_reg: 0.1577  loss_mask: 0.4081  loss_rpn_cls: 0.2585  loss_rpn_loc: 0.3134  validation_loss: 1.82    time: 0.7034  last_time: 0.7264  data_time: 0.0055  last_data_time: 0.0038   lr: 0.0003389  max_mem: 4008M\n",
      "INFO:detectron2.data.dataset_mapper:[DatasetMapper] Augmentations used in inference: []\n",
      "INFO:detectree2.models.train:[FlexibleDatasetMapper] Augmentations used in inference: []\n",
      "INFO:detectron2.data.common:Serializing the dataset using: <class 'detectron2.data.common._TorchSerializedList'>\n",
      "INFO:detectron2.data.common:Serializing 170 elements to byte tensors and concatenating them all ...\n",
      "INFO:detectron2.data.common:Serialized dataset takes 8.90 MiB\n",
      "WARNING:detectron2.evaluation.coco_evaluation:COCO Evaluator instantiated using config, this is deprecated behavior. Please pass in explicit arguments instead.\n",
      "INFO:detectron2.evaluation.evaluator:Start inference on 170 batches\n",
      "INFO:detectron2.evaluation.evaluator:Inference done 11/170. Dataloading: 0.0006 s/iter. Inference: 0.0589 s/iter. Eval: 0.0180 s/iter. Total: 0.0776 s/iter. ETA=0:00:12\n",
      "INFO:detectron2.evaluation.evaluator:Inference done 73/170. Dataloading: 0.0010 s/iter. Inference: 0.0570 s/iter. Eval: 0.0227 s/iter. Total: 0.0807 s/iter. ETA=0:00:07\n",
      "INFO:detectron2.evaluation.evaluator:Inference done 140/170. Dataloading: 0.0010 s/iter. Inference: 0.0565 s/iter. Eval: 0.0204 s/iter. Total: 0.0779 s/iter. ETA=0:00:02\n",
      "INFO:detectron2.evaluation.evaluator:Total inference time: 0:00:12.836611 (0.077798 s / iter per device, on 1 devices)\n",
      "INFO:detectron2.evaluation.evaluator:Total inference pure compute time: 0:00:09 (0.056394 s / iter per device, on 1 devices)\n",
      "INFO:detectron2.evaluation.coco_evaluation:Preparing results for COCO format ...\n",
      "INFO:detectron2.evaluation.coco_evaluation:Saving results to eval/coco_instances_results.json\n",
      "INFO:detectron2.evaluation.coco_evaluation:Evaluating predictions with unofficial COCO API...\n",
      "INFO:detectron2.evaluation.fast_eval_api:Evaluate annotation type *bbox*\n",
      "INFO:detectron2.evaluation.fast_eval_api:COCOeval_opt.evaluate() finished in 0.18 seconds.\n",
      "INFO:detectron2.evaluation.fast_eval_api:Accumulating evaluation results...\n"
     ]
    },
    {
     "name": "stdout",
     "output_type": "stream",
     "text": [
      "Loading and preparing results...\n",
      "DONE (t=0.01s)\n",
      "creating index...\n",
      "index created!\n"
     ]
    },
    {
     "name": "stderr",
     "output_type": "stream",
     "text": [
      "INFO:detectron2.evaluation.fast_eval_api:COCOeval_opt.accumulate() finished in 0.03 seconds.\n",
      "INFO:detectron2.evaluation.coco_evaluation:Evaluation results for bbox: \n",
      "|  AP   |  AP50  |  AP75  |  APs  |  APm  |  APl   |\n",
      "|:-----:|:------:|:------:|:-----:|:-----:|:------:|\n",
      "| 1.062 | 1.325  | 0.997  | 0.037 | 0.659 | 32.162 |\n"
     ]
    },
    {
     "name": "stdout",
     "output_type": "stream",
     "text": [
      " Average Precision  (AP) @[ IoU=0.50:0.95 | area=   all | maxDets=100 ] = 0.011\n",
      " Average Precision  (AP) @[ IoU=0.50      | area=   all | maxDets=100 ] = 0.013\n",
      " Average Precision  (AP) @[ IoU=0.75      | area=   all | maxDets=100 ] = 0.010\n",
      " Average Precision  (AP) @[ IoU=0.50:0.95 | area= small | maxDets=100 ] = 0.000\n",
      " Average Precision  (AP) @[ IoU=0.50:0.95 | area=medium | maxDets=100 ] = 0.007\n",
      " Average Precision  (AP) @[ IoU=0.50:0.95 | area= large | maxDets=100 ] = 0.322\n",
      " Average Recall     (AR) @[ IoU=0.50:0.95 | area=   all | maxDets=  1 ] = 0.003\n",
      " Average Recall     (AR) @[ IoU=0.50:0.95 | area=   all | maxDets= 10 ] = 0.007\n",
      " Average Recall     (AR) @[ IoU=0.50:0.95 | area=   all | maxDets=100 ] = 0.026\n",
      " Average Recall     (AR) @[ IoU=0.50:0.95 | area= small | maxDets=100 ] = 0.005\n",
      " Average Recall     (AR) @[ IoU=0.50:0.95 | area=medium | maxDets=100 ] = 0.168\n",
      " Average Recall     (AR) @[ IoU=0.50:0.95 | area= large | maxDets=100 ] = 0.607\n"
     ]
    },
    {
     "name": "stderr",
     "output_type": "stream",
     "text": [
      "INFO:detectron2.evaluation.fast_eval_api:Evaluate annotation type *segm*\n"
     ]
    },
    {
     "name": "stdout",
     "output_type": "stream",
     "text": [
      "Loading and preparing results...\n",
      "DONE (t=0.14s)\n",
      "creating index...\n",
      "index created!\n"
     ]
    },
    {
     "name": "stderr",
     "output_type": "stream",
     "text": [
      "INFO:detectron2.evaluation.fast_eval_api:COCOeval_opt.evaluate() finished in 0.37 seconds.\n",
      "INFO:detectron2.evaluation.fast_eval_api:Accumulating evaluation results...\n",
      "INFO:detectron2.evaluation.fast_eval_api:COCOeval_opt.accumulate() finished in 0.03 seconds.\n",
      "INFO:detectron2.evaluation.coco_evaluation:Evaluation results for segm: \n",
      "|  AP   |  AP50  |  AP75  |  APs  |  APm  |  APl   |\n",
      "|:-----:|:------:|:------:|:-----:|:-----:|:------:|\n",
      "| 0.643 | 1.071  | 0.990  | 0.001 | 0.211 | 20.067 |\n",
      "INFO:detectron2.engine.defaults:Evaluation results for griffith_val in csv format:\n",
      "INFO:detectron2.evaluation.testing:copypaste: Task: bbox\n",
      "INFO:detectron2.evaluation.testing:copypaste: AP,AP50,AP75,APs,APm,APl\n",
      "INFO:detectron2.evaluation.testing:copypaste: 1.0616,1.3254,0.9974,0.0374,0.6592,32.1618\n",
      "INFO:detectron2.evaluation.testing:copypaste: Task: segm\n",
      "INFO:detectron2.evaluation.testing:copypaste: AP,AP50,AP75,APs,APm,APl\n",
      "INFO:detectron2.evaluation.testing:copypaste: 0.6433,1.0706,0.9901,0.0009,0.2110,20.0670\n"
     ]
    },
    {
     "name": "stdout",
     "output_type": "stream",
     "text": [
      " Average Precision  (AP) @[ IoU=0.50:0.95 | area=   all | maxDets=100 ] = 0.006\n",
      " Average Precision  (AP) @[ IoU=0.50      | area=   all | maxDets=100 ] = 0.011\n",
      " Average Precision  (AP) @[ IoU=0.75      | area=   all | maxDets=100 ] = 0.010\n",
      " Average Precision  (AP) @[ IoU=0.50:0.95 | area= small | maxDets=100 ] = 0.000\n",
      " Average Precision  (AP) @[ IoU=0.50:0.95 | area=medium | maxDets=100 ] = 0.002\n",
      " Average Precision  (AP) @[ IoU=0.50:0.95 | area= large | maxDets=100 ] = 0.201\n",
      " Average Recall     (AR) @[ IoU=0.50:0.95 | area=   all | maxDets=  1 ] = 0.002\n",
      " Average Recall     (AR) @[ IoU=0.50:0.95 | area=   all | maxDets= 10 ] = 0.004\n",
      " Average Recall     (AR) @[ IoU=0.50:0.95 | area=   all | maxDets=100 ] = 0.010\n",
      " Average Recall     (AR) @[ IoU=0.50:0.95 | area= small | maxDets=100 ] = 0.001\n",
      " Average Recall     (AR) @[ IoU=0.50:0.95 | area=medium | maxDets=100 ] = 0.066\n",
      " Average Recall     (AR) @[ IoU=0.50:0.95 | area= large | maxDets=100 ] = 0.300\n"
     ]
    },
    {
     "name": "stderr",
     "output_type": "stream",
     "text": [
      "INFO:detectree2.models.train:Loss on Validation  done 11/170. 0.0001 s / img. ETA=0:00:21\n",
      "INFO:detectree2.models.train:Loss on Validation  done 40/170. 0.0001 s / img. ETA=0:00:21\n",
      "INFO:detectree2.models.train:Loss on Validation  done 69/170. 0.0001 s / img. ETA=0:00:17\n",
      "INFO:detectree2.models.train:Loss on Validation  done 99/170. 0.0001 s / img. ETA=0:00:12\n",
      "INFO:detectree2.models.train:Loss on Validation  done 128/170. 0.0001 s / img. ETA=0:00:07\n",
      "INFO:detectree2.models.train:Loss on Validation  done 158/170. 0.0001 s / img. ETA=0:00:02\n",
      "INFO:detectron2.data.dataset_mapper:[DatasetMapper] Augmentations used in inference: []\n",
      "INFO:detectree2.models.train:[FlexibleDatasetMapper] Augmentations used in inference: []\n",
      "INFO:detectron2.data.common:Serializing the dataset using: <class 'detectron2.data.common._TorchSerializedList'>\n",
      "INFO:detectron2.data.common:Serializing 170 elements to byte tensors and concatenating them all ...\n",
      "INFO:detectron2.data.common:Serialized dataset takes 8.90 MiB\n",
      "WARNING:detectron2.evaluation.coco_evaluation:COCO Evaluator instantiated using config, this is deprecated behavior. Please pass in explicit arguments instead.\n",
      "INFO:detectron2.evaluation.evaluator:Start inference on 170 batches\n",
      "INFO:detectron2.evaluation.evaluator:Inference done 11/170. Dataloading: 0.0008 s/iter. Inference: 0.0591 s/iter. Eval: 0.0727 s/iter. Total: 0.1325 s/iter. ETA=0:00:21\n",
      "INFO:detectron2.evaluation.evaluator:Inference done 79/170. Dataloading: 0.0010 s/iter. Inference: 0.0558 s/iter. Eval: 0.0222 s/iter. Total: 0.0791 s/iter. ETA=0:00:07\n",
      "INFO:detectron2.evaluation.evaluator:Inference done 145/170. Dataloading: 0.0013 s/iter. Inference: 0.0562 s/iter. Eval: 0.0205 s/iter. Total: 0.0780 s/iter. ETA=0:00:01\n",
      "INFO:detectron2.evaluation.evaluator:Total inference time: 0:00:12.858411 (0.077930 s / iter per device, on 1 devices)\n",
      "INFO:detectron2.evaluation.evaluator:Total inference pure compute time: 0:00:09 (0.056121 s / iter per device, on 1 devices)\n",
      "INFO:detectron2.evaluation.coco_evaluation:Preparing results for COCO format ...\n",
      "INFO:detectron2.evaluation.coco_evaluation:Saving results to eval/coco_instances_results.json\n",
      "INFO:detectron2.evaluation.coco_evaluation:Evaluating predictions with unofficial COCO API...\n",
      "INFO:detectron2.evaluation.fast_eval_api:Evaluate annotation type *bbox*\n",
      "INFO:detectron2.evaluation.fast_eval_api:COCOeval_opt.evaluate() finished in 0.18 seconds.\n",
      "INFO:detectron2.evaluation.fast_eval_api:Accumulating evaluation results...\n",
      "INFO:detectron2.evaluation.fast_eval_api:COCOeval_opt.accumulate() finished in 0.03 seconds.\n"
     ]
    },
    {
     "name": "stdout",
     "output_type": "stream",
     "text": [
      "Loading and preparing results...\n",
      "DONE (t=0.01s)\n",
      "creating index...\n",
      "index created!\n"
     ]
    },
    {
     "name": "stderr",
     "output_type": "stream",
     "text": [
      "INFO:detectron2.evaluation.coco_evaluation:Evaluation results for bbox: \n",
      "|  AP   |  AP50  |  AP75  |  APs  |  APm  |  APl   |\n",
      "|:-----:|:------:|:------:|:-----:|:-----:|:------:|\n",
      "| 1.062 | 1.325  | 0.997  | 0.037 | 0.659 | 32.162 |\n"
     ]
    },
    {
     "name": "stdout",
     "output_type": "stream",
     "text": [
      " Average Precision  (AP) @[ IoU=0.50:0.95 | area=   all | maxDets=100 ] = 0.011\n",
      " Average Precision  (AP) @[ IoU=0.50      | area=   all | maxDets=100 ] = 0.013\n",
      " Average Precision  (AP) @[ IoU=0.75      | area=   all | maxDets=100 ] = 0.010\n",
      " Average Precision  (AP) @[ IoU=0.50:0.95 | area= small | maxDets=100 ] = 0.000\n",
      " Average Precision  (AP) @[ IoU=0.50:0.95 | area=medium | maxDets=100 ] = 0.007\n",
      " Average Precision  (AP) @[ IoU=0.50:0.95 | area= large | maxDets=100 ] = 0.322\n",
      " Average Recall     (AR) @[ IoU=0.50:0.95 | area=   all | maxDets=  1 ] = 0.003\n",
      " Average Recall     (AR) @[ IoU=0.50:0.95 | area=   all | maxDets= 10 ] = 0.007\n",
      " Average Recall     (AR) @[ IoU=0.50:0.95 | area=   all | maxDets=100 ] = 0.026\n",
      " Average Recall     (AR) @[ IoU=0.50:0.95 | area= small | maxDets=100 ] = 0.005\n",
      " Average Recall     (AR) @[ IoU=0.50:0.95 | area=medium | maxDets=100 ] = 0.168\n",
      " Average Recall     (AR) @[ IoU=0.50:0.95 | area= large | maxDets=100 ] = 0.607\n"
     ]
    },
    {
     "name": "stderr",
     "output_type": "stream",
     "text": [
      "INFO:detectron2.evaluation.fast_eval_api:Evaluate annotation type *segm*\n"
     ]
    },
    {
     "name": "stdout",
     "output_type": "stream",
     "text": [
      "Loading and preparing results...\n",
      "DONE (t=0.14s)\n",
      "creating index...\n",
      "index created!\n"
     ]
    },
    {
     "name": "stderr",
     "output_type": "stream",
     "text": [
      "INFO:detectron2.evaluation.fast_eval_api:COCOeval_opt.evaluate() finished in 0.37 seconds.\n",
      "INFO:detectron2.evaluation.fast_eval_api:Accumulating evaluation results...\n",
      "INFO:detectron2.evaluation.fast_eval_api:COCOeval_opt.accumulate() finished in 0.03 seconds.\n",
      "INFO:detectron2.evaluation.coco_evaluation:Evaluation results for segm: \n",
      "|  AP   |  AP50  |  AP75  |  APs  |  APm  |  APl   |\n",
      "|:-----:|:------:|:------:|:-----:|:-----:|:------:|\n",
      "| 0.643 | 1.071  | 0.990  | 0.001 | 0.211 | 20.067 |\n",
      "INFO:detectron2.engine.defaults:Evaluation results for griffith_val in csv format:\n",
      "INFO:detectron2.evaluation.testing:copypaste: Task: bbox\n",
      "INFO:detectron2.evaluation.testing:copypaste: AP,AP50,AP75,APs,APm,APl\n",
      "INFO:detectron2.evaluation.testing:copypaste: 1.0616,1.3254,0.9974,0.0374,0.6592,32.1618\n",
      "INFO:detectron2.evaluation.testing:copypaste: Task: segm\n",
      "INFO:detectron2.evaluation.testing:copypaste: AP,AP50,AP75,APs,APm,APl\n",
      "INFO:detectron2.evaluation.testing:copypaste: 0.6433,1.0706,0.9901,0.0009,0.2110,20.0670\n",
      "INFO:detectron2.utils.events: eta: 0:04:35  iter: 2599  total_loss: 1.21  loss_cls: 0.1239  loss_box_reg: 0.1072  loss_mask: 0.4249  loss_rpn_cls: 0.2169  loss_rpn_loc: 0.2928  validation_loss: 1.818    time: 0.7034  last_time: 0.7446  data_time: 0.0053  last_data_time: 0.0059   lr: 0.0003389  max_mem: 4008M\n"
     ]
    },
    {
     "name": "stdout",
     "output_type": "stream",
     "text": [
      " Average Precision  (AP) @[ IoU=0.50:0.95 | area=   all | maxDets=100 ] = 0.006\n",
      " Average Precision  (AP) @[ IoU=0.50      | area=   all | maxDets=100 ] = 0.011\n",
      " Average Precision  (AP) @[ IoU=0.75      | area=   all | maxDets=100 ] = 0.010\n",
      " Average Precision  (AP) @[ IoU=0.50:0.95 | area= small | maxDets=100 ] = 0.000\n",
      " Average Precision  (AP) @[ IoU=0.50:0.95 | area=medium | maxDets=100 ] = 0.002\n",
      " Average Precision  (AP) @[ IoU=0.50:0.95 | area= large | maxDets=100 ] = 0.201\n",
      " Average Recall     (AR) @[ IoU=0.50:0.95 | area=   all | maxDets=  1 ] = 0.002\n",
      " Average Recall     (AR) @[ IoU=0.50:0.95 | area=   all | maxDets= 10 ] = 0.004\n",
      " Average Recall     (AR) @[ IoU=0.50:0.95 | area=   all | maxDets=100 ] = 0.010\n",
      " Average Recall     (AR) @[ IoU=0.50:0.95 | area= small | maxDets=100 ] = 0.001\n",
      " Average Recall     (AR) @[ IoU=0.50:0.95 | area=medium | maxDets=100 ] = 0.066\n",
      " Average Recall     (AR) @[ IoU=0.50:0.95 | area= large | maxDets=100 ] = 0.300\n",
      "Av. segm AP50 = 1.070616942285686\n"
     ]
    },
    {
     "name": "stderr",
     "output_type": "stream",
     "text": [
      "INFO:detectron2.utils.events: eta: 0:04:22  iter: 2619  total_loss: 1.416  loss_cls: 0.1309  loss_box_reg: 0.08604  loss_mask: 0.389  loss_rpn_cls: 0.2303  loss_rpn_loc: 0.2695  validation_loss: 1.818    time: 0.7034  last_time: 0.7743  data_time: 0.0053  last_data_time: 0.0128   lr: 0.0003389  max_mem: 4008M\n",
      "INFO:detectron2.utils.events: eta: 0:04:08  iter: 2639  total_loss: 1.477  loss_cls: 0.1514  loss_box_reg: 0.1249  loss_mask: 0.4159  loss_rpn_cls: 0.2309  loss_rpn_loc: 0.3865  validation_loss: 1.818    time: 0.7034  last_time: 0.7326  data_time: 0.0059  last_data_time: 0.0019   lr: 0.0003389  max_mem: 4008M\n",
      "INFO:detectron2.utils.events: eta: 0:03:54  iter: 2659  total_loss: 0.8972  loss_cls: 0.08228  loss_box_reg: 0.05943  loss_mask: 0.3948  loss_rpn_cls: 0.1631  loss_rpn_loc: 0.1444  validation_loss: 1.818    time: 0.7034  last_time: 0.7101  data_time: 0.0053  last_data_time: 0.0026   lr: 0.0003389  max_mem: 4008M\n",
      "INFO:detectron2.utils.events: eta: 0:03:40  iter: 2679  total_loss: 1.372  loss_cls: 0.1594  loss_box_reg: 0.1383  loss_mask: 0.3822  loss_rpn_cls: 0.194  loss_rpn_loc: 0.4208  validation_loss: 1.818    time: 0.7034  last_time: 0.6921  data_time: 0.0056  last_data_time: 0.0052   lr: 0.0003389  max_mem: 4008M\n",
      "INFO:detectron2.data.dataset_mapper:[DatasetMapper] Augmentations used in inference: []\n",
      "INFO:detectree2.models.train:[FlexibleDatasetMapper] Augmentations used in inference: []\n",
      "INFO:detectron2.data.common:Serializing the dataset using: <class 'detectron2.data.common._TorchSerializedList'>\n",
      "INFO:detectron2.data.common:Serializing 170 elements to byte tensors and concatenating them all ...\n",
      "INFO:detectron2.data.common:Serialized dataset takes 8.90 MiB\n",
      "WARNING:detectron2.evaluation.coco_evaluation:COCO Evaluator instantiated using config, this is deprecated behavior. Please pass in explicit arguments instead.\n",
      "INFO:detectron2.evaluation.evaluator:Start inference on 170 batches\n",
      "INFO:detectron2.evaluation.evaluator:Inference done 11/170. Dataloading: 0.0006 s/iter. Inference: 0.0579 s/iter. Eval: 0.0716 s/iter. Total: 0.1302 s/iter. ETA=0:00:20\n",
      "INFO:detectron2.evaluation.evaluator:Inference done 81/170. Dataloading: 0.0010 s/iter. Inference: 0.0550 s/iter. Eval: 0.0209 s/iter. Total: 0.0769 s/iter. ETA=0:00:06\n",
      "INFO:detectron2.evaluation.evaluator:Inference done 148/170. Dataloading: 0.0016 s/iter. Inference: 0.0550 s/iter. Eval: 0.0192 s/iter. Total: 0.0759 s/iter. ETA=0:00:01\n",
      "INFO:detectron2.evaluation.evaluator:Total inference time: 0:00:12.525374 (0.075911 s / iter per device, on 1 devices)\n",
      "INFO:detectron2.evaluation.evaluator:Total inference pure compute time: 0:00:09 (0.055003 s / iter per device, on 1 devices)\n",
      "INFO:detectron2.evaluation.coco_evaluation:Preparing results for COCO format ...\n",
      "INFO:detectron2.evaluation.coco_evaluation:Saving results to eval/coco_instances_results.json\n",
      "INFO:detectron2.evaluation.coco_evaluation:Evaluating predictions with unofficial COCO API...\n",
      "INFO:detectron2.evaluation.fast_eval_api:Evaluate annotation type *bbox*\n",
      "INFO:detectron2.evaluation.fast_eval_api:COCOeval_opt.evaluate() finished in 0.18 seconds.\n",
      "INFO:detectron2.evaluation.fast_eval_api:Accumulating evaluation results...\n",
      "INFO:detectron2.evaluation.fast_eval_api:COCOeval_opt.accumulate() finished in 0.03 seconds.\n"
     ]
    },
    {
     "name": "stdout",
     "output_type": "stream",
     "text": [
      "Loading and preparing results...\n",
      "DONE (t=0.01s)\n",
      "creating index...\n",
      "index created!\n"
     ]
    },
    {
     "name": "stderr",
     "output_type": "stream",
     "text": [
      "INFO:detectron2.evaluation.coco_evaluation:Evaluation results for bbox: \n",
      "|  AP   |  AP50  |  AP75  |  APs  |  APm  |  APl   |\n",
      "|:-----:|:------:|:------:|:-----:|:-----:|:------:|\n",
      "| 1.089 | 1.443  | 1.001  | 0.108 | 1.279 | 32.066 |\n"
     ]
    },
    {
     "name": "stdout",
     "output_type": "stream",
     "text": [
      " Average Precision  (AP) @[ IoU=0.50:0.95 | area=   all | maxDets=100 ] = 0.011\n",
      " Average Precision  (AP) @[ IoU=0.50      | area=   all | maxDets=100 ] = 0.014\n",
      " Average Precision  (AP) @[ IoU=0.75      | area=   all | maxDets=100 ] = 0.010\n",
      " Average Precision  (AP) @[ IoU=0.50:0.95 | area= small | maxDets=100 ] = 0.001\n",
      " Average Precision  (AP) @[ IoU=0.50:0.95 | area=medium | maxDets=100 ] = 0.013\n",
      " Average Precision  (AP) @[ IoU=0.50:0.95 | area= large | maxDets=100 ] = 0.321\n",
      " Average Recall     (AR) @[ IoU=0.50:0.95 | area=   all | maxDets=  1 ] = 0.003\n",
      " Average Recall     (AR) @[ IoU=0.50:0.95 | area=   all | maxDets= 10 ] = 0.009\n",
      " Average Recall     (AR) @[ IoU=0.50:0.95 | area=   all | maxDets=100 ] = 0.027\n",
      " Average Recall     (AR) @[ IoU=0.50:0.95 | area= small | maxDets=100 ] = 0.005\n",
      " Average Recall     (AR) @[ IoU=0.50:0.95 | area=medium | maxDets=100 ] = 0.177\n",
      " Average Recall     (AR) @[ IoU=0.50:0.95 | area= large | maxDets=100 ] = 0.582\n"
     ]
    },
    {
     "name": "stderr",
     "output_type": "stream",
     "text": [
      "INFO:detectron2.evaluation.fast_eval_api:Evaluate annotation type *segm*\n"
     ]
    },
    {
     "name": "stdout",
     "output_type": "stream",
     "text": [
      "Loading and preparing results...\n",
      "DONE (t=0.13s)\n",
      "creating index...\n",
      "index created!\n"
     ]
    },
    {
     "name": "stderr",
     "output_type": "stream",
     "text": [
      "INFO:detectron2.evaluation.fast_eval_api:COCOeval_opt.evaluate() finished in 0.35 seconds.\n",
      "INFO:detectron2.evaluation.fast_eval_api:Accumulating evaluation results...\n",
      "INFO:detectron2.evaluation.fast_eval_api:COCOeval_opt.accumulate() finished in 0.03 seconds.\n",
      "INFO:detectron2.evaluation.coco_evaluation:Evaluation results for segm: \n",
      "|  AP   |  AP50  |  AP75  |  APs  |  APm  |  APl   |\n",
      "|:-----:|:------:|:------:|:-----:|:-----:|:------:|\n",
      "| 0.644 | 1.118  | 0.990  | 0.001 | 0.607 | 19.003 |\n",
      "INFO:detectron2.engine.defaults:Evaluation results for griffith_val in csv format:\n",
      "INFO:detectron2.evaluation.testing:copypaste: Task: bbox\n",
      "INFO:detectron2.evaluation.testing:copypaste: AP,AP50,AP75,APs,APm,APl\n",
      "INFO:detectron2.evaluation.testing:copypaste: 1.0894,1.4428,1.0009,0.1083,1.2790,32.0661\n",
      "INFO:detectron2.evaluation.testing:copypaste: Task: segm\n",
      "INFO:detectron2.evaluation.testing:copypaste: AP,AP50,AP75,APs,APm,APl\n",
      "INFO:detectron2.evaluation.testing:copypaste: 0.6441,1.1184,0.9901,0.0011,0.6072,19.0027\n"
     ]
    },
    {
     "name": "stdout",
     "output_type": "stream",
     "text": [
      " Average Precision  (AP) @[ IoU=0.50:0.95 | area=   all | maxDets=100 ] = 0.006\n",
      " Average Precision  (AP) @[ IoU=0.50      | area=   all | maxDets=100 ] = 0.011\n",
      " Average Precision  (AP) @[ IoU=0.75      | area=   all | maxDets=100 ] = 0.010\n",
      " Average Precision  (AP) @[ IoU=0.50:0.95 | area= small | maxDets=100 ] = 0.000\n",
      " Average Precision  (AP) @[ IoU=0.50:0.95 | area=medium | maxDets=100 ] = 0.006\n",
      " Average Precision  (AP) @[ IoU=0.50:0.95 | area= large | maxDets=100 ] = 0.190\n",
      " Average Recall     (AR) @[ IoU=0.50:0.95 | area=   all | maxDets=  1 ] = 0.003\n",
      " Average Recall     (AR) @[ IoU=0.50:0.95 | area=   all | maxDets= 10 ] = 0.006\n",
      " Average Recall     (AR) @[ IoU=0.50:0.95 | area=   all | maxDets=100 ] = 0.010\n",
      " Average Recall     (AR) @[ IoU=0.50:0.95 | area= small | maxDets=100 ] = 0.001\n",
      " Average Recall     (AR) @[ IoU=0.50:0.95 | area=medium | maxDets=100 ] = 0.068\n",
      " Average Recall     (AR) @[ IoU=0.50:0.95 | area= large | maxDets=100 ] = 0.279\n"
     ]
    },
    {
     "name": "stderr",
     "output_type": "stream",
     "text": [
      "INFO:detectree2.models.train:Loss on Validation  done 11/170. 0.0001 s / img. ETA=0:00:21\n",
      "INFO:detectree2.models.train:Loss on Validation  done 40/170. 0.0001 s / img. ETA=0:00:21\n",
      "INFO:detectree2.models.train:Loss on Validation  done 69/170. 0.0001 s / img. ETA=0:00:17\n",
      "INFO:detectree2.models.train:Loss on Validation  done 99/170. 0.0001 s / img. ETA=0:00:12\n",
      "INFO:detectree2.models.train:Loss on Validation  done 130/170. 0.0001 s / img. ETA=0:00:06\n",
      "INFO:detectree2.models.train:Loss on Validation  done 160/170. 0.0001 s / img. ETA=0:00:01\n",
      "INFO:detectron2.data.dataset_mapper:[DatasetMapper] Augmentations used in inference: []\n",
      "INFO:detectree2.models.train:[FlexibleDatasetMapper] Augmentations used in inference: []\n",
      "INFO:detectron2.data.common:Serializing the dataset using: <class 'detectron2.data.common._TorchSerializedList'>\n",
      "INFO:detectron2.data.common:Serializing 170 elements to byte tensors and concatenating them all ...\n",
      "INFO:detectron2.data.common:Serialized dataset takes 8.90 MiB\n",
      "WARNING:detectron2.evaluation.coco_evaluation:COCO Evaluator instantiated using config, this is deprecated behavior. Please pass in explicit arguments instead.\n",
      "INFO:detectron2.evaluation.evaluator:Start inference on 170 batches\n",
      "INFO:detectron2.evaluation.evaluator:Inference done 11/170. Dataloading: 0.0006 s/iter. Inference: 0.0578 s/iter. Eval: 0.0176 s/iter. Total: 0.0759 s/iter. ETA=0:00:12\n",
      "INFO:detectron2.evaluation.evaluator:Inference done 81/170. Dataloading: 0.0010 s/iter. Inference: 0.0544 s/iter. Eval: 0.0170 s/iter. Total: 0.0725 s/iter. ETA=0:00:06\n",
      "INFO:detectron2.evaluation.evaluator:Inference done 146/170. Dataloading: 0.0010 s/iter. Inference: 0.0547 s/iter. Eval: 0.0191 s/iter. Total: 0.0749 s/iter. ETA=0:00:01\n",
      "INFO:detectron2.evaluation.evaluator:Total inference time: 0:00:12.363369 (0.074930 s / iter per device, on 1 devices)\n",
      "INFO:detectron2.evaluation.evaluator:Total inference pure compute time: 0:00:09 (0.054665 s / iter per device, on 1 devices)\n",
      "INFO:detectron2.evaluation.coco_evaluation:Preparing results for COCO format ...\n",
      "INFO:detectron2.evaluation.coco_evaluation:Saving results to eval/coco_instances_results.json\n",
      "INFO:detectron2.evaluation.coco_evaluation:Evaluating predictions with unofficial COCO API...\n",
      "INFO:detectron2.evaluation.fast_eval_api:Evaluate annotation type *bbox*\n",
      "INFO:detectron2.evaluation.fast_eval_api:COCOeval_opt.evaluate() finished in 0.17 seconds.\n",
      "INFO:detectron2.evaluation.fast_eval_api:Accumulating evaluation results...\n",
      "INFO:detectron2.evaluation.fast_eval_api:COCOeval_opt.accumulate() finished in 0.03 seconds.\n"
     ]
    },
    {
     "name": "stdout",
     "output_type": "stream",
     "text": [
      "Loading and preparing results...\n",
      "DONE (t=0.01s)\n",
      "creating index...\n",
      "index created!\n"
     ]
    },
    {
     "name": "stderr",
     "output_type": "stream",
     "text": [
      "INFO:detectron2.evaluation.coco_evaluation:Evaluation results for bbox: \n",
      "|  AP   |  AP50  |  AP75  |  APs  |  APm  |  APl   |\n",
      "|:-----:|:------:|:------:|:-----:|:-----:|:------:|\n",
      "| 1.089 | 1.443  | 1.001  | 0.108 | 1.279 | 32.066 |\n"
     ]
    },
    {
     "name": "stdout",
     "output_type": "stream",
     "text": [
      " Average Precision  (AP) @[ IoU=0.50:0.95 | area=   all | maxDets=100 ] = 0.011\n",
      " Average Precision  (AP) @[ IoU=0.50      | area=   all | maxDets=100 ] = 0.014\n",
      " Average Precision  (AP) @[ IoU=0.75      | area=   all | maxDets=100 ] = 0.010\n",
      " Average Precision  (AP) @[ IoU=0.50:0.95 | area= small | maxDets=100 ] = 0.001\n",
      " Average Precision  (AP) @[ IoU=0.50:0.95 | area=medium | maxDets=100 ] = 0.013\n",
      " Average Precision  (AP) @[ IoU=0.50:0.95 | area= large | maxDets=100 ] = 0.321\n",
      " Average Recall     (AR) @[ IoU=0.50:0.95 | area=   all | maxDets=  1 ] = 0.003\n",
      " Average Recall     (AR) @[ IoU=0.50:0.95 | area=   all | maxDets= 10 ] = 0.009\n",
      " Average Recall     (AR) @[ IoU=0.50:0.95 | area=   all | maxDets=100 ] = 0.027\n",
      " Average Recall     (AR) @[ IoU=0.50:0.95 | area= small | maxDets=100 ] = 0.005\n",
      " Average Recall     (AR) @[ IoU=0.50:0.95 | area=medium | maxDets=100 ] = 0.177\n",
      " Average Recall     (AR) @[ IoU=0.50:0.95 | area= large | maxDets=100 ] = 0.582\n"
     ]
    },
    {
     "name": "stderr",
     "output_type": "stream",
     "text": [
      "INFO:detectron2.evaluation.fast_eval_api:Evaluate annotation type *segm*\n"
     ]
    },
    {
     "name": "stdout",
     "output_type": "stream",
     "text": [
      "Loading and preparing results...\n",
      "DONE (t=0.12s)\n",
      "creating index...\n",
      "index created!\n"
     ]
    },
    {
     "name": "stderr",
     "output_type": "stream",
     "text": [
      "INFO:detectron2.evaluation.fast_eval_api:COCOeval_opt.evaluate() finished in 0.35 seconds.\n",
      "INFO:detectron2.evaluation.fast_eval_api:Accumulating evaluation results...\n",
      "INFO:detectron2.evaluation.fast_eval_api:COCOeval_opt.accumulate() finished in 0.03 seconds.\n",
      "INFO:detectron2.evaluation.coco_evaluation:Evaluation results for segm: \n",
      "|  AP   |  AP50  |  AP75  |  APs  |  APm  |  APl   |\n",
      "|:-----:|:------:|:------:|:-----:|:-----:|:------:|\n",
      "| 0.644 | 1.118  | 0.990  | 0.001 | 0.607 | 19.003 |\n",
      "INFO:detectron2.engine.defaults:Evaluation results for griffith_val in csv format:\n",
      "INFO:detectron2.evaluation.testing:copypaste: Task: bbox\n",
      "INFO:detectron2.evaluation.testing:copypaste: AP,AP50,AP75,APs,APm,APl\n",
      "INFO:detectron2.evaluation.testing:copypaste: 1.0894,1.4428,1.0009,0.1083,1.2790,32.0661\n",
      "INFO:detectron2.evaluation.testing:copypaste: Task: segm\n",
      "INFO:detectron2.evaluation.testing:copypaste: AP,AP50,AP75,APs,APm,APl\n",
      "INFO:detectron2.evaluation.testing:copypaste: 0.6441,1.1184,0.9901,0.0011,0.6072,19.0027\n",
      "INFO:detectron2.utils.events: eta: 0:03:26  iter: 2699  total_loss: 1.101  loss_cls: 0.103  loss_box_reg: 0.09744  loss_mask: 0.4132  loss_rpn_cls: 0.2251  loss_rpn_loc: 0.2623  validation_loss: 1.827    time: 0.7034  last_time: 0.6776  data_time: 0.0050  last_data_time: 0.0044   lr: 0.0003389  max_mem: 4008M\n"
     ]
    },
    {
     "name": "stdout",
     "output_type": "stream",
     "text": [
      " Average Precision  (AP) @[ IoU=0.50:0.95 | area=   all | maxDets=100 ] = 0.006\n",
      " Average Precision  (AP) @[ IoU=0.50      | area=   all | maxDets=100 ] = 0.011\n",
      " Average Precision  (AP) @[ IoU=0.75      | area=   all | maxDets=100 ] = 0.010\n",
      " Average Precision  (AP) @[ IoU=0.50:0.95 | area= small | maxDets=100 ] = 0.000\n",
      " Average Precision  (AP) @[ IoU=0.50:0.95 | area=medium | maxDets=100 ] = 0.006\n",
      " Average Precision  (AP) @[ IoU=0.50:0.95 | area= large | maxDets=100 ] = 0.190\n",
      " Average Recall     (AR) @[ IoU=0.50:0.95 | area=   all | maxDets=  1 ] = 0.003\n",
      " Average Recall     (AR) @[ IoU=0.50:0.95 | area=   all | maxDets= 10 ] = 0.006\n",
      " Average Recall     (AR) @[ IoU=0.50:0.95 | area=   all | maxDets=100 ] = 0.010\n",
      " Average Recall     (AR) @[ IoU=0.50:0.95 | area= small | maxDets=100 ] = 0.001\n",
      " Average Recall     (AR) @[ IoU=0.50:0.95 | area=medium | maxDets=100 ] = 0.068\n",
      " Average Recall     (AR) @[ IoU=0.50:0.95 | area= large | maxDets=100 ] = 0.279\n",
      "Av. segm AP50 = 1.118391579792451\n"
     ]
    },
    {
     "name": "stderr",
     "output_type": "stream",
     "text": [
      "INFO:detectron2.utils.events: eta: 0:03:12  iter: 2719  total_loss: 0.9896  loss_cls: 0.1191  loss_box_reg: 0.07218  loss_mask: 0.3898  loss_rpn_cls: 0.188  loss_rpn_loc: 0.2054  validation_loss: 1.827    time: 0.7033  last_time: 0.7323  data_time: 0.0053  last_data_time: 0.0062   lr: 0.0003389  max_mem: 4008M\n",
      "INFO:detectron2.utils.events: eta: 0:02:59  iter: 2739  total_loss: 1.246  loss_cls: 0.1149  loss_box_reg: 0.149  loss_mask: 0.4016  loss_rpn_cls: 0.1869  loss_rpn_loc: 0.2093  validation_loss: 1.827    time: 0.7033  last_time: 0.7060  data_time: 0.0053  last_data_time: 0.0050   lr: 0.0003389  max_mem: 4008M\n",
      "INFO:detectron2.utils.events: eta: 0:02:45  iter: 2759  total_loss: 1.276  loss_cls: 0.1001  loss_box_reg: 0.06246  loss_mask: 0.4026  loss_rpn_cls: 0.226  loss_rpn_loc: 0.3272  validation_loss: 1.827    time: 0.7033  last_time: 0.6933  data_time: 0.0047  last_data_time: 0.0068   lr: 0.0003389  max_mem: 4008M\n",
      "INFO:detectron2.utils.events: eta: 0:02:31  iter: 2779  total_loss: 1.226  loss_cls: 0.118  loss_box_reg: 0.08257  loss_mask: 0.3891  loss_rpn_cls: 0.2209  loss_rpn_loc: 0.3188  validation_loss: 1.827    time: 0.7033  last_time: 0.6721  data_time: 0.0060  last_data_time: 0.0045   lr: 0.0003389  max_mem: 4008M\n",
      "INFO:detectron2.data.dataset_mapper:[DatasetMapper] Augmentations used in inference: []\n",
      "INFO:detectree2.models.train:[FlexibleDatasetMapper] Augmentations used in inference: []\n",
      "INFO:detectron2.data.common:Serializing the dataset using: <class 'detectron2.data.common._TorchSerializedList'>\n",
      "INFO:detectron2.data.common:Serializing 170 elements to byte tensors and concatenating them all ...\n",
      "INFO:detectron2.data.common:Serialized dataset takes 8.90 MiB\n",
      "WARNING:detectron2.evaluation.coco_evaluation:COCO Evaluator instantiated using config, this is deprecated behavior. Please pass in explicit arguments instead.\n",
      "INFO:detectron2.evaluation.evaluator:Start inference on 170 batches\n",
      "INFO:detectron2.evaluation.evaluator:Inference done 11/170. Dataloading: 0.0006 s/iter. Inference: 0.0562 s/iter. Eval: 0.0178 s/iter. Total: 0.0746 s/iter. ETA=0:00:11\n",
      "INFO:detectron2.evaluation.evaluator:Inference done 73/170. Dataloading: 0.0010 s/iter. Inference: 0.0567 s/iter. Eval: 0.0224 s/iter. Total: 0.0802 s/iter. ETA=0:00:07\n",
      "INFO:detectron2.evaluation.evaluator:Inference done 140/170. Dataloading: 0.0010 s/iter. Inference: 0.0564 s/iter. Eval: 0.0200 s/iter. Total: 0.0775 s/iter. ETA=0:00:02\n",
      "INFO:detectron2.evaluation.evaluator:Total inference time: 0:00:12.756375 (0.077311 s / iter per device, on 1 devices)\n",
      "INFO:detectron2.evaluation.evaluator:Total inference pure compute time: 0:00:09 (0.056263 s / iter per device, on 1 devices)\n",
      "INFO:detectron2.evaluation.coco_evaluation:Preparing results for COCO format ...\n",
      "INFO:detectron2.evaluation.coco_evaluation:Saving results to eval/coco_instances_results.json\n",
      "INFO:detectron2.evaluation.coco_evaluation:Evaluating predictions with unofficial COCO API...\n",
      "INFO:detectron2.evaluation.fast_eval_api:Evaluate annotation type *bbox*\n",
      "INFO:detectron2.evaluation.fast_eval_api:COCOeval_opt.evaluate() finished in 0.18 seconds.\n",
      "INFO:detectron2.evaluation.fast_eval_api:Accumulating evaluation results...\n",
      "INFO:detectron2.evaluation.fast_eval_api:COCOeval_opt.accumulate() finished in 0.03 seconds.\n"
     ]
    },
    {
     "name": "stdout",
     "output_type": "stream",
     "text": [
      "Loading and preparing results...\n",
      "DONE (t=0.01s)\n",
      "creating index...\n",
      "index created!\n"
     ]
    },
    {
     "name": "stderr",
     "output_type": "stream",
     "text": [
      "INFO:detectron2.evaluation.coco_evaluation:Evaluation results for bbox: \n",
      "|  AP   |  AP50  |  AP75  |  APs  |  APm  |  APl   |\n",
      "|:-----:|:------:|:------:|:-----:|:-----:|:------:|\n",
      "| 1.094 | 1.489  | 1.001  | 0.035 | 1.066 | 30.969 |\n"
     ]
    },
    {
     "name": "stdout",
     "output_type": "stream",
     "text": [
      " Average Precision  (AP) @[ IoU=0.50:0.95 | area=   all | maxDets=100 ] = 0.011\n",
      " Average Precision  (AP) @[ IoU=0.50      | area=   all | maxDets=100 ] = 0.015\n",
      " Average Precision  (AP) @[ IoU=0.75      | area=   all | maxDets=100 ] = 0.010\n",
      " Average Precision  (AP) @[ IoU=0.50:0.95 | area= small | maxDets=100 ] = 0.000\n",
      " Average Precision  (AP) @[ IoU=0.50:0.95 | area=medium | maxDets=100 ] = 0.011\n",
      " Average Precision  (AP) @[ IoU=0.50:0.95 | area= large | maxDets=100 ] = 0.310\n",
      " Average Recall     (AR) @[ IoU=0.50:0.95 | area=   all | maxDets=  1 ] = 0.003\n",
      " Average Recall     (AR) @[ IoU=0.50:0.95 | area=   all | maxDets= 10 ] = 0.009\n",
      " Average Recall     (AR) @[ IoU=0.50:0.95 | area=   all | maxDets=100 ] = 0.031\n",
      " Average Recall     (AR) @[ IoU=0.50:0.95 | area= small | maxDets=100 ] = 0.006\n",
      " Average Recall     (AR) @[ IoU=0.50:0.95 | area=medium | maxDets=100 ] = 0.200\n",
      " Average Recall     (AR) @[ IoU=0.50:0.95 | area= large | maxDets=100 ] = 0.607\n"
     ]
    },
    {
     "name": "stderr",
     "output_type": "stream",
     "text": [
      "INFO:detectron2.evaluation.fast_eval_api:Evaluate annotation type *segm*\n"
     ]
    },
    {
     "name": "stdout",
     "output_type": "stream",
     "text": [
      "Loading and preparing results...\n",
      "DONE (t=0.13s)\n",
      "creating index...\n",
      "index created!\n"
     ]
    },
    {
     "name": "stderr",
     "output_type": "stream",
     "text": [
      "INFO:detectron2.evaluation.fast_eval_api:COCOeval_opt.evaluate() finished in 0.36 seconds.\n",
      "INFO:detectron2.evaluation.fast_eval_api:Accumulating evaluation results...\n",
      "INFO:detectron2.evaluation.fast_eval_api:COCOeval_opt.accumulate() finished in 0.03 seconds.\n",
      "INFO:detectron2.evaluation.coco_evaluation:Evaluation results for segm: \n",
      "|  AP   |  AP50  |  AP75  |  APs  |  APm  |  APl   |\n",
      "|:-----:|:------:|:------:|:-----:|:-----:|:------:|\n",
      "| 0.625 | 1.073  | 0.990  | 0.001 | 0.260 | 14.688 |\n",
      "INFO:detectron2.engine.defaults:Evaluation results for griffith_val in csv format:\n",
      "INFO:detectron2.evaluation.testing:copypaste: Task: bbox\n",
      "INFO:detectron2.evaluation.testing:copypaste: AP,AP50,AP75,APs,APm,APl\n",
      "INFO:detectron2.evaluation.testing:copypaste: 1.0943,1.4894,1.0006,0.0350,1.0663,30.9685\n",
      "INFO:detectron2.evaluation.testing:copypaste: Task: segm\n",
      "INFO:detectron2.evaluation.testing:copypaste: AP,AP50,AP75,APs,APm,APl\n",
      "INFO:detectron2.evaluation.testing:copypaste: 0.6246,1.0733,0.9901,0.0006,0.2600,14.6885\n"
     ]
    },
    {
     "name": "stdout",
     "output_type": "stream",
     "text": [
      " Average Precision  (AP) @[ IoU=0.50:0.95 | area=   all | maxDets=100 ] = 0.006\n",
      " Average Precision  (AP) @[ IoU=0.50      | area=   all | maxDets=100 ] = 0.011\n",
      " Average Precision  (AP) @[ IoU=0.75      | area=   all | maxDets=100 ] = 0.010\n",
      " Average Precision  (AP) @[ IoU=0.50:0.95 | area= small | maxDets=100 ] = 0.000\n",
      " Average Precision  (AP) @[ IoU=0.50:0.95 | area=medium | maxDets=100 ] = 0.003\n",
      " Average Precision  (AP) @[ IoU=0.50:0.95 | area= large | maxDets=100 ] = 0.147\n",
      " Average Recall     (AR) @[ IoU=0.50:0.95 | area=   all | maxDets=  1 ] = 0.002\n",
      " Average Recall     (AR) @[ IoU=0.50:0.95 | area=   all | maxDets= 10 ] = 0.004\n",
      " Average Recall     (AR) @[ IoU=0.50:0.95 | area=   all | maxDets=100 ] = 0.010\n",
      " Average Recall     (AR) @[ IoU=0.50:0.95 | area= small | maxDets=100 ] = 0.001\n",
      " Average Recall     (AR) @[ IoU=0.50:0.95 | area=medium | maxDets=100 ] = 0.066\n",
      " Average Recall     (AR) @[ IoU=0.50:0.95 | area= large | maxDets=100 ] = 0.221\n"
     ]
    },
    {
     "name": "stderr",
     "output_type": "stream",
     "text": [
      "INFO:detectree2.models.train:Loss on Validation  done 11/170. 0.0001 s / img. ETA=0:00:21\n",
      "INFO:detectree2.models.train:Loss on Validation  done 40/170. 0.0001 s / img. ETA=0:00:21\n",
      "INFO:detectree2.models.train:Loss on Validation  done 69/170. 0.0001 s / img. ETA=0:00:17\n",
      "INFO:detectree2.models.train:Loss on Validation  done 99/170. 0.0001 s / img. ETA=0:00:12\n",
      "INFO:detectree2.models.train:Loss on Validation  done 130/170. 0.0001 s / img. ETA=0:00:06\n",
      "INFO:detectree2.models.train:Loss on Validation  done 160/170. 0.0001 s / img. ETA=0:00:01\n",
      "INFO:detectron2.data.dataset_mapper:[DatasetMapper] Augmentations used in inference: []\n",
      "INFO:detectree2.models.train:[FlexibleDatasetMapper] Augmentations used in inference: []\n",
      "INFO:detectron2.data.common:Serializing the dataset using: <class 'detectron2.data.common._TorchSerializedList'>\n",
      "INFO:detectron2.data.common:Serializing 170 elements to byte tensors and concatenating them all ...\n",
      "INFO:detectron2.data.common:Serialized dataset takes 8.90 MiB\n",
      "WARNING:detectron2.evaluation.coco_evaluation:COCO Evaluator instantiated using config, this is deprecated behavior. Please pass in explicit arguments instead.\n",
      "INFO:detectron2.evaluation.evaluator:Start inference on 170 batches\n",
      "INFO:detectron2.evaluation.evaluator:Inference done 11/170. Dataloading: 0.0006 s/iter. Inference: 0.0563 s/iter. Eval: 0.0178 s/iter. Total: 0.0748 s/iter. ETA=0:00:11\n",
      "INFO:detectron2.evaluation.evaluator:Inference done 79/170. Dataloading: 0.0010 s/iter. Inference: 0.0552 s/iter. Eval: 0.0179 s/iter. Total: 0.0741 s/iter. ETA=0:00:06\n",
      "INFO:detectron2.evaluation.evaluator:Inference done 142/170. Dataloading: 0.0010 s/iter. Inference: 0.0556 s/iter. Eval: 0.0202 s/iter. Total: 0.0769 s/iter. ETA=0:00:02\n",
      "INFO:detectron2.evaluation.evaluator:Total inference time: 0:00:12.667576 (0.076773 s / iter per device, on 1 devices)\n",
      "INFO:detectron2.evaluation.evaluator:Total inference pure compute time: 0:00:09 (0.055461 s / iter per device, on 1 devices)\n",
      "INFO:detectron2.evaluation.coco_evaluation:Preparing results for COCO format ...\n",
      "INFO:detectron2.evaluation.coco_evaluation:Saving results to eval/coco_instances_results.json\n",
      "INFO:detectron2.evaluation.coco_evaluation:Evaluating predictions with unofficial COCO API...\n",
      "INFO:detectron2.evaluation.fast_eval_api:Evaluate annotation type *bbox*\n",
      "INFO:detectron2.evaluation.fast_eval_api:COCOeval_opt.evaluate() finished in 0.18 seconds.\n",
      "INFO:detectron2.evaluation.fast_eval_api:Accumulating evaluation results...\n",
      "INFO:detectron2.evaluation.fast_eval_api:COCOeval_opt.accumulate() finished in 0.03 seconds.\n"
     ]
    },
    {
     "name": "stdout",
     "output_type": "stream",
     "text": [
      "Loading and preparing results...\n",
      "DONE (t=0.01s)\n",
      "creating index...\n",
      "index created!\n"
     ]
    },
    {
     "name": "stderr",
     "output_type": "stream",
     "text": [
      "INFO:detectron2.evaluation.coco_evaluation:Evaluation results for bbox: \n",
      "|  AP   |  AP50  |  AP75  |  APs  |  APm  |  APl   |\n",
      "|:-----:|:------:|:------:|:-----:|:-----:|:------:|\n",
      "| 1.094 | 1.489  | 1.001  | 0.035 | 1.066 | 30.969 |\n"
     ]
    },
    {
     "name": "stdout",
     "output_type": "stream",
     "text": [
      " Average Precision  (AP) @[ IoU=0.50:0.95 | area=   all | maxDets=100 ] = 0.011\n",
      " Average Precision  (AP) @[ IoU=0.50      | area=   all | maxDets=100 ] = 0.015\n",
      " Average Precision  (AP) @[ IoU=0.75      | area=   all | maxDets=100 ] = 0.010\n",
      " Average Precision  (AP) @[ IoU=0.50:0.95 | area= small | maxDets=100 ] = 0.000\n",
      " Average Precision  (AP) @[ IoU=0.50:0.95 | area=medium | maxDets=100 ] = 0.011\n",
      " Average Precision  (AP) @[ IoU=0.50:0.95 | area= large | maxDets=100 ] = 0.310\n",
      " Average Recall     (AR) @[ IoU=0.50:0.95 | area=   all | maxDets=  1 ] = 0.003\n",
      " Average Recall     (AR) @[ IoU=0.50:0.95 | area=   all | maxDets= 10 ] = 0.009\n",
      " Average Recall     (AR) @[ IoU=0.50:0.95 | area=   all | maxDets=100 ] = 0.031\n",
      " Average Recall     (AR) @[ IoU=0.50:0.95 | area= small | maxDets=100 ] = 0.006\n",
      " Average Recall     (AR) @[ IoU=0.50:0.95 | area=medium | maxDets=100 ] = 0.200\n",
      " Average Recall     (AR) @[ IoU=0.50:0.95 | area= large | maxDets=100 ] = 0.607\n"
     ]
    },
    {
     "name": "stderr",
     "output_type": "stream",
     "text": [
      "INFO:detectron2.evaluation.fast_eval_api:Evaluate annotation type *segm*\n"
     ]
    },
    {
     "name": "stdout",
     "output_type": "stream",
     "text": [
      "Loading and preparing results...\n",
      "DONE (t=0.13s)\n",
      "creating index...\n",
      "index created!\n"
     ]
    },
    {
     "name": "stderr",
     "output_type": "stream",
     "text": [
      "INFO:detectron2.evaluation.fast_eval_api:COCOeval_opt.evaluate() finished in 0.36 seconds.\n",
      "INFO:detectron2.evaluation.fast_eval_api:Accumulating evaluation results...\n",
      "INFO:detectron2.evaluation.fast_eval_api:COCOeval_opt.accumulate() finished in 0.03 seconds.\n",
      "INFO:detectron2.evaluation.coco_evaluation:Evaluation results for segm: \n",
      "|  AP   |  AP50  |  AP75  |  APs  |  APm  |  APl   |\n",
      "|:-----:|:------:|:------:|:-----:|:-----:|:------:|\n",
      "| 0.625 | 1.073  | 0.990  | 0.001 | 0.260 | 14.688 |\n",
      "INFO:detectron2.engine.defaults:Evaluation results for griffith_val in csv format:\n",
      "INFO:detectron2.evaluation.testing:copypaste: Task: bbox\n",
      "INFO:detectron2.evaluation.testing:copypaste: AP,AP50,AP75,APs,APm,APl\n",
      "INFO:detectron2.evaluation.testing:copypaste: 1.0943,1.4894,1.0006,0.0350,1.0663,30.9685\n",
      "INFO:detectron2.evaluation.testing:copypaste: Task: segm\n",
      "INFO:detectron2.evaluation.testing:copypaste: AP,AP50,AP75,APs,APm,APl\n",
      "INFO:detectron2.evaluation.testing:copypaste: 0.6246,1.0733,0.9901,0.0006,0.2600,14.6885\n",
      "INFO:detectron2.utils.events: eta: 0:02:17  iter: 2799  total_loss: 1.314  loss_cls: 0.1238  loss_box_reg: 0.1353  loss_mask: 0.4102  loss_rpn_cls: 0.2566  loss_rpn_loc: 0.3337  validation_loss: 1.804    time: 0.7033  last_time: 0.6482  data_time: 0.0059  last_data_time: 0.0043   lr: 0.0003389  max_mem: 4008M\n"
     ]
    },
    {
     "name": "stdout",
     "output_type": "stream",
     "text": [
      " Average Precision  (AP) @[ IoU=0.50:0.95 | area=   all | maxDets=100 ] = 0.006\n",
      " Average Precision  (AP) @[ IoU=0.50      | area=   all | maxDets=100 ] = 0.011\n",
      " Average Precision  (AP) @[ IoU=0.75      | area=   all | maxDets=100 ] = 0.010\n",
      " Average Precision  (AP) @[ IoU=0.50:0.95 | area= small | maxDets=100 ] = 0.000\n",
      " Average Precision  (AP) @[ IoU=0.50:0.95 | area=medium | maxDets=100 ] = 0.003\n",
      " Average Precision  (AP) @[ IoU=0.50:0.95 | area= large | maxDets=100 ] = 0.147\n",
      " Average Recall     (AR) @[ IoU=0.50:0.95 | area=   all | maxDets=  1 ] = 0.002\n",
      " Average Recall     (AR) @[ IoU=0.50:0.95 | area=   all | maxDets= 10 ] = 0.004\n",
      " Average Recall     (AR) @[ IoU=0.50:0.95 | area=   all | maxDets=100 ] = 0.010\n",
      " Average Recall     (AR) @[ IoU=0.50:0.95 | area= small | maxDets=100 ] = 0.001\n",
      " Average Recall     (AR) @[ IoU=0.50:0.95 | area=medium | maxDets=100 ] = 0.066\n",
      " Average Recall     (AR) @[ IoU=0.50:0.95 | area= large | maxDets=100 ] = 0.221\n",
      "Av. segm AP50 = 1.0732774413154005\n"
     ]
    },
    {
     "name": "stderr",
     "output_type": "stream",
     "text": [
      "INFO:detectron2.utils.events: eta: 0:02:03  iter: 2819  total_loss: 1.403  loss_cls: 0.1187  loss_box_reg: 0.06281  loss_mask: 0.4319  loss_rpn_cls: 0.2703  loss_rpn_loc: 0.3464  validation_loss: 1.804    time: 0.7033  last_time: 0.7438  data_time: 0.0051  last_data_time: 0.0061   lr: 0.0003389  max_mem: 4008M\n",
      "INFO:detectron2.utils.events: eta: 0:01:50  iter: 2839  total_loss: 1.557  loss_cls: 0.1208  loss_box_reg: 0.09277  loss_mask: 0.4475  loss_rpn_cls: 0.247  loss_rpn_loc: 0.4025  validation_loss: 1.804    time: 0.7034  last_time: 0.6890  data_time: 0.0061  last_data_time: 0.0077   lr: 0.0003389  max_mem: 4008M\n",
      "INFO:detectron2.utils.events: eta: 0:01:36  iter: 2859  total_loss: 1.063  loss_cls: 0.1004  loss_box_reg: 0.08382  loss_mask: 0.4154  loss_rpn_cls: 0.2313  loss_rpn_loc: 0.2285  validation_loss: 1.804    time: 0.7033  last_time: 0.6741  data_time: 0.0051  last_data_time: 0.0059   lr: 0.0003389  max_mem: 4008M\n",
      "INFO:detectron2.utils.events: eta: 0:01:22  iter: 2879  total_loss: 1.107  loss_cls: 0.1033  loss_box_reg: 0.08155  loss_mask: 0.4067  loss_rpn_cls: 0.1769  loss_rpn_loc: 0.2784  validation_loss: 1.804    time: 0.7033  last_time: 0.6752  data_time: 0.0049  last_data_time: 0.0012   lr: 0.0003389  max_mem: 4008M\n",
      "INFO:detectron2.data.dataset_mapper:[DatasetMapper] Augmentations used in inference: []\n",
      "INFO:detectree2.models.train:[FlexibleDatasetMapper] Augmentations used in inference: []\n",
      "INFO:detectron2.data.common:Serializing the dataset using: <class 'detectron2.data.common._TorchSerializedList'>\n",
      "INFO:detectron2.data.common:Serializing 170 elements to byte tensors and concatenating them all ...\n",
      "INFO:detectron2.data.common:Serialized dataset takes 8.90 MiB\n",
      "WARNING:detectron2.evaluation.coco_evaluation:COCO Evaluator instantiated using config, this is deprecated behavior. Please pass in explicit arguments instead.\n",
      "INFO:detectron2.evaluation.evaluator:Start inference on 170 batches\n",
      "INFO:detectron2.evaluation.evaluator:Inference done 11/170. Dataloading: 0.0007 s/iter. Inference: 0.0553 s/iter. Eval: 0.0180 s/iter. Total: 0.0740 s/iter. ETA=0:00:11\n",
      "INFO:detectron2.evaluation.evaluator:Inference done 79/170. Dataloading: 0.0010 s/iter. Inference: 0.0555 s/iter. Eval: 0.0177 s/iter. Total: 0.0743 s/iter. ETA=0:00:06\n",
      "INFO:detectron2.evaluation.evaluator:Inference done 142/170. Dataloading: 0.0010 s/iter. Inference: 0.0556 s/iter. Eval: 0.0201 s/iter. Total: 0.0768 s/iter. ETA=0:00:02\n",
      "INFO:detectron2.evaluation.evaluator:Total inference time: 0:00:12.683098 (0.076867 s / iter per device, on 1 devices)\n",
      "INFO:detectron2.evaluation.evaluator:Total inference pure compute time: 0:00:09 (0.055709 s / iter per device, on 1 devices)\n",
      "INFO:detectron2.evaluation.coco_evaluation:Preparing results for COCO format ...\n",
      "INFO:detectron2.evaluation.coco_evaluation:Saving results to eval/coco_instances_results.json\n",
      "INFO:detectron2.evaluation.coco_evaluation:Evaluating predictions with unofficial COCO API...\n",
      "INFO:detectron2.evaluation.fast_eval_api:Evaluate annotation type *bbox*\n",
      "INFO:detectron2.evaluation.fast_eval_api:COCOeval_opt.evaluate() finished in 0.18 seconds.\n",
      "INFO:detectron2.evaluation.fast_eval_api:Accumulating evaluation results...\n",
      "INFO:detectron2.evaluation.fast_eval_api:COCOeval_opt.accumulate() finished in 0.03 seconds.\n"
     ]
    },
    {
     "name": "stdout",
     "output_type": "stream",
     "text": [
      "Loading and preparing results...\n",
      "DONE (t=0.01s)\n",
      "creating index...\n",
      "index created!\n"
     ]
    },
    {
     "name": "stderr",
     "output_type": "stream",
     "text": [
      "INFO:detectron2.evaluation.coco_evaluation:Evaluation results for bbox: \n",
      "|  AP   |  AP50  |  AP75  |  APs  |  APm  |  APl   |\n",
      "|:-----:|:------:|:------:|:-----:|:-----:|:------:|\n",
      "| 1.035 | 1.197  | 0.996  | 0.025 | 0.401 | 23.029 |\n"
     ]
    },
    {
     "name": "stdout",
     "output_type": "stream",
     "text": [
      " Average Precision  (AP) @[ IoU=0.50:0.95 | area=   all | maxDets=100 ] = 0.010\n",
      " Average Precision  (AP) @[ IoU=0.50      | area=   all | maxDets=100 ] = 0.012\n",
      " Average Precision  (AP) @[ IoU=0.75      | area=   all | maxDets=100 ] = 0.010\n",
      " Average Precision  (AP) @[ IoU=0.50:0.95 | area= small | maxDets=100 ] = 0.000\n",
      " Average Precision  (AP) @[ IoU=0.50:0.95 | area=medium | maxDets=100 ] = 0.004\n",
      " Average Precision  (AP) @[ IoU=0.50:0.95 | area= large | maxDets=100 ] = 0.230\n",
      " Average Recall     (AR) @[ IoU=0.50:0.95 | area=   all | maxDets=  1 ] = 0.003\n",
      " Average Recall     (AR) @[ IoU=0.50:0.95 | area=   all | maxDets= 10 ] = 0.007\n",
      " Average Recall     (AR) @[ IoU=0.50:0.95 | area=   all | maxDets=100 ] = 0.027\n",
      " Average Recall     (AR) @[ IoU=0.50:0.95 | area= small | maxDets=100 ] = 0.005\n",
      " Average Recall     (AR) @[ IoU=0.50:0.95 | area=medium | maxDets=100 ] = 0.172\n",
      " Average Recall     (AR) @[ IoU=0.50:0.95 | area= large | maxDets=100 ] = 0.596\n"
     ]
    },
    {
     "name": "stderr",
     "output_type": "stream",
     "text": [
      "INFO:detectron2.evaluation.fast_eval_api:Evaluate annotation type *segm*\n"
     ]
    },
    {
     "name": "stdout",
     "output_type": "stream",
     "text": [
      "Loading and preparing results...\n",
      "DONE (t=0.13s)\n",
      "creating index...\n",
      "index created!\n"
     ]
    },
    {
     "name": "stderr",
     "output_type": "stream",
     "text": [
      "INFO:detectron2.evaluation.fast_eval_api:COCOeval_opt.evaluate() finished in 0.36 seconds.\n",
      "INFO:detectron2.evaluation.fast_eval_api:Accumulating evaluation results...\n",
      "INFO:detectron2.evaluation.fast_eval_api:COCOeval_opt.accumulate() finished in 0.03 seconds.\n",
      "INFO:detectron2.evaluation.coco_evaluation:Evaluation results for segm: \n",
      "|  AP   |  AP50  |  AP75  |  APs  |  APm  |  APl   |\n",
      "|:-----:|:------:|:------:|:-----:|:-----:|:------:|\n",
      "| 0.619 | 1.015  | 0.990  | 0.000 | 0.066 | 20.300 |\n",
      "INFO:detectron2.engine.defaults:Evaluation results for griffith_val in csv format:\n",
      "INFO:detectron2.evaluation.testing:copypaste: Task: bbox\n",
      "INFO:detectron2.evaluation.testing:copypaste: AP,AP50,AP75,APs,APm,APl\n",
      "INFO:detectron2.evaluation.testing:copypaste: 1.0353,1.1973,0.9963,0.0246,0.4009,23.0286\n",
      "INFO:detectron2.evaluation.testing:copypaste: Task: segm\n",
      "INFO:detectron2.evaluation.testing:copypaste: AP,AP50,AP75,APs,APm,APl\n",
      "INFO:detectron2.evaluation.testing:copypaste: 0.6187,1.0150,0.9901,0.0004,0.0660,20.3003\n"
     ]
    },
    {
     "name": "stdout",
     "output_type": "stream",
     "text": [
      " Average Precision  (AP) @[ IoU=0.50:0.95 | area=   all | maxDets=100 ] = 0.006\n",
      " Average Precision  (AP) @[ IoU=0.50      | area=   all | maxDets=100 ] = 0.010\n",
      " Average Precision  (AP) @[ IoU=0.75      | area=   all | maxDets=100 ] = 0.010\n",
      " Average Precision  (AP) @[ IoU=0.50:0.95 | area= small | maxDets=100 ] = 0.000\n",
      " Average Precision  (AP) @[ IoU=0.50:0.95 | area=medium | maxDets=100 ] = 0.001\n",
      " Average Precision  (AP) @[ IoU=0.50:0.95 | area= large | maxDets=100 ] = 0.203\n",
      " Average Recall     (AR) @[ IoU=0.50:0.95 | area=   all | maxDets=  1 ] = 0.002\n",
      " Average Recall     (AR) @[ IoU=0.50:0.95 | area=   all | maxDets= 10 ] = 0.003\n",
      " Average Recall     (AR) @[ IoU=0.50:0.95 | area=   all | maxDets=100 ] = 0.008\n",
      " Average Recall     (AR) @[ IoU=0.50:0.95 | area= small | maxDets=100 ] = 0.001\n",
      " Average Recall     (AR) @[ IoU=0.50:0.95 | area=medium | maxDets=100 ] = 0.055\n",
      " Average Recall     (AR) @[ IoU=0.50:0.95 | area= large | maxDets=100 ] = 0.296\n"
     ]
    },
    {
     "name": "stderr",
     "output_type": "stream",
     "text": [
      "INFO:detectree2.models.train:Loss on Validation  done 11/170. 0.0001 s / img. ETA=0:00:21\n",
      "INFO:detectree2.models.train:Loss on Validation  done 40/170. 0.0001 s / img. ETA=0:00:21\n",
      "INFO:detectree2.models.train:Loss on Validation  done 69/170. 0.0001 s / img. ETA=0:00:17\n",
      "INFO:detectree2.models.train:Loss on Validation  done 99/170. 0.0001 s / img. ETA=0:00:12\n",
      "INFO:detectree2.models.train:Loss on Validation  done 130/170. 0.0001 s / img. ETA=0:00:06\n",
      "INFO:detectree2.models.train:Loss on Validation  done 160/170. 0.0001 s / img. ETA=0:00:01\n",
      "INFO:detectron2.data.dataset_mapper:[DatasetMapper] Augmentations used in inference: []\n",
      "INFO:detectree2.models.train:[FlexibleDatasetMapper] Augmentations used in inference: []\n",
      "INFO:detectron2.data.common:Serializing the dataset using: <class 'detectron2.data.common._TorchSerializedList'>\n",
      "INFO:detectron2.data.common:Serializing 170 elements to byte tensors and concatenating them all ...\n",
      "INFO:detectron2.data.common:Serialized dataset takes 8.90 MiB\n",
      "WARNING:detectron2.evaluation.coco_evaluation:COCO Evaluator instantiated using config, this is deprecated behavior. Please pass in explicit arguments instead.\n",
      "INFO:detectron2.evaluation.evaluator:Start inference on 170 batches\n",
      "INFO:detectron2.evaluation.evaluator:Inference done 11/170. Dataloading: 0.0008 s/iter. Inference: 0.0572 s/iter. Eval: 0.0179 s/iter. Total: 0.0758 s/iter. ETA=0:00:12\n",
      "INFO:detectron2.evaluation.evaluator:Inference done 78/170. Dataloading: 0.0010 s/iter. Inference: 0.0563 s/iter. Eval: 0.0177 s/iter. Total: 0.0751 s/iter. ETA=0:00:06\n",
      "INFO:detectron2.evaluation.evaluator:Inference done 141/170. Dataloading: 0.0010 s/iter. Inference: 0.0562 s/iter. Eval: 0.0201 s/iter. Total: 0.0775 s/iter. ETA=0:00:02\n",
      "INFO:detectron2.evaluation.evaluator:Total inference time: 0:00:12.768545 (0.077385 s / iter per device, on 1 devices)\n",
      "INFO:detectron2.evaluation.evaluator:Total inference pure compute time: 0:00:09 (0.056150 s / iter per device, on 1 devices)\n",
      "INFO:detectron2.evaluation.coco_evaluation:Preparing results for COCO format ...\n",
      "INFO:detectron2.evaluation.coco_evaluation:Saving results to eval/coco_instances_results.json\n",
      "INFO:detectron2.evaluation.coco_evaluation:Evaluating predictions with unofficial COCO API...\n",
      "INFO:detectron2.evaluation.fast_eval_api:Evaluate annotation type *bbox*\n",
      "INFO:detectron2.evaluation.fast_eval_api:COCOeval_opt.evaluate() finished in 0.18 seconds.\n",
      "INFO:detectron2.evaluation.fast_eval_api:Accumulating evaluation results...\n",
      "INFO:detectron2.evaluation.fast_eval_api:COCOeval_opt.accumulate() finished in 0.03 seconds.\n"
     ]
    },
    {
     "name": "stdout",
     "output_type": "stream",
     "text": [
      "Loading and preparing results...\n",
      "DONE (t=0.01s)\n",
      "creating index...\n",
      "index created!\n"
     ]
    },
    {
     "name": "stderr",
     "output_type": "stream",
     "text": [
      "INFO:detectron2.evaluation.coco_evaluation:Evaluation results for bbox: \n",
      "|  AP   |  AP50  |  AP75  |  APs  |  APm  |  APl   |\n",
      "|:-----:|:------:|:------:|:-----:|:-----:|:------:|\n",
      "| 1.035 | 1.197  | 0.996  | 0.025 | 0.401 | 23.029 |\n"
     ]
    },
    {
     "name": "stdout",
     "output_type": "stream",
     "text": [
      " Average Precision  (AP) @[ IoU=0.50:0.95 | area=   all | maxDets=100 ] = 0.010\n",
      " Average Precision  (AP) @[ IoU=0.50      | area=   all | maxDets=100 ] = 0.012\n",
      " Average Precision  (AP) @[ IoU=0.75      | area=   all | maxDets=100 ] = 0.010\n",
      " Average Precision  (AP) @[ IoU=0.50:0.95 | area= small | maxDets=100 ] = 0.000\n",
      " Average Precision  (AP) @[ IoU=0.50:0.95 | area=medium | maxDets=100 ] = 0.004\n",
      " Average Precision  (AP) @[ IoU=0.50:0.95 | area= large | maxDets=100 ] = 0.230\n",
      " Average Recall     (AR) @[ IoU=0.50:0.95 | area=   all | maxDets=  1 ] = 0.003\n",
      " Average Recall     (AR) @[ IoU=0.50:0.95 | area=   all | maxDets= 10 ] = 0.007\n",
      " Average Recall     (AR) @[ IoU=0.50:0.95 | area=   all | maxDets=100 ] = 0.027\n",
      " Average Recall     (AR) @[ IoU=0.50:0.95 | area= small | maxDets=100 ] = 0.005\n",
      " Average Recall     (AR) @[ IoU=0.50:0.95 | area=medium | maxDets=100 ] = 0.172\n",
      " Average Recall     (AR) @[ IoU=0.50:0.95 | area= large | maxDets=100 ] = 0.596\n"
     ]
    },
    {
     "name": "stderr",
     "output_type": "stream",
     "text": [
      "INFO:detectron2.evaluation.fast_eval_api:Evaluate annotation type *segm*\n"
     ]
    },
    {
     "name": "stdout",
     "output_type": "stream",
     "text": [
      "Loading and preparing results...\n",
      "DONE (t=0.14s)\n",
      "creating index...\n",
      "index created!\n"
     ]
    },
    {
     "name": "stderr",
     "output_type": "stream",
     "text": [
      "INFO:detectron2.evaluation.fast_eval_api:COCOeval_opt.evaluate() finished in 0.36 seconds.\n",
      "INFO:detectron2.evaluation.fast_eval_api:Accumulating evaluation results...\n",
      "INFO:detectron2.evaluation.fast_eval_api:COCOeval_opt.accumulate() finished in 0.03 seconds.\n",
      "INFO:detectron2.evaluation.coco_evaluation:Evaluation results for segm: \n",
      "|  AP   |  AP50  |  AP75  |  APs  |  APm  |  APl   |\n",
      "|:-----:|:------:|:------:|:-----:|:-----:|:------:|\n",
      "| 0.619 | 1.015  | 0.990  | 0.000 | 0.066 | 20.300 |\n",
      "INFO:detectron2.engine.defaults:Evaluation results for griffith_val in csv format:\n",
      "INFO:detectron2.evaluation.testing:copypaste: Task: bbox\n",
      "INFO:detectron2.evaluation.testing:copypaste: AP,AP50,AP75,APs,APm,APl\n",
      "INFO:detectron2.evaluation.testing:copypaste: 1.0353,1.1973,0.9963,0.0246,0.4009,23.0286\n",
      "INFO:detectron2.evaluation.testing:copypaste: Task: segm\n",
      "INFO:detectron2.evaluation.testing:copypaste: AP,AP50,AP75,APs,APm,APl\n",
      "INFO:detectron2.evaluation.testing:copypaste: 0.6187,1.0150,0.9901,0.0004,0.0660,20.3003\n",
      "INFO:detectron2.utils.events: eta: 0:01:08  iter: 2899  total_loss: 1.467  loss_cls: 0.2074  loss_box_reg: 0.2547  loss_mask: 0.4401  loss_rpn_cls: 0.21  loss_rpn_loc: 0.3444  validation_loss: 1.875    time: 0.7034  last_time: 0.6559  data_time: 0.0056  last_data_time: 0.0036   lr: 0.0003389  max_mem: 4008M\n"
     ]
    },
    {
     "name": "stdout",
     "output_type": "stream",
     "text": [
      " Average Precision  (AP) @[ IoU=0.50:0.95 | area=   all | maxDets=100 ] = 0.006\n",
      " Average Precision  (AP) @[ IoU=0.50      | area=   all | maxDets=100 ] = 0.010\n",
      " Average Precision  (AP) @[ IoU=0.75      | area=   all | maxDets=100 ] = 0.010\n",
      " Average Precision  (AP) @[ IoU=0.50:0.95 | area= small | maxDets=100 ] = 0.000\n",
      " Average Precision  (AP) @[ IoU=0.50:0.95 | area=medium | maxDets=100 ] = 0.001\n",
      " Average Precision  (AP) @[ IoU=0.50:0.95 | area= large | maxDets=100 ] = 0.203\n",
      " Average Recall     (AR) @[ IoU=0.50:0.95 | area=   all | maxDets=  1 ] = 0.002\n",
      " Average Recall     (AR) @[ IoU=0.50:0.95 | area=   all | maxDets= 10 ] = 0.003\n",
      " Average Recall     (AR) @[ IoU=0.50:0.95 | area=   all | maxDets=100 ] = 0.008\n",
      " Average Recall     (AR) @[ IoU=0.50:0.95 | area= small | maxDets=100 ] = 0.001\n",
      " Average Recall     (AR) @[ IoU=0.50:0.95 | area=medium | maxDets=100 ] = 0.055\n",
      " Average Recall     (AR) @[ IoU=0.50:0.95 | area= large | maxDets=100 ] = 0.296\n",
      "Av. segm AP50 = 1.014961078056104\n"
     ]
    },
    {
     "name": "stderr",
     "output_type": "stream",
     "text": [
      "INFO:detectron2.utils.events: eta: 0:00:55  iter: 2919  total_loss: 1.667  loss_cls: 0.2173  loss_box_reg: 0.2207  loss_mask: 0.4613  loss_rpn_cls: 0.279  loss_rpn_loc: 0.4587  validation_loss: 1.875    time: 0.7035  last_time: 0.6718  data_time: 0.0055  last_data_time: 0.0010   lr: 0.0003389  max_mem: 4008M\n",
      "INFO:detectron2.utils.events: eta: 0:00:41  iter: 2939  total_loss: 1.517  loss_cls: 0.1512  loss_box_reg: 0.2333  loss_mask: 0.3955  loss_rpn_cls: 0.2662  loss_rpn_loc: 0.4052  validation_loss: 1.875    time: 0.7036  last_time: 0.6951  data_time: 0.0074  last_data_time: 0.0422   lr: 0.0003389  max_mem: 4008M\n",
      "INFO:detectron2.utils.events: eta: 0:00:27  iter: 2959  total_loss: 1.286  loss_cls: 0.1134  loss_box_reg: 0.1374  loss_mask: 0.3817  loss_rpn_cls: 0.2083  loss_rpn_loc: 0.2896  validation_loss: 1.875    time: 0.7037  last_time: 0.6721  data_time: 0.0053  last_data_time: 0.0052   lr: 0.0003389  max_mem: 4008M\n",
      "INFO:detectron2.utils.events: eta: 0:00:13  iter: 2979  total_loss: 1.112  loss_cls: 0.1409  loss_box_reg: 0.1164  loss_mask: 0.4575  loss_rpn_cls: 0.2046  loss_rpn_loc: 0.2313  validation_loss: 1.875    time: 0.7037  last_time: 0.7178  data_time: 0.0053  last_data_time: 0.0036   lr: 0.0003389  max_mem: 4008M\n",
      "INFO:fvcore.common.checkpoint:Saving checkpoint to /mnt/d_drive/detectree2/griffith_site/train_outputs_round2/model_final.pth\n",
      "INFO:detectree2.models.train:Loss on Validation  done 11/170. 0.0001 s / img. ETA=0:00:21\n",
      "INFO:detectree2.models.train:Loss on Validation  done 40/170. 0.0001 s / img. ETA=0:00:21\n",
      "INFO:detectree2.models.train:Loss on Validation  done 69/170. 0.0001 s / img. ETA=0:00:17\n",
      "INFO:detectree2.models.train:Loss on Validation  done 99/170. 0.0001 s / img. ETA=0:00:12\n",
      "INFO:detectree2.models.train:Loss on Validation  done 130/170. 0.0001 s / img. ETA=0:00:06\n",
      "INFO:detectree2.models.train:Loss on Validation  done 159/170. 0.0001 s / img. ETA=0:00:01\n",
      "INFO:detectron2.data.dataset_mapper:[DatasetMapper] Augmentations used in inference: []\n",
      "INFO:detectree2.models.train:[FlexibleDatasetMapper] Augmentations used in inference: []\n",
      "INFO:detectron2.data.common:Serializing the dataset using: <class 'detectron2.data.common._TorchSerializedList'>\n",
      "INFO:detectron2.data.common:Serializing 170 elements to byte tensors and concatenating them all ...\n",
      "INFO:detectron2.data.common:Serialized dataset takes 8.90 MiB\n",
      "WARNING:detectron2.evaluation.coco_evaluation:COCO Evaluator instantiated using config, this is deprecated behavior. Please pass in explicit arguments instead.\n",
      "INFO:detectron2.evaluation.evaluator:Start inference on 170 batches\n",
      "INFO:detectron2.evaluation.evaluator:Inference done 11/170. Dataloading: 0.0007 s/iter. Inference: 0.0557 s/iter. Eval: 0.0183 s/iter. Total: 0.0747 s/iter. ETA=0:00:11\n",
      "INFO:detectron2.evaluation.evaluator:Inference done 75/170. Dataloading: 0.0011 s/iter. Inference: 0.0550 s/iter. Eval: 0.0222 s/iter. Total: 0.0784 s/iter. ETA=0:00:07\n",
      "INFO:detectron2.evaluation.evaluator:Inference done 144/170. Dataloading: 0.0011 s/iter. Inference: 0.0547 s/iter. Eval: 0.0199 s/iter. Total: 0.0757 s/iter. ETA=0:00:01\n",
      "INFO:detectron2.evaluation.evaluator:Total inference time: 0:00:12.482869 (0.075654 s / iter per device, on 1 devices)\n",
      "INFO:detectron2.evaluation.evaluator:Total inference pure compute time: 0:00:09 (0.054603 s / iter per device, on 1 devices)\n",
      "INFO:detectron2.evaluation.coco_evaluation:Preparing results for COCO format ...\n",
      "INFO:detectron2.evaluation.coco_evaluation:Saving results to eval/coco_instances_results.json\n",
      "INFO:detectron2.evaluation.coco_evaluation:Evaluating predictions with unofficial COCO API...\n",
      "INFO:detectron2.evaluation.fast_eval_api:Evaluate annotation type *bbox*\n",
      "INFO:detectron2.evaluation.fast_eval_api:COCOeval_opt.evaluate() finished in 0.17 seconds.\n",
      "INFO:detectron2.evaluation.fast_eval_api:Accumulating evaluation results...\n",
      "INFO:detectron2.evaluation.fast_eval_api:COCOeval_opt.accumulate() finished in 0.03 seconds.\n"
     ]
    },
    {
     "name": "stdout",
     "output_type": "stream",
     "text": [
      "Loading and preparing results...\n",
      "DONE (t=0.01s)\n",
      "creating index...\n",
      "index created!\n"
     ]
    },
    {
     "name": "stderr",
     "output_type": "stream",
     "text": [
      "INFO:detectron2.evaluation.coco_evaluation:Evaluation results for bbox: \n",
      "|  AP   |  AP50  |  AP75  |  APs  |  APm  |  APl   |\n",
      "|:-----:|:------:|:------:|:-----:|:-----:|:------:|\n",
      "| 1.062 | 1.343  | 0.997  | 0.061 | 0.676 | 32.100 |\n"
     ]
    },
    {
     "name": "stdout",
     "output_type": "stream",
     "text": [
      " Average Precision  (AP) @[ IoU=0.50:0.95 | area=   all | maxDets=100 ] = 0.011\n",
      " Average Precision  (AP) @[ IoU=0.50      | area=   all | maxDets=100 ] = 0.013\n",
      " Average Precision  (AP) @[ IoU=0.75      | area=   all | maxDets=100 ] = 0.010\n",
      " Average Precision  (AP) @[ IoU=0.50:0.95 | area= small | maxDets=100 ] = 0.001\n",
      " Average Precision  (AP) @[ IoU=0.50:0.95 | area=medium | maxDets=100 ] = 0.007\n",
      " Average Precision  (AP) @[ IoU=0.50:0.95 | area= large | maxDets=100 ] = 0.321\n",
      " Average Recall     (AR) @[ IoU=0.50:0.95 | area=   all | maxDets=  1 ] = 0.003\n",
      " Average Recall     (AR) @[ IoU=0.50:0.95 | area=   all | maxDets= 10 ] = 0.007\n",
      " Average Recall     (AR) @[ IoU=0.50:0.95 | area=   all | maxDets=100 ] = 0.028\n",
      " Average Recall     (AR) @[ IoU=0.50:0.95 | area= small | maxDets=100 ] = 0.006\n",
      " Average Recall     (AR) @[ IoU=0.50:0.95 | area=medium | maxDets=100 ] = 0.187\n",
      " Average Recall     (AR) @[ IoU=0.50:0.95 | area= large | maxDets=100 ] = 0.571\n"
     ]
    },
    {
     "name": "stderr",
     "output_type": "stream",
     "text": [
      "INFO:detectron2.evaluation.fast_eval_api:Evaluate annotation type *segm*\n"
     ]
    },
    {
     "name": "stdout",
     "output_type": "stream",
     "text": [
      "Loading and preparing results...\n",
      "DONE (t=0.13s)\n",
      "creating index...\n",
      "index created!\n"
     ]
    },
    {
     "name": "stderr",
     "output_type": "stream",
     "text": [
      "INFO:detectron2.evaluation.fast_eval_api:COCOeval_opt.evaluate() finished in 0.35 seconds.\n",
      "INFO:detectron2.evaluation.fast_eval_api:Accumulating evaluation results...\n",
      "INFO:detectron2.evaluation.fast_eval_api:COCOeval_opt.accumulate() finished in 0.03 seconds.\n",
      "INFO:detectron2.evaluation.coco_evaluation:Evaluation results for segm: \n",
      "|  AP   |  AP50  |  AP75  |  APs  |  APm  |  APl   |\n",
      "|:-----:|:------:|:------:|:-----:|:-----:|:------:|\n",
      "| 0.631 | 1.045  | 0.990  | 0.000 | 0.205 | 15.916 |\n",
      "INFO:detectron2.engine.defaults:Evaluation results for griffith_val in csv format:\n",
      "INFO:detectron2.evaluation.testing:copypaste: Task: bbox\n",
      "INFO:detectron2.evaluation.testing:copypaste: AP,AP50,AP75,APs,APm,APl\n",
      "INFO:detectron2.evaluation.testing:copypaste: 1.0621,1.3431,0.9968,0.0613,0.6761,32.0999\n",
      "INFO:detectron2.evaluation.testing:copypaste: Task: segm\n",
      "INFO:detectron2.evaluation.testing:copypaste: AP,AP50,AP75,APs,APm,APl\n",
      "INFO:detectron2.evaluation.testing:copypaste: 0.6312,1.0449,0.9901,0.0004,0.2047,15.9161\n",
      "INFO:detectron2.utils.events: eta: 0:00:00  iter: 2999  total_loss: 0.8677  loss_cls: 0.07323  loss_box_reg: 0.06589  loss_mask: 0.3739  loss_rpn_cls: 0.1939  loss_rpn_loc: 0.2046  validation_loss: 1.817    time: 0.7036  last_time: 0.6824  data_time: 0.0049  last_data_time: 0.0015   lr: 0.0003389  max_mem: 4008M\n",
      "INFO:detectron2.engine.hooks:Overall training speed: 2998 iterations in 0:35:09 (0.7036 s / it)\n",
      "INFO:detectron2.engine.hooks:Total training time: 1:06:47 (0:31:38 on hooks)\n",
      "INFO:detectron2.data.dataset_mapper:[DatasetMapper] Augmentations used in inference: []\n",
      "INFO:detectree2.models.train:[FlexibleDatasetMapper] Augmentations used in inference: []\n"
     ]
    },
    {
     "name": "stdout",
     "output_type": "stream",
     "text": [
      " Average Precision  (AP) @[ IoU=0.50:0.95 | area=   all | maxDets=100 ] = 0.006\n",
      " Average Precision  (AP) @[ IoU=0.50      | area=   all | maxDets=100 ] = 0.010\n",
      " Average Precision  (AP) @[ IoU=0.75      | area=   all | maxDets=100 ] = 0.010\n",
      " Average Precision  (AP) @[ IoU=0.50:0.95 | area= small | maxDets=100 ] = 0.000\n",
      " Average Precision  (AP) @[ IoU=0.50:0.95 | area=medium | maxDets=100 ] = 0.002\n",
      " Average Precision  (AP) @[ IoU=0.50:0.95 | area= large | maxDets=100 ] = 0.159\n",
      " Average Recall     (AR) @[ IoU=0.50:0.95 | area=   all | maxDets=  1 ] = 0.002\n",
      " Average Recall     (AR) @[ IoU=0.50:0.95 | area=   all | maxDets= 10 ] = 0.004\n",
      " Average Recall     (AR) @[ IoU=0.50:0.95 | area=   all | maxDets=100 ] = 0.008\n",
      " Average Recall     (AR) @[ IoU=0.50:0.95 | area= small | maxDets=100 ] = 0.001\n",
      " Average Recall     (AR) @[ IoU=0.50:0.95 | area=medium | maxDets=100 ] = 0.056\n",
      " Average Recall     (AR) @[ IoU=0.50:0.95 | area= large | maxDets=100 ] = 0.261\n",
      "Av. segm AP50 = 1.0448771253605866\n"
     ]
    },
    {
     "name": "stderr",
     "output_type": "stream",
     "text": [
      "INFO:detectron2.data.common:Serializing the dataset using: <class 'detectron2.data.common._TorchSerializedList'>\n",
      "INFO:detectron2.data.common:Serializing 170 elements to byte tensors and concatenating them all ...\n",
      "INFO:detectron2.data.common:Serialized dataset takes 8.90 MiB\n",
      "WARNING:detectron2.evaluation.coco_evaluation:COCO Evaluator instantiated using config, this is deprecated behavior. Please pass in explicit arguments instead.\n",
      "INFO:detectron2.evaluation.evaluator:Start inference on 170 batches\n",
      "INFO:detectron2.evaluation.evaluator:Inference done 11/170. Dataloading: 0.0007 s/iter. Inference: 0.0575 s/iter. Eval: 0.0178 s/iter. Total: 0.0761 s/iter. ETA=0:00:12\n",
      "INFO:detectron2.evaluation.evaluator:Inference done 79/170. Dataloading: 0.0010 s/iter. Inference: 0.0558 s/iter. Eval: 0.0176 s/iter. Total: 0.0745 s/iter. ETA=0:00:06\n",
      "INFO:detectron2.evaluation.evaluator:Inference done 147/170. Dataloading: 0.0010 s/iter. Inference: 0.0555 s/iter. Eval: 0.0176 s/iter. Total: 0.0742 s/iter. ETA=0:00:01\n",
      "INFO:detectron2.evaluation.evaluator:Total inference time: 0:00:12.272233 (0.074377 s / iter per device, on 1 devices)\n",
      "INFO:detectron2.evaluation.evaluator:Total inference pure compute time: 0:00:09 (0.055364 s / iter per device, on 1 devices)\n",
      "INFO:detectron2.evaluation.coco_evaluation:Preparing results for COCO format ...\n",
      "INFO:detectron2.evaluation.coco_evaluation:Saving results to eval/coco_instances_results.json\n",
      "INFO:detectron2.evaluation.coco_evaluation:Evaluating predictions with unofficial COCO API...\n",
      "INFO:detectron2.evaluation.fast_eval_api:Evaluate annotation type *bbox*\n",
      "INFO:detectron2.evaluation.fast_eval_api:COCOeval_opt.evaluate() finished in 0.17 seconds.\n",
      "INFO:detectron2.evaluation.fast_eval_api:Accumulating evaluation results...\n",
      "INFO:detectron2.evaluation.fast_eval_api:COCOeval_opt.accumulate() finished in 0.03 seconds.\n"
     ]
    },
    {
     "name": "stdout",
     "output_type": "stream",
     "text": [
      "Loading and preparing results...\n",
      "DONE (t=0.01s)\n",
      "creating index...\n",
      "index created!\n",
      " Average Precision  (AP) @[ IoU=0.50:0.95 | area=   all | maxDets=100 ] = 0.011\n",
      " Average Precision  (AP) @[ IoU=0.50      | area=   all | maxDets=100 ] = 0.013\n",
      " Average Precision  (AP) @[ IoU=0.75      | area=   all | maxDets=100 ] = 0.010\n",
      " Average Precision  (AP) @[ IoU=0.50:0.95 | area= small | maxDets=100 ] = 0.001\n"
     ]
    },
    {
     "name": "stderr",
     "output_type": "stream",
     "text": [
      "INFO:detectron2.evaluation.coco_evaluation:Evaluation results for bbox: \n",
      "|  AP   |  AP50  |  AP75  |  APs  |  APm  |  APl   |\n",
      "|:-----:|:------:|:------:|:-----:|:-----:|:------:|\n",
      "| 1.062 | 1.343  | 0.997  | 0.061 | 0.676 | 32.100 |\n"
     ]
    },
    {
     "name": "stdout",
     "output_type": "stream",
     "text": [
      " Average Precision  (AP) @[ IoU=0.50:0.95 | area=medium | maxDets=100 ] = 0.007\n",
      " Average Precision  (AP) @[ IoU=0.50:0.95 | area= large | maxDets=100 ] = 0.321\n",
      " Average Recall     (AR) @[ IoU=0.50:0.95 | area=   all | maxDets=  1 ] = 0.003\n",
      " Average Recall     (AR) @[ IoU=0.50:0.95 | area=   all | maxDets= 10 ] = 0.007\n",
      " Average Recall     (AR) @[ IoU=0.50:0.95 | area=   all | maxDets=100 ] = 0.028\n",
      " Average Recall     (AR) @[ IoU=0.50:0.95 | area= small | maxDets=100 ] = 0.006\n",
      " Average Recall     (AR) @[ IoU=0.50:0.95 | area=medium | maxDets=100 ] = 0.187\n",
      " Average Recall     (AR) @[ IoU=0.50:0.95 | area= large | maxDets=100 ] = 0.571\n"
     ]
    },
    {
     "name": "stderr",
     "output_type": "stream",
     "text": [
      "INFO:detectron2.evaluation.fast_eval_api:Evaluate annotation type *segm*\n"
     ]
    },
    {
     "name": "stdout",
     "output_type": "stream",
     "text": [
      "Loading and preparing results...\n",
      "DONE (t=0.13s)\n",
      "creating index...\n",
      "index created!\n"
     ]
    },
    {
     "name": "stderr",
     "output_type": "stream",
     "text": [
      "INFO:detectron2.evaluation.fast_eval_api:COCOeval_opt.evaluate() finished in 0.35 seconds.\n",
      "INFO:detectron2.evaluation.fast_eval_api:Accumulating evaluation results...\n",
      "INFO:detectron2.evaluation.fast_eval_api:COCOeval_opt.accumulate() finished in 0.03 seconds.\n",
      "INFO:detectron2.evaluation.coco_evaluation:Evaluation results for segm: \n",
      "|  AP   |  AP50  |  AP75  |  APs  |  APm  |  APl   |\n",
      "|:-----:|:------:|:------:|:-----:|:-----:|:------:|\n",
      "| 0.631 | 1.045  | 0.990  | 0.000 | 0.205 | 15.916 |\n",
      "INFO:detectron2.engine.defaults:Evaluation results for griffith_val in csv format:\n",
      "INFO:detectron2.evaluation.testing:copypaste: Task: bbox\n",
      "INFO:detectron2.evaluation.testing:copypaste: AP,AP50,AP75,APs,APm,APl\n",
      "INFO:detectron2.evaluation.testing:copypaste: 1.0621,1.3431,0.9968,0.0613,0.6761,32.0999\n",
      "INFO:detectron2.evaluation.testing:copypaste: Task: segm\n",
      "INFO:detectron2.evaluation.testing:copypaste: AP,AP50,AP75,APs,APm,APl\n",
      "INFO:detectron2.evaluation.testing:copypaste: 0.6312,1.0449,0.9901,0.0004,0.2047,15.9161\n"
     ]
    },
    {
     "name": "stdout",
     "output_type": "stream",
     "text": [
      " Average Precision  (AP) @[ IoU=0.50:0.95 | area=   all | maxDets=100 ] = 0.006\n",
      " Average Precision  (AP) @[ IoU=0.50      | area=   all | maxDets=100 ] = 0.010\n",
      " Average Precision  (AP) @[ IoU=0.75      | area=   all | maxDets=100 ] = 0.010\n",
      " Average Precision  (AP) @[ IoU=0.50:0.95 | area= small | maxDets=100 ] = 0.000\n",
      " Average Precision  (AP) @[ IoU=0.50:0.95 | area=medium | maxDets=100 ] = 0.002\n",
      " Average Precision  (AP) @[ IoU=0.50:0.95 | area= large | maxDets=100 ] = 0.159\n",
      " Average Recall     (AR) @[ IoU=0.50:0.95 | area=   all | maxDets=  1 ] = 0.002\n",
      " Average Recall     (AR) @[ IoU=0.50:0.95 | area=   all | maxDets= 10 ] = 0.004\n",
      " Average Recall     (AR) @[ IoU=0.50:0.95 | area=   all | maxDets=100 ] = 0.008\n",
      " Average Recall     (AR) @[ IoU=0.50:0.95 | area= small | maxDets=100 ] = 0.001\n",
      " Average Recall     (AR) @[ IoU=0.50:0.95 | area=medium | maxDets=100 ] = 0.056\n",
      " Average Recall     (AR) @[ IoU=0.50:0.95 | area= large | maxDets=100 ] = 0.261\n"
     ]
    },
    {
     "name": "stderr",
     "output_type": "stream",
     "text": [
      "INFO:detectron2.checkpoint.detection_checkpoint:[DetectionCheckpointer] Loading from /mnt/d_drive/detectree2/griffith_site/train_outputs_round2/model_23.pth ...\n",
      "INFO:fvcore.common.checkpoint:[Checkpointer] Loading from /mnt/d_drive/detectree2/griffith_site/train_outputs_round2/model_23.pth ...\n",
      "/home/ubuntu/miniconda3/envs/pytorch_env/lib/python3.12/site-packages/fvcore/common/checkpoint.py:252: FutureWarning: You are using `torch.load` with `weights_only=False` (the current default value), which uses the default pickle module implicitly. It is possible to construct malicious pickle data which will execute arbitrary code during unpickling (See https://github.com/pytorch/pytorch/blob/main/SECURITY.md#untrusted-models for more details). In a future release, the default value for `weights_only` will be flipped to `True`. This limits the functions that could be executed during unpickling. Arbitrary objects will no longer be allowed to be loaded via this mode unless they are explicitly allowlisted by the user via `torch.serialization.add_safe_globals`. We recommend you start setting `weights_only=True` for any use case where you don't have full control of the loaded file. Please open an issue on GitHub for any issues related to this experimental feature.\n",
      "  return torch.load(f, map_location=torch.device(\"cpu\"))\n",
      "INFO:fvcore.common.checkpoint:Loading trainer from /mnt/d_drive/detectree2/griffith_site/train_outputs_round2/model_23.pth ...\n",
      "INFO:detectron2.engine.hooks:Loading scheduler from state_dict ...\n"
     ]
    }
   ],
   "source": [
    "trainer = MyTrainer(cfg, patience = 25)\n",
    "trainer.resume_or_load(resume=False)\n",
    "trainer.train()"
   ]
  }
 ],
 "metadata": {
  "kernelspec": {
   "display_name": "pytorch_env",
   "language": "python",
   "name": "python3"
  },
  "language_info": {
   "codemirror_mode": {
    "name": "ipython",
    "version": 3
   },
   "file_extension": ".py",
   "mimetype": "text/x-python",
   "name": "python",
   "nbconvert_exporter": "python",
   "pygments_lexer": "ipython3",
   "version": "3.12.7"
  }
 },
 "nbformat": 4,
 "nbformat_minor": 2
}

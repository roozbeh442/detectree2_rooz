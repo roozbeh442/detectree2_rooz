{
 "cells": [
  {
   "cell_type": "code",
   "execution_count": 7,
   "metadata": {},
   "outputs": [],
   "source": [
    "from detectree2.preprocessing.tiling import tile_data\n",
    "from detectree2.models.outputs import project_to_geojson, stitch_crowns, clean_crowns\n",
    "from detectree2.models.predict import predict_on_data\n",
    "from detectree2.models.train import setup_cfg\n",
    "from detectron2.engine import DefaultPredictor\n",
    "import rasterio"
   ]
  },
  {
   "cell_type": "code",
   "execution_count": 8,
   "metadata": {},
   "outputs": [
    {
     "name": "stderr",
     "output_type": "stream",
     "text": [
      "INFO:detectree2.preprocessing.tiling:Tiling complete\n"
     ]
    }
   ],
   "source": [
    "# Path to site folder and orthomosaic\n",
    "site_path = \"/mnt/d_drive/detectree2/griffith_site\"\n",
    "img_path = site_path + \"/rgb/young_2.tif\"\n",
    "tiles_path = site_path + \"/tilespred/\"\n",
    "\n",
    "# Location of trained model\n",
    "model_path = \"/mnt/d_drive/detectree2/griffith_site/models/3site_model.pth\"\n",
    "\n",
    "# Specify tiling\n",
    "buffer = 30\n",
    "tile_width = 40\n",
    "tile_height = 40\n",
    "tile_data(img_path, tiles_path, buffer, tile_width, tile_height, dtype_bool = True)"
   ]
  },
  {
   "cell_type": "code",
   "execution_count": 9,
   "metadata": {},
   "outputs": [
    {
     "name": "stderr",
     "output_type": "stream",
     "text": [
      "INFO:detectron2.checkpoint.detection_checkpoint:[DetectionCheckpointer] Loading from /mnt/d_drive/detectree2/griffith_site/models/3site_model.pth ...\n",
      "INFO:fvcore.common.checkpoint:[Checkpointer] Loading from /mnt/d_drive/detectree2/griffith_site/models/3site_model.pth ...\n",
      "/home/ubuntu/miniconda3/envs/pytorch_env/lib/python3.12/site-packages/fvcore/common/checkpoint.py:252: FutureWarning: You are using `torch.load` with `weights_only=False` (the current default value), which uses the default pickle module implicitly. It is possible to construct malicious pickle data which will execute arbitrary code during unpickling (See https://github.com/pytorch/pytorch/blob/main/SECURITY.md#untrusted-models for more details). In a future release, the default value for `weights_only` will be flipped to `True`. This limits the functions that could be executed during unpickling. Arbitrary objects will no longer be allowed to be loaded via this mode unless they are explicitly allowlisted by the user via `torch.serialization.add_safe_globals`. We recommend you start setting `weights_only=True` for any use case where you don't have full control of the loaded file. Please open an issue on GitHub for any issues related to this experimental feature.\n",
      "  return torch.load(f, map_location=torch.device(\"cpu\"))\n"
     ]
    },
    {
     "name": "stdout",
     "output_type": "stream",
     "text": [
      "Predicting 6 files\n"
     ]
    }
   ],
   "source": [
    "trained_model = model_path\n",
    "cfg = setup_cfg(update_model=trained_model)\n",
    "predict_on_data(tiles_path, predictor=DefaultPredictor(cfg))"
   ]
  },
  {
   "cell_type": "code",
   "execution_count": 10,
   "metadata": {},
   "outputs": [
    {
     "name": "stdout",
     "output_type": "stream",
     "text": [
      "Projecting 6 files\n"
     ]
    }
   ],
   "source": [
    "project_to_geojson(tiles_path, tiles_path + \"predictions/\", tiles_path + \"predictions_geo/\")"
   ]
  },
  {
   "cell_type": "code",
   "execution_count": 11,
   "metadata": {},
   "outputs": [
    {
     "name": "stdout",
     "output_type": "stream",
     "text": [
      "Cleaning 233 crowns\n",
      "0 / 233 crowns cleaned\n"
     ]
    }
   ],
   "source": [
    "crowns = stitch_crowns(tiles_path + \"predictions_geo/\", 1)\n",
    "clean = clean_crowns(crowns, 0.6, confidence=0)"
   ]
  },
  {
   "cell_type": "code",
   "execution_count": 12,
   "metadata": {},
   "outputs": [
    {
     "name": "stderr",
     "output_type": "stream",
     "text": [
      "INFO:pyogrio._io:Created 231 records\n"
     ]
    }
   ],
   "source": [
    "clean.to_file(site_path + \"/young2_crowns_out.gpkg\")"
   ]
  },
  {
   "cell_type": "code",
   "execution_count": 11,
   "metadata": {},
   "outputs": [
    {
     "data": {
      "text/plain": [
       "'scp -i \"C:\\\\Users\\\\RoozbehKoochak\\\\.ssh\\\\Rooz_server_key.pem\" \"C:\\\\Users\\\\RoozbehKoochak\\\\Downloads\\\\2016_Griffith_visual_cropped_410114_6211532_40_30_7855.png\" ubuntu@3.25.210.234:\"/mnt/d_drive/detectree2/griffith_site/rgb\"'"
      ]
     },
     "execution_count": 11,
     "metadata": {},
     "output_type": "execute_result"
    }
   ],
   "source": [
    "from utils import scp_to_ec2\n",
    "source=r\"C:\\Users\\RoozbehKoochak\\Downloads\\2016_Griffith_visual_cropped_410114_6211532_40_30_7855.png\"\n",
    "dest='/mnt/d_drive/detectree2/griffith_site/rgb'\n",
    "scp_to_ec2('3.25.210.234',source=source,destination=dest)"
   ]
  },
  {
   "cell_type": "code",
   "execution_count": 8,
   "metadata": {},
   "outputs": [
    {
     "data": {
      "text/plain": [
       "'scp -i \"C:\\\\Users\\\\RoozbehKoochak\\\\.ssh\\\\Rooz_server_key.pem\" ubuntu@3.25.210.234:\"/mnt/d_drive/detectree2/griffith_site/rgb/2016_Cowra_visual_cropped_670111_6271451_40_30_7855.tif\" \"C:\\\\Users\\\\RoozbehKoochak\\\\Downloads\"'"
      ]
     },
     "execution_count": 8,
     "metadata": {},
     "output_type": "execute_result"
    }
   ],
   "source": [
    "from utils import scp_to_local\n",
    "source='/mnt/d_drive/detectree2/griffith_site/rgb/2016_Cowra_visual_cropped_670111_6271451_40_30_7855.tif'\n",
    "dest=r\"C:\\Users\\RoozbehKoochak\\Downloads\"\n",
    "scp_to_local('3.25.210.234',source=source,destination=dest)"
   ]
  }
 ],
 "metadata": {
  "kernelspec": {
   "display_name": "pytorch_env",
   "language": "python",
   "name": "python3"
  },
  "language_info": {
   "codemirror_mode": {
    "name": "ipython",
    "version": 3
   },
   "file_extension": ".py",
   "mimetype": "text/x-python",
   "name": "python",
   "nbconvert_exporter": "python",
   "pygments_lexer": "ipython3",
   "version": "3.12.7"
  }
 },
 "nbformat": 4,
 "nbformat_minor": 2
}

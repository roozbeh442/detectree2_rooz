{
 "cells": [
  {
   "cell_type": "code",
   "execution_count": 1,
   "metadata": {},
   "outputs": [],
   "source": [
    "from detectree2.preprocessing.tiling import tile_data\n",
    "from detectree2.models.outputs import project_to_geojson, stitch_crowns, clean_crowns\n",
    "from detectree2.models.predict import predict_on_data\n",
    "from detectree2.models.train import setup_cfg\n",
    "from detectron2.engine import DefaultPredictor\n",
    "import rasterio"
   ]
  },
  {
   "cell_type": "code",
   "execution_count": 2,
   "metadata": {},
   "outputs": [
    {
     "name": "stderr",
     "output_type": "stream",
     "text": [
      "INFO:detectree2.preprocessing.tiling:Tiling complete\n"
     ]
    }
   ],
   "source": [
    "# Path to site folder and orthomosaic\n",
    "site_path = \"/mnt/d_drive/detectree2/griffith_site\"\n",
    "img_path = site_path + \"/rgb/2016_Griffith_visual_cropped_410074_6211212_40_30_7855.tif\"\n",
    "tiles_path = site_path + \"/tilespred/\"\n",
    "\n",
    "# Location of trained model\n",
    "model_path = \"/mnt/d_drive/detectree2/griffith_site/models/230103_randresize_full.pth\"\n",
    "\n",
    "# Specify tiling\n",
    "buffer = 30\n",
    "tile_width = 40\n",
    "tile_height = 40\n",
    "tile_data(img_path, tiles_path, buffer, tile_width, tile_height, dtype_bool = True)"
   ]
  },
  {
   "cell_type": "code",
   "execution_count": 3,
   "metadata": {},
   "outputs": [
    {
     "name": "stderr",
     "output_type": "stream",
     "text": [
      "INFO:detectron2.checkpoint.detection_checkpoint:[DetectionCheckpointer] Loading from /mnt/d_drive/detectree2/griffith_site/models/230103_randresize_full.pth ...\n",
      "INFO:fvcore.common.checkpoint:[Checkpointer] Loading from /mnt/d_drive/detectree2/griffith_site/models/230103_randresize_full.pth ...\n",
      "/home/ubuntu/miniconda3/envs/pytorch_env/lib/python3.12/site-packages/fvcore/common/checkpoint.py:252: FutureWarning: You are using `torch.load` with `weights_only=False` (the current default value), which uses the default pickle module implicitly. It is possible to construct malicious pickle data which will execute arbitrary code during unpickling (See https://github.com/pytorch/pytorch/blob/main/SECURITY.md#untrusted-models for more details). In a future release, the default value for `weights_only` will be flipped to `True`. This limits the functions that could be executed during unpickling. Arbitrary objects will no longer be allowed to be loaded via this mode unless they are explicitly allowlisted by the user via `torch.serialization.add_safe_globals`. We recommend you start setting `weights_only=True` for any use case where you don't have full control of the loaded file. Please open an issue on GitHub for any issues related to this experimental feature.\n",
      "  return torch.load(f, map_location=torch.device(\"cpu\"))\n"
     ]
    },
    {
     "name": "stdout",
     "output_type": "stream",
     "text": [
      "Predicting 1 files\n"
     ]
    },
    {
     "name": "stderr",
     "output_type": "stream",
     "text": [
      "/home/ubuntu/miniconda3/envs/pytorch_env/lib/python3.12/site-packages/torch/functional.py:534: UserWarning: torch.meshgrid: in an upcoming release, it will be required to pass the indexing argument. (Triggered internally at /opt/conda/conda-bld/pytorch_1729647406761/work/aten/src/ATen/native/TensorShape.cpp:3595.)\n",
      "  return _VF.meshgrid(tensors, **kwargs)  # type: ignore[attr-defined]\n"
     ]
    }
   ],
   "source": [
    "trained_model = \"/mnt/d_drive/detectree2/griffith_site/models/230103_randresize_full.pth\"\n",
    "cfg = setup_cfg(update_model=trained_model)\n",
    "predict_on_data(tiles_path, predictor=DefaultPredictor(cfg))"
   ]
  },
  {
   "cell_type": "code",
   "execution_count": 4,
   "metadata": {},
   "outputs": [
    {
     "name": "stdout",
     "output_type": "stream",
     "text": [
      "Projecting 1 files\n"
     ]
    }
   ],
   "source": [
    "project_to_geojson(tiles_path, tiles_path + \"predictions/\", tiles_path + \"predictions_geo/\")"
   ]
  },
  {
   "cell_type": "code",
   "execution_count": 5,
   "metadata": {},
   "outputs": [
    {
     "name": "stdout",
     "output_type": "stream",
     "text": [
      "Cleaning 52 crowns\n",
      "0 / 52 crowns cleaned\n"
     ]
    }
   ],
   "source": [
    "crowns = stitch_crowns(tiles_path + \"predictions_geo/\", 1)\n",
    "clean = clean_crowns(crowns, 0.6, confidence=0)"
   ]
  },
  {
   "cell_type": "code",
   "execution_count": 6,
   "metadata": {},
   "outputs": [
    {
     "name": "stderr",
     "output_type": "stream",
     "text": [
      "INFO:pyogrio._io:Created 45 records\n"
     ]
    }
   ],
   "source": [
    "clean.to_file(site_path + \"/crowns_out.gpkg\")"
   ]
  },
  {
   "cell_type": "code",
   "execution_count": 3,
   "metadata": {},
   "outputs": [
    {
     "data": {
      "text/plain": [
       "'scp -i \"C:\\\\Users\\\\RoozbehKoochak\\\\.ssh\\\\Rooz_server_key.pem\" \"C:\\\\Users\\\\RoozbehKoochak\\\\Downloads\\\\2016_Griffith_visual_cropped_410074_6211212_40_30_7855.tif\" ubuntu@3.104.220.22:\"/mnt/d_drive/detectree2/griffith_site/rgb\"'"
      ]
     },
     "execution_count": 3,
     "metadata": {},
     "output_type": "execute_result"
    }
   ],
   "source": [
    "from utils import scp_to_ec2\n",
    "source=r\"C:\\Users\\RoozbehKoochak\\Downloads\\2016_Griffith_visual_cropped_410074_6211212_40_30_7855.tif\"\n",
    "dest='/mnt/d_drive/detectree2/griffith_site/rgb'\n",
    "scp_to_ec2('3.104.220.22',source=source,destination=dest)"
   ]
  },
  {
   "cell_type": "code",
   "execution_count": 10,
   "metadata": {},
   "outputs": [
    {
     "data": {
      "text/plain": [
       "'scp -i \"C:\\\\Users\\\\RoozbehKoochak\\\\.ssh\\\\Rooz_server_key.pem\" \"/mnt/d_drive/detectree2/griffith_site/crowns_out.gpkg\" ubuntu@3.104.220.22:\"C:\\\\Users\\\\RoozbehKoochak\\\\Downloads\"'"
      ]
     },
     "execution_count": 10,
     "metadata": {},
     "output_type": "execute_result"
    }
   ],
   "source": [
    "from utils import scp_to_local\n",
    "source='/mnt/d_drive/detectree2/griffith_site/crowns_out.gpkg'\n",
    "dest=r\"C:\\Users\\RoozbehKoochak\\Downloads\"\n",
    "scp_to_ec2('3.104.220.22',source=source,destination=dest)"
   ]
  }
 ],
 "metadata": {
  "kernelspec": {
   "display_name": "pytorch_env",
   "language": "python",
   "name": "python3"
  },
  "language_info": {
   "codemirror_mode": {
    "name": "ipython",
    "version": 3
   },
   "file_extension": ".py",
   "mimetype": "text/x-python",
   "name": "python",
   "nbconvert_exporter": "python",
   "pygments_lexer": "ipython3",
   "version": "3.12.7"
  }
 },
 "nbformat": 4,
 "nbformat_minor": 2
}
